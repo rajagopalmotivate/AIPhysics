{
  "nbformat": 4,
  "nbformat_minor": 0,
  "metadata": {
    "colab": {
      "provenance": [],
      "include_colab_link": true
    },
    "kernelspec": {
      "name": "python3",
      "display_name": "Python 3"
    },
    "language_info": {
      "name": "python"
    },
    "gpuClass": "standard"
  },
  "cells": [
    {
      "cell_type": "markdown",
      "metadata": {
        "id": "view-in-github",
        "colab_type": "text"
      },
      "source": [
        "<a href=\"https://colab.research.google.com/github/rajagopalmotivate/AIPhysics/blob/master/Try_2D_PES_HPC_H3_works_well_ver10.ipynb\" target=\"_parent\"><img src=\"https://colab.research.google.com/assets/colab-badge.svg\" alt=\"Open In Colab\"/></a>"
      ]
    },
    {
      "cell_type": "markdown",
      "source": [
        "#Simple comparision of DFT vs NN \n",
        "## Hypothesis: NN performs as good as DFT \n",
        "## Experiment: Compare "
      ],
      "metadata": {
        "id": "cjz0UJCXln1O"
      }
    },
    {
      "cell_type": "markdown",
      "source": [
        "## Step 1: Install"
      ],
      "metadata": {
        "id": "f2n-glKykc7G"
      }
    },
    {
      "cell_type": "code",
      "source": [
        "#!pip install git+git://github.com/deepmind/deepmind-research.git#subdirectory=density_functional_approximation_dm21"
      ],
      "metadata": {
        "id": "iUe5ykKxr0Xu"
      },
      "execution_count": 1,
      "outputs": []
    },
    {
      "cell_type": "code",
      "source": [
        "!git clone https://github.com/deepmind/deepmind-research.git\n"
      ],
      "metadata": {
        "id": "s_s-VRZZaUO4"
      },
      "execution_count": null,
      "outputs": []
    },
    {
      "cell_type": "code",
      "source": [
        "cd deepmind-research/density_functional_approximation_dm21\n"
      ],
      "metadata": {
        "colab": {
          "base_uri": "https://localhost:8080/"
        },
        "id": "RciiP-MOaV-L",
        "outputId": "0d6c2a02-49c5-4af0-f38d-9d899cf1440d"
      },
      "execution_count": 3,
      "outputs": [
        {
          "output_type": "stream",
          "name": "stdout",
          "text": [
            "/content/deepmind-research/density_functional_approximation_dm21\n"
          ]
        }
      ]
    },
    {
      "cell_type": "code",
      "source": [
        "pwd"
      ],
      "metadata": {
        "colab": {
          "base_uri": "https://localhost:8080/",
          "height": 35
        },
        "id": "qgN8ePgcaXzx",
        "outputId": "eab5c533-05cd-44e5-8b42-b4ac30d365dc"
      },
      "execution_count": 4,
      "outputs": [
        {
          "output_type": "execute_result",
          "data": {
            "text/plain": [
              "'/content/deepmind-research/density_functional_approximation_dm21'"
            ],
            "application/vnd.google.colaboratory.intrinsic+json": {
              "type": "string"
            }
          },
          "metadata": {},
          "execution_count": 4
        }
      ]
    },
    {
      "cell_type": "code",
      "source": [
        "!pip install .\n"
      ],
      "metadata": {
        "id": "pfmCosvDaYcx"
      },
      "execution_count": null,
      "outputs": []
    },
    {
      "cell_type": "markdown",
      "source": [],
      "metadata": {
        "id": "0rp8cBVxRyUX"
      }
    },
    {
      "cell_type": "code",
      "source": [
        "!pip install pyscf==2.0.0\n"
      ],
      "metadata": {
        "id": "5277iYdkaajo"
      },
      "execution_count": null,
      "outputs": []
    },
    {
      "cell_type": "markdown",
      "source": [
        "rajagopal.motivate2@gmail.com\n"
      ],
      "metadata": {
        "id": "_Xm-g2nrR0Wr"
      }
    },
    {
      "cell_type": "code",
      "source": [
        "EXPNO ='H3_Exp2000'\n",
        "\n",
        "dictPeriodicTable = {'H': 1}\n",
        " \n",
        "elementname ='H' \n",
        "\n",
        "dictPeriodicTable = {'F': 9}\n",
        " \n",
        "elementname ='F' "
      ],
      "metadata": {
        "id": "I3Zqx3aO52s-"
      },
      "execution_count": 299,
      "outputs": []
    },
    {
      "cell_type": "code",
      "source": [
        "isDebug = False  \n"
      ],
      "metadata": {
        "id": "-IhokgA25r_9"
      },
      "execution_count": 300,
      "outputs": []
    },
    {
      "cell_type": "code",
      "source": [
        "\n",
        "functionalsList = ['b3lyp','M06-2X' , 'SCAN'    ,'wB97X-V',  'PW6B95' ,  'pbe' ,  'pbe0']\n",
        "\n",
        "functionalsList = [ 'b3lyp', 'SCAN'  , 'wB97X-V'  , 'pbe', 'M06-2X' ,'PW6B95'  ]\n",
        "\n",
        "functionalsList = [ 'b3lyp',  'wB97X-V' , 'SCAN'  ,   'pbe'  ]\n",
        "\n",
        "functionalsList = ['b3lyp']"
      ],
      "metadata": {
        "id": "v3fQHBV8l3hk"
      },
      "execution_count": 301,
      "outputs": []
    },
    {
      "cell_type": "code",
      "source": [
        "ComputeThisInThisRUN = 'NN' #@param [\"DFT\", \"CCST\", \"NN\"]\n"
      ],
      "metadata": {
        "id": "vCmLZOlCQqgg"
      },
      "execution_count": 302,
      "outputs": []
    },
    {
      "cell_type": "code",
      "source": [
        "CHOOSENaaFunctional = 'b3lyp' #@param [\"b3lyp\", \"wB97X-V\" ]\n",
        "\n",
        "functionalsList =[CHOOSENaaFunctional]"
      ],
      "metadata": {
        "id": "KzKsx8UJTGdn"
      },
      "execution_count": 303,
      "outputs": []
    },
    {
      "cell_type": "code",
      "source": [
        "CHOOSENaNNFunctional = 'Functional.DM21m' #@param [\"Functional.DM21m\" ]\n",
        "\n"
      ],
      "metadata": {
        "id": "BGBm0oldP-dG"
      },
      "execution_count": 304,
      "outputs": []
    },
    {
      "cell_type": "code",
      "source": [
        "firstTimeorRestart = False"
      ],
      "metadata": {
        "id": "zVPfjAeVrzR_"
      },
      "execution_count": 305,
      "outputs": []
    },
    {
      "cell_type": "code",
      "source": [
        "lookforAlreadyCompletedHINT = 'RESTART_HINT_WORD'\n",
        "if ComputeThisInThisRUN == 'DFT':\n",
        "  lookforAlreadyCompletedHINT = 'DFT-' +  CHOOSENaaFunctional\n",
        "\n",
        "if ComputeThisInThisRUN == 'CCST':\n",
        "  lookforAlreadyCompletedHINT = 'CCST'  \n",
        "\n",
        "if ComputeThisInThisRUN == 'NN':\n",
        "  lookforAlreadyCompletedHINT = 'NN-' +   CHOOSENaNNFunctional\n",
        "\n",
        "print(\"LOOKING FOR \" + lookforAlreadyCompletedHINT)\n"
      ],
      "metadata": {
        "colab": {
          "base_uri": "https://localhost:8080/"
        },
        "id": "KtLxrQtZXTyV",
        "outputId": "0f29f515-c1f3-4331-82ab-29db8c973dd1"
      },
      "execution_count": 306,
      "outputs": [
        {
          "output_type": "stream",
          "name": "stdout",
          "text": [
            "LOOKING FOR NN-Functional.DM21m\n"
          ]
        }
      ]
    },
    {
      "cell_type": "code",
      "source": [
        "moleculegeomtryTemplateinZmatrix = '''\n",
        "          O\n",
        "          H  1  BONDLENGHTOH\n",
        "          H  1  BONDLENGHTOH  2 ANGLEOHO\n",
        "          '''"
      ],
      "metadata": {
        "id": "-9C7XE_1Z2oh"
      },
      "execution_count": 219,
      "outputs": []
    },
    {
      "cell_type": "code",
      "source": [
        "moleculegeomtryTemplateinZmatrix = '''\n",
        "          H\n",
        "          O  1  BONDLENGHTOH1\n",
        "          Li  2  BONDLENGHTOH2  1 180\n",
        "          '''"
      ],
      "metadata": {
        "id": "6_wZbZJy7bhQ"
      },
      "execution_count": 220,
      "outputs": []
    },
    {
      "cell_type": "code",
      "source": [
        "moleculegeomtryTemplateinZmatrix = '''\n",
        "          H\n",
        "          O  1  BONDLENGHTOH\n",
        "          Li  2  ANGLEOHO  1 90\n",
        "          '''"
      ],
      "metadata": {
        "id": "pGhD_fToEHeM"
      },
      "execution_count": 221,
      "outputs": []
    },
    {
      "cell_type": "code",
      "source": [
        "moleculegeomtryTemplateinZmatrix = '''\n",
        "          H\n",
        "          Li  1  BONDLENGHTOH\n",
        "          O  2  ANGLEOHO  1 90\n",
        "          '''"
      ],
      "metadata": {
        "id": "nUFNfm_bWveq"
      },
      "execution_count": 222,
      "outputs": []
    },
    {
      "cell_type": "code",
      "source": [
        "moleculegeomtryTemplateinZmatrix = '''\n",
        "          H\n",
        "          H  1  BONDLENGHTOH\n",
        "          H  2  ANGLEOHO  1 180\n",
        "          '''"
      ],
      "metadata": {
        "id": "UIFBpUWsiZLZ"
      },
      "execution_count": 307,
      "outputs": []
    },
    {
      "cell_type": "markdown",
      "source": [
        "H1 --1.1--   H2 -10-- H3\n",
        "\n",
        "1 H  \n",
        "2 H   1    1.1 \n",
        "3 H   2    10     1    180 \n",
        "\n",
        "https://www.youtube.com/watch?v=iVP3aiZ96Ho z matrix"
      ],
      "metadata": {
        "id": "fWT4K961agwL"
      }
    },
    {
      "cell_type": "code",
      "source": [
        "\n",
        "import numpy as np\n",
        "import pandas as pd"
      ],
      "metadata": {
        "id": "gfBMuOaXw0FT"
      },
      "execution_count": 224,
      "outputs": []
    },
    {
      "cell_type": "code",
      "source": [
        "Global_Range_BONDANGLE_OHO = np.arange(0.1, 3, 0.2, dtype=float )\n",
        "\n",
        "Global_Range_BONDANGLE_OHO = np.arange(0.1, 1.5, 0.1, dtype=float )\n",
        "\n",
        "Global_Range_BONDANGLE_OHO = np.arange(0.1, 1.5, 0.05, dtype=float )\n"
      ],
      "metadata": {
        "id": "GWTQGQaGX7B3"
      },
      "execution_count": 308,
      "outputs": []
    },
    {
      "cell_type": "code",
      "source": [
        "Global_Range_BONDLENGTH_HO = np.arange(0.1, 3, 0.2, dtype=float)\n",
        "\n",
        "Global_Range_BONDLENGTH_HO = np.arange(0.1, 1, 0.1, dtype=float)\n",
        "\n",
        "Global_Range_BONDLENGTH_HO = np.arange(0.1, 1.5, 0.05, dtype=float)\n",
        "\n"
      ],
      "metadata": {
        "id": "fJ4f7pUQ8zYl"
      },
      "execution_count": 309,
      "outputs": []
    },
    {
      "cell_type": "code",
      "source": [
        "Global_Range_BONDANGLE_OHO = np.round (Global_Range_BONDANGLE_OHO, 3)\n",
        "Global_Range_BONDLENGTH_HO = np.round (Global_Range_BONDLENGTH_HO, 3)"
      ],
      "metadata": {
        "id": "Y4UOUzr-A9iy"
      },
      "execution_count": 227,
      "outputs": []
    },
    {
      "cell_type": "code",
      "source": [],
      "metadata": {
        "id": "h6QDEiKnBbjF"
      },
      "execution_count": 227,
      "outputs": []
    },
    {
      "cell_type": "code",
      "source": [
        "len(Global_Range_BONDLENGTH_HO)"
      ],
      "metadata": {
        "colab": {
          "base_uri": "https://localhost:8080/"
        },
        "id": "NONZS1jmHFnD",
        "outputId": "0d88aeb0-c6c0-4c95-9371-f903e7bbd882"
      },
      "execution_count": 228,
      "outputs": [
        {
          "output_type": "execute_result",
          "data": {
            "text/plain": [
              "28"
            ]
          },
          "metadata": {},
          "execution_count": 228
        }
      ]
    },
    {
      "cell_type": "code",
      "source": [
        "Global_Range_BONDANGLE_OHO"
      ],
      "metadata": {
        "colab": {
          "base_uri": "https://localhost:8080/"
        },
        "id": "tPabjmmGBdNx",
        "outputId": "c14bdd14-d240-4b41-a12d-dbbbf9ebf264"
      },
      "execution_count": 229,
      "outputs": [
        {
          "output_type": "execute_result",
          "data": {
            "text/plain": [
              "array([0.1 , 0.15, 0.2 , 0.25, 0.3 , 0.35, 0.4 , 0.45, 0.5 , 0.55, 0.6 ,\n",
              "       0.65, 0.7 , 0.75, 0.8 , 0.85, 0.9 , 0.95, 1.  , 1.05, 1.1 , 1.15,\n",
              "       1.2 , 1.25, 1.3 , 1.35, 1.4 , 1.45])"
            ]
          },
          "metadata": {},
          "execution_count": 229
        }
      ]
    },
    {
      "cell_type": "code",
      "source": [
        "len([*Global_Range_BONDANGLE_OHO] )"
      ],
      "metadata": {
        "colab": {
          "base_uri": "https://localhost:8080/"
        },
        "id": "LtM5-3cTHKEs",
        "outputId": "d615f44f-bed1-4331-9a66-162af25e7865"
      },
      "execution_count": 230,
      "outputs": [
        {
          "output_type": "execute_result",
          "data": {
            "text/plain": [
              "28"
            ]
          },
          "metadata": {},
          "execution_count": 230
        }
      ]
    },
    {
      "cell_type": "code",
      "source": [
        "Global_Range_BONDLENGTH_HO"
      ],
      "metadata": {
        "colab": {
          "base_uri": "https://localhost:8080/"
        },
        "id": "KDzZCuEvBenO",
        "outputId": "0f5d5eba-8fc8-4f68-becb-68c35851a400"
      },
      "execution_count": 231,
      "outputs": [
        {
          "output_type": "execute_result",
          "data": {
            "text/plain": [
              "array([0.1 , 0.15, 0.2 , 0.25, 0.3 , 0.35, 0.4 , 0.45, 0.5 , 0.55, 0.6 ,\n",
              "       0.65, 0.7 , 0.75, 0.8 , 0.85, 0.9 , 0.95, 1.  , 1.05, 1.1 , 1.15,\n",
              "       1.2 , 1.25, 1.3 , 1.35, 1.4 , 1.45])"
            ]
          },
          "metadata": {},
          "execution_count": 231
        }
      ]
    },
    {
      "cell_type": "code",
      "source": [
        "moleculegeomtryTemplateinZmatrix"
      ],
      "metadata": {
        "colab": {
          "base_uri": "https://localhost:8080/",
          "height": 35
        },
        "id": "nrmDeI2WaFhd",
        "outputId": "f3052faa-ccc3-4d1e-b68e-c0f85f57f33f"
      },
      "execution_count": 232,
      "outputs": [
        {
          "output_type": "execute_result",
          "data": {
            "text/plain": [
              "'\\n          H\\n          H  1  BONDLENGHTOH\\n          H  2  ANGLEOHO  1 180\\n          '"
            ],
            "application/vnd.google.colaboratory.intrinsic+json": {
              "type": "string"
            }
          },
          "metadata": {},
          "execution_count": 232
        }
      ]
    },
    {
      "cell_type": "code",
      "source": [
        "listBasisSet = ['def2-QZVP' , 'cc-pCVTZ' ,  'aug-pc-3' , 'aug-cc-pV(Q+d)Z', 'aug-cc-pCV5Z', 'aug-ccpwCV5Z', '6-21g']\n",
        "\n",
        "listBasisSet = ['cc-pCVDZ' , 'def2-QZVP' , 'cc-pCVTZ' ,  'aug-pc-3' , 'aug-cc-pV(Q+d)Z', 'aug-cc-pCV5Z', 'aug-ccpwCV5Z', '6-31g', 'STO-3G' , 'def2-QZVPPD' ]\n",
        "\n",
        "listBasisSet = [   'cc-pVDZ' ]\n",
        "\n",
        "\n"
      ],
      "metadata": {
        "id": "Zk4fl4t1waWn"
      },
      "execution_count": 310,
      "outputs": []
    },
    {
      "cell_type": "code",
      "source": [
        "BASISSETTOUSE =   'cc-pVDZ'"
      ],
      "metadata": {
        "id": "UtBlZPN-oaAI"
      },
      "execution_count": 311,
      "outputs": []
    },
    {
      "cell_type": "code",
      "source": [
        "def downloadBasisSetAutoVersion(ElementsinMolecule, BasisSet):  \n",
        "    for versionumber in range (0,4):\n",
        "      target_url = 'https://www.basissetexchange.org/api/basis/' + str(BasisSet) +  '/format/nwchem/?version='+ str( versionumber)+'&elements=' + str(ElementsinMolecule) \n",
        "      try:\n",
        "        textfile = urllib.request.urlopen(target_url)    \n",
        "        mydownloadedfile = \"\"\n",
        "        for line in textfile:\n",
        "            #print(line.decode('utf-8')) #utf-8 or iso8859-1 or whatever the page encoding scheme is\n",
        "            mydownloadedfile += line.decode('utf-8') \n",
        "        return mydownloadedfile    \n",
        "      except:\n",
        "        return None"
      ],
      "metadata": {
        "id": "BwAkua2vp_t5"
      },
      "execution_count": 312,
      "outputs": []
    },
    {
      "cell_type": "code",
      "source": [
        "!pip install py3Dmol"
      ],
      "metadata": {
        "colab": {
          "base_uri": "https://localhost:8080/"
        },
        "id": "cE3i5VCSOPf1",
        "outputId": "cd307976-8450-4e3d-830d-a3d4da3625ef"
      },
      "execution_count": 236,
      "outputs": [
        {
          "output_type": "stream",
          "name": "stdout",
          "text": [
            "Looking in indexes: https://pypi.org/simple, https://us-python.pkg.dev/colab-wheels/public/simple/\n",
            "Requirement already satisfied: py3Dmol in /usr/local/lib/python3.8/dist-packages (1.8.1)\n"
          ]
        }
      ]
    },
    {
      "cell_type": "code",
      "source": [
        "\n",
        "import py3Dmol\n",
        " "
      ],
      "metadata": {
        "id": "_KBcncrbMgAV"
      },
      "execution_count": 237,
      "outputs": []
    },
    {
      "cell_type": "markdown",
      "source": [
        "#  basis set and as per DM21 authors\n",
        "For all benchmarking, we use the large aug'-def2-QZVP basis set  \n",
        "\n",
        "During training, \n",
        "For all the atoms and diatomic molecules in the regression set we generate the features for\n",
        "the SCF loss at PySCF grid level 2 and use the largest basis set in the aug-pc-X family such\n",
        "that the number of basis functions is less than 128. \n",
        "For larger neutral molecules we use grid\n",
        "level 1 and the largest basis set with less than 128 basis functions from cc-pCV(Q+d)Z, ccpCV(T+d)Z, cc-pV(T+d)Z or cc-pV(D+d)Z"
      ],
      "metadata": {
        "id": "9BLJOgbYNVRu"
      }
    },
    {
      "cell_type": "code",
      "source": [
        "dictPeriodicTableSpinValues = {'H': 1,  'He': 0, 'Li': 1, 'Be': 0, 'B': 1, 'C': 0, 'N': 1, 'O': 0, 'F': 1, 'Cl': 0 }"
      ],
      "metadata": {
        "id": "XG1_wImSudEF"
      },
      "execution_count": 238,
      "outputs": []
    },
    {
      "cell_type": "code",
      "source": [
        "from google.colab import drive\n",
        "drive.mount('/content/drive')"
      ],
      "metadata": {
        "colab": {
          "base_uri": "https://localhost:8080/"
        },
        "id": "FWO3uFau6Gs-",
        "outputId": "a2c0e3ed-9ffd-4bbe-f07b-b54f1066bd4d"
      },
      "execution_count": 239,
      "outputs": [
        {
          "output_type": "stream",
          "name": "stdout",
          "text": [
            "Drive already mounted at /content/drive; to attempt to forcibly remount, call drive.mount(\"/content/drive\", force_remount=True).\n"
          ]
        }
      ]
    },
    {
      "cell_type": "code",
      "source": [
        "import pandas as pd\n",
        "\n",
        " "
      ],
      "metadata": {
        "id": "1FEfC98yhy4_"
      },
      "execution_count": 240,
      "outputs": []
    },
    {
      "cell_type": "code",
      "source": [
        "if firstTimeorRestart == False:\n",
        "  #df = pd.read_csv('/content/drive/My Drive/DeepMind' + EXPNO+ 'CE-Final-.csv' )\n",
        "  dfRestart = pd.read_csv('/content/drive/My Drive/tryDeepMind' + EXPNO+ 'CE-temp2D-.csv' )\n",
        "  dfRestart2 = dfRestart.drop_duplicates(keep='first')\n",
        "  dfRestart = dfRestart2\n",
        "  "
      ],
      "metadata": {
        "id": "15AX-Vr9hgIk"
      },
      "execution_count": 313,
      "outputs": []
    },
    {
      "cell_type": "code",
      "source": [
        "dfRestart"
      ],
      "metadata": {
        "id": "9tSlTUhZMWmZ"
      },
      "execution_count": null,
      "outputs": []
    },
    {
      "cell_type": "code",
      "source": [
        " "
      ],
      "metadata": {
        "id": "W8YnoXuvP3ux"
      },
      "execution_count": 243,
      "outputs": []
    },
    {
      "cell_type": "markdown",
      "source": [
        "## Step 2: Configure RAM optionally"
      ],
      "metadata": {
        "id": "Eq-LQv17kkhc"
      }
    },
    {
      "cell_type": "code",
      "source": [
        "from pyscf import gto\n",
        "from pyscf import dft\n",
        "\n",
        "from pyscf import __config__\n",
        "MAX_MEMORY = getattr(__config__, 'MAX_MEMORY')\n",
        "MAX_MEMORY"
      ],
      "metadata": {
        "id": "Y_W-hLjur8Pr",
        "colab": {
          "base_uri": "https://localhost:8080/"
        },
        "outputId": "263461fb-0f75-4bbc-f615-ff9e62fcc8d1"
      },
      "execution_count": 244,
      "outputs": [
        {
          "output_type": "execute_result",
          "data": {
            "text/plain": [
              "112787"
            ]
          },
          "metadata": {},
          "execution_count": 244
        }
      ]
    },
    {
      "cell_type": "code",
      "source": [
        "import psutil\n",
        "systemresources = psutil.virtual_memory()\n",
        "\n",
        "MAX_MEMORY = round( systemresources.available  * 0.000009)\n",
        "PYSCF_MAX_MEMORY  = MAX_MEMORY\n",
        "\n",
        "print('Configured to use max RAM resources of  ' + str(MAX_MEMORY))"
      ],
      "metadata": {
        "colab": {
          "base_uri": "https://localhost:8080/"
        },
        "id": "HYnC_d1zGtkp",
        "outputId": "aa846c9d-0118-47a6-90c4-9c235b5df513"
      },
      "execution_count": 245,
      "outputs": [
        {
          "output_type": "stream",
          "name": "stdout",
          "text": [
            "Configured to use max RAM resources of  112491\n"
          ]
        }
      ]
    },
    {
      "cell_type": "code",
      "source": [
        "setattr(__config__, 'MAX_MEMORY', PYSCF_MAX_MEMORY)\n",
        "\n",
        "setattr(__config__, 'PYSCF_MAX_MEMORY', PYSCF_MAX_MEMORY)\n",
        "\n"
      ],
      "metadata": {
        "id": "XGAMq215KZ2t"
      },
      "execution_count": 246,
      "outputs": []
    },
    {
      "cell_type": "code",
      "source": [
        "MAX_MEMORY = getattr(__config__, 'MAX_MEMORY')\n",
        "MAX_MEMORY"
      ],
      "metadata": {
        "colab": {
          "base_uri": "https://localhost:8080/"
        },
        "id": "h_mNg2CxI4Ql",
        "outputId": "a8a1c48c-d809-4ce1-d404-c963d76412cc"
      },
      "execution_count": 247,
      "outputs": [
        {
          "output_type": "execute_result",
          "data": {
            "text/plain": [
              "112491"
            ]
          },
          "metadata": {},
          "execution_count": 247
        }
      ]
    },
    {
      "cell_type": "markdown",
      "source": [
        "## Step 3: \n",
        "\n",
        "### 3.1 Define the periodic table (Define atomic weight and periodic weight for each element)\n",
        "\n",
        "### 3.2 Define the spin value for each element \n",
        "\n",
        "### 3.3 You can load any new basis function.  Just visit the Basics Exchange and get a new Basis Function URL .  \n",
        "#### here we download a basis set full defintion file from an URL and then use it to construct a molecule  \n",
        "\n",
        "#### To get a web URL, just visit https://www.basissetexchange.org/"
      ],
      "metadata": {
        "id": "BF8o9PZnoXzL"
      }
    },
    {
      "cell_type": "markdown",
      "source": [
        "\n",
        "http://vergil.chemistry.gatech.edu/courses/chem6485/pdf/basis-sets.pdf \n",
        "\n",
        "https://youtu.be/irQ_c_fW5f8?t=971\n",
        "\n",
        "\n",
        "1.   cc-pCVXZ or aug-cc-pCVXZ basis sets;  you should use basis sets like this if you do not freeze core\n",
        "2.   cc-pVQZ is great for CCSD(T)\n",
        "\n"
      ],
      "metadata": {
        "id": "oLOgjrRQhdQk"
      }
    },
    {
      "cell_type": "code",
      "source": [
        "def trydownloadingBasisSet(ElementsinMolecule, BasisSet, versionno):  \n",
        "    target_url = 'https://www.basissetexchange.org/api/basis/' + str(BasisSet) +  '/format/nwchem/?version='+ str( versionno)+'&elements=' + str(ElementsinMolecule) \n",
        "    #print(target_url)\n",
        "    try:\n",
        "      textfile = urllib.request.urlopen(target_url)    \n",
        "      mydownloadedfile = \"\"\n",
        "      for line in textfile:\n",
        "          #print(line.decode('utf-8')) #utf-8 or iso8859-1 or whatever the page encoding scheme is\n",
        "          mydownloadedfile += line.decode('utf-8') \n",
        "      return True    \n",
        "    except:\n",
        "      return False"
      ],
      "metadata": {
        "id": "a289v8vDEE_E"
      },
      "execution_count": 248,
      "outputs": []
    },
    {
      "cell_type": "code",
      "source": [
        "import urllib   # the lib that handles the url stuff\n",
        "import urllib.request  # the lib that handles the url stuff\n",
        "\n",
        "\n",
        "def getValidBasisSet(MoleculeList):\n",
        "  ValidatedBasisSet = []\n",
        "  ValBSSetVersionNumberDict = {}\n",
        "  errorproneBasisSet = []\n",
        "  for BasisSet in listBasisSet:\n",
        "    didnotworkatallforanyversion = True\n",
        "    for versionno in range(0,4):\n",
        "      isworking = trydownloadingBasisSet(MoleculeList, BasisSet, versionno)\n",
        "      if isworking == True:\n",
        "        didnotworkatallforanyversion = False\n",
        "        ValBSSetVersionNumberDict[BasisSet] = versionno\n",
        "        ValidatedBasisSet.append(BasisSet)\n",
        "        break\n",
        "    if didnotworkatallforanyversion == True:\n",
        "      errorproneBasisSet.append(BasisSet)\n",
        "  return ValidatedBasisSet "
      ],
      "metadata": {
        "id": "dkRcJrVtfmFO"
      },
      "execution_count": 249,
      "outputs": []
    },
    {
      "cell_type": "code",
      "source": [
        "\n",
        "PerdiocTableNumber = dictPeriodicTable [elementname]\n",
        "ValidatedBasisSet = getValidBasisSet(PerdiocTableNumber)\n",
        "len(ValidatedBasisSet)\n",
        "ValidatedBasisSet"
      ],
      "metadata": {
        "colab": {
          "base_uri": "https://localhost:8080/"
        },
        "id": "_BV2z_OX5rH1",
        "outputId": "f07f020f-590a-4908-dfe6-37442dd1d5a4"
      },
      "execution_count": 250,
      "outputs": [
        {
          "output_type": "execute_result",
          "data": {
            "text/plain": [
              "['cc-pVDZ']"
            ]
          },
          "metadata": {},
          "execution_count": 250
        }
      ]
    },
    {
      "cell_type": "code",
      "source": [
        "basisSethandpicked =[  ]"
      ],
      "metadata": {
        "id": "40fAp-c8DYDn"
      },
      "execution_count": 251,
      "outputs": []
    },
    {
      "cell_type": "code",
      "source": [
        "#listBasisSet = basisSet652"
      ],
      "metadata": {
        "id": "iGlC_ofGtzHL"
      },
      "execution_count": 252,
      "outputs": []
    },
    {
      "cell_type": "code",
      "source": [
        "try:\n",
        "  print(\"Hello\")\n",
        "except:\n",
        "  print(\"Something went wrong\")\n",
        "else:\n",
        "  print(\"Nothing went wrong\")"
      ],
      "metadata": {
        "colab": {
          "base_uri": "https://localhost:8080/"
        },
        "id": "3oCykicz1IYu",
        "outputId": "fd89215a-cda4-4312-8043-7572684a92fe"
      },
      "execution_count": 253,
      "outputs": [
        {
          "output_type": "stream",
          "name": "stdout",
          "text": [
            "Hello\n",
            "Nothing went wrong\n"
          ]
        }
      ]
    },
    {
      "cell_type": "code",
      "source": [],
      "metadata": {
        "id": "Nh0tMh-zzHmP"
      },
      "execution_count": 253,
      "outputs": []
    },
    {
      "cell_type": "code",
      "source": [
        "#downloadBasisSetAutoVersion(1,'3-21G')"
      ],
      "metadata": {
        "id": "LrJBO50Sgt4v"
      },
      "execution_count": 254,
      "outputs": []
    },
    {
      "cell_type": "markdown",
      "source": [
        "geomtery optimization"
      ],
      "metadata": {
        "id": "3RoPT7c8350_"
      }
    },
    {
      "cell_type": "code",
      "source": [
        "!\tpip install -U pyberny\n"
      ],
      "metadata": {
        "colab": {
          "base_uri": "https://localhost:8080/"
        },
        "id": "IZFEtXrH6RwP",
        "outputId": "ae76e10d-6a4f-4a9e-b34f-9f89b5a1e82a"
      },
      "execution_count": 255,
      "outputs": [
        {
          "output_type": "stream",
          "name": "stdout",
          "text": [
            "Looking in indexes: https://pypi.org/simple, https://us-python.pkg.dev/colab-wheels/public/simple/\n",
            "Requirement already satisfied: pyberny in /usr/local/lib/python3.8/dist-packages (0.6.3)\n",
            "Requirement already satisfied: numpy<2.0,>=1.15 in /usr/local/lib/python3.8/dist-packages (from pyberny) (1.21.6)\n"
          ]
        }
      ]
    },
    {
      "cell_type": "code",
      "source": [
        "from pyscf import gto\n",
        "from pyscf import scf\n",
        "from pyscf import cc\n",
        "from pyscf.cc import ccsd_t_lambda_slow as ccsd_t_lambda\n",
        "from pyscf.grad import ccsd_t as ccsd_t_grad\n",
        "from pyscf.geomopt import berny_solver\n",
        "\n",
        "def f_usefforberny_solver(mol):\n",
        "    # Compute CCSD(T) energy\n",
        "    mf = scf.RHF(mol).run()\n",
        "    mycc = cc.CCSD(mf).run()\n",
        "    et_correction = mycc.ccsd_t()\n",
        "    e_tot = mycc.e_tot + et_correction\n",
        "\n",
        "    # Compute CCSD(T) gradients\n",
        "    g = ccsd_t_grad.Gradients(mycc).kernel()\n",
        "    print('CCSD(T) nuclear gradients:')\n",
        "    print(g)\n",
        "    return e_tot, g\n"
      ],
      "metadata": {
        "id": "hdNEpI8D38FG"
      },
      "execution_count": 256,
      "outputs": []
    },
    {
      "cell_type": "code",
      "source": [
        " hashLookUpMolecules = dict()\n",
        " "
      ],
      "metadata": {
        "id": "sKAn5K4QVc2Y"
      },
      "execution_count": 257,
      "outputs": []
    },
    {
      "cell_type": "code",
      "source": [
        "def GetoptimizedMolecule(randomMol):\n",
        "  global hashLookUpMolecules\n",
        "  print('****************************************************************GEOMENTRY OPTIMIZATION Starts***********************************************')  \n",
        "  print('MOLECULE KEY is')\n",
        "  print([randomMol.basis])\n",
        "  if randomMol in hashLookUpMolecules:\n",
        "    saved_mol = hashLookUpMolecules[randomMol]\n",
        "    print('****************************************************************GEOMENTRY looked up from Hashtable***********************************************')  \n",
        "    return saved_mol\n",
        "  fake_method = berny_solver.as_pyscf_method(randomMol, f_usefforberny_solver)\n",
        "  new_mol = berny_solver.optimize(fake_method , maxsteps=400)\n",
        "  print('Old geometry (Bohr)')\n",
        "  print(randomMol.atom_coords())  \n",
        "  print('New geometry (Bohr)')\n",
        "  print(new_mol.atom_coords())  \n",
        "  hashLookUpMolecules[randomMol] = new_mol\n",
        "  print('****************************************************************GEOMENTRY OPTIMIZATION Ends***********************************************')  \n",
        "  return new_mol\n"
      ],
      "metadata": {
        "id": "SlipAJZo3-Tw"
      },
      "execution_count": 258,
      "outputs": []
    },
    {
      "cell_type": "markdown",
      "source": [
        "DM21"
      ],
      "metadata": {
        "id": "WnVMCEhX5ZzV"
      }
    },
    {
      "cell_type": "code",
      "source": [
        "import density_functional_approximation_dm21 as dm21\n",
        "from pyscf import gto\n",
        "from pyscf import dft"
      ],
      "metadata": {
        "id": "SZOfTZ7269qj"
      },
      "execution_count": 259,
      "outputs": []
    },
    {
      "cell_type": "code",
      "source": [],
      "metadata": {
        "id": "duaw3FC-E2G3"
      },
      "execution_count": 259,
      "outputs": []
    },
    {
      "cell_type": "code",
      "source": [
        "GlobalBONDLENGTH = .98"
      ],
      "metadata": {
        "id": "ICIcYlPEXLO5"
      },
      "execution_count": 260,
      "outputs": []
    },
    {
      "cell_type": "code",
      "source": [
        "Global_Range_BONDLENGTH_HO_Array = []"
      ],
      "metadata": {
        "id": "oUU_Zrl9nTvf"
      },
      "execution_count": 261,
      "outputs": []
    },
    {
      "cell_type": "code",
      "source": [
        "for lengthHO in Global_Range_BONDLENGTH_HO:\n",
        "  temp =   Global_Range_BONDLENGTH_HO_Array \n"
      ],
      "metadata": {
        "id": "QWy0ZE_SnGLv"
      },
      "execution_count": 262,
      "outputs": []
    },
    {
      "cell_type": "code",
      "source": [
        "Global_Range_BONDLENGTH_HO"
      ],
      "metadata": {
        "id": "BuGxPpLS9x_5",
        "colab": {
          "base_uri": "https://localhost:8080/"
        },
        "outputId": "6b31f469-2a47-4f0a-edfc-9a8f2237379e"
      },
      "execution_count": 263,
      "outputs": [
        {
          "output_type": "execute_result",
          "data": {
            "text/plain": [
              "array([0.1 , 0.15, 0.2 , 0.25, 0.3 , 0.35, 0.4 , 0.45, 0.5 , 0.55, 0.6 ,\n",
              "       0.65, 0.7 , 0.75, 0.8 , 0.85, 0.9 , 0.95, 1.  , 1.05, 1.1 , 1.15,\n",
              "       1.2 , 1.25, 1.3 , 1.35, 1.4 , 1.45])"
            ]
          },
          "metadata": {},
          "execution_count": 263
        }
      ]
    },
    {
      "cell_type": "code",
      "source": [
        "# \n",
        "GlobalBONDANGLE_OHO = 0\n"
      ],
      "metadata": {
        "id": "nidbY1RlXiwO"
      },
      "execution_count": 264,
      "outputs": []
    },
    {
      "cell_type": "code",
      "source": [
        "def getMoleculeGeomtry():\n",
        "  #print(moleculegeomtryTemplateinZmatrix)\n",
        "  #GlobalBONDANGLE_OHO = round(GlobalBONDANGLE_OHO, 3)\n",
        "  #GlobalBONDLENGTH = round (GlobalBONDLENGTH, 3)\n",
        "  moleculegeomtry = moleculegeomtryTemplateinZmatrix.replace('ANGLEOHO', str(GlobalBONDANGLE_OHO))\n",
        "  moleculegeomtry = moleculegeomtry.replace('BONDLENGHTOH', str(GlobalBONDLENGTH) )\n",
        "  #print(moleculegeomtry)\n",
        "  return moleculegeomtry\n"
      ],
      "metadata": {
        "id": "5b04S5KIaXan"
      },
      "execution_count": 265,
      "outputs": []
    },
    {
      "cell_type": "code",
      "source": [
        "def buildaMoleculeSpinfor2DPES(elementname, elementname2, mydownloadedfile, mydownloadedfile2, trythisspin ):\n",
        "      global GlobalBONDLENGTH\n",
        "      mol = gto.Mole()     \n",
        "#      mol.atom = [[elementname, ( 0, 0, GlobalBONDLENGTH)], [elementname2, (0, 0, -1* GlobalBONDLENGTH)] ]\n",
        "      mol.atom = getMoleculeGeomtry() \n",
        "\n",
        "      mol.spin =  trythisspin\n",
        "      mol.symmetry = True\n",
        "     # mol.basis = { elementname: gto.parse(mydownloadedfile)  ,     elementname2: gto.parse(mydownloadedfile2)        }\n",
        "      mol.basis = BASISSETTOUSE\n",
        "      mol.charge = 0\n",
        "      #mol.max_memory = PYSCF_MAX_MEMORY\n",
        "      mol.build()\n",
        "     # print( mol.atom_coords() )\n",
        "      return mol"
      ],
      "metadata": {
        "id": "esCilbs1MsMw"
      },
      "execution_count": 266,
      "outputs": []
    },
    {
      "cell_type": "code",
      "source": [],
      "metadata": {
        "id": "FvxnWOE5G51N"
      },
      "execution_count": 266,
      "outputs": []
    },
    {
      "cell_type": "code",
      "source": [
        "def buildaMoleculeTryMOLECULEELEMENTCOUNT2(elementname, elementname2, mydownloadedfile , mydownloadedfile2 ):\n",
        "  molecule = None \n",
        "  for spinvaluecheckthis in range(5):\n",
        "    try:\n",
        "      molecule = buildaMoleculeSpinfor2DPES(elementname,elementname2, mydownloadedfile, mydownloadedfile2, spinvaluecheckthis )      \n",
        "      return molecule, spinvaluecheckthis\n",
        "      break\n",
        "    except:\n",
        "      tempexcept = True\n",
        "      #print('SPIN is not correct. Auto matically trying another spin value...')\n",
        "    else:\n",
        "      tempelse = True\n",
        "      #print('TRYING SPIN')\n",
        "  return molecule, spinvaluecheckthis\n",
        " \n"
      ],
      "metadata": {
        "id": "BYolIH7Lsxqa"
      },
      "execution_count": 267,
      "outputs": []
    },
    {
      "cell_type": "code",
      "source": [
        " "
      ],
      "metadata": {
        "id": "JJQgHAXIaunM"
      },
      "execution_count": 267,
      "outputs": []
    },
    {
      "cell_type": "code",
      "source": [
        "mydownloadedfile = downloadBasisSetAutoVersion(PerdiocTableNumber,BASISSETTOUSE)      \n",
        "if True:\n",
        "  if True:\n",
        "    for elementname in dictPeriodicTable.keys():\n",
        "      for lengthHO in Global_Range_BONDLENGTH_HO:\n",
        "        for angle1 in Global_Range_BONDANGLE_OHO:\n",
        "          GlobalBONDANGLE_OHO = angle1\n",
        "          GlobalBONDLENGTH =  lengthHO\n",
        "          print('************************************##############################################*###############################  BONDLENGHT_HO = ' + str(GlobalBONDLENGTH))          \n",
        "          print('************************************##############################################*###############################  BONDANGLE_OHO = ' + str(GlobalBONDANGLE_OHO))\n",
        "          molUnoptimized, myspin = buildaMoleculeTryMOLECULEELEMENTCOUNT2(elementname, elementname, mydownloadedfile , mydownloadedfile )\n",
        "          if molUnoptimized != None:\n",
        "            print('.............................................Molecule Geometry......................................................')\n",
        "           # print(molUnoptimized.atom_coords(unit='ANG'))\n",
        "            print(molUnoptimized.tostring(format='xyz'))\n",
        "            \n",
        "            xyz = molUnoptimized.tostring(format='xyz')\n",
        "            xyzview = py3Dmol.view(width=400,height=400)\n",
        "            xyzview.addModel(xyz , 'xyz')\n",
        "            xyzview.setStyle({'stick':{}})\n",
        "            xyzview.show()\n",
        "            break\n",
        "          "
      ],
      "metadata": {
        "id": "F7_QUF4JMsH-"
      },
      "execution_count": null,
      "outputs": []
    },
    {
      "cell_type": "code",
      "source": [
        "def buildaMoleculeSpinMOLECULEELEMENTCOUNT1(elementname, mydownloadedfile,  trythisspin ):\n",
        "      mol = gto.Mole()\n",
        "      #mol.atom = '''H 0 0 0'''\n",
        "      mol.atom = [[elementname, (0, 0, 0)] ]\n",
        "      mol.spin =  trythisspin\n",
        "      mol.basis = { elementname: gto.parse(mydownloadedfile)       }\n",
        "      mol.build()\n",
        "      return mol"
      ],
      "metadata": {
        "id": "AQmy_MGADZfD"
      },
      "execution_count": 269,
      "outputs": []
    },
    {
      "cell_type": "code",
      "source": [
        "def buildaMoleculeTryMOLECULEELEMENTCOUNT1(elementname,  mydownloadedfile ):\n",
        "  molecule = None \n",
        "  for spinvaluecheckthis in range(5):\n",
        "    try:\n",
        "      molecule = buildaMoleculeSpinMOLECULEELEMENTCOUNT1(elementname, mydownloadedfile, spinvaluecheckthis )      \n",
        "      return molecule, spinvaluecheckthis\n",
        "      break\n",
        "    except:\n",
        "      tempexcept = True\n",
        "      #print('SPIN is not correct. Auto matically trying another spin value...')\n",
        "    else:\n",
        "      tempelse = True\n",
        "      #print('TRYING SPIN')\n",
        "  return molecule, spinvaluecheckthis\n",
        " \n"
      ],
      "metadata": {
        "id": "FoNOCHQiChEG"
      },
      "execution_count": 270,
      "outputs": []
    },
    {
      "cell_type": "markdown",
      "source": [
        "## Step 4: Expected format of output table "
      ],
      "metadata": {
        "id": "cxAQxLdTYX-J"
      }
    },
    {
      "cell_type": "markdown",
      "source": [
        "## Step 5. Input values to be considered in this computation  "
      ],
      "metadata": {
        "id": "yxkHxcxOYf9G"
      }
    },
    {
      "cell_type": "markdown",
      "source": [
        "## Step 6. Compute Results\n",
        "## Run the computation for the above input values "
      ],
      "metadata": {
        "id": "8GKgQOHrYp3t"
      }
    },
    {
      "cell_type": "code",
      "source": [
        "from pyscf import dft\n",
        "\n",
        "# DFT computation of SCF energy  \n",
        "def SCFenergyFunctionalsbasedonDFTGOLD(mol , functionals ):\n",
        "  if mol.spin == 0:\n",
        "    mf = dft.RKS(mol)\n",
        "  else:\n",
        "    mf = dft.UKS(mol)\n",
        "  # functional.\n",
        "  #mf.xc = 'B3LYP'\n",
        "  mf.max_memory = PYSCF_MAX_MEMORY\n",
        "  mf.xc = functionals\n",
        "  # Run the DFT calculation.\n",
        "  answerDFT = mf.kernel()\n",
        "  return answerDFT\n",
        "\n"
      ],
      "metadata": {
        "id": "m9dDlyeSik9_"
      },
      "execution_count": 271,
      "outputs": []
    },
    {
      "cell_type": "code",
      "source": [
        "\n",
        "# DFT computation of SCF energy  \n",
        "def SCFenergyFunctionalsbasedonDFT(mol , functionals ):\n",
        "    mf = mol.KS()\n",
        "   # mf.xc = 'b3lyp'\n",
        "   # mf.xc = 'pbe0'\n",
        "   # mf.xc = 'M06-2X'\n",
        "   # mf.xc = 'SCAN'    \n",
        "   # mf.xc = 'wB97X-V'\n",
        "   # mf.xc = 'PW6B95'\n",
        "    mf.xc = functionals\n",
        "    # Run the DFT calculation.\n",
        "    answerDFT = mf.kernel()\n",
        "    return answerDFT"
      ],
      "metadata": {
        "id": "V_S4At-sh8D1"
      },
      "execution_count": 272,
      "outputs": []
    },
    {
      "cell_type": "code",
      "source": [
        "def SCFenergyFunctionalsbasedonNNGOLD(mol,  NNfunctionals ):\n",
        "    if mol.spin == 0:\n",
        "      mf = dft.RKS(mol)\n",
        "    else:\n",
        "      mf = dft.UKS(mol)\n",
        "    #mf._numint = dm21.NeuralNumInt(dm21.Functional.DM21m )\n",
        "    mf._numint = dm21.NeuralNumInt(NNfunctionals)\n",
        "    mf.max_memory = PYSCF_MAX_MEMORY\n",
        "    # Run the DFT calculation.\n",
        "    answerNN = mf.kernel()\n",
        "    return answerNN"
      ],
      "metadata": {
        "id": "zhrEkD-vTqOJ"
      },
      "execution_count": 273,
      "outputs": []
    },
    {
      "cell_type": "code",
      "source": [
        "def SCFenergyFunctionalsbasedonNN(mol,  NNfunctionals, functionals='b3lyp'):\n",
        "    mf = mol.KS()\n",
        "    mf.xc = functionals\n",
        "    #mf._numint = dm21.NeuralNumInt(dm21.Functional.DM21m )\n",
        "    mf._numint = dm21.NeuralNumInt(NNfunctionals)\n",
        "    # Run the DFT calculation.\n",
        "    answerNN = mf.kernel()\n",
        "    return answerNN"
      ],
      "metadata": {
        "id": "q252BnqMmfWD"
      },
      "execution_count": 274,
      "outputs": []
    },
    {
      "cell_type": "code",
      "source": [
        " "
      ],
      "metadata": {
        "id": "jPXfm5TaqFXY"
      },
      "execution_count": 274,
      "outputs": []
    },
    {
      "cell_type": "code",
      "source": [
        " "
      ],
      "metadata": {
        "id": "cMOO55jPka49"
      },
      "execution_count": 274,
      "outputs": []
    },
    {
      "cell_type": "code",
      "source": [
        "# DFT computation of SCF energy  \n",
        "def SCFenergybasedonDFT(mol):\n",
        "    mf = dft.RKS(mol)\n",
        "    # Run the DFT calculation.\n",
        "    answerDFT = mf.kernel()\n",
        "    return answerDFT"
      ],
      "metadata": {
        "id": "W9GjaEhKAaCt"
      },
      "execution_count": 275,
      "outputs": []
    },
    {
      "cell_type": "code",
      "source": [
        "# Neural network based prediction of SCF energy   \n",
        "def SCFenergybasedonNN(mol):\n",
        "    mf = dft.RKS(mol)\n",
        "    mf._numint = dm21.NeuralNumInt(dm21.Functional.DM21)\n",
        "    # Run the DFT calculation.\n",
        "    answerNN = mf.kernel()\n",
        "    return answerNN"
      ],
      "metadata": {
        "id": "LzfM6gMZBABO"
      },
      "execution_count": 276,
      "outputs": []
    },
    {
      "cell_type": "code",
      "source": [
        "# CCSD computation \n",
        "def SCFenergybasedonCCSD(mol):\n",
        "  ccsdanswer = mol.apply('CCSD').run().e_tot\n",
        "  return ccsdanswer"
      ],
      "metadata": {
        "id": "jN6A1KpWBvD_"
      },
      "execution_count": 277,
      "outputs": []
    },
    {
      "cell_type": "code",
      "source": [
        "from pyscf import  scf, cc\n",
        "\n",
        "# CCSD-T computation \n",
        "def SCFenergybasedonCCSDTGOLD(mol):\n",
        "  try:\n",
        "    mf = scf.HF(mol).run()\n",
        "    mf.max_memory = PYSCF_MAX_MEMORY\n",
        "    mycc = cc.CCSD(mf).run()\n",
        "    #print('CCSD  energy', mycc.e_tot)\n",
        "    et = mycc.ccsd_t()\n",
        "    CCSDTotal = mycc.e_tot + et\n",
        "  except ZeroDivisionError:\n",
        "    print('000000000000000000000000000000000000000-------CCSDT Error------------00000000000000000000000. Using CCSD')\n",
        "    return SCFenergybasedonCCSD(mol)\n",
        "  #print('CCSD(T) total energy', mycc.e_tot + et)\n",
        "  return CCSDTotal\n",
        "\n",
        "  "
      ],
      "metadata": {
        "id": "t6DBX0xPJQUB"
      },
      "execution_count": 278,
      "outputs": []
    },
    {
      "cell_type": "code",
      "source": [],
      "metadata": {
        "id": "7HNMoUa60U9w"
      },
      "execution_count": 278,
      "outputs": []
    },
    {
      "cell_type": "code",
      "source": [
        " "
      ],
      "metadata": {
        "id": "Rz8tJdhwR0C1"
      },
      "execution_count": 278,
      "outputs": []
    },
    {
      "cell_type": "code",
      "source": [
        "import urllib   # the lib that handles the url stuff\n",
        "import urllib.request  # the lib that handles the url stuff\n",
        "import numpy\n",
        "from google.colab import files\n",
        "\n",
        "\n",
        "print( 'No'  + '        ' + 'Element' + '    \\t  \\t \\t ' +  'Basis Set')\n",
        "\n"
      ],
      "metadata": {
        "id": "ZapSFREjSiAI",
        "colab": {
          "base_uri": "https://localhost:8080/"
        },
        "outputId": "fbe7d52c-6ebc-4477-c41f-f8062ab1e3be"
      },
      "execution_count": 279,
      "outputs": [
        {
          "output_type": "stream",
          "name": "stdout",
          "text": [
            "No        Element    \t  \t \t Basis Set\n"
          ]
        }
      ]
    },
    {
      "cell_type": "code",
      "source": [
        "ValidatedBasisSetSOURCE = getValidBasisSet(PerdiocTableNumber)\n"
      ],
      "metadata": {
        "id": "RTtSH0rhUlLD"
      },
      "execution_count": 280,
      "outputs": []
    },
    {
      "cell_type": "code",
      "source": [
        "\n",
        "\n",
        "def compute1Mol1BasisSet(elementname, ValidatedBasisSetStart , df):\n",
        "  if True:\n",
        "    PerdiocTableNumber = dictPeriodicTable [elementname]\n",
        "    ValidatedBasisSet = ValidatedBasisSetSOURCE[ValidatedBasisSetStart:ValidatedBasisSetStart+1]\n",
        "    for BasisSet in ValidatedBasisSet:    \n",
        "      print('***********************************************************')\n",
        "      print('***********************************************************')\n",
        "      print('***********************************************************')\n",
        "\n",
        "####      mydownloadedfile = downloadBasisSetAutoVersion(PerdiocTableNumber,BasisSet)      \n",
        "      molUnoptimized, myspin = buildaMoleculeTryMOLECULEELEMENTCOUNT2(elementname, elementname, None , None )\n",
        "      if molUnoptimized == None:\n",
        "        return df\n",
        "\n",
        "      print('.............................................Molecule Geometry......................................................')\n",
        "#      print('In Bohr')\n",
        "#      print(molUnoptimized.atom_coords(unit='Bohr'))\n",
        "#      print('In angstrom')\n",
        "#      print(molUnoptimized.atom_coords(unit='ANG'))\n",
        "#      print(molUnoptimized)\n",
        "\n",
        "\n",
        "     # mol = GetoptimizedMolecule(molUnoptimized)\n",
        "      mol = molUnoptimized\n",
        "        \n",
        "      print(mol.atom)\n",
        "   #   print(mol.atom_coords(unit='Bohr'))\n",
        "      print(mol.basis)\n",
        "\n",
        "\n",
        "\n",
        "      print('.............................................COMPUTING SCF energy......................................................')\n",
        "\n",
        "      aResultDict = computePart(mol )\n",
        "\n",
        "\n",
        "      aResultDict['BasisSet'] = [BasisSet]\n",
        "\n",
        "      dfforOneElement = pd.DataFrame(aResultDict )\n",
        "\n",
        "      \n",
        "\n",
        "      df = df.append(dfforOneElement, ignore_index = True)\n",
        "\n",
        "      return df\n",
        "\n",
        "\n",
        "    #  files.download('ComputedEnergy'+str(ValidatedBasisSetStart)+'.csv')\n",
        "\n",
        "\n",
        "      \n"
      ],
      "metadata": {
        "id": "nsFu58KgJbdq"
      },
      "execution_count": 281,
      "outputs": []
    },
    {
      "cell_type": "code",
      "source": [
        "\n",
        "\n",
        "\n",
        "def computePart(mol):\n",
        "  global DFT_energies \n",
        "  global NN_engeries \n",
        "  global CCSD_energies \n",
        "  global CCSD_Tenergies \n",
        "  global fci_energies \n",
        "  global bond_lengths \n",
        "  global Mole_bond_defintions \n",
        "\n",
        "\n",
        "  if True:\n",
        "      aResultDict = {}\n",
        "      aResultDict['bond_lenght'] = GlobalBONDLENGTH  \n",
        "      aResultDict['bond_Angle'] =    GlobalBONDANGLE_OHO\n",
        "      aResultDict['Molecule'] = [mol.atom]\n",
        "      aResultDict['Spin'] = [mol.spin]\n",
        "      aResultDict['BuiltMolecule'] = [  mol.basis   ]\n",
        "\n",
        "      if ComputeThisInThisRUN == 'NN': \n",
        "        print('++++++++++++++++++++++++++++++++++++++++++++++++++  DM21 Functionals ++++++++++++++++++++++++++++++++++')\n",
        "        for aDMFunctionalvalue in dm21.Functional:\n",
        "          if str(aDMFunctionalvalue) ==  'Functional.DM21m' :           \n",
        "          #if True:\n",
        "            ans = SCFenergyFunctionalsbasedonNNGOLD(mol, aDMFunctionalvalue)\n",
        "            aResultDict['NN-'+str(aDMFunctionalvalue)] = ans    \n",
        "            NN_engeries += [ans]\n",
        "\n",
        "      if ComputeThisInThisRUN == 'DFT': \n",
        "        print('++++++++++++++++++++++++++++++++++++++++++++++++++  DFT Functionals ++++++++++++++++++++++++++++++++++')\n",
        "        for afunctionals in functionalsList:\n",
        "          ans = SCFenergyFunctionalsbasedonDFTGOLD(mol, afunctionals)\n",
        "          aResultDict['DFT-'+str(afunctionals)] = ans    \n",
        "          DFT_energies += [ans]\n",
        "\n",
        "\n",
        "      if ComputeThisInThisRUN == 'CCST': \n",
        "        print('++++++++++++++++++++++++++++++++++++++++++++++++++  CCSD ++++++++++++++++++++++++++++++++++')\n",
        "        # Run the CCSD calculation.\n",
        "        CCSDenergy = SCFenergybasedonCCSD(mol)\n",
        "      # print('ENERGY Computing using CCSD appoach is = ' + str(CCSDenergy ))\n",
        "        print('++++++++++++++++++++++++++++++++++++++++++++++++++  CCSD(T) ++++++++++++++++++++++++++++++++++')\n",
        "        CCSDTenergy = SCFenergybasedonCCSDTGOLD(mol)\n",
        "        print('ENERGY Computing using CCSD T appoach is = ' + str(CCSDTenergy ))\n",
        "        #aResultDict['DFTApproach'] = answerDFT\n",
        "        #aResultDict['NNApproach'] = answerNN\n",
        "        aResultDict['CCSD'] = CCSDenergy\n",
        "        aResultDict['CCSDT'] = CCSDTenergy\n",
        "      # CCSD_energies += [CCSDenergy]\n",
        "        CCSD_Tenergies += [CCSDTenergy]\n",
        "\n",
        "\n",
        "      return aResultDict\n",
        "\n",
        "\n",
        "\n",
        "\n",
        "  \n"
      ],
      "metadata": {
        "id": "OTCbozQTSkL1"
      },
      "execution_count": 282,
      "outputs": []
    },
    {
      "cell_type": "code",
      "source": [
        "if firstTimeorRestart == True:\n",
        "  df = pd.DataFrame(columns = ['Weight', 'Element', 'Molecule', 'BasisSet','Spin', 'BuiltMolecule' ])\n",
        "else: \n",
        "  df = dfRestart \n",
        " "
      ],
      "metadata": {
        "id": "rpSyWt2ibZtb"
      },
      "execution_count": 283,
      "outputs": []
    },
    {
      "cell_type": "code",
      "source": [
        "DFT_energies = []\n",
        "NN_engeries = []\n",
        "CCSD_energies = []\n",
        "CCSD_Tenergies = []\n",
        "fci_energies = []\n",
        "bond_lengths = []\n",
        "bond_angles = []\n",
        "Mole_bond_defintions = []"
      ],
      "metadata": {
        "id": "cO7H3c7vyd6z"
      },
      "execution_count": 284,
      "outputs": []
    },
    {
      "cell_type": "code",
      "source": [
        "if True:\n",
        "  if True:\n",
        "    for elementname in dictPeriodicTable.keys():\n",
        "      for lengthHO in Global_Range_BONDLENGTH_HO:\n",
        "        for angle1 in Global_Range_BONDANGLE_OHO:\n",
        "          GlobalBONDANGLE_OHO = angle1\n",
        "          GlobalBONDLENGTH =  lengthHO\n",
        "          print('************************************##############################################*###############################  BONDLENGHT_HO = ' + str(GlobalBONDLENGTH))          \n",
        "          print('************************************##############################################*###############################  BONDANGLE_OHO = ' + str(GlobalBONDANGLE_OHO))\n",
        "          bond_lengths += [GlobalBONDANGLE_OHO]"
      ],
      "metadata": {
        "id": "YhhVbla0jRy9"
      },
      "execution_count": null,
      "outputs": []
    },
    {
      "cell_type": "code",
      "source": [
        "print(Global_Range_BONDLENGTH_HO)\n",
        "\n",
        "type(Global_Range_BONDLENGTH_HO)\n",
        "\n",
        "Global_Range_BONDLENGTH_HO[1]"
      ],
      "metadata": {
        "id": "OQwIncSxjeZm"
      },
      "execution_count": null,
      "outputs": []
    },
    {
      "cell_type": "code",
      "source": [
        "      for lengthHO in Global_Range_BONDLENGTH_HO:\n",
        "          GlobalBONDLENGTH =  lengthHO\n",
        "          print( GlobalBONDLENGTH)       \n"
      ],
      "metadata": {
        "id": "-U5lUp37j9Ca"
      },
      "execution_count": null,
      "outputs": []
    },
    {
      "cell_type": "code",
      "source": [
        "pausehere"
      ],
      "metadata": {
        "colab": {
          "base_uri": "https://localhost:8080/",
          "height": 165
        },
        "id": "wLZCyhVxdDJK",
        "outputId": "90981a0e-16d4-437e-db2e-af31b3b0bb96"
      },
      "execution_count": 288,
      "outputs": [
        {
          "output_type": "error",
          "ename": "NameError",
          "evalue": "ignored",
          "traceback": [
            "\u001b[0;31m---------------------------------------------------------------------------\u001b[0m",
            "\u001b[0;31mNameError\u001b[0m                                 Traceback (most recent call last)",
            "\u001b[0;32m<ipython-input-288-36b9d6b0cacc>\u001b[0m in \u001b[0;36m<module>\u001b[0;34m\u001b[0m\n\u001b[0;32m----> 1\u001b[0;31m \u001b[0mczcadad\u001b[0m\u001b[0;34m\u001b[0m\u001b[0;34m\u001b[0m\u001b[0m\n\u001b[0m",
            "\u001b[0;31mNameError\u001b[0m: name 'czcadad' is not defined"
          ]
        }
      ]
    },
    {
      "cell_type": "markdown",
      "source": [
        "#3D plots \n",
        "https://colab.research.google.com/drive/1qz-fzzZYgb2RScGJM5f-VQCPt28ydfSi?usp=sharing"
      ],
      "metadata": {
        "id": "N_zoudDGip01"
      }
    },
    {
      "cell_type": "code",
      "source": [
        "#n_points = 30\n",
        "#bond_length_interval = 3.0 / n_points"
      ],
      "metadata": {
        "id": "yBd96Zy6yrSV"
      },
      "execution_count": 289,
      "outputs": []
    },
    {
      "cell_type": "code",
      "source": [
        "\n",
        "if True:\n",
        "  if firstTimeorRestart==True:\n",
        "    for elementname in dictPeriodicTable.keys():\n",
        "      for lengthHO in Global_Range_BONDLENGTH_HO:\n",
        "        for angle1 in Global_Range_BONDANGLE_OHO:\n",
        "          GlobalBONDANGLE_OHO = angle1\n",
        "          GlobalBONDLENGTH =  lengthHO\n",
        "          print('************************************##############################################*###############################  BONDLENGHT_HO = ' + str(GlobalBONDLENGTH))          \n",
        "          print('************************************##############################################*###############################  BONDANGLE_OHO = ' + str(GlobalBONDANGLE_OHO))\n",
        "          df = compute1Mol1BasisSet(elementname, ValidatedBasisSetStart=0 , df=df)\n",
        "          bond_lengths += [GlobalBONDANGLE_OHO]\n",
        "        df.to_csv('/content/drive/My Drive/tryDeepMind' + EXPNO+ 'CE-temp2D-.csv' , index=False )\n",
        "\n",
        "#  except :\n",
        " #   print('************************************************************WARNING*********************************** : EXCPETION.. continuing' )"
      ],
      "metadata": {
        "id": "_uYNebVpoeD0"
      },
      "execution_count": 290,
      "outputs": []
    },
    {
      "cell_type": "code",
      "source": [],
      "metadata": {
        "id": "60mkmTVufuTb"
      },
      "execution_count": 290,
      "outputs": []
    },
    {
      "cell_type": "code",
      "source": [
        " "
      ],
      "metadata": {
        "id": "0MXeCfT2f5lF"
      },
      "execution_count": 290,
      "outputs": []
    },
    {
      "cell_type": "code",
      "source": [
        "def addColoumIfDoesnotExisit(adf):\n",
        "  templocalmylistofcoloumnames = list(adf.columns.values)\n",
        "  if not (lookforAlreadyCompletedHINT in templocalmylistofcoloumnames):\n",
        "    adf[lookforAlreadyCompletedHINT] = float(\"nan\")\n",
        "  return adf "
      ],
      "metadata": {
        "id": "M3m86qDubj3r"
      },
      "execution_count": 291,
      "outputs": []
    },
    {
      "cell_type": "code",
      "source": [
        "df"
      ],
      "metadata": {
        "id": "LzMHwLYF_H8d"
      },
      "execution_count": null,
      "outputs": []
    },
    {
      "cell_type": "markdown",
      "source": [],
      "metadata": {
        "id": "MErnAozw0EX6"
      }
    },
    {
      "cell_type": "code",
      "source": [
        "\n",
        "if True:\n",
        "  if firstTimeorRestart==False:\n",
        "    dfCompare = df.copy(deep=True)\n",
        "    dfCompare = dfCompare.round({'bond_Angle': 3, 'bond_lenght': 3})    \n",
        "    dfCompare  = addColoumIfDoesnotExisit(dfCompare)    \n",
        "\n",
        "    for elementname in dictPeriodicTable.keys():\n",
        "      for lengthHO in Global_Range_BONDLENGTH_HO:\n",
        "        for angle1 in Global_Range_BONDANGLE_OHO:\n",
        "          GlobalBONDANGLE_OHO = angle1\n",
        "          GlobalBONDLENGTH =  lengthHO\n",
        "          temppppp = dfCompare.loc[  (dfCompare['bond_Angle'] == round(angle1, 3)) & (dfCompare['bond_lenght'] == round( lengthHO, 3))     ]  \n",
        "          #if (len( temppppp['bond_lenght']) == 0):\n",
        "          isalreadyComputed = False\n",
        "          numberofrowsmatchingcriteria = len( temppppp[lookforAlreadyCompletedHINT]) \n",
        "          if numberofrowsmatchingcriteria == 0: \n",
        "            isalreadyComputed = False\n",
        "          if numberofrowsmatchingcriteria >= 1: \n",
        "            tempparrayofDM21values = np.array(temppppp[lookforAlreadyCompletedHINT])\n",
        "            if np.isnan(tempparrayofDM21values).all()  == True: \n",
        "              isalreadyComputed = False \n",
        "            else :\n",
        "              isalreadyComputed = True \n",
        "\n",
        "          if (isalreadyComputed == False ):              \n",
        "            print('************************************##############################################*###############################  BONDLENGHT_HO = ' + str(GlobalBONDLENGTH))          \n",
        "            #print('************************************##############################################*###############################  BONDANGLE_OHO = ' + str(GlobalBONDANGLE_OHO))\n",
        "            try:\n",
        "              df = compute1Mol1BasisSet(elementname, ValidatedBasisSetStart = 0, df=df)\n",
        "              df.to_csv('/content/drive/My Drive/tryDeepMind' + EXPNO+ 'CE-temp2D-.csv' , index=False)\n",
        "\n",
        "              bond_lengths += [GlobalBONDANGLE_OHO]\n",
        "            except:\n",
        "              print('????????????????????????????? EXCEPTION ????????????????')\n",
        "          \n",
        "            \n",
        "\n",
        "#  except :\n",
        " #   print('************************************************************WARNING*********************************** : EXCPETION.. continuing' )"
      ],
      "metadata": {
        "id": "EtSoSfexzw7Y"
      },
      "execution_count": null,
      "outputs": []
    },
    {
      "cell_type": "code",
      "source": [
        "dfCompare"
      ],
      "metadata": {
        "id": "OP5F-e-MCJby"
      },
      "execution_count": null,
      "outputs": []
    },
    {
      "cell_type": "code",
      "source": [
        "df"
      ],
      "metadata": {
        "id": "Iq3ktjZFZSEl"
      },
      "execution_count": null,
      "outputs": []
    },
    {
      "cell_type": "code",
      "source": [
        "pausehere\n",
        "if True:\n",
        "  if firstTimeorRestart==False:\n",
        "    dfCompare = df.copy(deep=True)\n",
        "    dfCompare = dfCompare.round({'bond_Angle': 3, 'bond_lenght': 3})    \n",
        "    dfCompare  = addColoumIfDoesnotExisit(dfCompare)    \n",
        "\n",
        "    for elementname in dictPeriodicTable.keys():\n",
        "      for lengthHO in Global_Range_BONDLENGTH_HO:\n",
        "        for angle1 in Global_Range_BONDANGLE_OHO:\n",
        "          GlobalBONDANGLE_OHO = angle1\n",
        "          GlobalBONDLENGTH =  lengthHO\n",
        "          temppppp = dfCompare.loc[  (dfCompare['bond_Angle'] == round(angle1, 3)) & (dfCompare['bond_lenght'] == round( lengthHO, 3))     ]  \n",
        "          #if (len( temppppp['bond_lenght']) == 0):\n",
        "          isalreadyComputed = False\n",
        "          numberofrowsmatchingcriteria = len( temppppp[lookforAlreadyCompletedHINT]) \n",
        "          if numberofrowsmatchingcriteria == 0: \n",
        "            isalreadyComputed = False\n",
        "          if numberofrowsmatchingcriteria >= 1: \n",
        "            tempparrayofDM21values = np.array(temppppp[lookforAlreadyCompletedHINT])\n",
        "            if np.isnan(tempparrayofDM21values).all()  == True: \n",
        "              isalreadyComputed = False \n",
        "            else :\n",
        "              isalreadyComputed = True \n",
        "          if (isalreadyComputed == False ):              \n",
        "            print('************************************##############################################*###############################  BONDLENGHT_HO = ' + str(GlobalBONDLENGTH))          \n",
        "            print('************************************##############################################*###############################  BONDANGLE_OHO = ' + str(GlobalBONDANGLE_OHO))\n",
        "            try:\n",
        "              df = compute1Mol1BasisSet(elementname, ValidatedBasisSetStart = 0, df=df)\n",
        "              df.to_csv('/content/drive/My Drive/tryDeepMind' + EXPNO+ 'CE-temp2D-.csv' , index=False)\n",
        "\n",
        "              bond_lengths += [GlobalBONDANGLE_OHO]\n",
        "            except:\n",
        "              print('????????????????????????????? EXCEPTION ????????????????')\n",
        "\n",
        "#  except :\n",
        " #   print('************************************************************WARNING*********************************** : EXCPETION.. continuing' )"
      ],
      "metadata": {
        "id": "KBbQuJjVH0lb"
      },
      "execution_count": null,
      "outputs": []
    },
    {
      "cell_type": "code",
      "source": [
        "\n",
        "if False==True:\n",
        "  if firstTimeorRestart==False:\n",
        "    dfCompare = df.copy(deep=True)\n",
        "    dfCompare = dfCompare.round({'bond_Angle': 3, 'bond_lenght': 3})    \n",
        "    dfCompare  = addColoumIfDoesnotExisit(dfCompare)    \n",
        "\n",
        "    for elementname in dictPeriodicTable.keys():\n",
        "      for lengthHO in Global_Range_BONDLENGTH_HO:\n",
        "        for angle1 in Global_Range_BONDANGLE_OHO:\n",
        "          GlobalBONDANGLE_OHO = angle1\n",
        "          GlobalBONDLENGTH =  lengthHO\n",
        "          temppppp = dfCompare.loc[  (dfCompare['bond_Angle'] == round(angle1, 3)) & (dfCompare['bond_lenght'] == round( lengthHO, 3))     ]  \n",
        "          #if (len( temppppp['bond_lenght']) == 0):\n",
        "          if (len( temppppp[lookforAlreadyCompletedHINT]) == 0):              \n",
        "            print('************************************##############################################*###############################  BONDLENGHT_HO = ' + str(GlobalBONDLENGTH))          \n",
        "            print('************************************##############################################*###############################  BONDANGLE_OHO = ' + str(GlobalBONDANGLE_OHO))\n",
        "            df = compute1Mol1BasisSet(elementname, ValidatedBasisSetStart = 0, df=df)\n",
        "            df.to_csv('/content/drive/My Drive/tryDeepMind' + EXPNO+ 'CE-temp2D-.csv' , index=False)\n",
        "\n",
        "            bond_lengths += [GlobalBONDANGLE_OHO]\n",
        "\n",
        "#  except :\n",
        " #   print('************************************************************WARNING*********************************** : EXCPETION.. continuing' )"
      ],
      "metadata": {
        "id": "oXNlQLRpHFIX"
      },
      "execution_count": null,
      "outputs": []
    },
    {
      "cell_type": "code",
      "source": [
        "!pip install py3Dmol\n"
      ],
      "metadata": {
        "id": "ZhLHGhj0sYii"
      },
      "execution_count": null,
      "outputs": []
    },
    {
      "cell_type": "code",
      "source": [
        "\n",
        "import py3Dmol\n",
        "xyz = '''4\n",
        "* (null), Energy   -1000.0000000\n",
        "N     0.000005    0.019779   -0.000003   -0.157114    0.000052   -0.012746\n",
        "H     0.931955   -0.364989    0.000003    1.507100   -0.601158   -0.004108\n",
        "H    -0.465975   -0.364992    0.807088    0.283368    0.257996   -0.583024\n",
        "H    -0.465979   -0.364991   -0.807088    0.392764    0.342436    0.764260\n",
        "'''\n",
        "xyzview = py3Dmol.view(width=400,height=400)\n",
        "xyzview.addModel(xyz,'xyz',{'vibrate': {'frames':10,'amplitude':1}})\n",
        "xyzview.setStyle({'stick':{}})\n",
        "xyzview.setBackgroundColor('0xeeeeee')\n",
        "#xyzview.animate({'loop': 'backAndForth'})\n",
        "xyzview.zoomTo()\n",
        "xyzview.show()"
      ],
      "metadata": {
        "id": "oh9MbdLOsXX7"
      },
      "execution_count": null,
      "outputs": []
    },
    {
      "cell_type": "code",
      "source": [
        "Global_Range_BONDLENGTH_HO"
      ],
      "metadata": {
        "id": "Ix-Jx7rhZHsB"
      },
      "execution_count": null,
      "outputs": []
    },
    {
      "cell_type": "code",
      "source": [
        "Global_Range_BONDANGLE_OHO"
      ],
      "metadata": {
        "id": "FMNNnIwuZJCh"
      },
      "execution_count": null,
      "outputs": []
    },
    {
      "cell_type": "code",
      "source": [
        "df.to_csv('/content/drive/My Drive/tryDeepMind' + EXPNO+ 'CE-Final-.csv' , index=False )\n"
      ],
      "metadata": {
        "id": "TSnqUNJU8Tou"
      },
      "execution_count": null,
      "outputs": []
    },
    {
      "cell_type": "code",
      "source": [
        "import pandas as pd\n",
        "#df = pd.read_csv('/content/drive/My Drive/DeepMind' + EXPNO+ 'CE-Final-.csv' )\n"
      ],
      "metadata": {
        "id": "Nb-vUB-oH1oM"
      },
      "execution_count": 315,
      "outputs": []
    },
    {
      "cell_type": "code",
      "source": [
        "df2 = df.copy()"
      ],
      "metadata": {
        "id": "HflJ5uG3KX44"
      },
      "execution_count": 316,
      "outputs": []
    },
    {
      "cell_type": "code",
      "source": [
        "df.drop(columns=['Weight', 'Element', 'Molecule', 'BasisSet', 'Spin','BuiltMolecule'])"
      ],
      "metadata": {
        "id": "DiEWg_eGKcpX"
      },
      "execution_count": null,
      "outputs": []
    },
    {
      "cell_type": "code",
      "source": [
        "import  matplotlib.font_manager\n",
        "\n",
        "flist = matplotlib.font_manager.get_fontconfig_fonts()\n",
        "names = [matplotlib.font_manager.FontProperties(fname=fname).get_name() for fname in flist]\n",
        "print(names)"
      ],
      "metadata": {
        "id": "fR0uwmTg-aRO",
        "colab": {
          "base_uri": "https://localhost:8080/"
        },
        "outputId": "663252ac-46cf-41db-9cdf-68ec15dbb3ee"
      },
      "execution_count": 317,
      "outputs": [
        {
          "output_type": "stream",
          "name": "stdout",
          "text": [
            "['Liberation Sans', 'Liberation Mono', 'Liberation Sans Narrow', 'Liberation Sans Narrow', 'Liberation Sans', 'Liberation Mono', 'Liberation Serif', 'Liberation Sans', 'Liberation Serif', 'Liberation Sans', 'Liberation Sans Narrow', 'Liberation Serif', 'Liberation Sans Narrow', 'Humor Sans', 'Liberation Mono', 'Liberation Serif', 'Liberation Mono']\n"
          ]
        }
      ]
    },
    {
      "cell_type": "code",
      "source": [
        "import matplotlib.pyplot as plt\n",
        "%matplotlib inline\n",
        "\n",
        " "
      ],
      "metadata": {
        "id": "9BL6JU5bLpB7"
      },
      "execution_count": 318,
      "outputs": []
    },
    {
      "cell_type": "code",
      "source": [
        "dfBACKUP = df.copy(deep=True)\n"
      ],
      "metadata": {
        "id": "Zzr559JysU4t"
      },
      "execution_count": 319,
      "outputs": []
    },
    {
      "cell_type": "code",
      "source": [
        "dfDFT = dfBACKUP.copy(deep=True)\n",
        "\n",
        "dfDFTnew = dfDFT[ dfDFT['DFT-b3lyp'].notnull()]\n",
        "\n",
        "dfDFTnew = dfDFT[ dfDFT['NN-Functional.DM21m'].notnull()]\n",
        " "
      ],
      "metadata": {
        "id": "Fko66MuCrmYr"
      },
      "execution_count": 320,
      "outputs": []
    },
    {
      "cell_type": "code",
      "source": [
        "df = dfDFTnew \n",
        "dfTest = df.drop(columns=['Weight', 'Element', 'Molecule', 'BasisSet', 'Spin','BuiltMolecule'])"
      ],
      "metadata": {
        "id": "vRNflRTrskfs"
      },
      "execution_count": null,
      "outputs": []
    },
    {
      "cell_type": "code",
      "source": [
        "df\n"
      ],
      "metadata": {
        "id": "wUL3PYlRboR2"
      },
      "execution_count": null,
      "outputs": []
    },
    {
      "cell_type": "code",
      "source": [
        "EnergyToPLOT = 'DFT-b3lyp'\n",
        "\n",
        "EnergyToPLOT = 'NN-Functional.DM21m'\n"
      ],
      "metadata": {
        "id": "AiJH_F1_Zf8i"
      },
      "execution_count": 321,
      "outputs": []
    },
    {
      "cell_type": "code",
      "source": [
        "fig = plt.figure()\n",
        "fig.set_figwidth(20)\n",
        "fig.set_figheight(20)\n",
        "params = {'legend.fontsize': 'x-large',\n",
        "         'axes.labelsize': 'x-large',\n",
        "         'axes.titlesize':'x-large',\n",
        "         'xtick.labelsize':'x-large',\n",
        "         'ytick.labelsize':'x-large'}\n",
        "plt.rcParams.update(params)\n",
        "ax = fig.gca(projection='3d')\n",
        "surf=ax.plot_trisurf(dfTest['bond_lenght'], dfTest['bond_Angle'], dfTest[EnergyToPLOT], vmax=-1.3,  cmap=plt.cm.jet,  antialiased=True,  linewidth=0.02)\n",
        "ax.view_init(30, 4 )\n",
        "\n",
        "fig.colorbar( surf, shrink=0.5, aspect=5)\n",
        "plt.show()"
      ],
      "metadata": {
        "id": "tTOoAGYejKQO",
        "colab": {
          "base_uri": "https://localhost:8080/",
          "height": 1000
        },
        "outputId": "52e34799-a716-4ef5-ad3a-047fbba271c1"
      },
      "execution_count": 322,
      "outputs": [
        {
          "output_type": "display_data",
          "data": {
            "text/plain": [
              "<Figure size 1440x1440 with 2 Axes>"
            ],
            "image/png": "[encoded data removed]"
          },
          "metadata": {
            "needs_background": "light"
          }
        }
      ]
    },
    {
      "cell_type": "code",
      "source": [
        "import plotly.graph_objects as go\n",
        "\n",
        "import seaborn as sb\n",
        "import matplotlib.pyplot as plot\n",
        "import numpy as np\n",
        "\n",
        "dftesting = df.copy(deep=True)\n",
        "#dftesting = dftesting[ (dftesting['bond_lenght'] <= 1.09) &  (dftesting['bond_lenght'] >= 0.90) ] \n",
        "dftesting = dftesting[ (dftesting[EnergyToPLOT] <= -1.6)   ] \n",
        "\n",
        "\n",
        "x = dftesting['bond_lenght'].to_numpy()\n",
        "y = dftesting['bond_Angle'].to_numpy()\n",
        "z = dftesting[EnergyToPLOT].to_numpy()\n",
        "\n",
        "marker=dict(\n",
        "        size=3,\n",
        "        color=z,                # set color to an array/list of desired values\n",
        "        colorscale='Turbo',   # choose a colorscale Viridis Rainbow   Aggrnyl Turbo Plotly3 RdBu\n",
        "        opacity=1\n",
        "    )\n",
        "\n",
        "\n",
        "\n",
        "fig = go.Figure(data=[go.Scatter3d(\n",
        "    x=x,\n",
        "    y=y,\n",
        "    z=z,\n",
        "    mode='markers',\n",
        "    marker= marker)])\n",
        "\n",
        "\n",
        "fig.show()"
      ],
      "metadata": {
        "id": "fuNwgs-3EFj-"
      },
      "execution_count": null,
      "outputs": []
    },
    {
      "cell_type": "code",
      "source": [
        "fig = plt.figure()\n",
        "fig.set_figwidth(20)\n",
        "fig.set_figheight(20)\n",
        "params = {'legend.fontsize': 'x-large',\n",
        "         'axes.labelsize': 'x-large',\n",
        "         'axes.titlesize':'x-large',\n",
        "         'xtick.labelsize':'x-large',\n",
        "         'ytick.labelsize':'x-large'}\n",
        "plt.rcParams.update(params)\n",
        "ax = fig.gca(projection='3d')\n",
        "\n",
        "\n",
        "dftesting = df.copy(deep=True)\n",
        "#dftesting = dftesting[ (dftesting['bond_lenght'] <= 1.09) &  (dftesting['bond_lenght'] >= 0.90) ] \n",
        "dftesting = dftesting[ (dftesting[EnergyToPLOT] <= -1.45)   ] \n",
        "\n",
        "surf=ax.plot_trisurf(dftesting['bond_lenght'], dftesting['bond_Angle'], dftesting[EnergyToPLOT], cmap=plt.cm.jet,  linewidth=0.02, vmax=-1.60)\n",
        "ax.view_init(15, 20 )\n",
        "\n",
        "fig.colorbar( surf, shrink=0.5, aspect=5)\n",
        "plt.show()"
      ],
      "metadata": {
        "id": "Q0VwtLWNlG5s",
        "colab": {
          "base_uri": "https://localhost:8080/",
          "height": 1000
        },
        "outputId": "b8082495-9fd5-4e56-c30e-5d0e12de8838"
      },
      "execution_count": 338,
      "outputs": [
        {
          "output_type": "display_data",
          "data": {
            "text/plain": [
              "<Figure size 1440x1440 with 2 Axes>"
            ],
            "image/png": "[encoded data removed]"
          },
          "metadata": {
            "needs_background": "light"
          }
        }
      ]
    },
    {
      "cell_type": "code",
      "source": [
        "fig = plt.figure()\n",
        "fig.set_figwidth(20)\n",
        "fig.set_figheight(20)\n",
        "params = {'legend.fontsize': 'x-large',\n",
        "         'axes.labelsize': 'x-large',\n",
        "         'axes.titlesize':'x-large',\n",
        "         'xtick.labelsize':'x-large',\n",
        "         'ytick.labelsize':'x-large'}\n",
        "plt.rcParams.update(params)\n",
        "ax = fig.gca(projection='3d')\n",
        "surf=ax.plot_trisurf(dftesting['bond_lenght'], dftesting['bond_Angle'], dftesting['DFT-b3lyp'], cmap=plt.cm.jet,  linewidth=0.02)\n",
        "ax.view_init(60, 35 )\n",
        "\n",
        "fig.colorbar( surf, shrink=0.5, aspect=5)\n",
        "plt.show()"
      ],
      "metadata": {
        "id": "ACn0-GAt5-XJ"
      },
      "execution_count": null,
      "outputs": []
    },
    {
      "cell_type": "code",
      "source": [
        "fig = plt.figure()\n",
        "fig.set_figwidth(20)\n",
        "fig.set_figheight(20)\n",
        "params = {'legend.fontsize': 'x-large',\n",
        "         'axes.labelsize': 'x-large',\n",
        "         'axes.titlesize':'x-large',\n",
        "         'xtick.labelsize':'x-large',\n",
        "         'ytick.labelsize':'x-large'}\n",
        "plt.rcParams.update(params)\n",
        "ax = fig.gca(projection='3d')\n",
        "surf=ax.plot_trisurf(df['bond_lenght'], df['bond_Angle'], df['DFT-b3lyp'], vmax= -1.4,  cmap=plt.cm.jet,  linewidth=0.02)\n",
        "ax.view_init(20, 15 )\n",
        "\n",
        "fig.colorbar( surf, shrink=0.5, aspect=5)\n",
        "plt.show()"
      ],
      "metadata": {
        "id": "oG5zWU_A0_aU"
      },
      "execution_count": null,
      "outputs": []
    },
    {
      "cell_type": "code",
      "source": [
        "fig = plt.figure()\n",
        "fig.set_figwidth(20)\n",
        "fig.set_figheight(20)\n",
        "params = {'legend.fontsize': 'x-large',\n",
        "         'axes.labelsize': 'x-large',\n",
        "         'axes.titlesize':'x-large',\n",
        "         'xtick.labelsize':'x-large',\n",
        "         'ytick.labelsize':'x-large'}\n",
        "plt.rcParams.update(params)\n",
        "ax = fig.gca(projection='3d')\n",
        "surf=ax.plot_surface(Z=myarray , X=Global_Range_BONDLENGTH_HO, Y=mylistofbonganglesarray , cmap=plt.cm.jet,  linewidth=0.02)\n",
        "ax.view_init(20, 5 )\n",
        "\n",
        "fig.colorbar( surf, shrink=0.5, aspect=5)\n",
        "plt.show()"
      ],
      "metadata": {
        "id": "B9lks2yI0gpi"
      },
      "execution_count": null,
      "outputs": []
    },
    {
      "cell_type": "code",
      "source": [
        "fig = plt.figure()\n",
        "fig.set_figwidth(20)\n",
        "fig.set_figheight(20)\n",
        "params = {'legend.fontsize': 'x-large',\n",
        "         'axes.labelsize': 'x-large',\n",
        "         'axes.titlesize':'x-large',\n",
        "         'xtick.labelsize':'x-large',\n",
        "         'ytick.labelsize':'x-large'}\n",
        "plt.rcParams.update(params)\n",
        "ax = fig.gca(projection='3d')\n",
        "surf=ax.plot_wireframe(Z=myarray , Y=Global_Range_BONDLENGTH_HO, X=mylistofbonganglesarray , cmap=plt.cm.jet,  linewidth=0.02)\n",
        "ax.view_init(20, 5 )\n",
        "\n",
        "fig.colorbar( surf, shrink=0.5, aspect=5)\n",
        "plt.show()"
      ],
      "metadata": {
        "id": "Ntfhv_xqzm6p"
      },
      "execution_count": null,
      "outputs": []
    },
    {
      "cell_type": "code",
      "source": [
        "fig = plt.figure()\n",
        "fig.set_figwidth(20)\n",
        "fig.set_figheight(20)\n",
        "params = {'legend.fontsize': 'x-large',\n",
        "         'axes.labelsize': 'x-large',\n",
        "         'axes.titlesize':'x-large',\n",
        "         'xtick.labelsize':'x-large',\n",
        "         'ytick.labelsize':'x-large'}\n",
        "plt.rcParams.update(params)\n",
        "ax = fig.gca(projection='3d')\n",
        "surf=ax.plot_trisurf(df['bond_lenght'], df['bond_Angle'], df['NN-Functional.DM21m'], cmap=plt.cm.jet,  linewidth=0.02)\n",
        "ax.view_init(30, 10 )\n",
        "\n",
        "fig.colorbar( surf, shrink=0.5, aspect=5)\n",
        "plt.show()"
      ],
      "metadata": {
        "id": "JoqPZtoUX1Wh"
      },
      "execution_count": null,
      "outputs": []
    },
    {
      "cell_type": "code",
      "source": [
        "dftesting = df.copy(deep=True)\n",
        "#dftesting = dftesting[ (dftesting['bond_lenght'] <= 1.09) &  (dftesting['bond_lenght'] >= 0.90) ] "
      ],
      "metadata": {
        "id": "Nd28T-WMiKrM"
      },
      "execution_count": null,
      "outputs": []
    },
    {
      "cell_type": "code",
      "source": [
        "fig = plt.figure()\n",
        "fig.set_figwidth(20)\n",
        "fig.set_figheight(20)\n",
        "params = {'legend.fontsize': 'x-large',\n",
        "         'axes.labelsize': 'x-large',\n",
        "         'axes.titlesize':'x-large',\n",
        "         'xtick.labelsize':'x-large',\n",
        "         'ytick.labelsize':'x-large'}\n",
        "plt.rcParams.update(params)\n",
        "ax = fig.gca(projection='3d')\n",
        "surf=ax.plot_trisurf(dftesting['bond_lenght'], dftesting['bond_Angle'], dftesting['NN-Functional.DM21m'], cmap=plt.cm.jet,  linewidth=0.01)\n",
        "ax.view_init(10, 15 )\n",
        "\n",
        "fig.colorbar( surf, shrink=0.5, aspect=10)\n",
        "plt.show()"
      ],
      "metadata": {
        "id": "fZmr_yN5gDHV"
      },
      "execution_count": null,
      "outputs": []
    },
    {
      "cell_type": "code",
      "source": [
        "fig = plt.figure()\n",
        "fig.set_figwidth(20)\n",
        "fig.set_figheight(20)\n",
        "params = {'legend.fontsize': 'x-large',\n",
        "         'axes.labelsize': 'x-large',\n",
        "         'axes.titlesize':'x-large',\n",
        "         'xtick.labelsize':'x-large',\n",
        "         'ytick.labelsize':'x-large'}\n",
        "plt.rcParams.update(params)\n",
        "ax = fig.gca(projection='3d')\n",
        "surf=ax.plot_trisurf(df['bond_lenght'], df['bond_Angle'], df['NN-Functional.DM21m'], cmap=plt.cm.jet,  linewidth=0.02)\n",
        "ax.view_init(-30, 40 )\n",
        "\n",
        "fig.colorbar( surf, shrink=0.5, aspect=5)\n",
        "plt.show()"
      ],
      "metadata": {
        "id": "QkGHpiqDYFtT"
      },
      "execution_count": null,
      "outputs": []
    },
    {
      "cell_type": "code",
      "source": [
        "import plotly.graph_objects as go\n",
        "\n",
        "import seaborn as sb\n",
        "import matplotlib.pyplot as plot\n",
        "import numpy as np\n",
        "x = dftesting['bond_lenght'].to_numpy()\n",
        "y = dftesting['bond_Angle'].to_numpy()\n",
        "z = dftesting['DFT-b3lyp'].to_numpy()\n",
        "\n",
        "fig = go.Figure(data=[go.Mesh3d(x=x, y=y, z=z, color='lightpink', alphahull=-1, opacity=0.50)])\n",
        "fig.show()"
      ],
      "metadata": {
        "id": "97q4VAMDceAV"
      },
      "execution_count": null,
      "outputs": []
    },
    {
      "cell_type": "code",
      "source": [
        "\n",
        "\n",
        "fig = go.Figure(data=[go.Surface(\n",
        "    x=x,\n",
        "    y=y,\n",
        "    z=z,\n",
        "    showscale=False,\n",
        "    colorscale=[[0, 'rgb(0,0,255)'], [1, 'rgb(0,0,255)']]\n",
        "    )])\n",
        "\n",
        "fig.show()\n"
      ],
      "metadata": {
        "id": "n9dtXsHCAR9r"
      },
      "execution_count": null,
      "outputs": []
    },
    {
      "cell_type": "code",
      "source": [
        "surf=dict(type='surface',\n",
        "           x=x, \n",
        "           y=y,\n",
        "           z=z             \n",
        ")\n",
        "fig = go.Figure(surf)"
      ],
      "metadata": {
        "id": "htrI4hdN_ywp"
      },
      "execution_count": null,
      "outputs": []
    },
    {
      "cell_type": "code",
      "source": [
        "import plotly.express as px\n",
        "\n",
        "fig = px.scatter_3d(dftesting, x=x, y=y, z=z,)\n",
        "fig.show()"
      ],
      "metadata": {
        "id": "5EP8yrbLdUqy"
      },
      "execution_count": null,
      "outputs": []
    },
    {
      "cell_type": "code",
      "source": [
        "import plotly.graph_objects as go\n",
        "\n",
        "import seaborn as sb\n",
        "import matplotlib.pyplot as plot\n",
        "import numpy as np\n",
        "x = df['bond_lenght'].to_numpy()\n",
        "y = df['bond_Angle'].to_numpy()\n",
        "z = df['DFT-b3lyp'].to_numpy()\n",
        "\n",
        "marker=dict(\n",
        "        size=3,\n",
        "        color=z,                # set color to an array/list of desired values\n",
        "        colorscale='Turbo',   # choose a colorscale Viridis Rainbow   Aggrnyl Turbo Plotly3 RdBu\n",
        "        opacity=1\n",
        "    )\n",
        "\n",
        "\n",
        "\n",
        "fig = go.Figure(data=[go.Scatter3d(\n",
        "    x=x,\n",
        "    y=y,\n",
        "    z=z,\n",
        "    mode='markers',\n",
        "    marker= marker)])\n",
        "\n",
        "\n",
        "fig.show()"
      ],
      "metadata": {
        "id": "1nHm73NYCaht"
      },
      "execution_count": null,
      "outputs": []
    },
    {
      "cell_type": "code",
      "source": [
        "w  = len(Global_Range_BONDANGLE_OHO)\n",
        "h = len(Global_Range_BONDLENGTH_HO)\n",
        "\n",
        "mylistofbongangles = list([*Global_Range_BONDANGLE_OHO])\n",
        "\n",
        "mylistofbonganglesarray = np.array(mylistofbongangles)"
      ],
      "metadata": {
        "id": "gdIXoP6Tnwhs"
      },
      "execution_count": null,
      "outputs": []
    },
    {
      "cell_type": "code",
      "source": [
        "mylistofbongangles = list([*Global_Range_BONDANGLE_OHO])\n",
        "\n",
        "mylistofbonganglesarray = np.array(mylistofbongangles)\n",
        "\n"
      ],
      "metadata": {
        "id": "40JL0Gr_xM9P"
      },
      "execution_count": null,
      "outputs": []
    },
    {
      "cell_type": "code",
      "source": [
        "[*Global_Range_BONDANGLE_OHO]"
      ],
      "metadata": {
        "id": "bpDnpwIfqQm_"
      },
      "execution_count": null,
      "outputs": []
    },
    {
      "cell_type": "code",
      "source": [
        "Global_Range_BONDLENGTH_HO"
      ],
      "metadata": {
        "id": "hNbd9TduxPBM"
      },
      "execution_count": null,
      "outputs": []
    },
    {
      "cell_type": "code",
      "source": [
        "h = len(Global_Range_BONDLENGTH_HO)\n",
        "h"
      ],
      "metadata": {
        "id": "zCGm4Mrlns_-"
      },
      "execution_count": null,
      "outputs": []
    },
    {
      "cell_type": "code",
      "source": [
        "Matrix = [[0.0 for x in range(w)] for y in range(h)] \n",
        "myarray = numpy.array(Matrix)"
      ],
      "metadata": {
        "id": "0e1BSAhqn2De"
      },
      "execution_count": null,
      "outputs": []
    },
    {
      "cell_type": "code",
      "source": [
        "myarray.shape"
      ],
      "metadata": {
        "id": "V3A6wAVcpAjP"
      },
      "execution_count": null,
      "outputs": []
    },
    {
      "cell_type": "code",
      "source": [
        "# Read data from a csv\n",
        "dftesting = dftesting[ (dftesting[EnergyToPLOT] <= 1.1)   ] \n",
        "\n",
        "df2 = dftesting.copy(deep=True)\n",
        "\n",
        "df5 =  df2[ [  EnergyToPLOT,  'bond_Angle', 'bond_lenght'  ] ]"
      ],
      "metadata": {
        "id": "_gox5lBSl3WW"
      },
      "execution_count": 353,
      "outputs": []
    },
    {
      "cell_type": "code",
      "source": [
        "df5 = df5.round({'bond_Angle': 3, 'bond_lenght': 3})"
      ],
      "metadata": {
        "id": "UcDEAp75nibH"
      },
      "execution_count": 354,
      "outputs": []
    },
    {
      "cell_type": "code",
      "source": [
        "df5"
      ],
      "metadata": {
        "id": "kB5QyHiPp-xr"
      },
      "execution_count": null,
      "outputs": []
    },
    {
      "cell_type": "code",
      "source": [
        "w  = len(Global_Range_BONDANGLE_OHO)\n",
        "h = len(Global_Range_BONDLENGTH_HO)\n",
        "\n",
        "mylistofbongangles = list([*Global_Range_BONDANGLE_OHO])\n",
        "mylistofbonganglesarray = np.array(mylistofbongangles)\n",
        "\n",
        "Matrix = [[0.0 for x in range(w)] for y in range(h)] \n",
        "myarray = numpy.array(Matrix)\n",
        "\n",
        "for i in range(0, len(ValidatedBasisSetSOURCE)):\n",
        "  if True:\n",
        "    for elementname in dictPeriodicTable.keys():\n",
        "      bondlenghtcounter = -1 \n",
        "      for lengthHO in Global_Range_BONDLENGTH_HO:\n",
        "        bondlenghtcounter= bondlenghtcounter + 1 \n",
        "        anglecounter = -1 \n",
        "        for angle1 in Global_Range_BONDANGLE_OHO:\n",
        "          anglecounter= anglecounter + 1 \n",
        "          GlobalBONDANGLE_OHO = angle1\n",
        "          GlobalBONDLENGTH =  lengthHO\n",
        "#          print('************************************##############################################*###############################  BONDLENGHT_HO = ' + str(lengthHO))          \n",
        "#          print('************************************##############################################*###############################  BONDLENGHT_HO = ' + str(round(lengthHO, 3)))          \n",
        "      #    print('************************************##############################################*###############################  BONDANGLE_OHO = ' + str(GlobalBONDANGLE_OHO))\n",
        "          temppppp = df5.loc[  (   df5['bond_Angle'] == round(angle1, 3)) & (df5['bond_lenght'] == round( lengthHO, 3))     ]  \n",
        "#          temppppp = df5.loc[  (df5['bond_Angle'] == round(lengthHO, 3) )     ]       \n",
        "          if (len( temppppp[EnergyToPLOT]) > 0):     \n",
        "            print(  temppppp[EnergyToPLOT].values[0]  ) \n",
        "            myarray[   bondlenghtcounter, anglecounter ] = temppppp[EnergyToPLOT].values[0] \n",
        "\n",
        " "
      ],
      "metadata": {
        "id": "moaJI9usfZ-y"
      },
      "execution_count": null,
      "outputs": []
    },
    {
      "cell_type": "code",
      "source": [
        " len(myarray)"
      ],
      "metadata": {
        "id": "nGU0j2RsoZVh"
      },
      "execution_count": null,
      "outputs": []
    },
    {
      "cell_type": "code",
      "source": [],
      "metadata": {
        "id": "E8nMX2yRp-WL"
      },
      "execution_count": null,
      "outputs": []
    },
    {
      "cell_type": "code",
      "source": [
        "import plotly.graph_objects as go\n",
        "\n",
        "contours=dict(\n",
        "            coloring ='heatmap',\n",
        "            showlabels = True, # show labels on contours\n",
        "            labelfont = dict( # label font properties\n",
        "                size = 12,\n",
        "                color = 'white',\n",
        "            )\n",
        "        )\n",
        "\n",
        "fig = go.Figure(data =\n",
        "    go.Contour(\n",
        "        z= np.clip(myarray, None, 1.09)  ,   y=Global_Range_BONDLENGTH_HO, x=mylistofbonganglesarray ,      connectgaps=True, showscale=True, line_smoothing=0.65, colorscale='Rainbow', contours=contours\n",
        "    ))\n",
        "\n",
        "fig.update_layout( autosize=True,\n",
        "                  width=1000, height=1000,\n",
        "                  title='2D PES'     )\n",
        " \n",
        "fig.show()"
      ],
      "metadata": {
        "id": "Xomjx8m1GdsZ",
        "colab": {
          "base_uri": "https://localhost:8080/",
          "height": 1000
        },
        "outputId": "3a0d7017-b00f-4a4d-c841-25876e71ce96"
      },
      "execution_count": 357,
      "outputs": [
        {
          "output_type": "display_data",
          "data": {
            "text/html": [
              "<html>\n",
              "<head><meta charset=\"utf-8\" /></head>\n",
              "<body>\n",
              "    <div>            <script src=\"https://cdnjs.cloudflare.com/ajax/libs/mathjax/2.7.5/MathJax.js?config=TeX-AMS-MML_SVG\"></script><script type=\"text/javascript\">if (window.MathJax) {MathJax.Hub.Config({SVG: {font: \"STIX-Web\"}});}</script>                <script type=\"text/javascript\">window.PlotlyConfig = {MathJaxConfig: 'local'};</script>\n",
              "        <script src=\"https://cdn.plot.ly/plotly-2.8.3.min.js\"></script>                <div id=\"5f18d5d6-ccca-43f9-908a-fba55bf86b2a\" class=\"plotly-graph-div\" style=\"height:1000px; width:1000px;\"></div>            <script type=\"text/javascript\">                                    window.PLOTLYENV=window.PLOTLYENV || {};                                    if (document.getElementById(\"5f18d5d6-ccca-43f9-908a-fba55bf86b2a\")) {                    Plotly.newPlot(                        \"5f18d5d6-ccca-43f9-908a-fba55bf86b2a\",                        [{\"colorscale\":[[0.0,\"rgb(150,0,90)\"],[0.125,\"rgb(0,0,200)\"],[0.25,\"rgb(0,25,255)\"],[0.375,\"rgb(0,152,255)\"],[0.5,\"rgb(44,255,150)\"],[0.625,\"rgb(151,255,0)\"],[0.75,\"rgb(255,234,0)\"],[0.875,\"rgb(255,111,0)\"],[1.0,\"rgb(255,0,0)\"]],\"connectgaps\":true,\"contours\":{\"coloring\":\"heatmap\",\"labelfont\":{\"color\":\"white\",\"size\":12},\"showlabels\":true},\"line\":{\"smoothing\":0.65},\"showscale\":true,\"x\":[0.1,0.15000000000000002,0.20000000000000004,0.25000000000000006,0.30000000000000004,0.3500000000000001,0.40000000000000013,0.45000000000000007,0.5000000000000001,0.5500000000000002,0.6000000000000002,0.6500000000000001,0.7000000000000002,0.7500000000000002,0.8000000000000002,0.8500000000000002,0.9000000000000002,0.9500000000000003,1.0000000000000004,1.0500000000000003,1.1000000000000005,1.1500000000000004,1.2000000000000004,1.2500000000000004,1.3000000000000005,1.3500000000000005,1.4000000000000006,1.4500000000000006],\"y\":[0.1,0.15000000000000002,0.20000000000000004,0.25000000000000006,0.30000000000000004,0.3500000000000001,0.40000000000000013,0.45000000000000007,0.5000000000000001,0.5500000000000002,0.6000000000000002,0.6500000000000001,0.7000000000000002,0.7500000000000002,0.8000000000000002,0.8500000000000002,0.9000000000000002,0.9500000000000003,1.0000000000000004,1.0500000000000003,1.1000000000000005,1.1500000000000004,1.2000000000000004,1.2500000000000004,1.3000000000000005,1.3500000000000005,1.4000000000000006,1.4500000000000006],\"z\":[[0.0,0.0,0.0,0.0,0.0,0.0,0.0,0.0,0.0,0.0,0.0,0.0,0.0,0.0,0.0,0.0,0.0,0.0,0.0,0.0,0.0,0.0,0.0,0.0,0.0,0.0,0.0,0.0],[0.0,0.0,0.0,0.0,0.0,0.0,0.0,0.0,0.0,0.0,0.0,0.0,0.0,0.0,0.0,0.0,0.0,0.0,0.0,0.0,0.0,0.0,0.0,0.0,0.0,0.0,0.0,0.0],[0.0,0.0,0.0,0.0,0.0,0.0,0.0,0.0,0.0,0.0,0.0,0.0,0.0,0.0,0.0,0.0,0.0,0.0,0.0,0.0,0.0,0.0,0.0,0.0,0.0,0.0,0.0,0.0],[0.0,0.0,0.0,0.0,0.0,0.0,0.0,0.0,0.0,0.0,0.0,0.0,0.0,0.0,0.0,0.0,0.0,0.0,0.0,0.0,0.0,0.0,0.0,0.0,0.0,0.0,0.0,0.0],[0.0,0.0,0.0,0.0,0.0,0.0,0.0,0.0,0.0,0.0,0.0,0.0,0.0,0.0,0.0,0.0,0.0,0.0,0.0,0.0,0.0,0.0,0.0,0.0,0.0,0.0,0.0,0.0],[0.0,0.0,0.0,0.0,0.0,0.0,0.0,0.0,0.0,0.0,0.0,0.0,0.0,0.0,0.0,0.0,0.0,0.0,0.0,0.0,0.0,0.0,0.0,0.0,0.0,0.0,0.0,0.0],[0.0,0.0,0.0,0.0,0.0,0.0,0.0,0.0,0.0,0.0,0.0,0.0,0.0,0.0,0.0,0.0,0.0,0.0,0.0,0.0,0.0,0.0,0.0,0.0,0.0,0.0,0.0,0.0],[0.0,0.0,0.0,0.0,0.0,0.0,0.0,0.0,0.0,0.0,0.0,0.0,0.0,0.0,0.0,-1.4616421353802085,-1.4713691932210096,-1.4795527605865295,-1.4863866806330823,-1.4922412158121912,-1.4972741784120378,-1.501630372328447,-1.505461095170696,-1.5088022392294365,-1.511685915812327,-1.5141440857291646,0.0,0.0],[0.0,0.0,0.0,0.0,0.0,0.0,0.0,0.0,0.0,0.0,0.0,-1.4583231928712437,-1.4800147897114444,-1.4968361201192937,-1.5101169089235378,-1.5209247279329392,-1.5298669002004823,-1.5373309890100482,-1.5435671140220062,-1.5488917264632325,-1.5534034011284337,-1.5572839663131293,-1.5607200169243922,-1.5637155338842177,-1.5663553495724185,-1.568628201575597,-1.56983761607161,-1.572046076026927],[0.0,0.0,0.0,0.0,0.0,0.0,0.0,0.0,0.0,0.0,-1.4767518126621724,-1.5036387505767288,-1.5241438571688697,-1.5398597830015857,-1.5521551221745038,-1.5619958411409964,-1.5700974439903872,-1.5768152067315824,-1.582486378449816,-1.5872294345734943,-1.591215922399276,-1.5946195444915086,-1.5976197135761094,-1.600234764084285,-1.6025859268806806,-1.6046639255951396,0.0,0.0],[0.0,0.0,0.0,0.0,0.0,0.0,0.0,0.0,0.0,-1.4767518126621706,-1.510915659108,-1.5364222266920518,-1.5557754055377997,-1.570418073863916,-1.581687492219375,-1.5905924151945467,-1.5978140448695322,-1.603772962319869,-1.608762034484449,-1.612892051048981,-1.6163350524491185,-1.6192822270495342,-1.6218179183712282,-1.6240239954260425,-1.6260271045257153,-1.627858737054208,-1.6294757632313432,0.0],[0.0,0.0,0.0,0.0,0.0,0.0,0.0,0.0,-1.4583231919045834,-1.50363875057673,-1.5364222266920513,-1.560657269707077,-1.5788212748794668,-1.592433748227348,-1.6027027172699655,-1.6106654544732957,-1.6169641799709251,-1.622078475644949,-1.6263038257628812,-1.629774194322828,-1.632632637847524,-1.6350762739744815,-1.6371062036876949,-1.63889331411897,-1.6405136727043943,-1.6420238444798207,-1.6434196858179029,-1.6447083737611834],[0.0,0.0,0.0,0.0,0.0,0.0,0.0,0.0,-1.480014789711448,-1.5241438571688706,-1.5557754055378008,-1.5788212748794688,-1.5958214800650037,-1.608395164857165,-1.6177385878318378,-1.6247469313941454,-1.6301420681412957,-1.634353110332032,-1.6377439338879116,-1.640484251534618,-1.642698221655397,-1.6445206498685592,-1.6460462068217885,-1.6473843352401043,-1.6485942232417323,-1.6497128955366311,-1.650825139704339,-1.6519599407147765],[0.0,0.0,0.0,0.0,0.0,0.0,0.0,0.0,-1.4968361204723606,-1.5398597830015888,-1.570418073863917,-1.5924337482273483,-1.6083951648571675,-1.6199886718768333,-1.6284022194304617,-1.6345100825775014,-1.638982636447718,-1.64234535191622,-1.6448819644057873,-1.6468619503159725,-1.6484354575618203,-1.6496516824177545,-1.6506831093014116,-1.651610969830747,-1.6524340712789192,-1.6531875576685593,-1.6539121082776738,-1.6547512728036389],[0.0,0.0,0.0,0.0,0.0,0.0,0.0,0.0,-1.5101169089235378,-1.552155122174503,-1.581687492219375,-1.6027027172699015,-1.617738587831838,-1.6284022194304622,-1.635934157297384,-1.6411989389878108,-1.6447795091198256,-1.6472163483175934,-1.6489246190600353,-1.6501522576636214,-1.6510700891732968,-1.6517545618088938,-1.6523181327255403,-1.6528224690511868,-1.6533039621105077,-1.6537227722829746,-1.6541559615478307,-1.6546041328671786],[0.0,0.0,0.0,0.0,0.0,0.0,0.0,-1.4616421394573278,-1.5209247279329392,-1.5619958411409975,-1.590592415194546,-1.610665454473294,-1.6247469313941452,-1.6345100825774996,-1.6411989389878128,-1.6456313781668817,-1.6484079200305115,-1.6499993254015994,-1.6508474328860132,-1.6513136987955308,-1.6515745457584647,-1.6517032022884095,-1.6517806833898911,-1.6518455373038368,-1.6519560938182063,-1.652064893303879,-1.6522176037743632,-1.6523956407935143],[0.0,0.0,0.0,0.0,0.0,0.0,0.0,-1.4713691944393457,-1.5298669002004828,-1.570097443990388,-1.5978140448695313,-1.616964179970921,-1.6301420681412937,-1.6389826364477182,-1.6447795091198254,-1.648407920030511,-1.6504155550126165,-1.6512922820807343,-1.6513701247266384,-1.6510445302592645,-1.650601582248789,-1.6501467604004465,-1.6497072480184198,-1.6493209394164476,-1.649001251393157,-1.64878132126093,-1.6486351481969,-1.6485755470571086],[0.0,0.0,0.0,0.0,0.0,0.0,0.0,-1.4795527605865293,-1.5373309890100495,-1.576815206731582,-1.603772962319871,-1.6220784756449471,-1.6343531103320317,-1.6423453519162203,-1.6472163483175948,-1.6499993254015997,-1.6512922820807343,-1.65146924019104,-1.6508718138735996,-1.6498001646715992,-1.6486145304847415,-1.6475297743512212,-1.6465371898765309,-1.645659214176988,-1.6449074406609343,-1.6443213147234546,-1.643855143658566,-1.6435328629613544],[0.0,0.0,0.0,0.0,0.0,0.0,0.0,-1.486386680633082,-1.543567114022006,-1.5824863784498158,-1.6087620344844498,-1.6263038257628797,-1.6377439338879145,-1.6448819644057862,-1.6489246190600362,-1.6508474328860123,-1.6513701247266408,-1.6508718138735998,-1.649605194191325,-1.6478704953339234,-1.6459555518479148,-1.6441650498307296,-1.642619079324259,-1.6412302267139318,-1.640035752304025,-1.6390241754817092,-1.6382271351860744,-1.637597674658481],[0.0,0.0,0.0,0.0,0.0,0.0,0.0,-1.492241215812192,-1.5488917264632325,-1.5872294345734952,-1.6128920510489817,-1.6297741943228288,-1.640484251534617,-1.6468619503159745,-1.6501522576636205,-1.651313698795531,-1.6510445270925702,-1.6498001646715994,-1.647870495333923,-1.6454871648689608,-1.6429081537900403,-1.6404020701629187,-1.638229131658042,-1.636331159638434,-1.6346428041943135,-1.6331777153064562,-1.631997824935094,-1.6310606476437683],[0.0,0.0,0.0,0.0,0.0,0.0,0.0,-1.4972741784120391,-1.5534034011284348,-1.5912159223992766,-1.616335052449117,-1.632632637847523,-1.6426982216553978,-1.6484354575618203,-1.6510700891732957,-1.6515745457213105,-1.6506015822487876,-1.648614530484743,-1.6459555518479152,-1.642908153790041,-1.6396981749361392,-1.6365367857824833,-1.6336367301464807,-1.631169762615932,-1.6289849208338238,-1.6270542911911314,-1.625407299944238,-1.6241380317748173],[0.0,0.0,0.0,0.0,0.0,0.0,0.0,-1.5016304010111101,-1.5572840012035192,-1.594619574472275,-1.6192822570378718,-1.6350762978530935,-1.644520678159533,-1.649651706958587,-1.6517545890842709,-1.6517032291236764,-1.650146795647545,-1.6475297993283067,-1.6441650818521703,-1.640402089421337,-1.6365368138123169,-1.6327513416073782,-1.6291591347306817,-1.625965184403555,-1.6232411893612502,-1.6208499776231433,-1.6187354351820118,-1.617019902362874],[0.0,0.0,0.0,0.0,0.0,0.0,0.0,-1.5054611331939416,-1.560720048904558,-1.5976197387105433,-1.6218179456038602,-1.6371062358277917,-1.6460462212167672,-1.6506831455658126,-1.6523181663988125,-1.6517807079150524,-1.6497072800267756,-1.6465372075829352,-1.6426191051121362,-1.6382291525119637,-1.633636757955255,-1.62915913750821,-1.6249400336804687,-1.6210341454052384,-1.6176106745440029,-1.6146892578419474,-1.6121536163300312,-1.6099704919752105],[0.0,0.0,0.0,0.0,0.0,0.0,0.0,-1.5088022735901252,-1.5637155608789848,-1.6002347973473245,-1.624024022088663,-1.6388933467709637,-1.6473843648265478,-1.6516110038465661,-1.652822498699397,-1.651845563834775,-1.6493209645342686,-1.6456592362875289,-1.6412302528524352,-1.636331184885411,-1.6311697626159338,-1.625965185952703,-1.6210341403379909,-1.616515567493609,-1.6123756928022235,-1.6087874802103364,-1.6057769458051583,-1.6031758587630915],[0.0,0.0,0.0,0.0,0.0,0.0,0.0,-1.5116859432365097,-1.566355396099162,-1.6025859636031436,-1.6260271410441391,-1.6405136984238848,-1.6485942516514784,-1.6524341007302792,-1.6533039825296338,-1.6519561246979875,-1.6490012856315324,-1.6449074611994716,-1.640035779401838,-1.6346428380485487,-1.6289849215600705,-1.6232411857498528,-1.6176106745914052,-1.6123756945928915,-1.6076387505017746,-1.6033940493092307,-1.5997692704900686,-1.596698809453901],[0.0,0.0,0.0,0.0,0.0,0.0,0.0,-1.5141441161135227,-1.5686282478271187,-1.6046639567843857,-1.6278587727236018,-1.642023873482668,-1.6497129263657064,-1.6531875852756337,-1.653722793967381,-1.6520649225614767,-1.6487813467514667,-1.6443213490341044,-1.6390242027332267,-1.6331777416605706,-1.627054292752142,-1.6208499763244772,-1.6146892580872267,-1.6087874804814164,-1.603394048247436,-1.5985474574051655,-1.5943125909005347,-1.59067022278508],[0.0,0.0,0.0,0.0,0.0,0.0,0.0,0.0,-1.5706099787478984,0.0,-1.6294757872901982,-1.643419709974392,-1.6508251728134327,-1.6539173257503992,-1.6541559867874038,-1.6522176382422247,-1.648635178966099,-1.6438551678285567,-1.6382271584721488,-1.6319978477628836,-1.6254072986215946,-1.6187354278553778,-1.6121536136115722,-1.605776944252173,-1.5997692704900706,-1.594312590306687,-1.5894687838005446,-1.585270444677793],[0.0,0.0,0.0,0.0,0.0,0.0,0.0,-1.5166510886640037,-1.5715867380807191,-1.608037575931801,0.0,-1.644467468459711,-1.6519454328482222,-1.6547512972733338,-1.6546030847773263,-1.6523956724727844,-1.6485755736383847,-1.6435328865393584,-1.6375977028964614,-1.6310606746493135,-1.6241380338711946,-1.617019901474259,-1.6099704936930892,-1.603175861860222,-1.5966988084195017,-1.590670223731474,-1.5852704486809206,-1.5804884940935242]],\"type\":\"contour\"}],                        {\"template\":{\"data\":{\"bar\":[{\"error_x\":{\"color\":\"#2a3f5f\"},\"error_y\":{\"color\":\"#2a3f5f\"},\"marker\":{\"line\":{\"color\":\"#E5ECF6\",\"width\":0.5},\"pattern\":{\"fillmode\":\"overlay\",\"size\":10,\"solidity\":0.2}},\"type\":\"bar\"}],\"barpolar\":[{\"marker\":{\"line\":{\"color\":\"#E5ECF6\",\"width\":0.5},\"pattern\":{\"fillmode\":\"overlay\",\"size\":10,\"solidity\":0.2}},\"type\":\"barpolar\"}],\"carpet\":[{\"aaxis\":{\"endlinecolor\":\"#2a3f5f\",\"gridcolor\":\"white\",\"linecolor\":\"white\",\"minorgridcolor\":\"white\",\"startlinecolor\":\"#2a3f5f\"},\"baxis\":{\"endlinecolor\":\"#2a3f5f\",\"gridcolor\":\"white\",\"linecolor\":\"white\",\"minorgridcolor\":\"white\",\"startlinecolor\":\"#2a3f5f\"},\"type\":\"carpet\"}],\"choropleth\":[{\"colorbar\":{\"outlinewidth\":0,\"ticks\":\"\"},\"type\":\"choropleth\"}],\"contour\":[{\"colorbar\":{\"outlinewidth\":0,\"ticks\":\"\"},\"colorscale\":[[0.0,\"#0d0887\"],[0.1111111111111111,\"#46039f\"],[0.2222222222222222,\"#7201a8\"],[0.3333333333333333,\"#9c179e\"],[0.4444444444444444,\"#bd3786\"],[0.5555555555555556,\"#d8576b\"],[0.6666666666666666,\"#ed7953\"],[0.7777777777777778,\"#fb9f3a\"],[0.8888888888888888,\"#fdca26\"],[1.0,\"#f0f921\"]],\"type\":\"contour\"}],\"contourcarpet\":[{\"colorbar\":{\"outlinewidth\":0,\"ticks\":\"\"},\"type\":\"contourcarpet\"}],\"heatmap\":[{\"colorbar\":{\"outlinewidth\":0,\"ticks\":\"\"},\"colorscale\":[[0.0,\"#0d0887\"],[0.1111111111111111,\"#46039f\"],[0.2222222222222222,\"#7201a8\"],[0.3333333333333333,\"#9c179e\"],[0.4444444444444444,\"#bd3786\"],[0.5555555555555556,\"#d8576b\"],[0.6666666666666666,\"#ed7953\"],[0.7777777777777778,\"#fb9f3a\"],[0.8888888888888888,\"#fdca26\"],[1.0,\"#f0f921\"]],\"type\":\"heatmap\"}],\"heatmapgl\":[{\"colorbar\":{\"outlinewidth\":0,\"ticks\":\"\"},\"colorscale\":[[0.0,\"#0d0887\"],[0.1111111111111111,\"#46039f\"],[0.2222222222222222,\"#7201a8\"],[0.3333333333333333,\"#9c179e\"],[0.4444444444444444,\"#bd3786\"],[0.5555555555555556,\"#d8576b\"],[0.6666666666666666,\"#ed7953\"],[0.7777777777777778,\"#fb9f3a\"],[0.8888888888888888,\"#fdca26\"],[1.0,\"#f0f921\"]],\"type\":\"heatmapgl\"}],\"histogram\":[{\"marker\":{\"pattern\":{\"fillmode\":\"overlay\",\"size\":10,\"solidity\":0.2}},\"type\":\"histogram\"}],\"histogram2d\":[{\"colorbar\":{\"outlinewidth\":0,\"ticks\":\"\"},\"colorscale\":[[0.0,\"#0d0887\"],[0.1111111111111111,\"#46039f\"],[0.2222222222222222,\"#7201a8\"],[0.3333333333333333,\"#9c179e\"],[0.4444444444444444,\"#bd3786\"],[0.5555555555555556,\"#d8576b\"],[0.6666666666666666,\"#ed7953\"],[0.7777777777777778,\"#fb9f3a\"],[0.8888888888888888,\"#fdca26\"],[1.0,\"#f0f921\"]],\"type\":\"histogram2d\"}],\"histogram2dcontour\":[{\"colorbar\":{\"outlinewidth\":0,\"ticks\":\"\"},\"colorscale\":[[0.0,\"#0d0887\"],[0.1111111111111111,\"#46039f\"],[0.2222222222222222,\"#7201a8\"],[0.3333333333333333,\"#9c179e\"],[0.4444444444444444,\"#bd3786\"],[0.5555555555555556,\"#d8576b\"],[0.6666666666666666,\"#ed7953\"],[0.7777777777777778,\"#fb9f3a\"],[0.8888888888888888,\"#fdca26\"],[1.0,\"#f0f921\"]],\"type\":\"histogram2dcontour\"}],\"mesh3d\":[{\"colorbar\":{\"outlinewidth\":0,\"ticks\":\"\"},\"type\":\"mesh3d\"}],\"parcoords\":[{\"line\":{\"colorbar\":{\"outlinewidth\":0,\"ticks\":\"\"}},\"type\":\"parcoords\"}],\"pie\":[{\"automargin\":true,\"type\":\"pie\"}],\"scatter\":[{\"marker\":{\"colorbar\":{\"outlinewidth\":0,\"ticks\":\"\"}},\"type\":\"scatter\"}],\"scatter3d\":[{\"line\":{\"colorbar\":{\"outlinewidth\":0,\"ticks\":\"\"}},\"marker\":{\"colorbar\":{\"outlinewidth\":0,\"ticks\":\"\"}},\"type\":\"scatter3d\"}],\"scattercarpet\":[{\"marker\":{\"colorbar\":{\"outlinewidth\":0,\"ticks\":\"\"}},\"type\":\"scattercarpet\"}],\"scattergeo\":[{\"marker\":{\"colorbar\":{\"outlinewidth\":0,\"ticks\":\"\"}},\"type\":\"scattergeo\"}],\"scattergl\":[{\"marker\":{\"colorbar\":{\"outlinewidth\":0,\"ticks\":\"\"}},\"type\":\"scattergl\"}],\"scattermapbox\":[{\"marker\":{\"colorbar\":{\"outlinewidth\":0,\"ticks\":\"\"}},\"type\":\"scattermapbox\"}],\"scatterpolar\":[{\"marker\":{\"colorbar\":{\"outlinewidth\":0,\"ticks\":\"\"}},\"type\":\"scatterpolar\"}],\"scatterpolargl\":[{\"marker\":{\"colorbar\":{\"outlinewidth\":0,\"ticks\":\"\"}},\"type\":\"scatterpolargl\"}],\"scatterternary\":[{\"marker\":{\"colorbar\":{\"outlinewidth\":0,\"ticks\":\"\"}},\"type\":\"scatterternary\"}],\"surface\":[{\"colorbar\":{\"outlinewidth\":0,\"ticks\":\"\"},\"colorscale\":[[0.0,\"#0d0887\"],[0.1111111111111111,\"#46039f\"],[0.2222222222222222,\"#7201a8\"],[0.3333333333333333,\"#9c179e\"],[0.4444444444444444,\"#bd3786\"],[0.5555555555555556,\"#d8576b\"],[0.6666666666666666,\"#ed7953\"],[0.7777777777777778,\"#fb9f3a\"],[0.8888888888888888,\"#fdca26\"],[1.0,\"#f0f921\"]],\"type\":\"surface\"}],\"table\":[{\"cells\":{\"fill\":{\"color\":\"#EBF0F8\"},\"line\":{\"color\":\"white\"}},\"header\":{\"fill\":{\"color\":\"#C8D4E3\"},\"line\":{\"color\":\"white\"}},\"type\":\"table\"}]},\"layout\":{\"annotationdefaults\":{\"arrowcolor\":\"#2a3f5f\",\"arrowhead\":0,\"arrowwidth\":1},\"autotypenumbers\":\"strict\",\"coloraxis\":{\"colorbar\":{\"outlinewidth\":0,\"ticks\":\"\"}},\"colorscale\":{\"diverging\":[[0,\"#8e0152\"],[0.1,\"#c51b7d\"],[0.2,\"#de77ae\"],[0.3,\"#f1b6da\"],[0.4,\"#fde0ef\"],[0.5,\"#f7f7f7\"],[0.6,\"#e6f5d0\"],[0.7,\"#b8e186\"],[0.8,\"#7fbc41\"],[0.9,\"#4d9221\"],[1,\"#276419\"]],\"sequential\":[[0.0,\"#0d0887\"],[0.1111111111111111,\"#46039f\"],[0.2222222222222222,\"#7201a8\"],[0.3333333333333333,\"#9c179e\"],[0.4444444444444444,\"#bd3786\"],[0.5555555555555556,\"#d8576b\"],[0.6666666666666666,\"#ed7953\"],[0.7777777777777778,\"#fb9f3a\"],[0.8888888888888888,\"#fdca26\"],[1.0,\"#f0f921\"]],\"sequentialminus\":[[0.0,\"#0d0887\"],[0.1111111111111111,\"#46039f\"],[0.2222222222222222,\"#7201a8\"],[0.3333333333333333,\"#9c179e\"],[0.4444444444444444,\"#bd3786\"],[0.5555555555555556,\"#d8576b\"],[0.6666666666666666,\"#ed7953\"],[0.7777777777777778,\"#fb9f3a\"],[0.8888888888888888,\"#fdca26\"],[1.0,\"#f0f921\"]]},\"colorway\":[\"#636efa\",\"#EF553B\",\"#00cc96\",\"#ab63fa\",\"#FFA15A\",\"#19d3f3\",\"#FF6692\",\"#B6E880\",\"#FF97FF\",\"#FECB52\"],\"font\":{\"color\":\"#2a3f5f\"},\"geo\":{\"bgcolor\":\"white\",\"lakecolor\":\"white\",\"landcolor\":\"#E5ECF6\",\"showlakes\":true,\"showland\":true,\"subunitcolor\":\"white\"},\"hoverlabel\":{\"align\":\"left\"},\"hovermode\":\"closest\",\"mapbox\":{\"style\":\"light\"},\"paper_bgcolor\":\"white\",\"plot_bgcolor\":\"#E5ECF6\",\"polar\":{\"angularaxis\":{\"gridcolor\":\"white\",\"linecolor\":\"white\",\"ticks\":\"\"},\"bgcolor\":\"#E5ECF6\",\"radialaxis\":{\"gridcolor\":\"white\",\"linecolor\":\"white\",\"ticks\":\"\"}},\"scene\":{\"xaxis\":{\"backgroundcolor\":\"#E5ECF6\",\"gridcolor\":\"white\",\"gridwidth\":2,\"linecolor\":\"white\",\"showbackground\":true,\"ticks\":\"\",\"zerolinecolor\":\"white\"},\"yaxis\":{\"backgroundcolor\":\"#E5ECF6\",\"gridcolor\":\"white\",\"gridwidth\":2,\"linecolor\":\"white\",\"showbackground\":true,\"ticks\":\"\",\"zerolinecolor\":\"white\"},\"zaxis\":{\"backgroundcolor\":\"#E5ECF6\",\"gridcolor\":\"white\",\"gridwidth\":2,\"linecolor\":\"white\",\"showbackground\":true,\"ticks\":\"\",\"zerolinecolor\":\"white\"}},\"shapedefaults\":{\"line\":{\"color\":\"#2a3f5f\"}},\"ternary\":{\"aaxis\":{\"gridcolor\":\"white\",\"linecolor\":\"white\",\"ticks\":\"\"},\"baxis\":{\"gridcolor\":\"white\",\"linecolor\":\"white\",\"ticks\":\"\"},\"bgcolor\":\"#E5ECF6\",\"caxis\":{\"gridcolor\":\"white\",\"linecolor\":\"white\",\"ticks\":\"\"}},\"title\":{\"x\":0.05},\"xaxis\":{\"automargin\":true,\"gridcolor\":\"white\",\"linecolor\":\"white\",\"ticks\":\"\",\"title\":{\"standoff\":15},\"zerolinecolor\":\"white\",\"zerolinewidth\":2},\"yaxis\":{\"automargin\":true,\"gridcolor\":\"white\",\"linecolor\":\"white\",\"ticks\":\"\",\"title\":{\"standoff\":15},\"zerolinecolor\":\"white\",\"zerolinewidth\":2}}},\"autosize\":true,\"width\":1000,\"height\":1000,\"title\":{\"text\":\"2D PES\"}},                        {\"responsive\": true}                    ).then(function(){\n",
              "                            \n",
              "var gd = document.getElementById('5f18d5d6-ccca-43f9-908a-fba55bf86b2a');\n",
              "var x = new MutationObserver(function (mutations, observer) {{\n",
              "        var display = window.getComputedStyle(gd).display;\n",
              "        if (!display || display === 'none') {{\n",
              "            console.log([gd, 'removed!']);\n",
              "            Plotly.purge(gd);\n",
              "            observer.disconnect();\n",
              "        }}\n",
              "}});\n",
              "\n",
              "// Listen for the removal of the full notebook cells\n",
              "var notebookContainer = gd.closest('#notebook-container');\n",
              "if (notebookContainer) {{\n",
              "    x.observe(notebookContainer, {childList: true});\n",
              "}}\n",
              "\n",
              "// Listen for the clearing of the current output cell\n",
              "var outputEl = gd.closest('.output');\n",
              "if (outputEl) {{\n",
              "    x.observe(outputEl, {childList: true});\n",
              "}}\n",
              "\n",
              "                        })                };                            </script>        </div>\n",
              "</body>\n",
              "</html>"
            ]
          },
          "metadata": {}
        }
      ]
    },
    {
      "cell_type": "code",
      "source": [
        "type(myarray)"
      ],
      "metadata": {
        "id": "blyQ3U-e6vL2"
      },
      "execution_count": null,
      "outputs": []
    },
    {
      "cell_type": "code",
      "source": [
        "# Read data from a csv\n",
        " \n",
        "contours=dict(\n",
        "            start=0,\n",
        "            end=8,\n",
        "            size=2,\n",
        "        )\n",
        "\n",
        "\n",
        " \n",
        "fig = go.Figure(data=[go.Surface(z= np.clip(myarray, None, -1.2)  , y=Global_Range_BONDLENGTH_HO, x=mylistofbonganglesarray  , colorscale='Rainbow' ) ]  )\n",
        "fig.update_traces(contours_z=dict(show=True, usecolormap=True,      highlight=True,\n",
        "                                  highlightcolor=\"limegreen\", project_z=True))\n",
        "fig.update_layout( autosize=True,\n",
        "                  scene_camera_eye=dict(x=1.87, y=0.88, z=-0.64),\n",
        "                  width=1000, height=1000,\n",
        "                  title='2D PES',     \n",
        "                  scene=dict(\n",
        "        xaxis_title='Bond angle',\n",
        "        yaxis_title='Bond length',\n",
        "        zaxis_title='Energy',\n",
        "    ),                               \n",
        "                  margin=dict(l=65, r=50, b=65, t=90)\n",
        ")\n",
        "\n",
        "fig.show()"
      ],
      "metadata": {
        "id": "AIX8XJ1fG4fB"
      },
      "execution_count": null,
      "outputs": []
    },
    {
      "cell_type": "code",
      "source": [
        "contours=dict(\n",
        "            coloring ='heatmap',\n",
        "            showlabels = True, # show labels on contours\n",
        "            labelfont = dict( # label font properties\n",
        "                size = 12,\n",
        "                color = 'white',\n",
        "            )\n",
        "        )"
      ],
      "metadata": {
        "id": "g9RXuifmHxke"
      },
      "execution_count": null,
      "outputs": []
    },
    {
      "cell_type": "code",
      "source": [
        "#df['bond_lenght'] = df['bond_lenght'] *2"
      ],
      "metadata": {
        "id": "-fSldSDtIYnO"
      },
      "execution_count": null,
      "outputs": []
    },
    {
      "cell_type": "code",
      "source": [
        " stoppp"
      ],
      "metadata": {
        "id": "Me5vzSyhJ0mq"
      },
      "execution_count": null,
      "outputs": []
    },
    {
      "cell_type": "code",
      "source": [
        "fig = plt.figure()\n",
        "fig.set_figwidth(20)\n",
        "fig.set_figheight(20)\n",
        "params = {'legend.fontsize': 'x-large',\n",
        "         'axes.labelsize': 'x-large',\n",
        "         'axes.titlesize':'x-large',\n",
        "         'xtick.labelsize':'x-large',\n",
        "         'ytick.labelsize':'x-large'}\n",
        "plt.rcParams.update(params)\n",
        "ax = fig.gca(projection='3d')\n",
        "surf=ax.plot_trisurf(df['bond_lenght'], df['bond_Angle'], df['DFT-b3lyp'], cmap=plt.cm.jet,  linewidth=0.02)\n",
        "ax.view_init(30, 150 )\n",
        "\n",
        "fig.colorbar( surf, shrink=0.5, aspect=5)\n",
        "plt.show()"
      ],
      "metadata": {
        "id": "1Qze70j-jJHP"
      },
      "execution_count": null,
      "outputs": []
    },
    {
      "cell_type": "code",
      "source": [
        " "
      ],
      "metadata": {
        "id": "nc-0uc2ZKIBp"
      },
      "execution_count": null,
      "outputs": []
    },
    {
      "cell_type": "code",
      "source": [
        "\n",
        "\n",
        "\n",
        "\n",
        "def plotNand(choiceDFT , myfigsize=(12, 10), myfontsize=20):\n",
        "  plt.figure(0)\n",
        "\n",
        "\n",
        "  plt.figure(figsize=myfigsize)\n",
        "  plt.rcParams[\"font.family\"] = \"Liberation Serif\"\n",
        "\n",
        "\n",
        "\n",
        "  lengendlist =[]\n",
        "\n",
        "  if 'CCSDT' in choiceDFT:\n",
        "    plt.plot(df['bond_lenght'].to_numpy() , df['CCSDT'].to_numpy()  , 'o-')\n",
        "    lengendlist.append('CCSD(T)')\n",
        "\n",
        "\n",
        "\n",
        "  for afunctionals in functionalsList:\n",
        "    if afunctionals in choiceDFT:\n",
        "      plt.plot(df['bond_lenght'].to_numpy() , df['DFT-'+str(afunctionals)].to_numpy() , 'x-' )\n",
        "      lengendlist.append(str(afunctionals))\n",
        "\n",
        "  for aDMFunctionalvalue in dm21.Functional:\n",
        "    if str(aDMFunctionalvalue) in choiceDFT:\n",
        "      plt.plot(df['bond_lenght'].to_numpy() , df['NN-'+str(aDMFunctionalvalue)].to_numpy()  )\n",
        "      lengendlist.append(str(aDMFunctionalvalue))\n",
        "\n",
        "\n",
        "\n",
        "  plt.legend(lengendlist,  fontsize = myfontsize)\n",
        "  plt.rc('xtick',labelsize=myfontsize-1)\n",
        "  plt.rc('ytick',labelsize=myfontsize-2)\n",
        "  plt.ylabel('Energy in Hartree', fontsize = myfontsize)\n",
        "  plt.xlabel('Bond length in angstrom', fontsize = myfontsize)\n",
        "  plt.show()\n",
        "\n",
        "\n"
      ],
      "metadata": {
        "id": "LDFgXtPuN74e"
      },
      "execution_count": null,
      "outputs": []
    },
    {
      "cell_type": "code",
      "source": [
        "\n",
        "\n",
        "\n",
        "\n",
        "def plotNand1(choiceDFT , myfigsize=(12, 10), myfontsize=20):\n",
        "  plt.figure(0)\n",
        "\n",
        "\n",
        "  plt.figure(figsize=myfigsize)\n",
        "  plt.rcParams[\"font.family\"] = \"Liberation Serif\"\n",
        "\n",
        "\n",
        "\n",
        "  lengendlist =[]\n",
        "\n",
        "  if 'CCSDT' in choiceDFT:\n",
        "    plt.plot(df['bond_lenght'].to_numpy() , df['CCSDT'].to_numpy()  )\n",
        "    lengendlist.append('CCSD(T)')\n",
        "\n",
        "\n",
        "\n",
        "  for afunctionals in functionalsList:\n",
        "    if afunctionals in choiceDFT:\n",
        "      plt.plot(df['bond_lenght'].to_numpy() , df['DFT-'+str(afunctionals)].to_numpy(), '--'\t )\n",
        "      lengendlist.append(str(afunctionals))\n",
        "\n",
        "  for aDMFunctionalvalue in dm21.Functional:\n",
        "    if str(aDMFunctionalvalue) in choiceDFT:\n",
        "      plt.plot(df['bond_lenght'].to_numpy() , df['NN-'+str(aDMFunctionalvalue)].to_numpy()  )\n",
        "      lengendlist.append(str(aDMFunctionalvalue))\n",
        "\n",
        "\n",
        "\n",
        "  plt.legend(lengendlist,  fontsize = myfontsize)\n",
        "  plt.rc('xtick',labelsize=myfontsize-1)\n",
        "  plt.rc('ytick',labelsize=myfontsize-2)\n",
        "  plt.ylabel('Energy in Hartree', fontsize = myfontsize)\n",
        "  plt.xlabel('Bond length in angstrom', fontsize = myfontsize)\n",
        "  plt.show()\n",
        "\n",
        "\n"
      ],
      "metadata": {
        "id": "xU11p9zwVDXU"
      },
      "execution_count": null,
      "outputs": []
    },
    {
      "cell_type": "code",
      "source": [
        "\n",
        "choiceDFT = ['CCSDT', 'b3lyp' , 'Functional.DM21m']\n",
        "plotNand(choiceDFT , myfigsize=(12, 10), myfontsize=20)"
      ],
      "metadata": {
        "id": "gIaGNrFrPRng"
      },
      "execution_count": null,
      "outputs": []
    },
    {
      "cell_type": "code",
      "source": [
        "df"
      ],
      "metadata": {
        "id": "QbE628knSlFN"
      },
      "execution_count": null,
      "outputs": []
    },
    {
      "cell_type": "code",
      "source": [
        "df2"
      ],
      "metadata": {
        "id": "Hn6XyptJZrMe"
      },
      "execution_count": null,
      "outputs": []
    },
    {
      "cell_type": "code",
      "source": [
        "from mpl_toolkits.mplot3d import Axes3D\n",
        "import matplotlib.pyplot as plt\n",
        "import pandas as pd\n",
        "import seaborn as sns\n",
        " "
      ],
      "metadata": {
        "id": "Sni-tsHfSpll"
      },
      "execution_count": null,
      "outputs": []
    },
    {
      "cell_type": "code",
      "source": [
        "# Make the plot\n",
        "fig = plt.figure()\n",
        "ax = fig.gca(projection='3d')\n",
        "ax.plot_trisurf(df['bond_lenght'], df['bond_Angle'], df['NN-Functional.DM21m'], cmap=plt.cm.viridis, linewidth=0.2)\n",
        "plt.show()"
      ],
      "metadata": {
        "id": "9yBj3Nd-Su0e"
      },
      "execution_count": null,
      "outputs": []
    },
    {
      "cell_type": "code",
      "source": [
        "fig = plt.figure()\n",
        "fig.set_figwidth(20)\n",
        "fig.set_figheight(20)\n",
        "params = {'legend.fontsize': 'x-large',\n",
        "         'axes.labelsize': 'x-large',\n",
        "         'axes.titlesize':'x-large',\n",
        "         'xtick.labelsize':'x-large',\n",
        "         'ytick.labelsize':'x-large'}\n",
        "plt.rcParams.update(params)\n",
        "ax = fig.gca(projection='3d')\n",
        "surf=ax.plot_trisurf(df['bond_lenght'], df['bond_Angle'], df['NN-Functional.DM21m'], cmap=plt.cm.viridis, linewidth=0.02)\n",
        "fig.colorbar( surf, shrink=0.5, aspect=5)\n",
        "plt.show()"
      ],
      "metadata": {
        "id": "N4FCXGqVS9mZ"
      },
      "execution_count": null,
      "outputs": []
    },
    {
      "cell_type": "code",
      "source": [
        "fig = plt.figure()\n",
        "fig.set_figwidth(20)\n",
        "fig.set_figheight(20)\n",
        "params = {'legend.fontsize': 'x-large',\n",
        "         'axes.labelsize': 'x-large',\n",
        "         'axes.titlesize':'x-large',\n",
        "         'xtick.labelsize':'x-large',\n",
        "         'ytick.labelsize':'x-large'}\n",
        "plt.rcParams.update(params)\n",
        "ax = fig.gca(projection='3d')\n",
        "surf=ax.plot_trisurf(df['bond_lenght'], df['bond_Angle'], df['DFT-b3lyp'], cmap=plt.cm.jet,  linewidth=0.02)\n",
        "ax.view_init(30, 150 )\n",
        "\n",
        "fig.colorbar( surf, shrink=0.5, aspect=5)\n",
        "plt.show()"
      ],
      "metadata": {
        "id": "qsKwrOs5cmOL"
      },
      "execution_count": null,
      "outputs": []
    },
    {
      "cell_type": "code",
      "source": [
        "fig = plt.figure()\n",
        "fig.set_figwidth(20)\n",
        "fig.set_figheight(20)\n",
        "params = {'legend.fontsize': 'x-large',\n",
        "         'axes.labelsize': 'x-large',\n",
        "         'axes.titlesize':'x-large',\n",
        "         'xtick.labelsize':'x-large',\n",
        "         'ytick.labelsize':'x-large'}\n",
        "plt.rcParams.update(params)\n",
        "ax = fig.gca(projection='3d')\n",
        "surf=ax.plot_trisurf(df['bond_lenght'], df['bond_Angle'], df['NN-Functional.DM21m'], cmap=plt.cm.viridis ,  linewidth=0.02)\n",
        "ax.view_init(30, 150 )\n",
        "\n",
        "fig.colorbar( surf, shrink=0.5, aspect=5)\n",
        "plt.show()"
      ],
      "metadata": {
        "id": "KnXHFlnodbLc"
      },
      "execution_count": null,
      "outputs": []
    },
    {
      "cell_type": "code",
      "source": [
        "fig = plt.figure()\n",
        "fig.set_figwidth(20)\n",
        "fig.set_figheight(20)\n",
        "params = {'legend.fontsize': 'x-large',\n",
        "         'axes.labelsize': 'x-large',\n",
        "         'axes.titlesize':'x-large',\n",
        "         'xtick.labelsize':'x-large',\n",
        "         'ytick.labelsize':'x-large'}\n",
        "plt.rcParams.update(params)\n",
        "ax = fig.gca(projection='3d')\n",
        "surf=ax.plot_trisurf(df['bond_lenght'], df['bond_Angle'], df['NN-Functional.DM21m'], cmap=plt.cm.viridis ,  linewidth=0.02)\n",
        "ax.view_init(130, -150 )\n",
        "\n",
        "fig.colorbar( surf, shrink=0.5, aspect=5)\n",
        "plt.show()"
      ],
      "metadata": {
        "id": "RKmTPTSzdyEC"
      },
      "execution_count": null,
      "outputs": []
    },
    {
      "cell_type": "code",
      "source": [
        "fig = plt.figure()\n",
        "fig.set_figwidth(20)\n",
        "fig.set_figheight(20)\n",
        "params = {'legend.fontsize': 'x-large',\n",
        "         'axes.labelsize': 'x-large',\n",
        "         'axes.titlesize':'x-large',\n",
        "         'xtick.labelsize':'x-large',\n",
        "         'ytick.labelsize':'x-large'}\n",
        "plt.rcParams.update(params)\n",
        "ax = fig.gca(projection='3d')\n",
        "surf=ax.plot_trisurf(df['bond_lenght'], df['bond_Angle'], df['DFT-b3lyp'], cmap=plt.cm.viridis ,  linewidth=0.02)\n",
        "ax.view_init(20, 10 )\n",
        "\n",
        "fig.colorbar( surf, shrink=0.5, aspect=55)\n",
        "plt.show()"
      ],
      "metadata": {
        "id": "yhVmNZe3eBnI"
      },
      "execution_count": null,
      "outputs": []
    },
    {
      "cell_type": "code",
      "source": [
        "fig = plt.figure()\n",
        "fig.set_figwidth(20)\n",
        "fig.set_figheight(20)\n",
        "params = {'legend.fontsize': 'x-large',\n",
        "         'axes.labelsize': 'x-large',\n",
        "         'axes.titlesize':'x-large',\n",
        "         'xtick.labelsize':'x-large',\n",
        "         'ytick.labelsize':'x-large'}\n",
        "plt.rcParams.update(params)\n",
        "ax = fig.gca(projection='3d')\n",
        "surf=ax.plot_trisurf(df['bond_lenght'], df['bond_Angle'], df['NN-Functional.DM21m'], cmap=plt.cm.viridis ,  linewidth=0.02)\n",
        " \n",
        "fig.colorbar( surf, shrink=0.5, aspect=55)\n",
        "plt.show()"
      ],
      "metadata": {
        "id": "S-NYEDSNevES"
      },
      "execution_count": null,
      "outputs": []
    },
    {
      "cell_type": "code",
      "source": [
        "# Rotate it\n",
        "fig = plt.figure()\n",
        "ax = fig.gca(projection='3d')\n",
        "surf=ax.plot_trisurf(df['bond_lenght'], df['bond_Angle'], df['NN-Functional.DM21m'], cmap=plt.cm.viridis, linewidth=0.2)\n",
        "ax.view_init(10, 45)\n",
        "plt.show()"
      ],
      "metadata": {
        "id": "c4Ign2MSTVfZ"
      },
      "execution_count": null,
      "outputs": []
    },
    {
      "cell_type": "code",
      "source": [
        "# Rotate it\n",
        "fig = plt.figure()\n",
        "ax = fig.gca(projection='3d')\n",
        "surf=ax.plot_trisurf(df['bond_lenght'], df['bond_Angle'], df['NN-Functional.DM21m'], cmap=plt.cm.viridis, linewidth=0.2)\n",
        "ax.view_init(10, 10)\n",
        "plt.show()"
      ],
      "metadata": {
        "id": "oP-PDv2Qax4n"
      },
      "execution_count": null,
      "outputs": []
    },
    {
      "cell_type": "code",
      "source": [
        "# Rotate it\n",
        "fig = plt.figure()\n",
        "ax = fig.gca(projection='3d')\n",
        "surf=ax.plot_trisurf(df['bond_lenght'], df['bond_Angle'], df['NN-Functional.DM21m'], cmap=plt.cm.viridis, linewidth=0.2)\n",
        "ax.view_init(10, 20)\n",
        "plt.show()"
      ],
      "metadata": {
        "id": "U6Mctfiya8nk"
      },
      "execution_count": null,
      "outputs": []
    },
    {
      "cell_type": "code",
      "source": [
        "# Other palette\n",
        "fig = plt.figure()\n",
        "ax = fig.gca(projection='3d')\n",
        "ax.plot_trisurf(df['bond_lenght'], df['bond_Angle'], df['NN-Functional.DM21m'],  cmap=plt.cm.jet, linewidth=0.01)\n",
        "plt.show()"
      ],
      "metadata": {
        "id": "sWTiP0ZQTqyQ"
      },
      "execution_count": null,
      "outputs": []
    },
    {
      "cell_type": "code",
      "source": [
        "import plotly.express as px\n",
        "\n",
        "fig = px.scatter_3d(df, x=y, y=x, z=z,)\n",
        "fig.show()"
      ],
      "metadata": {
        "id": "NVAYiVxxoBxj"
      },
      "execution_count": null,
      "outputs": []
    },
    {
      "cell_type": "code",
      "source": [
        "df"
      ],
      "metadata": {
        "id": "Nbmdj7JPx5t7"
      },
      "execution_count": null,
      "outputs": []
    },
    {
      "cell_type": "code",
      "source": [
        "import plotly.express as px\n",
        "\n",
        "import seaborn as sb\n",
        "import matplotlib.pyplot as plot\n",
        "import numpy as np\n",
        "df = df2.copy()\n",
        "x = df['bond_lenght'].to_numpy()\n",
        "y = df['bond_Angle'].to_numpy()\n",
        "z =  df['DFT-b3lyp'].to_numpy()\n",
        "\n",
        "fig = go.Figure(data=[go.Mesh3d(x=x, y=y, z=z, color='lightpink', opacity=0.50)])\n",
        "fig.show()\n",
        "\n",
        "fig = px.scatter_3d(df2, x=x, y=y, z=z,)\n",
        "fig.show()"
      ],
      "metadata": {
        "id": "klF_pr7LfAA9"
      },
      "execution_count": null,
      "outputs": []
    },
    {
      "cell_type": "code",
      "source": [],
      "metadata": {
        "id": "i9rbKZYafNBh"
      },
      "execution_count": null,
      "outputs": []
    },
    {
      "cell_type": "code",
      "source": [
        "import plotly.express as px\n",
        "\n",
        "import seaborn as sb\n",
        "import matplotlib.pyplot as plot\n",
        "import numpy as np\n",
        "df = df2.copy()\n",
        "x = df['bond_lenght'].to_numpy()\n",
        "y = df['bond_Angle'].to_numpy()\n",
        "z =  df['NN-Functional.DM21m'].to_numpy()\n",
        "\n",
        "fig = go.Figure(data=[go.Mesh3d(x=x, y=y, z=z, color='green' )])\n",
        "fig.show()\n",
        "\n",
        "fig = px.scatter_3d(df2, x=x, y=y, z=z,)\n",
        "fig.show()"
      ],
      "metadata": {
        "id": "7wrolLDXfNHt"
      },
      "execution_count": null,
      "outputs": []
    },
    {
      "cell_type": "code",
      "source": [
        "import plotly.express as px\n",
        "\n",
        "fig = px.scatter_3d(df, x=x, y=y, z=z,)\n",
        "fig.show()"
      ],
      "metadata": {
        "id": "b8HcrUkAe1kz"
      },
      "execution_count": null,
      "outputs": []
    },
    {
      "cell_type": "code",
      "source": [
        "df['NN-Functional.DM21m'].values"
      ],
      "metadata": {
        "id": "Luw6cbU1ebCd"
      },
      "execution_count": null,
      "outputs": []
    },
    {
      "cell_type": "code",
      "source": [
        "\n",
        "import pandas as pd\n",
        "\n",
        "# Read data from a csv\n",
        "\n",
        "fig = go.Figure(data=[go.Surface(df['DFT-b3lyp'].values)])\n",
        "\n",
        "fig.update_layout(title='Mt Bruno Elevation', autosize=False,\n",
        "                  width=500, height=500,\n",
        "                  margin=dict(l=65, r=50, b=65, t=90))\n",
        "\n",
        "fig.show()"
      ],
      "metadata": {
        "id": "PL0kd7QJeM7L"
      },
      "execution_count": null,
      "outputs": []
    },
    {
      "cell_type": "code",
      "source": [
        "import plotly.graph_objects as go\n",
        "\n",
        "import pandas as pd\n",
        "\n",
        "# Read data from a csv\n",
        "z_data =  df2[ [  'DFT-b3lyp',  'bond_Angle', 'bond_lenght'  ] ]\n",
        "\n",
        "\n",
        " \n",
        "fig = go.Figure(data=[go.Surface(z=z_data, connectgaps=True )])\n",
        "\n",
        "\n",
        "fig.update_layout(title='Mt Bruno Elevation')\n",
        "\n",
        "fig.show()"
      ],
      "metadata": {
        "id": "Wuf5mzi5eutH"
      },
      "execution_count": null,
      "outputs": []
    },
    {
      "cell_type": "code",
      "source": [
        "z_data"
      ],
      "metadata": {
        "id": "8HUpXm09ooaP"
      },
      "execution_count": null,
      "outputs": []
    },
    {
      "cell_type": "code",
      "source": [
        "from mpl_toolkits import mplot3d\n",
        "import numpy as np\n",
        "import matplotlib.pyplot as plt\n",
        " \n",
        " \n",
        "df = df2.copy()\n",
        "x = df['bond_lenght'].to_numpy()\n",
        "y = df['bond_Angle'].to_numpy()\n",
        "z =  df['DFT-b3lyp'].to_numpy()\n",
        "\n",
        "\n",
        "# Creating figure\n",
        "fig = plt.figure(figsize =(14, 9))\n",
        "ax = plt.axes(projection ='3d')\n",
        " \n",
        "# Creating plot\n",
        "ax.plot_surface(x, y, z)\n",
        " \n",
        "# show plot\n",
        "plt.show()"
      ],
      "metadata": {
        "id": "iVWREBb1kyj0"
      },
      "execution_count": null,
      "outputs": []
    },
    {
      "cell_type": "code",
      "source": [
        "df3"
      ],
      "metadata": {
        "id": "aReHR1B7pGDD"
      },
      "execution_count": null,
      "outputs": []
    },
    {
      "cell_type": "code",
      "source": [
        "# Import libraries\n",
        "from mpl_toolkits import mplot3d\n",
        "import numpy as np\n",
        "import matplotlib.pyplot as plt\n",
        "\n",
        "df = df2.copy()\n",
        "x11 = df['bond_lenght'].to_numpy()\n",
        "y11 = df['bond_Angle'].to_numpy()\n",
        "z11 =  df['NN-Functional.DM21m'].to_numpy()\n",
        "\n",
        " \n",
        "# Creating dataset\n",
        "x = np.outer(x11, np.ones(3))\n",
        "y = np.outer(y11, np.ones(3))\n",
        "z = ( (x **2)  )\n",
        " \n",
        "# Creating figure\n",
        "fig = plt.figure(figsize =(14, 9))\n",
        "ax = plt.axes(projection ='3d')\n",
        " \n",
        "# Creating plot\n",
        "ax.plot_surface(x, y, z)\n",
        "\n",
        " \n",
        " \n",
        "# show plot\n",
        "plt.show()"
      ],
      "metadata": {
        "id": "WaAFtvMdpWbu"
      },
      "execution_count": null,
      "outputs": []
    },
    {
      "cell_type": "code",
      "source": [
        "x"
      ],
      "metadata": {
        "id": "5ww3Q2Mepx9R"
      },
      "execution_count": null,
      "outputs": []
    },
    {
      "cell_type": "code",
      "source": [
        "# Import libraries\n",
        "from mpl_toolkits import mplot3d\n",
        "import numpy as np\n",
        "import matplotlib.pyplot as plt\n",
        " \n",
        " \n",
        "# Creating dataset\n",
        "x = np.outer(np.linspace(-3, 3, 3), np.ones(3))\n",
        "y = x.copy().T # transpose\n",
        "z = ( (x **2)  )\n",
        " \n",
        "# Creating figure\n",
        "fig = plt.figure(figsize =(14, 9))\n",
        "ax = plt.axes(projection ='3d')\n",
        " \n",
        "# Creating plot\n",
        "ax.plot_surface(x, y, z)\n",
        "\n",
        " \n",
        " \n",
        "# show plot\n",
        "plt.show()"
      ],
      "metadata": {
        "id": "rCApr8rylFo5"
      },
      "execution_count": null,
      "outputs": []
    },
    {
      "cell_type": "code",
      "source": [
        "x"
      ],
      "metadata": {
        "id": "p7MLr6Z2mXJe"
      },
      "execution_count": null,
      "outputs": []
    },
    {
      "cell_type": "code",
      "source": [
        "y"
      ],
      "metadata": {
        "id": "KADkCci-mX4k"
      },
      "execution_count": null,
      "outputs": []
    },
    {
      "cell_type": "code",
      "source": [
        "z"
      ],
      "metadata": {
        "id": "FkQICdOFm0bs"
      },
      "execution_count": null,
      "outputs": []
    },
    {
      "cell_type": "code",
      "source": [
        "np.outer( np.linspace(-3, 3, 3), np.ones(3))"
      ],
      "metadata": {
        "id": "t4hoVoeflJFh"
      },
      "execution_count": null,
      "outputs": []
    },
    {
      "cell_type": "code",
      "source": [
        "np.linspace(-3, 3, 3)"
      ],
      "metadata": {
        "id": "mFe7azyGl4_O"
      },
      "execution_count": null,
      "outputs": []
    },
    {
      "cell_type": "code",
      "source": [
        "z_data"
      ],
      "metadata": {
        "id": "vSohMES1jgJr"
      },
      "execution_count": null,
      "outputs": []
    },
    {
      "cell_type": "code",
      "source": [
        "df3"
      ],
      "metadata": {
        "id": "GYVzWPRNfjhC"
      },
      "execution_count": null,
      "outputs": []
    },
    {
      "cell_type": "code",
      "source": [
        "z_data2 =  df[['bond_lenght' ,  'bond_Angle', 'NN-Functional.DM21m'] ]\n",
        " "
      ],
      "metadata": {
        "id": "PSLi76lZfJ3p"
      },
      "execution_count": null,
      "outputs": []
    },
    {
      "cell_type": "code",
      "source": [
        "z_data2"
      ],
      "metadata": {
        "id": "NJlWfcdne1CH"
      },
      "execution_count": null,
      "outputs": []
    },
    {
      "cell_type": "code",
      "source": [
        "Y1"
      ],
      "metadata": {
        "id": "plzQJBhZVohE"
      },
      "execution_count": null,
      "outputs": []
    },
    {
      "cell_type": "code",
      "source": [
        "import seaborn as sb\n",
        "import matplotlib.pyplot as plot\n",
        "import numpy as np\n",
        "\n",
        "def FUNC_Z(x, y):\n",
        "    return 50 - (x**2 + y**2)\n",
        "\n",
        "\n",
        "sb.set_style('whitegrid')\n",
        "N = 50\n",
        "\n",
        "X_VAL = np.linspace(-5, 5, N)\n",
        "Y_VAL = np.linspace(-5, 5, N)\n",
        "\n",
        "X1, Y1 = np.meshgrid(X_VAL, Y_VAL)\n",
        "\n",
        "Z1 = FUNC_Z(X1, Y1)\n",
        "\n",
        "axes = plot.axes(projection='3d')\n",
        "axes.plot_surface(X1, Y1, Z1)\n",
        "plot.show()"
      ],
      "metadata": {
        "id": "zHFnNGBHVfqR"
      },
      "execution_count": null,
      "outputs": []
    },
    {
      "cell_type": "code",
      "source": [
        "x = np.linspace(0, 40, 4)\n",
        "y = np.linspace(0, 50, 5)[:, np.newaxis]\n",
        "\n",
        "a = np.arange(2)\n",
        "b = np.arange(3)[:, np.newaxis]\n",
        "\n",
        "z = np.sin(x) ** 10 + np.cos(10 + y * x) * np.cos(x)\n",
        "c = a + b + 100"
      ],
      "metadata": {
        "id": "6K71MGmT3QJq"
      },
      "execution_count": null,
      "outputs": []
    },
    {
      "cell_type": "code",
      "source": [
        "a"
      ],
      "metadata": {
        "id": "rkz09zTOzsO1"
      },
      "execution_count": null,
      "outputs": []
    },
    {
      "cell_type": "code",
      "source": [
        "\n",
        "a = [[0,0,0],[1, 1 , 1],[2,2,2]]\n",
        "b = np.arange(3)[:, np.newaxis]\n",
        "\n",
        "z = np.sin(x) ** 10 + np.cos(10 + y * x) * np.cos(x)\n",
        "c = a + b "
      ],
      "metadata": {
        "id": "0A_g8YvXNnN-"
      },
      "execution_count": null,
      "outputs": []
    },
    {
      "cell_type": "code",
      "source": [
        "a"
      ],
      "metadata": {
        "id": "b4GOj5O13bnn"
      },
      "execution_count": null,
      "outputs": []
    },
    {
      "cell_type": "code",
      "source": [
        "b"
      ],
      "metadata": {
        "id": "D7k4VvmQ3cWN"
      },
      "execution_count": null,
      "outputs": []
    },
    {
      "cell_type": "code",
      "source": [
        "c"
      ],
      "metadata": {
        "id": "K4LKY5f1zzNg"
      },
      "execution_count": null,
      "outputs": []
    },
    {
      "cell_type": "code",
      "source": [
        "b.reshape(3)"
      ],
      "metadata": {
        "id": "Z9dCLFTQ8P8P"
      },
      "execution_count": null,
      "outputs": []
    },
    {
      "cell_type": "code",
      "source": [
        "a"
      ],
      "metadata": {
        "id": "3DWGku1gN6TU"
      },
      "execution_count": null,
      "outputs": []
    },
    {
      "cell_type": "code",
      "source": [
        "c"
      ],
      "metadata": {
        "id": "b_T9OT9r3k31"
      },
      "execution_count": null,
      "outputs": []
    },
    {
      "cell_type": "code",
      "source": [
        "plt.imshow(c, origin='lower' ,\n",
        "           cmap='viridis')\n",
        "plt.colorbar();"
      ],
      "metadata": {
        "id": "zABUmLsY3TEP"
      },
      "execution_count": null,
      "outputs": []
    },
    {
      "cell_type": "code",
      "source": [
        "for i in range(0, len(ValidatedBasisSetSOURCE)):\n",
        "  if True:\n",
        "    for elementname in dictPeriodicTable.keys():\n",
        "      for lengthHO in Global_Range_BONDLENGTH_HO:\n",
        "        for angle1 in Global_Range_BONDANGLE_OHO:\n",
        "          GlobalBONDANGLE_OHO = angle1\n",
        "          GlobalBONDLENGTH =  lengthHO\n",
        "          print('************************************##############################################*###############################  BONDLENGHT_HO = ' + str(GlobalBONDLENGTH))          \n",
        "          print('************************************##############################################*###############################  BONDANGLE_OHO = ' + str(GlobalBONDANGLE_OHO))\n",
        "          bond_lengths += [GlobalBONDANGLE_OHO]"
      ],
      "metadata": {
        "id": "JvJIBppWQXz-"
      },
      "execution_count": null,
      "outputs": []
    },
    {
      "cell_type": "code",
      "source": [
        "for i in range(0, len(ValidatedBasisSetSOURCE)):\n",
        "  if True:\n",
        "    for elementname in dictPeriodicTable.keys():\n",
        "      for lengthHO in Global_Range_BONDLENGTH_HO:\n",
        "          GlobalBONDLENGTH =  lengthHO\n",
        "          print('************************************##############################################*###############################  BONDLENGHT_HO = ' + str(GlobalBONDLENGTH))          \n",
        "          bond_lengths += [GlobalBONDANGLE_OHO]"
      ],
      "metadata": {
        "id": "m5vdFYseQb9b"
      },
      "execution_count": null,
      "outputs": []
    },
    {
      "cell_type": "code",
      "source": [
        "for i in range(0, len(ValidatedBasisSetSOURCE)):\n",
        "  if True:\n",
        "    for elementname in dictPeriodicTable.keys():\n",
        "        for angle1 in Global_Range_BONDANGLE_OHO:\n",
        "          GlobalBONDANGLE_OHO = angle1\n",
        "          print('************************************##############################################*###############################  BONDANGLE_OHO = ' + str(GlobalBONDANGLE_OHO))\n"
      ],
      "metadata": {
        "id": "KRvNkx0QQwN0"
      },
      "execution_count": null,
      "outputs": []
    },
    {
      "cell_type": "code",
      "source": [
        "df5 "
      ],
      "metadata": {
        "id": "LUjCH7OCOZtL"
      },
      "execution_count": null,
      "outputs": []
    },
    {
      "cell_type": "code",
      "source": [
        "temp44 = df5.loc[  (df5['bond_Angle'] == 1.2 )     ] \n",
        "\n",
        "temp44['NN-Functional.DM21m'][0]"
      ],
      "metadata": {
        "id": "wkjvZqL6aVDB"
      },
      "execution_count": null,
      "outputs": []
    },
    {
      "cell_type": "code",
      "source": [
        "temp44 = df5.loc[    (df5['bond_Angle'] == 1.2 ) &  (df5['bond_lenght'] == 81 )    ] \n",
        "temp44"
      ],
      "metadata": {
        "id": "RfZ42IYia1nW"
      },
      "execution_count": null,
      "outputs": []
    },
    {
      "cell_type": "code",
      "source": [
        "len(temp44['NN-Functional.DM21m'] )"
      ],
      "metadata": {
        "id": "u4OnPCADbABW"
      },
      "execution_count": null,
      "outputs": []
    },
    {
      "cell_type": "code",
      "source": [
        "temp44['NN-Functional.DM21m'].values[0]"
      ],
      "metadata": {
        "id": "OzU4KarocUsN"
      },
      "execution_count": null,
      "outputs": []
    },
    {
      "cell_type": "code",
      "source": [
        "# Read data from a csv\n",
        "df2 = df.copy(deep=True)\n",
        "df5 =  df2[ [  'DFT-b3lyp',  'bond_Angle', 'bond_lenght'  ] ]"
      ],
      "metadata": {
        "id": "1UjaBi5IPNO2"
      },
      "execution_count": null,
      "outputs": []
    },
    {
      "cell_type": "code",
      "source": [
        "for i in range(0, len(ValidatedBasisSetSOURCE)):\n",
        "  if True:\n",
        "    for elementname in dictPeriodicTable.keys():\n",
        "      for lengthHO in Global_Range_BONDLENGTH_HO:\n",
        "        for angle1 in Global_Range_BONDANGLE_OHO:\n",
        "          GlobalBONDANGLE_OHO = angle1\n",
        "          GlobalBONDLENGTH =  lengthHO\n",
        "#          print('************************************##############################################*###############################  BONDLENGHT_HO = ' + str(lengthHO))          \n",
        "#          print('************************************##############################################*###############################  BONDLENGHT_HO = ' + str(round(lengthHO, 3)))          \n",
        "      #    print('************************************##############################################*###############################  BONDANGLE_OHO = ' + str(GlobalBONDANGLE_OHO))\n",
        "          temppppp = df5.loc[  (df5['bond_Angle'] == round(lengthHO, 3)) & (df5['bond_lenght'] == round(angle1, 3))     ]  \n",
        "#          temppppp = df5.loc[  (df5['bond_Angle'] == round(lengthHO, 3) )     ]       \n",
        "          if (len( temppppp['NN-Functional.DM21m']) > 0):     \n",
        "            print(  temppppp['NN-Functional.DM21m'].values[0]  ) \n",
        "\n",
        " "
      ],
      "metadata": {
        "id": "Gv9uezT4Z4O6"
      },
      "execution_count": null,
      "outputs": []
    },
    {
      "cell_type": "code",
      "source": [
        "fig = go.Figure(data =\n",
        "    go.Contour(\n",
        "        z=myarray, connectgaps=True, showscale=True, line_smoothing=0.85, contours=contours\n",
        "    ))\n",
        "fig.show()"
      ],
      "metadata": {
        "id": "wjItDEUcHpnm"
      },
      "execution_count": null,
      "outputs": []
    },
    {
      "cell_type": "code",
      "source": [
        "yarray = np.array([*Global_Range_BONDANGLE_OHO])\n",
        "yarray"
      ],
      "metadata": {
        "id": "v8EiNCCuyKha"
      },
      "execution_count": null,
      "outputs": []
    },
    {
      "cell_type": "code",
      "source": [
        "Global_Range_BONDLENGTH_HO "
      ],
      "metadata": {
        "id": "f4IkuIMcyud_"
      },
      "execution_count": null,
      "outputs": []
    },
    {
      "cell_type": "code",
      "source": [],
      "metadata": {
        "id": "M7ijzZLH1OBK"
      },
      "execution_count": null,
      "outputs": []
    },
    {
      "cell_type": "code",
      "source": [
        "from mpl_toolkits import mplot3d\n",
        "\n",
        " \n",
        "\n",
        "fig = plt.figure()\n",
        "ax = plt.axes(projection='3d')\n",
        "ax.contour3D(  yarray.reshape(39) , Global_Range_BONDLENGTH_HO,    myarray, 100, origin='lower', cmap='viridis')\n",
        "ax.set_xlabel('x')\n",
        "ax.set_ylabel('y')\n",
        "ax.set_zlabel('z');\n",
        "ax.view_init(60, 35)"
      ],
      "metadata": {
        "id": "DxtLY8LPxBTn"
      },
      "execution_count": null,
      "outputs": []
    },
    {
      "cell_type": "code",
      "source": [
        "a"
      ],
      "metadata": {
        "id": "W_ihfPk_0N25"
      },
      "execution_count": null,
      "outputs": []
    },
    {
      "cell_type": "code",
      "source": [
        "b"
      ],
      "metadata": {
        "id": "UPDUUCNSy6Mh"
      },
      "execution_count": null,
      "outputs": []
    },
    {
      "cell_type": "code",
      "source": [
        "b.reshape(3)"
      ],
      "metadata": {
        "id": "XlTDtQ75y7vG"
      },
      "execution_count": null,
      "outputs": []
    },
    {
      "cell_type": "code",
      "source": [
        "c"
      ],
      "metadata": {
        "id": "kajs0jsN0ObZ"
      },
      "execution_count": null,
      "outputs": []
    },
    {
      "cell_type": "code",
      "source": [
        "c.shape"
      ],
      "metadata": {
        "id": "XKWBAHcW0Vqc"
      },
      "execution_count": null,
      "outputs": []
    },
    {
      "cell_type": "code",
      "source": [
        "from mpl_toolkits import mplot3d\n",
        "\n",
        " \n",
        "\n",
        "fig = plt.figure()\n",
        "ax = plt.axes(projection='3d')\n",
        "ax.contour3D(a, b.reshape(3), c, 100, origin='lower', cmap='viridis')\n",
        "ax.set_xlabel('x')\n",
        "ax.set_ylabel('y')\n",
        "ax.set_zlabel('z');\n",
        "ax.view_init(60, 35)\n"
      ],
      "metadata": {
        "id": "A7TnGUXyA8Yf"
      },
      "execution_count": null,
      "outputs": []
    },
    {
      "cell_type": "code",
      "source": [
        "import plotly.graph_objects as go\n",
        "\n",
        "fig = go.Figure(data =\n",
        "    go.Mesh3d(\n",
        "        z=myarray\n",
        "    ))\n",
        "fig.show()"
      ],
      "metadata": {
        "id": "KIvqLNYwJnoE"
      },
      "execution_count": null,
      "outputs": []
    },
    {
      "cell_type": "code",
      "source": [
        "import plotly.graph_objects as go\n",
        "import numpy as np\n",
        "np.random.seed(1)\n",
        "\n",
        "N = 70\n",
        "\n",
        "fig = go.Figure(data=[go.Mesh3d(x=(70*np.random.randn(N)),\n",
        "                   y=(55*np.random.randn(N)),\n",
        "                   z=(40*np.random.randn(N)),\n",
        "                   opacity=0.5,\n",
        "                   color='rgba(244,22,100,0.6)'\n",
        "                  )])\n",
        "\n",
        "fig.update_layout(\n",
        "    scene = dict(\n",
        "        xaxis = dict(nticks=4, range=[-100,100],),\n",
        "                     yaxis = dict(nticks=4, range=[-50,100],),\n",
        "                     zaxis = dict(nticks=4, range=[-100,100],),),\n",
        "    width=700,\n",
        "    margin=dict(r=20, l=10, b=10, t=10))\n",
        "\n",
        "fig.show()"
      ],
      "metadata": {
        "id": "5rP8MFtiJ096"
      },
      "execution_count": null,
      "outputs": []
    },
    {
      "cell_type": "code",
      "source": [
        "z_data"
      ],
      "metadata": {
        "id": "W8_Blx9nKOqW"
      },
      "execution_count": null,
      "outputs": []
    },
    {
      "cell_type": "code",
      "source": [
        "myarray.shape"
      ],
      "metadata": {
        "id": "SpDi7PZfvZNq"
      },
      "execution_count": null,
      "outputs": []
    },
    {
      "cell_type": "code",
      "source": [
        "for i in range(21):\n",
        "  for j in range(51):\n",
        "    if (myarray[i, j] != 0):\n",
        "      print(myarray[i, j] )\n"
      ],
      "metadata": {
        "id": "LYMQmeLKvIHe"
      },
      "execution_count": null,
      "outputs": []
    },
    {
      "cell_type": "code",
      "source": [
        "for i in range(21):\n",
        "  for j in range(51):\n",
        "    if (myarray[i, j] == 0):\n",
        "      myarray[i, j] = -75.5"
      ],
      "metadata": {
        "id": "2ZpdNSG2wUYd"
      },
      "execution_count": null,
      "outputs": []
    },
    {
      "cell_type": "code",
      "source": [
        "fig = go.Figure(data =\n",
        "    go.Contour(\n",
        "        z=myarray, connectgaps=True, showscale=True, line_smoothing=0.85, contours=contours\n",
        "    ))\n",
        "fig.show()"
      ],
      "metadata": {
        "id": "dN323ZKM4Er4"
      },
      "execution_count": null,
      "outputs": []
    },
    {
      "cell_type": "markdown",
      "source": [
        "https://jakevdp.github.io/PythonDataScienceHandbook/04.12-three-dimensional-plotting.html\n",
        "\n",
        "https://plotly.com/python/contour-plots/"
      ],
      "metadata": {
        "id": "bqswxq7ICJlS"
      }
    },
    {
      "cell_type": "code",
      "source": [
        "plt.contourf(a, b.reshape(3), c, 10, origin='lower', cmap='viridis');\n",
        "plt.colorbar();\n"
      ],
      "metadata": {
        "id": "OyTPr8vr9DiZ"
      },
      "execution_count": null,
      "outputs": []
    },
    {
      "cell_type": "code",
      "source": [
        "contours = plt.contour(a,  b.reshape(3), c, 3, colors='black')\n",
        "plt.clabel(contours, inline=True, fontsize=8)\n",
        "plt.contourf(a, b.reshape(3), c, 10, origin='lower', cmap='viridis');\n",
        "plt.colorbar();"
      ],
      "metadata": {
        "id": "fy94GOqZ9690"
      },
      "execution_count": null,
      "outputs": []
    },
    {
      "cell_type": "code",
      "source": [
        "contours = plt.contour(a,  b.reshape(3), c, 1, colors='black')\n",
        "plt.clabel(contours, inline=True, fontsize=12)\n",
        "contours"
      ],
      "metadata": {
        "id": "4-0tyBkW-IPn"
      },
      "execution_count": null,
      "outputs": []
    },
    {
      "cell_type": "code",
      "source": [
        " "
      ],
      "metadata": {
        "id": "aja85oMu-YOG"
      },
      "execution_count": null,
      "outputs": []
    },
    {
      "cell_type": "code",
      "source": [
        "Z"
      ],
      "metadata": {
        "id": "PeWgOZO5uWgV"
      },
      "execution_count": null,
      "outputs": []
    },
    {
      "cell_type": "code",
      "source": [
        "import plotly.graph_objects as go\n",
        "\n",
        "import pandas as pd\n",
        "\n",
        "# Read data from a csv\n",
        "\n",
        "fig = go.Figure(data=[go.Surface(z=myarray)])\n",
        " \n",
        "\n",
        "fig.show()"
      ],
      "metadata": {
        "id": "OPosBJIVKKKS"
      },
      "execution_count": null,
      "outputs": []
    },
    {
      "cell_type": "code",
      "source": [
        "import plotly.graph_objects as go\n",
        "\n",
        "import pandas as pd\n",
        " \n",
        "\n",
        "fig = go.Figure(data=[go.Surface(z=myarray)])\n",
        " \n",
        "\n",
        "fig.show()"
      ],
      "metadata": {
        "id": "rWqOu3Ak4Ima"
      },
      "execution_count": null,
      "outputs": []
    },
    {
      "cell_type": "code",
      "source": [],
      "metadata": {
        "id": "kM9lUgHVKn0O"
      },
      "execution_count": null,
      "outputs": []
    },
    {
      "cell_type": "code",
      "source": [
        "from mpl_toolkits import mplot3d\n",
        "import numpy as np\n",
        "import matplotlib.pyplot as plt\n",
        "def f(x, y):\n",
        "   return np.sin(np.sqrt(x ** 2 + y ** 2))\n",
        "\t\n",
        "x = np.linspace(-6, 6, 5)\n",
        "y = np.linspace(-6, 6, 5)\n",
        "\n",
        "X, Y = np.meshgrid(x, y)\n",
        "Z = f(X, Y)\n",
        "\n",
        "fig = plt.figure()\n",
        "ax = plt.axes(projection='3d')\n",
        "ax.contour3D(X, Y, Z, 50, cmap='binary')\n",
        "ax.set_xlabel('x')\n",
        "ax.set_ylabel('y')\n",
        "ax.set_zlabel('z')\n",
        "ax.set_title('3D contour')\n",
        "plt.show()"
      ],
      "metadata": {
        "id": "-aEs9Zr5tnzT"
      },
      "execution_count": null,
      "outputs": []
    },
    {
      "cell_type": "code",
      "source": [
        "z_data.values.shape"
      ],
      "metadata": {
        "id": "3YiwcRUjKvhx"
      },
      "execution_count": null,
      "outputs": []
    },
    {
      "cell_type": "code",
      "source": [
        "import plotly.graph_objects as go\n",
        "\n",
        "import pandas as pd\n",
        "\n",
        "\n",
        "\n",
        "#fig = go.Figure(data=[go.Surface(z=z_data.values)])\n",
        "\n",
        "acontours = {\n",
        "        \"x\": {\"show\": True, \"start\": 1.5, \"end\": 2, \"size\": 0.04, \"color\":\"white\"},\n",
        "        \"z\": {\"show\": True, \"start\": 0.5, \"end\": 0.8, \"size\": 0.05}\n",
        "    }\n",
        "\n",
        "fig = go.Figure(data=[go.Surface(z=myarray, contours = acontours)])\n",
        "\n",
        "\n",
        "fig.update_traces(contours_z=dict(show=True, usecolormap=True,\n",
        "                                  highlightcolor=\"limegreen\", project_z=True))\n",
        "fig.update_layout(title='Mt Bruno Elevation', autosize=False,\n",
        "                  scene_camera_eye=dict(x=1.87, y=0.88, z=-0.64),\n",
        "                  width=500, height=500,\n",
        "                  margin=dict(l=65, r=50, b=65, t=90)\n",
        ")\n",
        "\n",
        "fig.show()"
      ],
      "metadata": {
        "id": "dIvb9wPBKo6i"
      },
      "execution_count": null,
      "outputs": []
    },
    {
      "cell_type": "code",
      "source": [
        "# Read data from a csv\n",
        " \n",
        "contours=dict(\n",
        "            start=0,\n",
        "            end=8,\n",
        "            size=2,\n",
        "        )\n",
        "\n",
        "fig = go.Figure(data=[go.Surface(z=myarray  ) ]  )\n",
        "fig.update_traces(contours_z=dict(show=True, usecolormap=True,      highlight=True,\n",
        "                                  highlightcolor=\"limegreen\", project_z=True))\n",
        "fig.update_layout(title='Mt Bruno Elevation', autosize=True,\n",
        "                  scene_camera_eye=dict(x=1.87, y=0.88, z=-0.64),\n",
        "                  width=800, height=800,   \n",
        "                  margin=dict(l=65, r=50, b=65, t=90)\n",
        ")\n",
        "\n",
        "fig.show()"
      ],
      "metadata": {
        "id": "bCKds1OKtedC"
      },
      "execution_count": null,
      "outputs": []
    },
    {
      "cell_type": "code",
      "source": [
        "import plotly.graph_objects as go\n",
        "\n",
        "fig = go.Figure(go.Surface(\n",
        "    contours = {\n",
        "        \"x\": {\"show\": True, \"start\": 1.5, \"end\": 2, \"size\": 0.04, \"color\":\"white\"},\n",
        "        \"z\": {\"show\": True, \"start\": 0.5, \"end\": 0.8, \"size\": 0.05}\n",
        "    },\n",
        "    x = [1,2,3,4,5],\n",
        "    y = [1,2,3,4],\n",
        "    z = [\n",
        "        [0, 1, 0, 1, 0],\n",
        "        [1, 0, 1, 0, 1],\n",
        "        [0, 1, 0, 1, 0],\n",
        "        [1, 0, 1, 0, 1]\n",
        "    ]))\n",
        "fig.update_layout(\n",
        "        scene = {\n",
        "            \"xaxis\": {\"nticks\": 20},\n",
        "            \"zaxis\": {\"nticks\": 4},\n",
        "            'camera_eye': {\"x\": 0, \"y\": -1, \"z\": 0.5},\n",
        "            \"aspectratio\": {\"x\": 1, \"y\": 1, \"z\": 0.2}\n",
        "        })\n",
        "fig.show()"
      ],
      "metadata": {
        "id": "HN5B2B_VLtbn"
      },
      "execution_count": null,
      "outputs": []
    },
    {
      "cell_type": "code",
      "source": [
        "import plotly.graph_objects as go\n",
        "\n",
        "fig = go.Figure(go.Surface(\n",
        "    contours = {\n",
        "        \"x\": {\"show\": True, \"start\": 1.5, \"end\": 2, \"size\": 0.04, \"color\":\"white\"},\n",
        "        \"z\": {\"show\": True, \"start\": 0.5, \"end\": 0.8, \"size\": 0.05}\n",
        "    },\n",
        "    x = [1,2,3,4,5],\n",
        "    y = [1,2,3,4],\n",
        "    z = [\n",
        "        [0, 1, 0, 1, 0],\n",
        "        [1, 0, 1, 0, 1],\n",
        "        [0, 1, 0, 1, 0],\n",
        "        [1, 0, 1, 0, 1]\n",
        "    ]))\n",
        "fig.update_layout(\n",
        "        scene = {\n",
        "            \"xaxis\": {\"nticks\": 20},\n",
        "            \"zaxis\": {\"nticks\": 4},\n",
        "            'camera_eye': {\"x\": 0, \"y\": -1, \"z\": 0.5},\n",
        "            \"aspectratio\": {\"x\": 1, \"y\": 1, \"z\": 0.2}\n",
        "        })\n",
        "fig.show()"
      ],
      "metadata": {
        "id": "R0WryjRi0_-C"
      },
      "execution_count": null,
      "outputs": []
    },
    {
      "cell_type": "code",
      "source": [
        "import plotly.graph_objects as go\n",
        "\n",
        "fig = go.Figure(go.Surface(\n",
        "    contours = {\n",
        "        \"x\": {\"show\": True, \"start\": 1.5, \"end\": 2, \"size\": 0.04, \"color\":\"white\"},\n",
        "        \"z\": {\"show\": True, \"start\": 0.5, \"end\": 0.8, \"size\": 0.05}\n",
        "    },\n",
        "    x = a+5,\n",
        "    y = b.reshape(3),\n",
        "    z = c))\n",
        "fig.update_layout(\n",
        "        scene = {\n",
        "            \"xaxis\": {\"nticks\": 20},\n",
        "            \"zaxis\": {\"nticks\": 4},\n",
        "            'camera_eye': {\"x\": 0, \"y\": -1, \"z\": 0.5},\n",
        "            \"aspectratio\": {\"x\": 1, \"y\": 1, \"z\": 0.2}\n",
        "        })\n",
        "fig.show()"
      ],
      "metadata": {
        "id": "GmDPTs-4Ly4H"
      },
      "execution_count": null,
      "outputs": []
    },
    {
      "cell_type": "code",
      "source": [
        "import plotly.graph_objects as go\n",
        "\n",
        "d = a+b\n",
        "\n",
        "fig = go.Figure(go.Surface(\n",
        "    contours = {\n",
        "        \"x\": {\"show\": True, \"start\": 1.5, \"end\": 2, \"size\": 0.04, \"color\":\"white\"},\n",
        "        \"z\": {\"show\": True, \"start\": 0.5, \"end\": 0.8, \"size\": 0.05}\n",
        "    },\n",
        "    x = a,\n",
        "    y = b.reshape(3),\n",
        "    z = d ))\n",
        "fig.update_layout(\n",
        "        scene = {\n",
        "            \"xaxis\": {\"nticks\": 20},\n",
        "            \"zaxis\": {\"nticks\": 4},\n",
        "            'camera_eye': {\"x\": 0, \"y\": -1, \"z\": 0.5},\n",
        "            \"aspectratio\": {\"x\": 1, \"y\": 1, \"z\": 0.2}\n",
        "        })\n",
        "fig.show()\n",
        "\n",
        "d"
      ],
      "metadata": {
        "id": "eGFn65N6MNl4"
      },
      "execution_count": null,
      "outputs": []
    },
    {
      "cell_type": "code",
      "source": [
        "import seaborn as seaborn\n",
        "import matplotlib.pyplot as plot\n",
        "import numpy as np\n",
        "\n",
        "seaborn.set_style(\"darkgrid\")\n",
        "\n",
        "mean = 3\n",
        "number =50\n",
        "\n",
        "x1 = np.random.normal(mean, 1, size=number)\n",
        "y1 = np.random.normal(mean, 1, size=number)\n",
        "z1 = np.random.normal(mean, 1, size=number)\n",
        "\n",
        "x1 = df['bond_lenght'].to_numpy()\n",
        "y1 = df['bond_Angle'].to_numpy()\n",
        "z1 =  df['NN-Functional.DM21m'].to_numpy()\n",
        "\n",
        "plot.figure(figsize=(6,5))\n",
        "axes = plot.axes(projection='3d')\n",
        "print(type(axes))\n",
        "axes.scatter3D(x1, y1, z1)\n",
        "\n",
        "axes.set_xlabel('x')\n",
        "axes.set_ylabel('y')\n",
        "axes.set_zlabel('z')\n",
        "\n",
        "axes.view_init(45, 215)\n",
        "plot.show()"
      ],
      "metadata": {
        "id": "LeWrvsLRWqQk"
      },
      "execution_count": null,
      "outputs": []
    },
    {
      "cell_type": "code",
      "source": [
        "X1"
      ],
      "metadata": {
        "id": "c87e1FdvVkEh"
      },
      "execution_count": null,
      "outputs": []
    },
    {
      "cell_type": "code",
      "source": [
        "df3 = df2.copy()"
      ],
      "metadata": {
        "id": "2WcwTOC6VxOM"
      },
      "execution_count": null,
      "outputs": []
    },
    {
      "cell_type": "code",
      "source": [
        "df3"
      ],
      "metadata": {
        "id": "d_dn2j3ra8ET"
      },
      "execution_count": null,
      "outputs": []
    },
    {
      "cell_type": "code",
      "source": [
        "import plotly.express as px\n",
        "fig = px.line_3d(df2, x=\"bond_lenght\", y=\"bond_Angle\", z=\"NN-Functional.DM21m\" )\n",
        "fig.show()\n",
        "\n",
        " "
      ],
      "metadata": {
        "id": "mdU3YC8YZdyF"
      },
      "execution_count": null,
      "outputs": []
    },
    {
      "cell_type": "code",
      "source": [
        "df['NN-Functional.DM21m'].to_numpy()"
      ],
      "metadata": {
        "id": "vDxMjwftU1ZW"
      },
      "execution_count": null,
      "outputs": []
    },
    {
      "cell_type": "code",
      "source": [
        "import plotly.graph_objects as go\n",
        "import pandas as pd\n",
        "import numpy as np\n",
        "# Read data from a csv\n",
        "z_data = pd.read_csv('https://raw.githubusercontent.com/plotly/datasets/master/api_docs/mt_bruno_elevation.csv')\n",
        "z = z_data.values\n",
        "sh_0, sh_1 = z.shape\n",
        "x, y = np.linspace(0, 1, sh_0), np.linspace(0, 1, sh_1)\n",
        "fig = go.Figure(data=[go.Surface(z=z, x=x, y=y)])\n",
        "fig.update_layout(title='Mt Bruno Elevation', autosize=False,\n",
        "                  width=500, height=500,\n",
        "                  margin=dict(l=65, r=50, b=65, t=90))\n",
        "fig.show()"
      ],
      "metadata": {
        "id": "csaxRMpDXbWG"
      },
      "execution_count": null,
      "outputs": []
    },
    {
      "cell_type": "code",
      "source": [
        "z.shape"
      ],
      "metadata": {
        "id": "3mVpiBpcXpPs"
      },
      "execution_count": null,
      "outputs": []
    },
    {
      "cell_type": "code",
      "source": [
        "\n",
        "choiceDFT = ['CCSDT',  'b3lyp', 'SCAN'  , 'wB97X-V'  , 'pbe',  'PW6B95' , 'Functional.DM21m', 'Functional.DM21mc' , 'Functional.DM21mu']\n",
        "plotNand1(choiceDFT , myfigsize=(18, 14), myfontsize=20)"
      ],
      "metadata": {
        "id": "setmDYhOQ1MB"
      },
      "execution_count": null,
      "outputs": []
    },
    {
      "cell_type": "code",
      "source": [
        "\n",
        "choiceDFT = ['CCSDT',  'b3lyp', 'SCAN'  , 'wB97X-V'  , 'pbe',  'PW6B95' , 'Functional.DM21', 'Functional.DM21m', 'Functional.DM21mc' , 'Functional.DM21mu']\n",
        "plotNand1(choiceDFT , myfigsize=(18, 14), myfontsize=20)"
      ],
      "metadata": {
        "id": "raPLa3UGl3pF"
      },
      "execution_count": null,
      "outputs": []
    },
    {
      "cell_type": "markdown",
      "source": [],
      "metadata": {
        "id": "YN51Zjv5XD-v"
      }
    },
    {
      "cell_type": "code",
      "source": [
        "import seaborn as sb\n",
        "import matplotlib.pyplot as plot\n",
        "import numpy as np\n",
        "X1 = df['bond_lenght'].to_numpy()\n",
        "Y1 = df['bond_Angle'].to_numpy()\n",
        "Z =  df['NN-Functional.DM21m'].to_numpy()\n",
        "\n",
        "X2, Y2 = np.meshgrid(X1, Y1)\n",
        "\n",
        "\n",
        "axes = plot.axes(projection='3d')\n",
        "\n",
        "axes.plot_surface(X2, Y2 , Z)\n",
        "plot.show()"
      ],
      "metadata": {
        "id": "MilPvffvUFES"
      },
      "execution_count": null,
      "outputs": []
    },
    {
      "cell_type": "code",
      "source": [
        "\n",
        "choiceDFT = ['CCSDT',  'b3lyp', 'SCAN'  , 'wB97X-V'  , 'pbe',  'PW6B95' , 'Functional.DM21m', 'Functional.DM21mc' , 'Functional.DM21mu']\n",
        "plotNand1(choiceDFT , myfigsize=(18, 14), myfontsize=20)"
      ],
      "metadata": {
        "id": "bbpee0PRVBU6"
      },
      "execution_count": null,
      "outputs": []
    },
    {
      "cell_type": "code",
      "source": [
        "\n",
        "choiceDFT = ['CCSDT', 'b3lyp' , 'SCAN' , 'wB97X-V', 'pbe' ,   'Functional.DM21m', 'Functional.DM21mc' , 'Functional.DM21mu']\n",
        "plotNand(choiceDFT , myfigsize=(18, 14), myfontsize=20)"
      ],
      "metadata": {
        "id": "EdWXcKiBUoa2"
      },
      "execution_count": null,
      "outputs": []
    },
    {
      "cell_type": "code",
      "source": [
        "\n",
        "choiceDFT = ['CCSDT', 'wB97X-V',   'Functional.DM21', 'Functional.DM21m', 'Functional.DM21mc' , 'Functional.DM21mu']\n",
        "plotNand1(choiceDFT , myfigsize=(18, 14), myfontsize=20)"
      ],
      "metadata": {
        "id": "YZSsY1ThUdtf"
      },
      "execution_count": null,
      "outputs": []
    },
    {
      "cell_type": "code",
      "source": [
        "choiceDFT = ['CCSDT',   'SCAN' , 'Functional.DM21m',  'Functional.DM21mu']\n",
        "plotNand(choiceDFT , myfigsize=(20, 20), myfontsize=20)"
      ],
      "metadata": {
        "id": "YWwd2K2TXP6P"
      },
      "execution_count": null,
      "outputs": []
    },
    {
      "cell_type": "code",
      "source": [
        "choiceDFT = ['CCSDT',   'b3lyp' ,    'Functional.DM21m']\n",
        "plotNand(choiceDFT , myfigsize=(20, 20), myfontsize=20)"
      ],
      "metadata": {
        "id": "LvZINEjCXvO7"
      },
      "execution_count": null,
      "outputs": []
    },
    {
      "cell_type": "code",
      "source": [
        "choiceDFT = ['CCSDT',   'pbe' ,    'Functional.DM21m']\n",
        "plotNand(choiceDFT , myfigsize=(20, 20), myfontsize=20)"
      ],
      "metadata": {
        "id": "U967GKvQYJcW"
      },
      "execution_count": null,
      "outputs": []
    },
    {
      "cell_type": "code",
      "source": [
        "def plotNandZOOM(choiceDFT , myfigsize=(12, 10), myfontsize=20, ylimits=[-170,-10], xlimits=[0, 4], mytitle=''):\n",
        "  plt.figure(0)\n",
        "\n",
        "\n",
        "  plt.figure(figsize=myfigsize)\n",
        "  plt.rcParams[\"font.family\"] = \"Liberation Serif\"\n",
        "\n",
        "  axes = plt.axes()\n",
        "  axes.set_ylim(ylimits  )\n",
        "  axes.set_xlim(xlimits )\n",
        "\n",
        "  lengendlist =[]\n",
        "\n",
        "  if 'CCSDT' in choiceDFT:\n",
        "    plt.plot(df['bond_lenght'].to_numpy() , df['CCSDT'].to_numpy()  , 'o-')\n",
        "    lengendlist.append('CCSD(T)')\n",
        "\n",
        "\n",
        "\n",
        "  for afunctionals in functionalsList:\n",
        "    if afunctionals in choiceDFT:\n",
        "      plt.plot(df['bond_lenght'].to_numpy() , df['DFT-'+str(afunctionals)].to_numpy() , 'x-' )\n",
        "      lengendlist.append(str(afunctionals))\n",
        "\n",
        "  for aDMFunctionalvalue in dm21.Functional:\n",
        "    if str(aDMFunctionalvalue) in choiceDFT:\n",
        "      plt.plot(df['bond_lenght'].to_numpy() , df['NN-'+str(aDMFunctionalvalue)].to_numpy()  )\n",
        "      lengendlist.append(str(aDMFunctionalvalue))\n",
        "\n",
        "\n",
        "  plt.title(mytitle,  fontsize = myfontsize)\n",
        "  plt.legend(lengendlist,  fontsize = myfontsize)\n",
        "  plt.rc('xtick',labelsize=myfontsize-6)\n",
        "  plt.rc('ytick',labelsize=myfontsize-6)\n",
        "  plt.ylabel('Energy in Hartree', fontsize = myfontsize)\n",
        "  plt.xlabel('length in angstrom', fontsize = myfontsize)\n",
        "  plt.show()"
      ],
      "metadata": {
        "id": "u-x0R4AVKMxL"
      },
      "execution_count": null,
      "outputs": []
    },
    {
      "cell_type": "code",
      "source": [
        "def plotNandZOOMandERROR(choiceDFT , myfigsize=(12, 10), myfontsize=20, ylimits=[-170,-10], xlimits=[0, 4], ErrorNN = [ 'NN-Functional.DM21m' , 'DFT-wB97X-V'], myfigsize1=(12, 6) , mytitle=''):\n",
        "  plt.figure(0)\n",
        "\n",
        "\n",
        "  plt.figure(figsize=myfigsize)\n",
        "  plt.rcParams[\"font.family\"] = \"Liberation Serif\"\n",
        "\n",
        "  axes = plt.axes()\n",
        "  axes.set_ylim(ylimits  )\n",
        "  axes.set_xlim(xlimits )\n",
        "\n",
        "  lengendlist =[]\n",
        "\n",
        "  if 'CCSDT' in choiceDFT:\n",
        "    plt.plot(df['bond_lenght'].to_numpy() , df['CCSDT'].to_numpy()  , 'o-')\n",
        "    lengendlist.append('CCSD(T)')\n",
        "\n",
        "\n",
        "\n",
        "  for afunctionals in functionalsList:\n",
        "    if afunctionals in choiceDFT:\n",
        "      plt.plot(df['bond_lenght'].to_numpy() , df['DFT-'+str(afunctionals)].to_numpy() , 'x-' )\n",
        "      lengendlist.append(str(afunctionals))\n",
        "\n",
        "  for aDMFunctionalvalue in dm21.Functional:\n",
        "    if str(aDMFunctionalvalue) in choiceDFT:\n",
        "      plt.plot(df['bond_lenght'].to_numpy() , df['NN-'+str(aDMFunctionalvalue)].to_numpy()  )\n",
        "      lengendlist.append(str(aDMFunctionalvalue))\n",
        "\n",
        "\n",
        "  plt.title(mytitle,  fontsize = myfontsize)\n",
        "  plt.legend(lengendlist,  fontsize = myfontsize)\n",
        "  plt.rc('xtick',labelsize=myfontsize-6)\n",
        "  plt.rc('ytick',labelsize=myfontsize-6)\n",
        "  plt.ylabel('Energy in Hartree', fontsize = myfontsize)\n",
        "  plt.xlabel('length in angstrom', fontsize = myfontsize)\n",
        "#  plt.show()\n",
        "\n",
        "  plt.figure(1)\n",
        "\n",
        "\n",
        "  plt.figure(figsize=myfigsize)\n",
        "  plt.rcParams[\"font.family\"] = \"Liberation Serif\"\n",
        "\n",
        "\n",
        "  lengendlist =[]\n",
        "\n",
        "  plt.plot(df['bond_lenght'].to_numpy() , (df['CCSDT'] - df[ErrorNN[0]]).to_numpy() , 'g' )\n",
        "  plt.plot(df['bond_lenght'].to_numpy() , (df['CCSDT'] - df[ErrorNN[1]]).to_numpy() , 'x-' )\n",
        "  plt.bar(df['bond_lenght'].to_numpy() , (df['CCSDT'] - df[ErrorNN[1]]).to_numpy()  , width = 0.02, color ='orange' )\n",
        "  plt.bar(df['bond_lenght'].to_numpy() , (df['CCSDT'] - df[ErrorNN[0]]).to_numpy()  , width = 0.01 , color ='green' )\n",
        "  \n",
        "\n",
        "\n",
        "  plt.legend(lengendlist,  fontsize = myfontsize)\n",
        "  plt.rc('xtick',labelsize=myfontsize-6)\n",
        "  plt.rc('ytick',labelsize=myfontsize-6)\n",
        "  plt.ylabel('E', fontsize = myfontsize)\n",
        " \n",
        "\n",
        "  plt.show()"
      ],
      "metadata": {
        "id": "RmMBAMT1PDfg"
      },
      "execution_count": null,
      "outputs": []
    },
    {
      "cell_type": "code",
      "source": [],
      "metadata": {
        "id": "SxMwRNBidEDX"
      },
      "execution_count": null,
      "outputs": []
    },
    {
      "cell_type": "code",
      "source": [
        "choiceDFT = ['CCSDT', 'wB97X-V' , 'Functional.DM21m']\n",
        "\n",
        "plotNandZOOMandERROR(choiceDFT , myfigsize=(20, 16), myfontsize=38, ylimits =  [-200, -190], xlimits = [0.2, 3], mytitle='Computed PES of diatomic fluorine ')\n"
      ],
      "metadata": {
        "id": "wAdx54YTcjAX"
      },
      "execution_count": null,
      "outputs": []
    },
    {
      "cell_type": "code",
      "source": [
        "df.head(1)"
      ],
      "metadata": {
        "id": "fV6c_UCoQwTb"
      },
      "execution_count": null,
      "outputs": []
    },
    {
      "cell_type": "code",
      "source": [
        "\n",
        "for afunctionals in functionalsList:\n",
        "    print(afunctionals)"
      ],
      "metadata": {
        "id": "FZSwG8c2Qj-P"
      },
      "execution_count": null,
      "outputs": []
    },
    {
      "cell_type": "code",
      "source": [
        "for aDMFunctionalvalue in dm21.Functional:\n",
        "    print(aDMFunctionalvalue)"
      ],
      "metadata": {
        "id": "xN61RkrbQp9O"
      },
      "execution_count": null,
      "outputs": []
    },
    {
      "cell_type": "code",
      "source": [
        "choiceDFT = ['CCSDT',   'wB97X-V' ,  'Functional.DM21m'  ]\n",
        " \n",
        "plotNandZOOMandERROR(choiceDFT , myfigsize=(20, 16), myfontsize=20, ylimits = [-200, -185], xlimits = [0.0, 3], ErrorNN = [ 'NN-Functional.DM21m' , 'DFT-wB97X-V'])\n"
      ],
      "metadata": {
        "id": "cyQbvOeMPaYY"
      },
      "execution_count": null,
      "outputs": []
    },
    {
      "cell_type": "code",
      "source": [
        "choiceDFT = ['CCSDT',   'SCAN' ,  'Functional.DM21', 'Functional.DM21m', 'Functional.DM21mu', 'Functional.DM21mc' ]\n",
        " \n",
        "plotNandZOOMandERROR(choiceDFT , myfigsize=(20, 16), myfontsize=20, ylimits = [-200, -185], xlimits = [0.0, 3])\n"
      ],
      "metadata": {
        "id": "96BCvTJsN0mc"
      },
      "execution_count": null,
      "outputs": []
    },
    {
      "cell_type": "code",
      "source": [
        "choiceDFT = ['CCSDT',   'pbe' ,  'Functional.DM21', 'Functional.DM21m', 'Functional.DM21mu', 'Functional.DM21mc' ]\n",
        " \n",
        "plotNandZOOM(choiceDFT , myfigsize=(20, 16), myfontsize=20, ylimits = [-1.2, -0.75], xlimits = [0.5, 4.2])\n"
      ],
      "metadata": {
        "id": "P1ZJAIQfPQAg"
      },
      "execution_count": null,
      "outputs": []
    },
    {
      "cell_type": "code",
      "source": [
        "choiceDFT = ['CCSDT',   'pbe' ,    'Functional.DM21m']\n",
        "plotNand(choiceDFT , myfigsize=(18, 16), myfontsize=20)"
      ],
      "metadata": {
        "id": "v87mN4Z9YTX7"
      },
      "execution_count": null,
      "outputs": []
    },
    {
      "cell_type": "code",
      "source": [
        "choiceDFT = ['CCSDT', 'wB97X-V' , 'Functional.DM21m']\n",
        "\n",
        "plotNandZOOM(choiceDFT , myfigsize=(20, 16), myfontsize=38, ylimits =  [-200, -190], xlimits = [0.2, 3], mytitle='Computed PES of diatomic fluorine ')\n"
      ],
      "metadata": {
        "id": "O_rU5kQVdw22"
      },
      "execution_count": null,
      "outputs": []
    },
    {
      "cell_type": "code",
      "source": [
        "choiceDFT = ['CCSDT', 'wB97X-V' , 'Functional.DM21m']\n",
        "\n",
        "plotNandZOOMandERROR(choiceDFT , myfigsize=(20, 16), myfontsize=38, ylimits =  [-200, -190], xlimits = [0.2, 3], mytitle='Computed PES of diatomic fluorine ')\n"
      ],
      "metadata": {
        "id": "huKDzbD4Xr1i"
      },
      "execution_count": null,
      "outputs": []
    },
    {
      "cell_type": "code",
      "source": [
        "choiceDFT = ['CCSDT', 'wB97X-V' , 'Functional.DM21m']\n",
        "\n",
        "plotNandZOOM(choiceDFT , myfigsize=(20, 16), myfontsize=38, ylimits =  [-200, -195], xlimits = [0.2, 3], mytitle='Computed PES of diatomic fluorine ')\n"
      ],
      "metadata": {
        "id": "r9mNv1NVM5Ws"
      },
      "execution_count": null,
      "outputs": []
    },
    {
      "cell_type": "code",
      "source": [
        "choiceDFT = ['CCSDT', 'wB97X-V' ,  'Functional.DM21m',  'Functional.DM21mu', 'b3lyp']\n",
        "\n",
        "plotNandZOOM(choiceDFT , myfigsize=(20, 16), myfontsize=20, ylimits = [-200, -195], xlimits = [0, 4])\n"
      ],
      "metadata": {
        "id": "dqh5ejIxd5nG"
      },
      "execution_count": null,
      "outputs": []
    },
    {
      "cell_type": "code",
      "source": [
        "choiceDFT = ['CCSDT',  'b3lyp', 'Functional.DM21m',  'Functional.DM21mu', 'b3lyp']\n",
        "\n",
        "plotNandZOOM(choiceDFT , myfigsize=(20, 16), myfontsize=20, ylimits = [-200, -195], xlimits = [0,  3])\n"
      ],
      "metadata": {
        "id": "1dd7Vv6VNN_2"
      },
      "execution_count": null,
      "outputs": []
    },
    {
      "cell_type": "code",
      "source": [],
      "metadata": {
        "id": "10GCYPY0NMnf"
      },
      "execution_count": null,
      "outputs": []
    },
    {
      "cell_type": "code",
      "source": [
        "choiceDFT = ['CCSDT', 'wB97X-V' ,  'Functional.DM21m',  'Functional.DM21mu']\n",
        "\n",
        "plotNandZOOM(choiceDFT , myfigsize=(20, 16), myfontsize=20, ylimits = [-1.2, -0.85], xlimits = [0, 4])\n"
      ],
      "metadata": {
        "id": "UIEYqqx5kd3Q"
      },
      "execution_count": null,
      "outputs": []
    },
    {
      "cell_type": "code",
      "source": [
        "choiceDFT = ['CCSDT', 'wB97X-V' ,  'Functional.DM21m',  'Functional.DM21mu']\n",
        "\n",
        "plotNandZOOM(choiceDFT , myfigsize=(20, 16), myfontsize=20, ylimits = [-1.2, -0.85], xlimits = [0, 3])\n"
      ],
      "metadata": {
        "id": "3ni66SJ8KVHr"
      },
      "execution_count": null,
      "outputs": []
    },
    {
      "cell_type": "code",
      "source": [
        "choiceDFT = ['CCSDT', 'wB97X-V' ,  'Functional.DM21m',  'Functional.DM21mu']\n",
        "\n",
        "plotNandZOOM(choiceDFT , myfigsize=(20, 16), myfontsize=20, ylimits = [-1.2, -0.85], xlimits = [0, 3])\n"
      ],
      "metadata": {
        "id": "4JEfolaSdDXd"
      },
      "execution_count": null,
      "outputs": []
    },
    {
      "cell_type": "code",
      "source": [
        "choiceDFT = ['CCSDT', 'b3lyp' , 'Functional.DM21m']\n",
        "plotNand(choiceDFT , myfigsize=(20, 16), myfontsize=20)"
      ],
      "metadata": {
        "id": "moQe5x6DPkFG"
      },
      "execution_count": null,
      "outputs": []
    },
    {
      "cell_type": "code",
      "source": [
        "choiceDFT = ['CCSDT', 'wB97X-V' , 'Functional.DM21m']\n",
        "plotNand(choiceDFT , myfigsize=(20, 16), myfontsize=20)"
      ],
      "metadata": {
        "id": "YUih3eHJWhA2"
      },
      "execution_count": null,
      "outputs": []
    },
    {
      "cell_type": "code",
      "source": [
        "choiceDFT = ['CCSDT', 'wB97X-V' , 'Functional.DM21m', 'pbe']\n",
        "plotNand(choiceDFT , myfigsize=(20, 16), myfontsize=20)"
      ],
      "metadata": {
        "id": "h3WfkK50Jria"
      },
      "execution_count": null,
      "outputs": []
    },
    {
      "cell_type": "markdown",
      "source": [
        "#validate the energy against NIST bechmarks ..\n",
        "manually just the ball park number some be matcoed \n",
        "\n",
        "https://cccbdb.nist.gov/bseenergy2x.asp shows  \n",
        "or  http://www.begdb.org/index.php\n",
        "\n",
        "For C, \n",
        "*   CCSD = -75.7656956\t\n",
        "*   CCST(T)/cc-pVQZ is -75.8552316\t \n",
        "\n",
        "\n",
        "\n",
        "\n"
      ],
      "metadata": {
        "id": "GBadUdue8_Eu"
      }
    },
    {
      "cell_type": "markdown",
      "source": [],
      "metadata": {
        "id": "9B0LDr_V-ug5"
      }
    },
    {
      "cell_type": "markdown",
      "source": [],
      "metadata": {
        "id": "wWVYc1zk-zZU"
      }
    },
    {
      "cell_type": "markdown",
      "source": [],
      "metadata": {
        "id": "ra4cvhSW-4Rx"
      }
    },
    {
      "cell_type": "markdown",
      "source": [],
      "metadata": {
        "id": "2aHc89r_-72e"
      }
    },
    {
      "cell_type": "markdown",
      "source": [],
      "metadata": {
        "id": "uEszPYuO-9UT"
      }
    },
    {
      "cell_type": "markdown",
      "source": [],
      "metadata": {
        "id": "JLTtseLM_CM1"
      }
    },
    {
      "cell_type": "markdown",
      "source": [],
      "metadata": {
        "id": "_NUrGKOs_HFR"
      }
    },
    {
      "cell_type": "markdown",
      "source": [],
      "metadata": {
        "id": "dNsjq_YB_L92"
      }
    },
    {
      "cell_type": "markdown",
      "source": [],
      "metadata": {
        "id": "MzgVbnCX_Q2Y"
      }
    },
    {
      "cell_type": "markdown",
      "source": [],
      "metadata": {
        "id": "Joytg4eB_Vu5"
      }
    },
    {
      "cell_type": "markdown",
      "source": [],
      "metadata": {
        "id": "BxkLE79j_ZJm"
      }
    },
    {
      "cell_type": "markdown",
      "source": [],
      "metadata": {
        "id": "K9r49Lb-_anV"
      }
    },
    {
      "cell_type": "markdown",
      "source": [],
      "metadata": {
        "id": "BKgOJJ2Q_ffs"
      }
    },
    {
      "cell_type": "markdown",
      "source": [],
      "metadata": {
        "id": "pO0Pgtly_kYb"
      }
    },
    {
      "cell_type": "markdown",
      "source": [],
      "metadata": {
        "id": "R7SxAggJ_pQ1"
      }
    },
    {
      "cell_type": "markdown",
      "source": [],
      "metadata": {
        "id": "vnLNBCBN_uJH"
      }
    },
    {
      "cell_type": "markdown",
      "source": [],
      "metadata": {
        "id": "W18Y8dgo_zB5"
      }
    },
    {
      "cell_type": "markdown",
      "source": [],
      "metadata": {
        "id": "FOl5EOai_2ca"
      }
    },
    {
      "cell_type": "markdown",
      "source": [],
      "metadata": {
        "id": "BCNkGXO__36J"
      }
    },
    {
      "cell_type": "markdown",
      "source": [],
      "metadata": {
        "id": "nLfCeZLX_8yv"
      }
    },
    {
      "cell_type": "markdown",
      "source": [],
      "metadata": {
        "id": "QCuCI5LUABrc"
      }
    },
    {
      "cell_type": "markdown",
      "source": [],
      "metadata": {
        "id": "CvTDOLXqARTf"
      }
    },
    {
      "cell_type": "markdown",
      "source": [],
      "metadata": {
        "id": "fxFX2JLKATvn"
      }
    },
    {
      "cell_type": "markdown",
      "source": [],
      "metadata": {
        "id": "7smWDcA0Af84"
      }
    },
    {
      "cell_type": "markdown",
      "source": [],
      "metadata": {
        "id": "zYMtSYn2Aumg"
      }
    },
    {
      "cell_type": "markdown",
      "source": [],
      "metadata": {
        "id": "rMZdbVVlA9QD"
      }
    },
    {
      "cell_type": "markdown",
      "source": [],
      "metadata": {
        "id": "nB9iQuToA9Rh"
      }
    },
    {
      "cell_type": "markdown",
      "source": [],
      "metadata": {
        "id": "3oViucwMBL5o"
      }
    },
    {
      "cell_type": "markdown",
      "source": [],
      "metadata": {
        "id": "hTmQKKsFBajD"
      }
    },
    {
      "cell_type": "markdown",
      "source": [],
      "metadata": {
        "id": "kxfz-1lIBaki"
      }
    },
    {
      "cell_type": "markdown",
      "source": [],
      "metadata": {
        "id": "w2VWZCdfBpMo"
      }
    },
    {
      "cell_type": "markdown",
      "source": [],
      "metadata": {
        "id": "r2Jss1YXB31x"
      }
    },
    {
      "cell_type": "markdown",
      "source": [],
      "metadata": {
        "id": "8VScTkiMB33T"
      }
    },
    {
      "cell_type": "markdown",
      "source": [],
      "metadata": {
        "id": "IEaw5nYTCGfi"
      }
    },
    {
      "cell_type": "markdown",
      "source": [],
      "metadata": {
        "id": "x4fh_1LRCVJD"
      }
    },
    {
      "cell_type": "markdown",
      "source": [],
      "metadata": {
        "id": "3_QN0IpuCVKr"
      }
    },
    {
      "cell_type": "markdown",
      "source": [],
      "metadata": {
        "id": "pYGO_PaeCjyd"
      }
    },
    {
      "cell_type": "markdown",
      "source": [],
      "metadata": {
        "id": "qOqEPhmyCycF"
      }
    },
    {
      "cell_type": "markdown",
      "source": [],
      "metadata": {
        "id": "3gDISkyACydl"
      }
    },
    {
      "cell_type": "markdown",
      "source": [],
      "metadata": {
        "id": "BfFIxswdDBFf"
      }
    },
    {
      "cell_type": "markdown",
      "source": [],
      "metadata": {
        "id": "_crREK32DPvA"
      }
    },
    {
      "cell_type": "markdown",
      "source": [],
      "metadata": {
        "id": "AFXSBAJ3DPwm"
      }
    },
    {
      "cell_type": "markdown",
      "source": [],
      "metadata": {
        "id": "FG37VE8FDeYl"
      }
    },
    {
      "cell_type": "markdown",
      "source": [],
      "metadata": {
        "id": "Fy-p6MqGDtB3"
      }
    },
    {
      "cell_type": "markdown",
      "source": [],
      "metadata": {
        "id": "X-dY6tUADtDn"
      }
    },
    {
      "cell_type": "markdown",
      "source": [],
      "metadata": {
        "id": "9PbsHRHfD6AS"
      }
    },
    {
      "cell_type": "markdown",
      "source": [],
      "metadata": {
        "id": "ugZ61gXPD6iq"
      }
    },
    {
      "cell_type": "markdown",
      "source": [],
      "metadata": {
        "id": "7FR5aBTWD-AT"
      }
    }
  ]
}