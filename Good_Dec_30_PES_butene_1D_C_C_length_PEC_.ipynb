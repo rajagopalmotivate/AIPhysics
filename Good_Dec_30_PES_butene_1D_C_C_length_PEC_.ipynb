{
  "cells": [
    {
      "cell_type": "markdown",
      "metadata": {
        "id": "view-in-github",
        "colab_type": "text"
      },
      "source": [
        "<a href=\"https://colab.research.google.com/github/rajagopalmotivate/AIPhysics/blob/master/Good_Dec_30_PES_butene_1D_C_C_length_PEC_.ipynb\" target=\"_parent\"><img src=\"https://colab.research.google.com/assets/colab-badge.svg\" alt=\"Open In Colab\"/></a>"
      ]
    },
    {
      "cell_type": "markdown",
      "metadata": {
        "id": "cjz0UJCXln1O"
      },
      "source": [
        "#Simple comparision of DFT vs NN\n",
        "## Hypothesis: NN performs as good as DFT\n",
        "## Experiment: Compare"
      ]
    },
    {
      "cell_type": "markdown",
      "metadata": {
        "id": "67HTEf4XZQ_5"
      },
      "source": [
        "*Reading materials*\n",
        "\n",
        "easy way to understand z matrix  and  angle\n",
        "\n",
        "https://www.youtube.com/watch?v=LmKuLAHNl0w\n",
        "\n",
        "https://www.youtube.com/watch?v=JyUMLSsbecI\n",
        "\n",
        "\n",
        "\n",
        "other than butene. this is butane\n",
        "\n",
        "http://ursula.chem.yale.edu/~chem220/chem220js/STUDYAIDS/movies/butane.html\n",
        "\n",
        "http://www.guenterhaucke.de/gamess/gam_grund_1/z-matrix.htm\n",
        "\n",
        "\n",
        "\n",
        "this is good butene reference\n",
        "https://ieeexplore.ieee.org/document/5510161\n",
        "\n",
        "\n",
        "\n",
        "sign to load from aradhanarajagopal@gmail.com\n",
        "\n"
      ]
    },
    {
      "cell_type": "markdown",
      "metadata": {
        "id": "f2n-glKykc7G"
      },
      "source": [
        "## Step 1: Install"
      ]
    },
    {
      "cell_type": "code",
      "execution_count": 1,
      "metadata": {
        "id": "iUe5ykKxr0Xu"
      },
      "outputs": [],
      "source": [
        "#!pip install git+git://github.com/deepmind/deepmind-research.git#subdirectory=density_functional_approximation_dm21"
      ]
    },
    {
      "cell_type": "code",
      "execution_count": 2,
      "metadata": {
        "id": "s_s-VRZZaUO4",
        "colab": {
          "base_uri": "https://localhost:8080/"
        },
        "outputId": "894254d9-a35f-499c-be51-2330d5c0cfbe"
      },
      "outputs": [
        {
          "output_type": "stream",
          "name": "stdout",
          "text": [
            "Cloning into 'deepmind-research'...\n",
            "remote: Enumerating objects: 2918, done.\u001b[K\n",
            "remote: Counting objects: 100% (255/255), done.\u001b[K\n",
            "remote: Compressing objects: 100% (187/187), done.\u001b[K\n",
            "remote: Total 2918 (delta 125), reused 152 (delta 65), pack-reused 2663\u001b[K\n",
            "Receiving objects: 100% (2918/2918), 92.02 MiB | 18.45 MiB/s, done.\n",
            "Resolving deltas: 100% (1515/1515), done.\n",
            "Updating files: 100% (762/762), done.\n"
          ]
        }
      ],
      "source": [
        "!git clone https://github.com/deepmind/deepmind-research.git\n"
      ]
    },
    {
      "cell_type": "code",
      "execution_count": 3,
      "metadata": {
        "id": "RciiP-MOaV-L",
        "colab": {
          "base_uri": "https://localhost:8080/"
        },
        "outputId": "393dc85d-46eb-4805-c55b-5fac8dcc9d9f"
      },
      "outputs": [
        {
          "output_type": "stream",
          "name": "stdout",
          "text": [
            "/content/deepmind-research/density_functional_approximation_dm21\n"
          ]
        }
      ],
      "source": [
        "cd deepmind-research/density_functional_approximation_dm21\n"
      ]
    },
    {
      "cell_type": "code",
      "execution_count": 4,
      "metadata": {
        "id": "qgN8ePgcaXzx",
        "colab": {
          "base_uri": "https://localhost:8080/",
          "height": 36
        },
        "outputId": "a0a4eb9a-e526-4125-ee18-0391aae27650"
      },
      "outputs": [
        {
          "output_type": "execute_result",
          "data": {
            "text/plain": [
              "'/content/deepmind-research/density_functional_approximation_dm21'"
            ],
            "application/vnd.google.colaboratory.intrinsic+json": {
              "type": "string"
            }
          },
          "metadata": {},
          "execution_count": 4
        }
      ],
      "source": [
        "pwd"
      ]
    },
    {
      "cell_type": "code",
      "execution_count": 5,
      "metadata": {
        "id": "pfmCosvDaYcx",
        "colab": {
          "base_uri": "https://localhost:8080/"
        },
        "outputId": "955133b6-e5c2-43e6-fb7b-fce4b940d814"
      },
      "outputs": [
        {
          "output_type": "stream",
          "name": "stdout",
          "text": [
            "Processing /content/deepmind-research/density_functional_approximation_dm21\n",
            "  Preparing metadata (setup.py) ... \u001b[?25l\u001b[?25hdone\n",
            "Requirement already satisfied: absl-py in /usr/local/lib/python3.10/dist-packages (from density-functional-approximation-dm21==0.1) (1.4.0)\n",
            "Requirement already satisfied: attrs in /usr/local/lib/python3.10/dist-packages (from density-functional-approximation-dm21==0.1) (23.1.0)\n",
            "Requirement already satisfied: h5py in /usr/local/lib/python3.10/dist-packages (from density-functional-approximation-dm21==0.1) (3.9.0)\n",
            "Requirement already satisfied: numpy in /usr/local/lib/python3.10/dist-packages (from density-functional-approximation-dm21==0.1) (1.23.5)\n",
            "Collecting pyscf>=2.0 (from density-functional-approximation-dm21==0.1)\n",
            "  Downloading pyscf-2.4.0-py3-none-manylinux_2_17_x86_64.manylinux2014_x86_64.whl (47.3 MB)\n",
            "\u001b[2K     \u001b[90m━━━━━━━━━━━━━━━━━━━━━━━━━━━━━━━━━━━━━━━━\u001b[0m \u001b[32m47.3/47.3 MB\u001b[0m \u001b[31m5.1 MB/s\u001b[0m eta \u001b[36m0:00:00\u001b[0m\n",
            "\u001b[?25hRequirement already satisfied: tensorflow in /usr/local/lib/python3.10/dist-packages (from density-functional-approximation-dm21==0.1) (2.15.0)\n",
            "Requirement already satisfied: tensorflow_hub in /usr/local/lib/python3.10/dist-packages (from density-functional-approximation-dm21==0.1) (0.15.0)\n",
            "Requirement already satisfied: scipy!=1.5.0,!=1.5.1 in /usr/local/lib/python3.10/dist-packages (from pyscf>=2.0->density-functional-approximation-dm21==0.1) (1.11.4)\n",
            "Requirement already satisfied: setuptools in /usr/local/lib/python3.10/dist-packages (from pyscf>=2.0->density-functional-approximation-dm21==0.1) (67.7.2)\n",
            "Requirement already satisfied: astunparse>=1.6.0 in /usr/local/lib/python3.10/dist-packages (from tensorflow->density-functional-approximation-dm21==0.1) (1.6.3)\n",
            "Requirement already satisfied: flatbuffers>=23.5.26 in /usr/local/lib/python3.10/dist-packages (from tensorflow->density-functional-approximation-dm21==0.1) (23.5.26)\n",
            "Requirement already satisfied: gast!=0.5.0,!=0.5.1,!=0.5.2,>=0.2.1 in /usr/local/lib/python3.10/dist-packages (from tensorflow->density-functional-approximation-dm21==0.1) (0.5.4)\n",
            "Requirement already satisfied: google-pasta>=0.1.1 in /usr/local/lib/python3.10/dist-packages (from tensorflow->density-functional-approximation-dm21==0.1) (0.2.0)\n",
            "Requirement already satisfied: libclang>=13.0.0 in /usr/local/lib/python3.10/dist-packages (from tensorflow->density-functional-approximation-dm21==0.1) (16.0.6)\n",
            "Requirement already satisfied: ml-dtypes~=0.2.0 in /usr/local/lib/python3.10/dist-packages (from tensorflow->density-functional-approximation-dm21==0.1) (0.2.0)\n",
            "Requirement already satisfied: opt-einsum>=2.3.2 in /usr/local/lib/python3.10/dist-packages (from tensorflow->density-functional-approximation-dm21==0.1) (3.3.0)\n",
            "Requirement already satisfied: packaging in /usr/local/lib/python3.10/dist-packages (from tensorflow->density-functional-approximation-dm21==0.1) (23.2)\n",
            "Requirement already satisfied: protobuf!=4.21.0,!=4.21.1,!=4.21.2,!=4.21.3,!=4.21.4,!=4.21.5,<5.0.0dev,>=3.20.3 in /usr/local/lib/python3.10/dist-packages (from tensorflow->density-functional-approximation-dm21==0.1) (3.20.3)\n",
            "Requirement already satisfied: six>=1.12.0 in /usr/local/lib/python3.10/dist-packages (from tensorflow->density-functional-approximation-dm21==0.1) (1.16.0)\n",
            "Requirement already satisfied: termcolor>=1.1.0 in /usr/local/lib/python3.10/dist-packages (from tensorflow->density-functional-approximation-dm21==0.1) (2.4.0)\n",
            "Requirement already satisfied: typing-extensions>=3.6.6 in /usr/local/lib/python3.10/dist-packages (from tensorflow->density-functional-approximation-dm21==0.1) (4.5.0)\n",
            "Requirement already satisfied: wrapt<1.15,>=1.11.0 in /usr/local/lib/python3.10/dist-packages (from tensorflow->density-functional-approximation-dm21==0.1) (1.14.1)\n",
            "Requirement already satisfied: tensorflow-io-gcs-filesystem>=0.23.1 in /usr/local/lib/python3.10/dist-packages (from tensorflow->density-functional-approximation-dm21==0.1) (0.34.0)\n",
            "Requirement already satisfied: grpcio<2.0,>=1.24.3 in /usr/local/lib/python3.10/dist-packages (from tensorflow->density-functional-approximation-dm21==0.1) (1.60.0)\n",
            "Requirement already satisfied: tensorboard<2.16,>=2.15 in /usr/local/lib/python3.10/dist-packages (from tensorflow->density-functional-approximation-dm21==0.1) (2.15.1)\n",
            "Requirement already satisfied: tensorflow-estimator<2.16,>=2.15.0 in /usr/local/lib/python3.10/dist-packages (from tensorflow->density-functional-approximation-dm21==0.1) (2.15.0)\n",
            "Requirement already satisfied: keras<2.16,>=2.15.0 in /usr/local/lib/python3.10/dist-packages (from tensorflow->density-functional-approximation-dm21==0.1) (2.15.0)\n",
            "Requirement already satisfied: wheel<1.0,>=0.23.0 in /usr/local/lib/python3.10/dist-packages (from astunparse>=1.6.0->tensorflow->density-functional-approximation-dm21==0.1) (0.42.0)\n",
            "Requirement already satisfied: google-auth<3,>=1.6.3 in /usr/local/lib/python3.10/dist-packages (from tensorboard<2.16,>=2.15->tensorflow->density-functional-approximation-dm21==0.1) (2.17.3)\n",
            "Requirement already satisfied: google-auth-oauthlib<2,>=0.5 in /usr/local/lib/python3.10/dist-packages (from tensorboard<2.16,>=2.15->tensorflow->density-functional-approximation-dm21==0.1) (1.2.0)\n",
            "Requirement already satisfied: markdown>=2.6.8 in /usr/local/lib/python3.10/dist-packages (from tensorboard<2.16,>=2.15->tensorflow->density-functional-approximation-dm21==0.1) (3.5.1)\n",
            "Requirement already satisfied: requests<3,>=2.21.0 in /usr/local/lib/python3.10/dist-packages (from tensorboard<2.16,>=2.15->tensorflow->density-functional-approximation-dm21==0.1) (2.31.0)\n",
            "Requirement already satisfied: tensorboard-data-server<0.8.0,>=0.7.0 in /usr/local/lib/python3.10/dist-packages (from tensorboard<2.16,>=2.15->tensorflow->density-functional-approximation-dm21==0.1) (0.7.2)\n",
            "Requirement already satisfied: werkzeug>=1.0.1 in /usr/local/lib/python3.10/dist-packages (from tensorboard<2.16,>=2.15->tensorflow->density-functional-approximation-dm21==0.1) (3.0.1)\n",
            "Requirement already satisfied: cachetools<6.0,>=2.0.0 in /usr/local/lib/python3.10/dist-packages (from google-auth<3,>=1.6.3->tensorboard<2.16,>=2.15->tensorflow->density-functional-approximation-dm21==0.1) (5.3.2)\n",
            "Requirement already satisfied: pyasn1-modules>=0.2.1 in /usr/local/lib/python3.10/dist-packages (from google-auth<3,>=1.6.3->tensorboard<2.16,>=2.15->tensorflow->density-functional-approximation-dm21==0.1) (0.3.0)\n",
            "Requirement already satisfied: rsa<5,>=3.1.4 in /usr/local/lib/python3.10/dist-packages (from google-auth<3,>=1.6.3->tensorboard<2.16,>=2.15->tensorflow->density-functional-approximation-dm21==0.1) (4.9)\n",
            "Requirement already satisfied: requests-oauthlib>=0.7.0 in /usr/local/lib/python3.10/dist-packages (from google-auth-oauthlib<2,>=0.5->tensorboard<2.16,>=2.15->tensorflow->density-functional-approximation-dm21==0.1) (1.3.1)\n",
            "Requirement already satisfied: charset-normalizer<4,>=2 in /usr/local/lib/python3.10/dist-packages (from requests<3,>=2.21.0->tensorboard<2.16,>=2.15->tensorflow->density-functional-approximation-dm21==0.1) (3.3.2)\n",
            "Requirement already satisfied: idna<4,>=2.5 in /usr/local/lib/python3.10/dist-packages (from requests<3,>=2.21.0->tensorboard<2.16,>=2.15->tensorflow->density-functional-approximation-dm21==0.1) (3.6)\n",
            "Requirement already satisfied: urllib3<3,>=1.21.1 in /usr/local/lib/python3.10/dist-packages (from requests<3,>=2.21.0->tensorboard<2.16,>=2.15->tensorflow->density-functional-approximation-dm21==0.1) (2.0.7)\n",
            "Requirement already satisfied: certifi>=2017.4.17 in /usr/local/lib/python3.10/dist-packages (from requests<3,>=2.21.0->tensorboard<2.16,>=2.15->tensorflow->density-functional-approximation-dm21==0.1) (2023.11.17)\n",
            "Requirement already satisfied: MarkupSafe>=2.1.1 in /usr/local/lib/python3.10/dist-packages (from werkzeug>=1.0.1->tensorboard<2.16,>=2.15->tensorflow->density-functional-approximation-dm21==0.1) (2.1.3)\n",
            "Requirement already satisfied: pyasn1<0.6.0,>=0.4.6 in /usr/local/lib/python3.10/dist-packages (from pyasn1-modules>=0.2.1->google-auth<3,>=1.6.3->tensorboard<2.16,>=2.15->tensorflow->density-functional-approximation-dm21==0.1) (0.5.1)\n",
            "Requirement already satisfied: oauthlib>=3.0.0 in /usr/local/lib/python3.10/dist-packages (from requests-oauthlib>=0.7.0->google-auth-oauthlib<2,>=0.5->tensorboard<2.16,>=2.15->tensorflow->density-functional-approximation-dm21==0.1) (3.2.2)\n",
            "Building wheels for collected packages: density-functional-approximation-dm21\n",
            "  Building wheel for density-functional-approximation-dm21 (setup.py) ... \u001b[?25l\u001b[?25hdone\n",
            "  Created wheel for density-functional-approximation-dm21: filename=density_functional_approximation_dm21-0.1-py3-none-any.whl size=6085567 sha256=314595d7a6149fbcd5bc6992e601676da2f85d09602c221fa8fce45b7b40044b\n",
            "  Stored in directory: /tmp/pip-ephem-wheel-cache-sz7mojt1/wheels/25/68/09/2a77de8f4b36ac7c69f9f21f718421ead25a35e3b3ddfb7b79\n",
            "Successfully built density-functional-approximation-dm21\n",
            "Installing collected packages: pyscf, density-functional-approximation-dm21\n",
            "Successfully installed density-functional-approximation-dm21-0.1 pyscf-2.4.0\n"
          ]
        }
      ],
      "source": [
        "!pip install .\n"
      ]
    },
    {
      "cell_type": "code",
      "execution_count": 6,
      "metadata": {
        "id": "5277iYdkaajo",
        "colab": {
          "base_uri": "https://localhost:8080/"
        },
        "outputId": "f8519268-7312-4161-e666-1b1724438302"
      },
      "outputs": [
        {
          "output_type": "stream",
          "name": "stdout",
          "text": [
            "Collecting pyscf==2.0.0\n",
            "  Downloading pyscf-2.0.0.tar.gz (7.7 MB)\n",
            "\u001b[2K     \u001b[90m━━━━━━━━━━━━━━━━━━━━━━━━━━━━━━━━━━━━━━━━\u001b[0m \u001b[32m7.7/7.7 MB\u001b[0m \u001b[31m29.1 MB/s\u001b[0m eta \u001b[36m0:00:00\u001b[0m\n",
            "\u001b[?25h  Preparing metadata (setup.py) ... \u001b[?25l\u001b[?25hdone\n",
            "Requirement already satisfied: numpy!=1.16,!=1.17,>1.8 in /usr/local/lib/python3.10/dist-packages (from pyscf==2.0.0) (1.23.5)\n",
            "Requirement already satisfied: scipy!=1.5.0,!=1.5.1 in /usr/local/lib/python3.10/dist-packages (from pyscf==2.0.0) (1.11.4)\n",
            "Requirement already satisfied: h5py>=2.6 in /usr/local/lib/python3.10/dist-packages (from pyscf==2.0.0) (3.9.0)\n",
            "Building wheels for collected packages: pyscf\n",
            "  \u001b[1;31merror\u001b[0m: \u001b[1msubprocess-exited-with-error\u001b[0m\n",
            "  \n",
            "  \u001b[31m×\u001b[0m \u001b[32mpython setup.py bdist_wheel\u001b[0m did not run successfully.\n",
            "  \u001b[31m│\u001b[0m exit code: \u001b[1;36m1\u001b[0m\n",
            "  \u001b[31m╰─>\u001b[0m See above for output.\n",
            "  \n",
            "  \u001b[1;35mnote\u001b[0m: This error originates from a subprocess, and is likely not a problem with pip.\n",
            "  Building wheel for pyscf (setup.py) ... \u001b[?25lerror\n",
            "\u001b[31m  ERROR: Failed building wheel for pyscf\u001b[0m\u001b[31m\n",
            "\u001b[0m\u001b[?25h  Running setup.py clean for pyscf\n",
            "Failed to build pyscf\n",
            "\u001b[31mERROR: Could not build wheels for pyscf, which is required to install pyproject.toml-based projects\u001b[0m\u001b[31m\n",
            "\u001b[0m"
          ]
        }
      ],
      "source": [
        "!pip install pyscf==2.0.0\n"
      ]
    },
    {
      "cell_type": "code",
      "execution_count": 123,
      "metadata": {
        "id": "I3Zqx3aO52s-"
      },
      "outputs": [],
      "source": [
        "EXPNO ='zmatrixexplore1_CC_Dec30x1'\n",
        "\n",
        "dictPeriodicTable = {'H': 1}\n",
        "\n",
        "elementname ='H'\n",
        "\n",
        "dictPeriodicTable = {'F': 9}\n",
        "\n",
        "elementname ='F'"
      ]
    },
    {
      "cell_type": "markdown",
      "metadata": {
        "id": "hfZvI5mIt4R6"
      },
      "source": [
        "  2butene_Exp3000 is Neural network latest data is at rajagopal.motivate4@gmail.com   gdrive\n",
        "\n",
        "2butene_Exp2000 is b3lyp in data is rajagopal.motivate2@gmail.com   gdrive\n",
        "\n",
        "\n"
      ]
    },
    {
      "cell_type": "code",
      "execution_count": 124,
      "metadata": {
        "id": "-IhokgA25r_9"
      },
      "outputs": [],
      "source": [
        "isDebug = False\n"
      ]
    },
    {
      "cell_type": "code",
      "execution_count": 242,
      "metadata": {
        "id": "v3fQHBV8l3hk"
      },
      "outputs": [],
      "source": [
        "\n",
        "functionalsList = ['b3lyp','M06-2X' , 'SCAN'    ,'wB97X-V',  'PW6B95' ,  'pbe' ,  'pbe0']\n",
        "\n",
        "functionalsList = [ 'b3lyp', 'SCAN'  , 'wB97X-V'  , 'pbe', 'M06-2X' ,'PW6B95'  ]\n",
        "\n",
        "functionalsList = [ 'b3lyp',  'wB97X-V' , 'SCAN'  ,   'pbe'  ]\n",
        "\n",
        "functionalsList = ['b3lyp']"
      ]
    },
    {
      "cell_type": "code",
      "execution_count": 243,
      "metadata": {
        "id": "vCmLZOlCQqgg"
      },
      "outputs": [],
      "source": [
        "ComputeThisInThisRUN = 'NN' #@param [\"DFT\", \"CCST\", \"NN\"]\n"
      ]
    },
    {
      "cell_type": "code",
      "execution_count": 244,
      "metadata": {
        "id": "KzKsx8UJTGdn"
      },
      "outputs": [],
      "source": [
        "CHOOSENaaFunctional = 'PW6B95' #@param [\"b3lyp\", \"wB97X-V\", \"PW6B95\" ]\n",
        "\n",
        "functionalsList =[CHOOSENaaFunctional]"
      ]
    },
    {
      "cell_type": "code",
      "execution_count": 245,
      "metadata": {
        "id": "BGBm0oldP-dG"
      },
      "outputs": [],
      "source": [
        "CHOOSENaNNFunctional = 'Functional.DM21m' #@param [\"Functional.DM21m\" ]\n",
        "\n"
      ]
    },
    {
      "cell_type": "code",
      "execution_count": 246,
      "metadata": {
        "id": "zVPfjAeVrzR_"
      },
      "outputs": [],
      "source": [
        "firstTimeorRestart = False"
      ]
    },
    {
      "cell_type": "code",
      "execution_count": 247,
      "metadata": {
        "id": "KtLxrQtZXTyV",
        "colab": {
          "base_uri": "https://localhost:8080/"
        },
        "outputId": "729bc8ba-9cac-4347-a35b-fdc7a854e2f4"
      },
      "outputs": [
        {
          "output_type": "stream",
          "name": "stdout",
          "text": [
            "LOOKING FOR NN-Functional.DM21m\n"
          ]
        }
      ],
      "source": [
        "lookforAlreadyCompletedHINT = 'RESTART_HINT_WORD'\n",
        "if ComputeThisInThisRUN == 'DFT':\n",
        "  lookforAlreadyCompletedHINT = 'DFT-' +  CHOOSENaaFunctional\n",
        "\n",
        "if ComputeThisInThisRUN == 'CCST':\n",
        "  lookforAlreadyCompletedHINT = 'CCST'\n",
        "\n",
        "if ComputeThisInThisRUN == 'NN':\n",
        "  lookforAlreadyCompletedHINT = 'NN-' +   CHOOSENaNNFunctional\n",
        "\n",
        "print(\"LOOKING FOR \" + lookforAlreadyCompletedHINT)\n"
      ]
    },
    {
      "cell_type": "code",
      "execution_count": 248,
      "metadata": {
        "id": "-9C7XE_1Z2oh"
      },
      "outputs": [],
      "source": [
        "moleculegeomtryTemplateinZmatrix = '''\n",
        "          O\n",
        "          H  1  BONDLENGHTOH\n",
        "          H  1  BONDLENGHTOH  2 ANGLEOHO\n",
        "          '''"
      ]
    },
    {
      "cell_type": "code",
      "execution_count": 249,
      "metadata": {
        "id": "6_wZbZJy7bhQ"
      },
      "outputs": [],
      "source": [
        "moleculegeomtryTemplateinZmatrix = '''\n",
        "          H\n",
        "          O  1  BONDLENGHTOH1\n",
        "          Li  2  BONDLENGHTOH2  1 180\n",
        "          '''"
      ]
    },
    {
      "cell_type": "code",
      "execution_count": 250,
      "metadata": {
        "id": "pGhD_fToEHeM"
      },
      "outputs": [],
      "source": [
        "moleculegeomtryTemplateinZmatrix = '''\n",
        "          H\n",
        "          O  1  BONDLENGHTOH\n",
        "          Li  2  ANGLEOHO  1 90\n",
        "          '''"
      ]
    },
    {
      "cell_type": "code",
      "execution_count": 251,
      "metadata": {
        "id": "nUFNfm_bWveq"
      },
      "outputs": [],
      "source": [
        "moleculegeomtryTemplateinZmatrix = '''\n",
        "          H\n",
        "          Li  1  BONDLENGHTOH\n",
        "          O  2  ANGLEOHO  1 90\n",
        "          '''"
      ]
    },
    {
      "cell_type": "code",
      "execution_count": 252,
      "metadata": {
        "id": "UIFBpUWsiZLZ"
      },
      "outputs": [],
      "source": [
        "moleculegeomtryTemplateinZmatrix = '''\n",
        "          H\n",
        "          H  1  BONDLENGHTOH\n",
        "          H  2  ANGLEOHO  1 180\n",
        "          '''"
      ]
    },
    {
      "cell_type": "code",
      "execution_count": 253,
      "metadata": {
        "id": "BywuEFIdpX-U"
      },
      "outputs": [],
      "source": [
        "moleculegeomtryTemplateinZmatrix = '''\n",
        "C\n",
        "C  1  1.5069\n",
        "C  2  BONDLENGHTOH  1  120\n",
        "C  3  1.5069  2  120  1  ANGLEOHO\n",
        "H  1  1.0900  2  109.47  3  300\n",
        "H  1  1.0900  2  109.47  3  60\n",
        "H  1  1.0900  2  109.47  3  180\n",
        "H  2  1.0800  1  120  3  180\n",
        "H  3  1.0800  2  120  1  0.0\n",
        "H  4  1.0900  3  109.47  2  60.00\n",
        "H  4  1.0900  3  109.47  2  180.00\n",
        "H  4  1.0900  3  109.47  2  300\n",
        "'''"
      ]
    },
    {
      "cell_type": "markdown",
      "metadata": {
        "id": "fWT4K961agwL"
      },
      "source": [
        "H1 --1.1--   H2 -10-- H3\n",
        "\n",
        "1 H  \n",
        "2 H   1    1.1\n",
        "3 H   2    10     1    180\n",
        "\n",
        "https://www.youtube.com/watch?v=iVP3aiZ96Ho z matrix"
      ]
    },
    {
      "cell_type": "code",
      "execution_count": 254,
      "metadata": {
        "id": "gfBMuOaXw0FT"
      },
      "outputs": [],
      "source": [
        "\n",
        "import numpy as np\n",
        "import pandas as pd"
      ]
    },
    {
      "cell_type": "code",
      "execution_count": 255,
      "metadata": {
        "id": "GWTQGQaGX7B3"
      },
      "outputs": [],
      "source": [
        "Global_Range_BONDANGLE_OHO = np.arange(0.1, 3, 0.2, dtype=float )\n",
        "\n",
        "Global_Range_BONDANGLE_OHO = np.arange(0.1, 1.5, 0.1, dtype=float )\n",
        "\n",
        "Global_Range_BONDANGLE_OHO = np.arange(0.1, 1.5, 0.05, dtype=float )\n",
        "\n",
        "Global_Range_BONDANGLE_OHO = np.arange(0, 10 , 60, dtype=float )\n"
      ]
    },
    {
      "cell_type": "code",
      "execution_count": 256,
      "metadata": {
        "id": "fJ4f7pUQ8zYl"
      },
      "outputs": [],
      "source": [
        "\n",
        "\n",
        "Global_Range_BONDLENGTH_HO = np.arange(0.1, 1, 0.1, dtype=float)\n",
        "\n",
        "Global_Range_BONDLENGTH_HO = np.arange(0.1, 1.5, 0.05, dtype=float)\n",
        "\n",
        "Global_Range_BONDLENGTH_HO = np.arange(1   , 1.8 + 0.08, 0.4, dtype=float)\n"
      ]
    },
    {
      "cell_type": "code",
      "execution_count": 257,
      "metadata": {
        "id": "Y4UOUzr-A9iy"
      },
      "outputs": [],
      "source": [
        "Global_Range_BONDANGLE_OHO = np.round (Global_Range_BONDANGLE_OHO, 3)\n",
        "Global_Range_BONDLENGTH_HO = np.round (Global_Range_BONDLENGTH_HO, 3)"
      ]
    },
    {
      "cell_type": "code",
      "execution_count": 257,
      "metadata": {
        "id": "h6QDEiKnBbjF"
      },
      "outputs": [],
      "source": []
    },
    {
      "cell_type": "code",
      "execution_count": 258,
      "metadata": {
        "id": "NONZS1jmHFnD",
        "colab": {
          "base_uri": "https://localhost:8080/"
        },
        "outputId": "95f26973-0ade-4026-9ab6-ffab96a8c6aa"
      },
      "outputs": [
        {
          "output_type": "execute_result",
          "data": {
            "text/plain": [
              "3"
            ]
          },
          "metadata": {},
          "execution_count": 258
        }
      ],
      "source": [
        "len(Global_Range_BONDLENGTH_HO)"
      ]
    },
    {
      "cell_type": "code",
      "source": [
        "\n",
        "\n"
      ],
      "metadata": {
        "id": "KZxb7ATl76wy"
      },
      "execution_count": 258,
      "outputs": []
    },
    {
      "cell_type": "code",
      "execution_count": 259,
      "metadata": {
        "id": "tPabjmmGBdNx",
        "colab": {
          "base_uri": "https://localhost:8080/"
        },
        "outputId": "60759dc3-2ca3-4d4f-ed4d-8f3633370213"
      },
      "outputs": [
        {
          "output_type": "execute_result",
          "data": {
            "text/plain": [
              "array([0.])"
            ]
          },
          "metadata": {},
          "execution_count": 259
        }
      ],
      "source": [
        "Global_Range_BONDANGLE_OHO"
      ]
    },
    {
      "cell_type": "code",
      "execution_count": 260,
      "metadata": {
        "id": "LtM5-3cTHKEs",
        "colab": {
          "base_uri": "https://localhost:8080/"
        },
        "outputId": "23d7281b-0244-4b7f-d3c5-a7fc8cb7bb3e"
      },
      "outputs": [
        {
          "output_type": "execute_result",
          "data": {
            "text/plain": [
              "1"
            ]
          },
          "metadata": {},
          "execution_count": 260
        }
      ],
      "source": [
        "len([*Global_Range_BONDANGLE_OHO] )"
      ]
    },
    {
      "cell_type": "code",
      "execution_count": 261,
      "metadata": {
        "id": "KDzZCuEvBenO",
        "colab": {
          "base_uri": "https://localhost:8080/"
        },
        "outputId": "efd3a418-c090-4669-da94-28580fa4f373"
      },
      "outputs": [
        {
          "output_type": "execute_result",
          "data": {
            "text/plain": [
              "array([1. , 1.4, 1.8])"
            ]
          },
          "metadata": {},
          "execution_count": 261
        }
      ],
      "source": [
        "Global_Range_BONDLENGTH_HO"
      ]
    },
    {
      "cell_type": "code",
      "execution_count": 262,
      "metadata": {
        "id": "nrmDeI2WaFhd",
        "colab": {
          "base_uri": "https://localhost:8080/",
          "height": 54
        },
        "outputId": "bb58ff65-45e3-4ce8-f267-79441bd3b14d"
      },
      "outputs": [
        {
          "output_type": "execute_result",
          "data": {
            "text/plain": [
              "'\\nC\\nC  1  1.5069\\nC  2  BONDLENGHTOH  1  120\\nC  3  1.5069  2  120  1  ANGLEOHO\\nH  1  1.0900  2  109.47  3  300\\nH  1  1.0900  2  109.47  3  60\\nH  1  1.0900  2  109.47  3  180\\nH  2  1.0800  1  120  3  180\\nH  3  1.0800  2  120  1  0.0\\nH  4  1.0900  3  109.47  2  60.00\\nH  4  1.0900  3  109.47  2  180.00\\nH  4  1.0900  3  109.47  2  300\\n'"
            ],
            "application/vnd.google.colaboratory.intrinsic+json": {
              "type": "string"
            }
          },
          "metadata": {},
          "execution_count": 262
        }
      ],
      "source": [
        "moleculegeomtryTemplateinZmatrix"
      ]
    },
    {
      "cell_type": "code",
      "execution_count": 263,
      "metadata": {
        "id": "Zk4fl4t1waWn"
      },
      "outputs": [],
      "source": [
        "listBasisSet = ['def2-QZVP' , 'cc-pCVTZ' ,  'aug-pc-3' , 'aug-cc-pV(Q+d)Z', 'aug-cc-pCV5Z', 'aug-ccpwCV5Z', '6-21g']\n",
        "\n",
        "listBasisSet = ['cc-pCVDZ' , 'def2-QZVP' , 'cc-pCVTZ' ,  'aug-pc-3' , 'aug-cc-pV(Q+d)Z', 'aug-cc-pCV5Z', 'aug-ccpwCV5Z', '6-31g', 'STO-3G' , 'def2-QZVPPD' ]\n",
        "\n",
        "listBasisSet = [   'cc-pVDZ' ]\n",
        "\n",
        "\n"
      ]
    },
    {
      "cell_type": "code",
      "execution_count": 264,
      "metadata": {
        "id": "UtBlZPN-oaAI"
      },
      "outputs": [],
      "source": [
        "BASISSETTOUSE =   'cc-pVDZ'\n",
        "\n"
      ]
    },
    {
      "cell_type": "code",
      "execution_count": 265,
      "metadata": {
        "id": "BwAkua2vp_t5"
      },
      "outputs": [],
      "source": [
        "def downloadBasisSetAutoVersion(ElementsinMolecule, BasisSet):\n",
        "    for versionumber in range (0,4):\n",
        "      target_url = 'https://www.basissetexchange.org/api/basis/' + str(BasisSet) +  '/format/nwchem/?version='+ str( versionumber)+'&elements=' + str(ElementsinMolecule)\n",
        "      try:\n",
        "        textfile = urllib.request.urlopen(target_url)\n",
        "        mydownloadedfile = \"\"\n",
        "        for line in textfile:\n",
        "            #print(line.decode('utf-8')) #utf-8 or iso8859-1 or whatever the page encoding scheme is\n",
        "            mydownloadedfile += line.decode('utf-8')\n",
        "        return mydownloadedfile\n",
        "      except:\n",
        "        return None"
      ]
    },
    {
      "cell_type": "code",
      "execution_count": 266,
      "metadata": {
        "id": "cE3i5VCSOPf1",
        "colab": {
          "base_uri": "https://localhost:8080/"
        },
        "outputId": "dadf4387-ad7e-4ddc-f2b7-98f522a314c0"
      },
      "outputs": [
        {
          "output_type": "stream",
          "name": "stdout",
          "text": [
            "Requirement already satisfied: py3Dmol in /usr/local/lib/python3.10/dist-packages (2.0.4)\n"
          ]
        }
      ],
      "source": [
        "!pip install py3Dmol"
      ]
    },
    {
      "cell_type": "code",
      "execution_count": 267,
      "metadata": {
        "id": "_KBcncrbMgAV"
      },
      "outputs": [],
      "source": [
        "\n",
        "import py3Dmol\n"
      ]
    },
    {
      "cell_type": "markdown",
      "metadata": {
        "id": "9BLJOgbYNVRu"
      },
      "source": [
        "#  basis set and as per DM21 authors\n",
        "For all benchmarking, we use the large aug'-def2-QZVP basis set  \n",
        "\n",
        "During training,\n",
        "For all the atoms and diatomic molecules in the regression set we generate the features for\n",
        "the SCF loss at PySCF grid level 2 and use the largest basis set in the aug-pc-X family such\n",
        "that the number of basis functions is less than 128.\n",
        "For larger neutral molecules we use grid\n",
        "level 1 and the largest basis set with less than 128 basis functions from cc-pCV(Q+d)Z, ccpCV(T+d)Z, cc-pV(T+d)Z or cc-pV(D+d)Z"
      ]
    },
    {
      "cell_type": "code",
      "execution_count": 268,
      "metadata": {
        "id": "XG1_wImSudEF"
      },
      "outputs": [],
      "source": [
        "dictPeriodicTableSpinValues = {'H': 1,  'He': 0, 'Li': 1, 'Be': 0, 'B': 1, 'C': 0, 'N': 1, 'O': 0, 'F': 1, 'Cl': 0 }"
      ]
    },
    {
      "cell_type": "code",
      "execution_count": 269,
      "metadata": {
        "id": "FWO3uFau6Gs-",
        "colab": {
          "base_uri": "https://localhost:8080/"
        },
        "outputId": "e06181ef-e185-44d2-c357-d5396c071562"
      },
      "outputs": [
        {
          "output_type": "stream",
          "name": "stdout",
          "text": [
            "Drive already mounted at /content/drive; to attempt to forcibly remount, call drive.mount(\"/content/drive\", force_remount=True).\n"
          ]
        }
      ],
      "source": [
        "from google.colab import drive\n",
        "drive.mount('/content/drive')"
      ]
    },
    {
      "cell_type": "code",
      "execution_count": 270,
      "metadata": {
        "id": "1FEfC98yhy4_"
      },
      "outputs": [],
      "source": [
        "import pandas as pd\n",
        "\n"
      ]
    },
    {
      "cell_type": "code",
      "execution_count": 271,
      "metadata": {
        "id": "15AX-Vr9hgIk"
      },
      "outputs": [],
      "source": [
        "if firstTimeorRestart == False:\n",
        "  #df = pd.read_csv('/content/drive/My Drive/DeepMind' + EXPNO+ 'CE-Final-.csv' )\n",
        "  dfRestart = pd.read_csv('/content/drive/My Drive/tryDeepMind' + EXPNO+ 'CE-temp2D-.csv' )\n",
        "  dfRestart2 = dfRestart.drop_duplicates(keep='first')\n",
        "  dfRestart = dfRestart2\n"
      ]
    },
    {
      "cell_type": "code",
      "execution_count": 271,
      "metadata": {
        "id": "W8YnoXuvP3ux"
      },
      "outputs": [],
      "source": []
    },
    {
      "cell_type": "markdown",
      "metadata": {
        "id": "Eq-LQv17kkhc"
      },
      "source": [
        "## Step 2: Configure RAM optionally"
      ]
    },
    {
      "cell_type": "code",
      "execution_count": 272,
      "metadata": {
        "id": "Y_W-hLjur8Pr",
        "colab": {
          "base_uri": "https://localhost:8080/"
        },
        "outputId": "86498081-8787-4078-f86f-8138506fa613"
      },
      "outputs": [
        {
          "output_type": "execute_result",
          "data": {
            "text/plain": [
              "111910"
            ]
          },
          "metadata": {},
          "execution_count": 272
        }
      ],
      "source": [
        "from pyscf import gto\n",
        "from pyscf import dft\n",
        "\n",
        "from pyscf import __config__\n",
        "MAX_MEMORY = getattr(__config__, 'MAX_MEMORY')\n",
        "MAX_MEMORY"
      ]
    },
    {
      "cell_type": "code",
      "execution_count": 273,
      "metadata": {
        "id": "HYnC_d1zGtkp",
        "colab": {
          "base_uri": "https://localhost:8080/"
        },
        "outputId": "debc0e5f-48eb-4bd8-a5a7-7264a545d28d"
      },
      "outputs": [
        {
          "output_type": "stream",
          "name": "stdout",
          "text": [
            "Configured to use max RAM resources of  110359\n"
          ]
        }
      ],
      "source": [
        "import psutil\n",
        "systemresources = psutil.virtual_memory()\n",
        "\n",
        "MAX_MEMORY = round( systemresources.available  * 0.000009)\n",
        "PYSCF_MAX_MEMORY  = MAX_MEMORY\n",
        "\n",
        "print('Configured to use max RAM resources of  ' + str(MAX_MEMORY))"
      ]
    },
    {
      "cell_type": "code",
      "execution_count": 274,
      "metadata": {
        "id": "XGAMq215KZ2t"
      },
      "outputs": [],
      "source": [
        "setattr(__config__, 'MAX_MEMORY', PYSCF_MAX_MEMORY)\n",
        "\n",
        "setattr(__config__, 'PYSCF_MAX_MEMORY', PYSCF_MAX_MEMORY)\n",
        "\n"
      ]
    },
    {
      "cell_type": "markdown",
      "metadata": {
        "id": "kkLxVwULYhC5"
      },
      "source": []
    },
    {
      "cell_type": "code",
      "execution_count": 275,
      "metadata": {
        "id": "h_mNg2CxI4Ql",
        "colab": {
          "base_uri": "https://localhost:8080/"
        },
        "outputId": "be3f9b45-cd8c-4329-ba84-172d1fa7d8a8"
      },
      "outputs": [
        {
          "output_type": "execute_result",
          "data": {
            "text/plain": [
              "110359"
            ]
          },
          "metadata": {},
          "execution_count": 275
        }
      ],
      "source": [
        "MAX_MEMORY = getattr(__config__, 'MAX_MEMORY')\n",
        "MAX_MEMORY"
      ]
    },
    {
      "cell_type": "markdown",
      "metadata": {
        "id": "BF8o9PZnoXzL"
      },
      "source": [
        "## Step 3:\n",
        "\n",
        "### 3.1 Define the periodic table (Define atomic weight and periodic weight for each element)\n",
        "\n",
        "### 3.2 Define the spin value for each element\n",
        "\n",
        "### 3.3 You can load any new basis function.  Just visit the Basics Exchange and get a new Basis Function URL .  \n",
        "#### here we download a basis set full defintion file from an URL and then use it to construct a molecule  \n",
        "\n",
        "#### To get a web URL, just visit https://www.basissetexchange.org/"
      ]
    },
    {
      "cell_type": "markdown",
      "metadata": {
        "id": "oLOgjrRQhdQk"
      },
      "source": [
        "\n",
        "http://vergil.chemistry.gatech.edu/courses/chem6485/pdf/basis-sets.pdf\n",
        "\n",
        "https://youtu.be/irQ_c_fW5f8?t=971\n",
        "\n",
        "\n",
        "1.   cc-pCVXZ or aug-cc-pCVXZ basis sets;  you should use basis sets like this if you do not freeze core\n",
        "2.   cc-pVQZ is great for CCSD(T)\n",
        "\n"
      ]
    },
    {
      "cell_type": "code",
      "execution_count": 276,
      "metadata": {
        "id": "a289v8vDEE_E"
      },
      "outputs": [],
      "source": [
        "def trydownloadingBasisSet(ElementsinMolecule, BasisSet, versionno):\n",
        "    target_url = 'https://www.basissetexchange.org/api/basis/' + str(BasisSet) +  '/format/nwchem/?version='+ str( versionno)+'&elements=' + str(ElementsinMolecule)\n",
        "    #print(target_url)\n",
        "    try:\n",
        "      textfile = urllib.request.urlopen(target_url)\n",
        "      mydownloadedfile = \"\"\n",
        "      for line in textfile:\n",
        "          #print(line.decode('utf-8')) #utf-8 or iso8859-1 or whatever the page encoding scheme is\n",
        "          mydownloadedfile += line.decode('utf-8')\n",
        "      return True\n",
        "    except:\n",
        "      return False"
      ]
    },
    {
      "cell_type": "code",
      "execution_count": 277,
      "metadata": {
        "id": "dkRcJrVtfmFO"
      },
      "outputs": [],
      "source": [
        "import urllib   # the lib that handles the url stuff\n",
        "import urllib.request  # the lib that handles the url stuff\n",
        "\n",
        "\n",
        "def getValidBasisSet(MoleculeList):\n",
        "  ValidatedBasisSet = []\n",
        "  ValBSSetVersionNumberDict = {}\n",
        "  errorproneBasisSet = []\n",
        "  for BasisSet in listBasisSet:\n",
        "    didnotworkatallforanyversion = True\n",
        "    for versionno in range(0,4):\n",
        "      isworking = trydownloadingBasisSet(MoleculeList, BasisSet, versionno)\n",
        "      if isworking == True:\n",
        "        didnotworkatallforanyversion = False\n",
        "        ValBSSetVersionNumberDict[BasisSet] = versionno\n",
        "        ValidatedBasisSet.append(BasisSet)\n",
        "        break\n",
        "    if didnotworkatallforanyversion == True:\n",
        "      errorproneBasisSet.append(BasisSet)\n",
        "  return ValidatedBasisSet"
      ]
    },
    {
      "cell_type": "code",
      "execution_count": 278,
      "metadata": {
        "id": "_BV2z_OX5rH1",
        "colab": {
          "base_uri": "https://localhost:8080/"
        },
        "outputId": "da751884-ca4e-4b74-de37-bd0af2b8805a"
      },
      "outputs": [
        {
          "output_type": "execute_result",
          "data": {
            "text/plain": [
              "['cc-pVDZ']"
            ]
          },
          "metadata": {},
          "execution_count": 278
        }
      ],
      "source": [
        "\n",
        "PerdiocTableNumber = dictPeriodicTable [elementname]\n",
        "ValidatedBasisSet = getValidBasisSet(PerdiocTableNumber)\n",
        "len(ValidatedBasisSet)\n",
        "ValidatedBasisSet"
      ]
    },
    {
      "cell_type": "code",
      "execution_count": 279,
      "metadata": {
        "id": "40fAp-c8DYDn"
      },
      "outputs": [],
      "source": [
        "basisSethandpicked =[  ]"
      ]
    },
    {
      "cell_type": "code",
      "execution_count": 280,
      "metadata": {
        "id": "iGlC_ofGtzHL"
      },
      "outputs": [],
      "source": [
        "#listBasisSet = basisSet652"
      ]
    },
    {
      "cell_type": "code",
      "execution_count": 281,
      "metadata": {
        "id": "3oCykicz1IYu",
        "colab": {
          "base_uri": "https://localhost:8080/"
        },
        "outputId": "735a9c39-2059-4a71-c8da-c3b02ca5bbc6"
      },
      "outputs": [
        {
          "output_type": "stream",
          "name": "stdout",
          "text": [
            "Hello\n",
            "Nothing went wrong\n"
          ]
        }
      ],
      "source": [
        "try:\n",
        "  print(\"Hello\")\n",
        "except:\n",
        "  print(\"Something went wrong\")\n",
        "else:\n",
        "  print(\"Nothing went wrong\")"
      ]
    },
    {
      "cell_type": "code",
      "execution_count": 281,
      "metadata": {
        "id": "Nh0tMh-zzHmP"
      },
      "outputs": [],
      "source": []
    },
    {
      "cell_type": "code",
      "execution_count": 282,
      "metadata": {
        "id": "LrJBO50Sgt4v"
      },
      "outputs": [],
      "source": [
        "#downloadBasisSetAutoVersion(1,'3-21G')"
      ]
    },
    {
      "cell_type": "markdown",
      "metadata": {
        "id": "3RoPT7c8350_"
      },
      "source": [
        "geomtery optimization"
      ]
    },
    {
      "cell_type": "code",
      "execution_count": 283,
      "metadata": {
        "id": "IZFEtXrH6RwP",
        "colab": {
          "base_uri": "https://localhost:8080/"
        },
        "outputId": "f1e1eb32-4cff-4bd1-c6bf-663feb526fd3"
      },
      "outputs": [
        {
          "output_type": "stream",
          "name": "stdout",
          "text": [
            "Requirement already satisfied: pyberny in /usr/local/lib/python3.10/dist-packages (0.6.3)\n",
            "Requirement already satisfied: numpy<2.0,>=1.15 in /usr/local/lib/python3.10/dist-packages (from pyberny) (1.23.5)\n"
          ]
        }
      ],
      "source": [
        "!\tpip install -U pyberny\n"
      ]
    },
    {
      "cell_type": "code",
      "execution_count": 284,
      "metadata": {
        "id": "hdNEpI8D38FG"
      },
      "outputs": [],
      "source": [
        "from pyscf import gto\n",
        "from pyscf import scf\n",
        "from pyscf import cc\n",
        "from pyscf.cc import ccsd_t_lambda_slow as ccsd_t_lambda\n",
        "from pyscf.grad import ccsd_t as ccsd_t_grad\n",
        "from pyscf.geomopt import berny_solver\n",
        "\n",
        "def f_usefforberny_solver(mol):\n",
        "    # Compute CCSD(T) energy\n",
        "    mf = scf.RHF(mol).run()\n",
        "    mycc = cc.CCSD(mf).run()\n",
        "    et_correction = mycc.ccsd_t()\n",
        "    e_tot = mycc.e_tot + et_correction\n",
        "\n",
        "    # Compute CCSD(T) gradients\n",
        "    g = ccsd_t_grad.Gradients(mycc).kernel()\n",
        "    print('CCSD(T) nuclear gradients:')\n",
        "    print(g)\n",
        "    return e_tot, g\n"
      ]
    },
    {
      "cell_type": "code",
      "execution_count": 285,
      "metadata": {
        "id": "sKAn5K4QVc2Y"
      },
      "outputs": [],
      "source": [
        " hashLookUpMolecules = dict()\n"
      ]
    },
    {
      "cell_type": "code",
      "execution_count": 286,
      "metadata": {
        "id": "SlipAJZo3-Tw"
      },
      "outputs": [],
      "source": [
        "def GetoptimizedMolecule(randomMol):\n",
        "  global hashLookUpMolecules\n",
        "  print('****************************************************************GEOMENTRY OPTIMIZATION Starts***********************************************')\n",
        "  print('MOLECULE KEY is')\n",
        "  print([randomMol.basis])\n",
        "  if randomMol in hashLookUpMolecules:\n",
        "    saved_mol = hashLookUpMolecules[randomMol]\n",
        "    print('****************************************************************GEOMENTRY looked up from Hashtable***********************************************')\n",
        "    return saved_mol\n",
        "  fake_method = berny_solver.as_pyscf_method(randomMol, f_usefforberny_solver)\n",
        "  new_mol = berny_solver.optimize(fake_method , maxsteps=400)\n",
        "  print('Old geometry (Bohr)')\n",
        "  print(randomMol.atom_coords())\n",
        "  print('New geometry (Bohr)')\n",
        "  print(new_mol.atom_coords())\n",
        "  hashLookUpMolecules[randomMol] = new_mol\n",
        "  print('****************************************************************GEOMENTRY OPTIMIZATION Ends***********************************************')\n",
        "  return new_mol\n"
      ]
    },
    {
      "cell_type": "markdown",
      "metadata": {
        "id": "WnVMCEhX5ZzV"
      },
      "source": [
        "DM21"
      ]
    },
    {
      "cell_type": "code",
      "execution_count": 287,
      "metadata": {
        "id": "SZOfTZ7269qj"
      },
      "outputs": [],
      "source": [
        "import density_functional_approximation_dm21 as dm21\n",
        "from pyscf import gto\n",
        "from pyscf import dft"
      ]
    },
    {
      "cell_type": "code",
      "execution_count": 287,
      "metadata": {
        "id": "duaw3FC-E2G3"
      },
      "outputs": [],
      "source": []
    },
    {
      "cell_type": "code",
      "execution_count": 288,
      "metadata": {
        "id": "ICIcYlPEXLO5"
      },
      "outputs": [],
      "source": [
        "GlobalBONDLENGTH = .98"
      ]
    },
    {
      "cell_type": "code",
      "execution_count": 289,
      "metadata": {
        "id": "oUU_Zrl9nTvf"
      },
      "outputs": [],
      "source": [
        "Global_Range_BONDLENGTH_HO_Array = []"
      ]
    },
    {
      "cell_type": "code",
      "execution_count": 290,
      "metadata": {
        "id": "QWy0ZE_SnGLv"
      },
      "outputs": [],
      "source": [
        "for lengthHO in Global_Range_BONDLENGTH_HO:\n",
        "  temp =   Global_Range_BONDLENGTH_HO_Array\n"
      ]
    },
    {
      "cell_type": "code",
      "execution_count": 291,
      "metadata": {
        "id": "BuGxPpLS9x_5",
        "colab": {
          "base_uri": "https://localhost:8080/"
        },
        "outputId": "20d938bc-9ce3-4dee-a770-50cf29bbdac0"
      },
      "outputs": [
        {
          "output_type": "execute_result",
          "data": {
            "text/plain": [
              "array([1. , 1.4, 1.8])"
            ]
          },
          "metadata": {},
          "execution_count": 291
        }
      ],
      "source": [
        "Global_Range_BONDLENGTH_HO"
      ]
    },
    {
      "cell_type": "code",
      "execution_count": 292,
      "metadata": {
        "id": "nidbY1RlXiwO"
      },
      "outputs": [],
      "source": [
        "#\n",
        "GlobalBONDANGLE_OHO = 0\n"
      ]
    },
    {
      "cell_type": "code",
      "execution_count": 293,
      "metadata": {
        "id": "5b04S5KIaXan"
      },
      "outputs": [],
      "source": [
        "def getMoleculeGeomtry():\n",
        "  #print(moleculegeomtryTemplateinZmatrix)\n",
        "  #GlobalBONDANGLE_OHO = round(GlobalBONDANGLE_OHO, 3)\n",
        "  #GlobalBONDLENGTH = round (GlobalBONDLENGTH, 3)\n",
        "  moleculegeomtry = moleculegeomtryTemplateinZmatrix.replace('ANGLEOHO', str(GlobalBONDANGLE_OHO))\n",
        "  moleculegeomtry = moleculegeomtry.replace('BONDLENGHTOH', str(GlobalBONDLENGTH) )\n",
        "  print(moleculegeomtry)\n",
        "  return moleculegeomtry\n"
      ]
    },
    {
      "cell_type": "code",
      "execution_count": 294,
      "metadata": {
        "id": "esCilbs1MsMw"
      },
      "outputs": [],
      "source": [
        "def buildaMoleculeSpinfor2DPES(elementname, elementname2, mydownloadedfile, mydownloadedfile2, trythisspin ):\n",
        "      global GlobalBONDLENGTH\n",
        "      mol = gto.Mole()\n",
        "#      mol.atom = [[elementname, ( 0, 0, GlobalBONDLENGTH)], [elementname2, (0, 0, -1* GlobalBONDLENGTH)] ]\n",
        "      mol.atom = getMoleculeGeomtry()\n",
        "\n",
        "      mol.spin =  trythisspin\n",
        "      mol.symmetry = True\n",
        "     # mol.basis = { elementname: gto.parse(mydownloadedfile)  ,     elementname2: gto.parse(mydownloadedfile2)        }\n",
        "      mol.basis = BASISSETTOUSE\n",
        "      mol.charge = 0\n",
        "      #mol.max_memory = PYSCF_MAX_MEMORY\n",
        "      mol.build()\n",
        "     # print( mol.atom_coords() )\n",
        "      return mol"
      ]
    },
    {
      "cell_type": "code",
      "execution_count": 295,
      "metadata": {
        "id": "FvxnWOE5G51N"
      },
      "outputs": [],
      "source": [
        "def buildaMoleculeSpinfor2DPES(elementname, elementname2, mydownloadedfile, mydownloadedfile2, trythisspin ):\n",
        "      global GlobalBONDLENGTH\n",
        "      mol = gto.Mole()\n",
        "#      mol.atom = [[elementname, ( 0, 0, GlobalBONDLENGTH)], [elementname2, (0, 0, -1* GlobalBONDLENGTH)] ]\n",
        "      mol.atom = getMoleculeGeomtry()\n",
        "\n",
        "      mol.spin =  trythisspin\n",
        "      mol.symmetry = True\n",
        "     # mol.basis = { elementname: gto.parse(mydownloadedfile)  ,     elementname2: gto.parse(mydownloadedfile2)        }\n",
        "      mol.basis = BASISSETTOUSE\n",
        "      mol.charge = 0\n",
        "      #mol.max_memory = PYSCF_MAX_MEMORY\n",
        "      mol.build()\n",
        "     # print( mol.atom_coords() )\n",
        "      return mol"
      ]
    },
    {
      "cell_type": "code",
      "execution_count": 296,
      "metadata": {
        "id": "BYolIH7Lsxqa"
      },
      "outputs": [],
      "source": [
        "def buildaMoleculeTryMOLECULEELEMENTCOUNT2(elementname, elementname2, mydownloadedfile , mydownloadedfile2 ):\n",
        "  molecule = None\n",
        "  for spinvaluecheckthis in range(5):\n",
        "    try:\n",
        "      molecule = buildaMoleculeSpinfor2DPES(elementname,elementname2, mydownloadedfile, mydownloadedfile2, spinvaluecheckthis )\n",
        "      return molecule, spinvaluecheckthis\n",
        "      break\n",
        "    except:\n",
        "      tempexcept = True\n",
        "      #print('SPIN is not correct. Auto matically trying another spin value...')\n",
        "    else:\n",
        "      tempelse = True\n",
        "      #print('TRYING SPIN')\n",
        "  return molecule, spinvaluecheckthis\n",
        "\n"
      ]
    },
    {
      "cell_type": "code",
      "execution_count": 296,
      "metadata": {
        "id": "JJQgHAXIaunM"
      },
      "outputs": [],
      "source": [
        "\n"
      ]
    },
    {
      "cell_type": "code",
      "execution_count": 297,
      "metadata": {
        "id": "_RXf5A6a8udG"
      },
      "outputs": [],
      "source": [
        "#butene\n",
        "\n",
        "moleculegeomtryTemplateinZmatrix = '''\n",
        "C\n",
        "C  1  1.5069\n",
        "C  2  BONDLENGHTOH  1  120\n",
        "C  3  1.5069  2  120  1  ANGLEOHO\n",
        "H  1  1.0900  2  109.47  3  300\n",
        "H  1  1.0900  2  109.47  3  60\n",
        "H  1  1.0900  2  109.47  3  180\n",
        "H  2  1.0800  1  120  3  180\n",
        "H  3  1.0800  2  120  1  0\n",
        "H  4  1.0900  3  109.47  2  60\n",
        "H  4  1.0900  3  109.47  2  180\n",
        "H  4  1.0900  3  109.47  2  300\n",
        "'''\n",
        "\n",
        "Global_Range_BONDANGLE_OHO = np.arange(180, 181 , 10, dtype=float )\n",
        "#Global_Range_BONDANGLE_OHO = np.arange(160, 200 , 10, dtype=float )\n",
        "\n",
        "\n",
        "Global_Range_BONDLENGTH_HO = np.arange(0.4  , 3.0, 0.1, dtype=float)\n",
        "#Global_Range_BONDLENGTH_HO = np.arange(1.31  , 1.35, 0.04, dtype=float)\n",
        "\n"
      ]
    },
    {
      "cell_type": "code",
      "source": [
        "\n",
        "\n",
        "#butene\n",
        "\n",
        "moleculegeomtryTemplateinZmatrix = '''\n",
        "C\n",
        "C 1 BONDLENGHTOH\n",
        "C 1 1.5033 2 125.212\n",
        "C 2 1.5033 1 125.212 3 180.0\n",
        "H 1 1.08 2 118.9435 3 180.0\n",
        "H 2 1.08 1 118.9435 4 180.0\n",
        "H 3 1.0846 1 111.4522 2 0.0\n",
        "H 4 1.0846 2 111.4522 1 0.0\n",
        "H 3 1.0872 1 111.0502 7 120.5449\n",
        "H 3 1.0872 1 111.0502 7 -120.5449\n",
        "H 4 1.0872 2 111.0502 8 120.5449\n",
        "H 4 1.0872 2 111.0502 8 -120.5449\n",
        "'''\n",
        "\n",
        "Global_Range_BONDANGLE_OHO = np.arange(180, 181 , 10, dtype=float )\n",
        "#Global_Range_BONDANGLE_OHO = np.arange(160, 200 , 10, dtype=float )\n",
        "\n",
        "\n",
        "Global_Range_BONDLENGTH_HO = np.arange( 1.3196  , 1.3196 + 0.5*4, 0.2, dtype=float)\n",
        "#Global_Range_BONDLENGTH_HO = np.arange(1.31  , 1.35, 0.04, dtype=float)\n",
        "\n",
        "Global_Range_BONDLENGTH_HO = np.arange( 1.3196 - 2*0.2 , 1.3196  + 0.5*4, 0.2, dtype=float)\n",
        "\n"
      ],
      "metadata": {
        "id": "GJYWpkfxBSJp"
      },
      "execution_count": 298,
      "outputs": []
    },
    {
      "cell_type": "code",
      "source": [
        "Global_Range_BONDLENGTH_HO = np.arange( 1.3196 - 2*0.2 , 1.3196  + 5*0.2, 0.1, dtype=float)\n"
      ],
      "metadata": {
        "id": "W1ig7VgUXC_N"
      },
      "execution_count": 299,
      "outputs": []
    },
    {
      "cell_type": "code",
      "source": [
        "Global_Range_BONDLENGTH_HO"
      ],
      "metadata": {
        "colab": {
          "base_uri": "https://localhost:8080/"
        },
        "id": "nPVDq4vTWrGr",
        "outputId": "f3d09f28-3f50-41b8-ee2f-ea22f2289ec1"
      },
      "execution_count": 300,
      "outputs": [
        {
          "output_type": "execute_result",
          "data": {
            "text/plain": [
              "array([0.9196, 1.0196, 1.1196, 1.2196, 1.3196, 1.4196, 1.5196, 1.6196,\n",
              "       1.7196, 1.8196, 1.9196, 2.0196, 2.1196, 2.2196, 2.3196])"
            ]
          },
          "metadata": {},
          "execution_count": 300
        }
      ]
    },
    {
      "cell_type": "code",
      "source": [],
      "metadata": {
        "id": "bThjQK0cY2Gg"
      },
      "execution_count": 300,
      "outputs": []
    },
    {
      "cell_type": "code",
      "source": [
        "Global_Range_BONDLENGTH_HO"
      ],
      "metadata": {
        "colab": {
          "base_uri": "https://localhost:8080/"
        },
        "id": "hPqci8ktXEIc",
        "outputId": "2018de5f-b4a1-4339-a6bd-a840936f8422"
      },
      "execution_count": 301,
      "outputs": [
        {
          "output_type": "execute_result",
          "data": {
            "text/plain": [
              "array([0.9196, 1.0196, 1.1196, 1.2196, 1.3196, 1.4196, 1.5196, 1.6196,\n",
              "       1.7196, 1.8196, 1.9196, 2.0196, 2.1196, 2.2196, 2.3196])"
            ]
          },
          "metadata": {},
          "execution_count": 301
        }
      ]
    },
    {
      "cell_type": "code",
      "source": [
        "Global_Range_BONDLENGTH_HO"
      ],
      "metadata": {
        "colab": {
          "base_uri": "https://localhost:8080/"
        },
        "id": "Jno42T5sYgJ8",
        "outputId": "ca494d02-1ecf-484b-baaf-0a3552634bcd"
      },
      "execution_count": 302,
      "outputs": [
        {
          "output_type": "execute_result",
          "data": {
            "text/plain": [
              "array([0.9196, 1.0196, 1.1196, 1.2196, 1.3196, 1.4196, 1.5196, 1.6196,\n",
              "       1.7196, 1.8196, 1.9196, 2.0196, 2.1196, 2.2196, 2.3196])"
            ]
          },
          "metadata": {},
          "execution_count": 302
        }
      ]
    },
    {
      "cell_type": "code",
      "source": [
        "Global_Range_BONDLENGTH_HO = [1.0196, 1.1196, 1.2196, 1.3196, 1.4196, 1.5196, 1.7196, 1.9196, 2.1196, 2.3196]"
      ],
      "metadata": {
        "id": "zMghMKp6Y2v6"
      },
      "execution_count": 303,
      "outputs": []
    },
    {
      "cell_type": "code",
      "source": [
        "Global_Range_BONDLENGTH_HO"
      ],
      "metadata": {
        "colab": {
          "base_uri": "https://localhost:8080/"
        },
        "id": "Z4AGvu4XY6ou",
        "outputId": "cadcec3e-c7a8-4230-adf9-ac9d217c5f7d"
      },
      "execution_count": 304,
      "outputs": [
        {
          "output_type": "execute_result",
          "data": {
            "text/plain": [
              "[1.0196,\n",
              " 1.1196,\n",
              " 1.2196,\n",
              " 1.3196,\n",
              " 1.4196,\n",
              " 1.5196,\n",
              " 1.7196,\n",
              " 1.9196,\n",
              " 2.1196,\n",
              " 2.3196]"
            ]
          },
          "metadata": {},
          "execution_count": 304
        }
      ]
    },
    {
      "cell_type": "code",
      "source": [
        "type(Global_Range_BONDLENGTH_HO)"
      ],
      "metadata": {
        "colab": {
          "base_uri": "https://localhost:8080/"
        },
        "id": "cEvfF2CsW3Uk",
        "outputId": "cb52de7c-c5de-492e-c0be-2545d57fa283"
      },
      "execution_count": 305,
      "outputs": [
        {
          "output_type": "execute_result",
          "data": {
            "text/plain": [
              "list"
            ]
          },
          "metadata": {},
          "execution_count": 305
        }
      ]
    },
    {
      "cell_type": "code",
      "source": [
        "#'''\n",
        "0.9196\n",
        "1.1196\n",
        "1.3196\n",
        "1.5196\n",
        "1.7196\n",
        "1.9196\n",
        "2.1196\n",
        "2.3196\n",
        "2.5196\n",
        "\n"
      ],
      "metadata": {
        "id": "eS8yIHmNWlHL",
        "colab": {
          "base_uri": "https://localhost:8080/"
        },
        "outputId": "65081cc2-5687-456f-da91-02256ad492a0"
      },
      "execution_count": 306,
      "outputs": [
        {
          "output_type": "execute_result",
          "data": {
            "text/plain": [
              "2.5196"
            ]
          },
          "metadata": {},
          "execution_count": 306
        }
      ]
    },
    {
      "cell_type": "code",
      "source": [
        "Global_Range_BONDLENGTH_HO"
      ],
      "metadata": {
        "colab": {
          "base_uri": "https://localhost:8080/"
        },
        "id": "CI2L4DXemjU6",
        "outputId": "b8d99901-722f-4a1b-f333-a9f5494962fe"
      },
      "execution_count": 307,
      "outputs": [
        {
          "output_type": "execute_result",
          "data": {
            "text/plain": [
              "[1.0196,\n",
              " 1.1196,\n",
              " 1.2196,\n",
              " 1.3196,\n",
              " 1.4196,\n",
              " 1.5196,\n",
              " 1.7196,\n",
              " 1.9196,\n",
              " 2.1196,\n",
              " 2.3196]"
            ]
          },
          "metadata": {},
          "execution_count": 307
        }
      ]
    },
    {
      "cell_type": "code",
      "source": [
        "Global_Range_BONDANGLE_OHO"
      ],
      "metadata": {
        "colab": {
          "base_uri": "https://localhost:8080/"
        },
        "id": "sW6Z0wd_mkmI",
        "outputId": "3d0b70b4-21be-4118-d743-5c8597105152"
      },
      "execution_count": 308,
      "outputs": [
        {
          "output_type": "execute_result",
          "data": {
            "text/plain": [
              "array([180.])"
            ]
          },
          "metadata": {},
          "execution_count": 308
        }
      ]
    },
    {
      "cell_type": "code",
      "source": [
        "viewcount = 1\n",
        "\n",
        "mydownloadedfile = downloadBasisSetAutoVersion(PerdiocTableNumber,BASISSETTOUSE)\n",
        "if True:\n",
        "  if True:\n",
        "    for elementname in dictPeriodicTable.keys():\n",
        "      for lengthHO in Global_Range_BONDLENGTH_HO:\n",
        "        for angle1 in Global_Range_BONDANGLE_OHO:\n",
        "          GlobalBONDANGLE_OHO = angle1\n",
        "          GlobalBONDLENGTH =  lengthHO\n",
        "          if True :\n",
        "            if True :\n",
        "              molUnoptimized, myspin = buildaMoleculeTryMOLECULEELEMENTCOUNT2(elementname, elementname, mydownloadedfile , mydownloadedfile )\n",
        "              if molUnoptimized != None:\n",
        "                print('************************************##############################################*###############################  BONDLENGHT_HO = ' + str(GlobalBONDLENGTH))\n",
        "                print('************************************##############################################*###############################  BONDANGLE_OHO = ' + str(GlobalBONDANGLE_OHO))\n",
        "                print('.............................................Molecule Geometry......................................................')\n",
        "                viewcount = viewcount + 1\n",
        "              # print(molUnoptimized.atom_coords(unit='ANG'))\n",
        "              # print(molUnoptimized.tostring(format='xyz'))\n",
        "\n",
        "                xyz = molUnoptimized.tostring(format='xyz')\n",
        "                xyzview = py3Dmol.view(width=400,height=400)\n",
        "                xyzview.addModel(xyz , 'xyz')\n",
        "               # xyzview.setStyle({'stick':{}})\n",
        "\n",
        "              #  xyzview.setStyle( {'stick': {'radius': .1}})\n",
        "\n",
        "                xyzview.setStyle( {'stick': {'radius': .1 , 'colorscheme': 'greenCarbon'}, 'sphere':{'scale':0.24, 'colorscheme': 'greenCarbon'} } )\n",
        "                if viewcount%2 == 0:\n",
        "                  xyzview.show()\n",
        "\n"
      ],
      "metadata": {
        "colab": {
          "base_uri": "https://localhost:8080/",
          "height": 1000
        },
        "id": "VoHXAuIfpp9Q",
        "outputId": "902c7c1d-6354-4fa6-a002-ed68deb670a2"
      },
      "execution_count": 309,
      "outputs": [
        {
          "output_type": "stream",
          "name": "stdout",
          "text": [
            "\n",
            "C\n",
            "C 1 1.0196\n",
            "C 1 1.5033 2 125.212\n",
            "C 2 1.5033 1 125.212 3 180.0\n",
            "H 1 1.08 2 118.9435 3 180.0\n",
            "H 2 1.08 1 118.9435 4 180.0\n",
            "H 3 1.0846 1 111.4522 2 0.0\n",
            "H 4 1.0846 2 111.4522 1 0.0\n",
            "H 3 1.0872 1 111.0502 7 120.5449\n",
            "H 3 1.0872 1 111.0502 7 -120.5449\n",
            "H 4 1.0872 2 111.0502 8 120.5449\n",
            "H 4 1.0872 2 111.0502 8 -120.5449\n",
            "\n",
            "************************************##############################################*###############################  BONDLENGHT_HO = 1.0196\n",
            "************************************##############################################*###############################  BONDANGLE_OHO = 180.0\n",
            ".............................................Molecule Geometry......................................................\n"
          ]
        },
        {
          "output_type": "display_data",
          "data": {
            "application/3dmoljs_load.v0": "<div id=\"3dmolviewer_17039713673100417\"  style=\"position: relative; width: 400px; height: 400px;\">\n        <p id=\"3dmolwarning_17039713673100417\" style=\"background-color:#ffcccc;color:black\">You appear to be running in JupyterLab (or JavaScript failed to load for some other reason).  You need to install the 3dmol extension: <br>\n        <tt>jupyter labextension install jupyterlab_3dmol</tt></p>\n        </div>\n<script>\n\nvar loadScriptAsync = function(uri){\n  return new Promise((resolve, reject) => {\n    //this is to ignore the existence of requirejs amd\n    var savedexports, savedmodule;\n    if (typeof exports !== 'undefined') savedexports = exports;\n    else exports = {}\n    if (typeof module !== 'undefined') savedmodule = module;\n    else module = {}\n\n    var tag = document.createElement('script');\n    tag.src = uri;\n    tag.async = true;\n    tag.onload = () => {\n        exports = savedexports;\n        module = savedmodule;\n        resolve();\n    };\n  var firstScriptTag = document.getElementsByTagName('script')[0];\n  firstScriptTag.parentNode.insertBefore(tag, firstScriptTag);\n});\n};\n\nif(typeof $3Dmolpromise === 'undefined') {\n$3Dmolpromise = null;\n  $3Dmolpromise = loadScriptAsync('https://cdnjs.cloudflare.com/ajax/libs/3Dmol/2.0.4/3Dmol-min.js');\n}\n\nvar viewer_17039713673100417 = null;\nvar warn = document.getElementById(\"3dmolwarning_17039713673100417\");\nif(warn) {\n    warn.parentNode.removeChild(warn);\n}\n$3Dmolpromise.then(function() {\nviewer_17039713673100417 = $3Dmol.createViewer(document.getElementById(\"3dmolviewer_17039713673100417\"),{backgroundColor:\"white\"});\nviewer_17039713673100417.zoomTo();\n\tviewer_17039713673100417.addModel(\"12\\nXYZ from PySCF\\nC           0.00000        0.00000        0.00000\\nC           1.01960        0.00000        0.00000\\nC          -0.86681        0.00000        1.22823\\nC           1.88641       -0.00000       -1.22823\\nH          -0.52266        0.00000       -0.94511\\nH           1.54226        0.00000        0.94511\\nH          -0.27077        0.00000        2.13438\\nH           1.29037       -0.00000       -2.13438\\nH          -1.51328        0.87385        1.24996\\nH          -1.51328       -0.87385        1.24996\\nH           2.53288        0.87385       -1.24996\\nH           2.53288       -0.87385       -1.24996\",\"xyz\");\n\tviewer_17039713673100417.setStyle({\"stick\": {\"radius\": 0.1, \"colorscheme\": \"greenCarbon\"}, \"sphere\": {\"scale\": 0.24, \"colorscheme\": \"greenCarbon\"}});\nviewer_17039713673100417.render();\n});\n</script>",
            "text/html": [
              "<div id=\"3dmolviewer_17039713673100417\"  style=\"position: relative; width: 400px; height: 400px;\">\n",
              "        <p id=\"3dmolwarning_17039713673100417\" style=\"background-color:#ffcccc;color:black\">You appear to be running in JupyterLab (or JavaScript failed to load for some other reason).  You need to install the 3dmol extension: <br>\n",
              "        <tt>jupyter labextension install jupyterlab_3dmol</tt></p>\n",
              "        </div>\n",
              "<script>\n",
              "\n",
              "var loadScriptAsync = function(uri){\n",
              "  return new Promise((resolve, reject) => {\n",
              "    //this is to ignore the existence of requirejs amd\n",
              "    var savedexports, savedmodule;\n",
              "    if (typeof exports !== 'undefined') savedexports = exports;\n",
              "    else exports = {}\n",
              "    if (typeof module !== 'undefined') savedmodule = module;\n",
              "    else module = {}\n",
              "\n",
              "    var tag = document.createElement('script');\n",
              "    tag.src = uri;\n",
              "    tag.async = true;\n",
              "    tag.onload = () => {\n",
              "        exports = savedexports;\n",
              "        module = savedmodule;\n",
              "        resolve();\n",
              "    };\n",
              "  var firstScriptTag = document.getElementsByTagName('script')[0];\n",
              "  firstScriptTag.parentNode.insertBefore(tag, firstScriptTag);\n",
              "});\n",
              "};\n",
              "\n",
              "if(typeof $3Dmolpromise === 'undefined') {\n",
              "$3Dmolpromise = null;\n",
              "  $3Dmolpromise = loadScriptAsync('https://cdnjs.cloudflare.com/ajax/libs/3Dmol/2.0.4/3Dmol-min.js');\n",
              "}\n",
              "\n",
              "var viewer_17039713673100417 = null;\n",
              "var warn = document.getElementById(\"3dmolwarning_17039713673100417\");\n",
              "if(warn) {\n",
              "    warn.parentNode.removeChild(warn);\n",
              "}\n",
              "$3Dmolpromise.then(function() {\n",
              "viewer_17039713673100417 = $3Dmol.createViewer(document.getElementById(\"3dmolviewer_17039713673100417\"),{backgroundColor:\"white\"});\n",
              "viewer_17039713673100417.zoomTo();\n",
              "\tviewer_17039713673100417.addModel(\"12\\nXYZ from PySCF\\nC           0.00000        0.00000        0.00000\\nC           1.01960        0.00000        0.00000\\nC          -0.86681        0.00000        1.22823\\nC           1.88641       -0.00000       -1.22823\\nH          -0.52266        0.00000       -0.94511\\nH           1.54226        0.00000        0.94511\\nH          -0.27077        0.00000        2.13438\\nH           1.29037       -0.00000       -2.13438\\nH          -1.51328        0.87385        1.24996\\nH          -1.51328       -0.87385        1.24996\\nH           2.53288        0.87385       -1.24996\\nH           2.53288       -0.87385       -1.24996\",\"xyz\");\n",
              "\tviewer_17039713673100417.setStyle({\"stick\": {\"radius\": 0.1, \"colorscheme\": \"greenCarbon\"}, \"sphere\": {\"scale\": 0.24, \"colorscheme\": \"greenCarbon\"}});\n",
              "viewer_17039713673100417.render();\n",
              "});\n",
              "</script>"
            ]
          },
          "metadata": {}
        },
        {
          "output_type": "stream",
          "name": "stdout",
          "text": [
            "\n",
            "C\n",
            "C 1 1.1196\n",
            "C 1 1.5033 2 125.212\n",
            "C 2 1.5033 1 125.212 3 180.0\n",
            "H 1 1.08 2 118.9435 3 180.0\n",
            "H 2 1.08 1 118.9435 4 180.0\n",
            "H 3 1.0846 1 111.4522 2 0.0\n",
            "H 4 1.0846 2 111.4522 1 0.0\n",
            "H 3 1.0872 1 111.0502 7 120.5449\n",
            "H 3 1.0872 1 111.0502 7 -120.5449\n",
            "H 4 1.0872 2 111.0502 8 120.5449\n",
            "H 4 1.0872 2 111.0502 8 -120.5449\n",
            "\n",
            "************************************##############################################*###############################  BONDLENGHT_HO = 1.1196\n",
            "************************************##############################################*###############################  BONDANGLE_OHO = 180.0\n",
            ".............................................Molecule Geometry......................................................\n",
            "\n",
            "C\n",
            "C 1 1.2196\n",
            "C 1 1.5033 2 125.212\n",
            "C 2 1.5033 1 125.212 3 180.0\n",
            "H 1 1.08 2 118.9435 3 180.0\n",
            "H 2 1.08 1 118.9435 4 180.0\n",
            "H 3 1.0846 1 111.4522 2 0.0\n",
            "H 4 1.0846 2 111.4522 1 0.0\n",
            "H 3 1.0872 1 111.0502 7 120.5449\n",
            "H 3 1.0872 1 111.0502 7 -120.5449\n",
            "H 4 1.0872 2 111.0502 8 120.5449\n",
            "H 4 1.0872 2 111.0502 8 -120.5449\n",
            "\n",
            "************************************##############################################*###############################  BONDLENGHT_HO = 1.2196\n",
            "************************************##############################################*###############################  BONDANGLE_OHO = 180.0\n",
            ".............................................Molecule Geometry......................................................\n"
          ]
        },
        {
          "output_type": "display_data",
          "data": {
            "application/3dmoljs_load.v0": "<div id=\"3dmolviewer_17039713673974562\"  style=\"position: relative; width: 400px; height: 400px;\">\n        <p id=\"3dmolwarning_17039713673974562\" style=\"background-color:#ffcccc;color:black\">You appear to be running in JupyterLab (or JavaScript failed to load for some other reason).  You need to install the 3dmol extension: <br>\n        <tt>jupyter labextension install jupyterlab_3dmol</tt></p>\n        </div>\n<script>\n\nvar loadScriptAsync = function(uri){\n  return new Promise((resolve, reject) => {\n    //this is to ignore the existence of requirejs amd\n    var savedexports, savedmodule;\n    if (typeof exports !== 'undefined') savedexports = exports;\n    else exports = {}\n    if (typeof module !== 'undefined') savedmodule = module;\n    else module = {}\n\n    var tag = document.createElement('script');\n    tag.src = uri;\n    tag.async = true;\n    tag.onload = () => {\n        exports = savedexports;\n        module = savedmodule;\n        resolve();\n    };\n  var firstScriptTag = document.getElementsByTagName('script')[0];\n  firstScriptTag.parentNode.insertBefore(tag, firstScriptTag);\n});\n};\n\nif(typeof $3Dmolpromise === 'undefined') {\n$3Dmolpromise = null;\n  $3Dmolpromise = loadScriptAsync('https://cdnjs.cloudflare.com/ajax/libs/3Dmol/2.0.4/3Dmol-min.js');\n}\n\nvar viewer_17039713673974562 = null;\nvar warn = document.getElementById(\"3dmolwarning_17039713673974562\");\nif(warn) {\n    warn.parentNode.removeChild(warn);\n}\n$3Dmolpromise.then(function() {\nviewer_17039713673974562 = $3Dmol.createViewer(document.getElementById(\"3dmolviewer_17039713673974562\"),{backgroundColor:\"white\"});\nviewer_17039713673974562.zoomTo();\n\tviewer_17039713673974562.addModel(\"12\\nXYZ from PySCF\\nC           0.00000        0.00000        0.00000\\nC           1.21960        0.00000        0.00000\\nC          -0.86681        0.00000        1.22823\\nC           2.08641       -0.00000       -1.22823\\nH          -0.52266        0.00000       -0.94511\\nH           1.74226        0.00000        0.94511\\nH          -0.27077        0.00000        2.13438\\nH           1.49037       -0.00000       -2.13438\\nH          -1.51328        0.87385        1.24996\\nH          -1.51328       -0.87385        1.24996\\nH           2.73288        0.87385       -1.24996\\nH           2.73288       -0.87385       -1.24996\",\"xyz\");\n\tviewer_17039713673974562.setStyle({\"stick\": {\"radius\": 0.1, \"colorscheme\": \"greenCarbon\"}, \"sphere\": {\"scale\": 0.24, \"colorscheme\": \"greenCarbon\"}});\nviewer_17039713673974562.render();\n});\n</script>",
            "text/html": [
              "<div id=\"3dmolviewer_17039713673974562\"  style=\"position: relative; width: 400px; height: 400px;\">\n",
              "        <p id=\"3dmolwarning_17039713673974562\" style=\"background-color:#ffcccc;color:black\">You appear to be running in JupyterLab (or JavaScript failed to load for some other reason).  You need to install the 3dmol extension: <br>\n",
              "        <tt>jupyter labextension install jupyterlab_3dmol</tt></p>\n",
              "        </div>\n",
              "<script>\n",
              "\n",
              "var loadScriptAsync = function(uri){\n",
              "  return new Promise((resolve, reject) => {\n",
              "    //this is to ignore the existence of requirejs amd\n",
              "    var savedexports, savedmodule;\n",
              "    if (typeof exports !== 'undefined') savedexports = exports;\n",
              "    else exports = {}\n",
              "    if (typeof module !== 'undefined') savedmodule = module;\n",
              "    else module = {}\n",
              "\n",
              "    var tag = document.createElement('script');\n",
              "    tag.src = uri;\n",
              "    tag.async = true;\n",
              "    tag.onload = () => {\n",
              "        exports = savedexports;\n",
              "        module = savedmodule;\n",
              "        resolve();\n",
              "    };\n",
              "  var firstScriptTag = document.getElementsByTagName('script')[0];\n",
              "  firstScriptTag.parentNode.insertBefore(tag, firstScriptTag);\n",
              "});\n",
              "};\n",
              "\n",
              "if(typeof $3Dmolpromise === 'undefined') {\n",
              "$3Dmolpromise = null;\n",
              "  $3Dmolpromise = loadScriptAsync('https://cdnjs.cloudflare.com/ajax/libs/3Dmol/2.0.4/3Dmol-min.js');\n",
              "}\n",
              "\n",
              "var viewer_17039713673974562 = null;\n",
              "var warn = document.getElementById(\"3dmolwarning_17039713673974562\");\n",
              "if(warn) {\n",
              "    warn.parentNode.removeChild(warn);\n",
              "}\n",
              "$3Dmolpromise.then(function() {\n",
              "viewer_17039713673974562 = $3Dmol.createViewer(document.getElementById(\"3dmolviewer_17039713673974562\"),{backgroundColor:\"white\"});\n",
              "viewer_17039713673974562.zoomTo();\n",
              "\tviewer_17039713673974562.addModel(\"12\\nXYZ from PySCF\\nC           0.00000        0.00000        0.00000\\nC           1.21960        0.00000        0.00000\\nC          -0.86681        0.00000        1.22823\\nC           2.08641       -0.00000       -1.22823\\nH          -0.52266        0.00000       -0.94511\\nH           1.74226        0.00000        0.94511\\nH          -0.27077        0.00000        2.13438\\nH           1.49037       -0.00000       -2.13438\\nH          -1.51328        0.87385        1.24996\\nH          -1.51328       -0.87385        1.24996\\nH           2.73288        0.87385       -1.24996\\nH           2.73288       -0.87385       -1.24996\",\"xyz\");\n",
              "\tviewer_17039713673974562.setStyle({\"stick\": {\"radius\": 0.1, \"colorscheme\": \"greenCarbon\"}, \"sphere\": {\"scale\": 0.24, \"colorscheme\": \"greenCarbon\"}});\n",
              "viewer_17039713673974562.render();\n",
              "});\n",
              "</script>"
            ]
          },
          "metadata": {}
        },
        {
          "output_type": "stream",
          "name": "stdout",
          "text": [
            "\n",
            "C\n",
            "C 1 1.3196\n",
            "C 1 1.5033 2 125.212\n",
            "C 2 1.5033 1 125.212 3 180.0\n",
            "H 1 1.08 2 118.9435 3 180.0\n",
            "H 2 1.08 1 118.9435 4 180.0\n",
            "H 3 1.0846 1 111.4522 2 0.0\n",
            "H 4 1.0846 2 111.4522 1 0.0\n",
            "H 3 1.0872 1 111.0502 7 120.5449\n",
            "H 3 1.0872 1 111.0502 7 -120.5449\n",
            "H 4 1.0872 2 111.0502 8 120.5449\n",
            "H 4 1.0872 2 111.0502 8 -120.5449\n",
            "\n",
            "************************************##############################################*###############################  BONDLENGHT_HO = 1.3196\n",
            "************************************##############################################*###############################  BONDANGLE_OHO = 180.0\n",
            ".............................................Molecule Geometry......................................................\n",
            "\n",
            "C\n",
            "C 1 1.4196\n",
            "C 1 1.5033 2 125.212\n",
            "C 2 1.5033 1 125.212 3 180.0\n",
            "H 1 1.08 2 118.9435 3 180.0\n",
            "H 2 1.08 1 118.9435 4 180.0\n",
            "H 3 1.0846 1 111.4522 2 0.0\n",
            "H 4 1.0846 2 111.4522 1 0.0\n",
            "H 3 1.0872 1 111.0502 7 120.5449\n",
            "H 3 1.0872 1 111.0502 7 -120.5449\n",
            "H 4 1.0872 2 111.0502 8 120.5449\n",
            "H 4 1.0872 2 111.0502 8 -120.5449\n",
            "\n",
            "************************************##############################################*###############################  BONDLENGHT_HO = 1.4196\n",
            "************************************##############################################*###############################  BONDANGLE_OHO = 180.0\n",
            ".............................................Molecule Geometry......................................................\n"
          ]
        },
        {
          "output_type": "display_data",
          "data": {
            "application/3dmoljs_load.v0": "<div id=\"3dmolviewer_17039713675541537\"  style=\"position: relative; width: 400px; height: 400px;\">\n        <p id=\"3dmolwarning_17039713675541537\" style=\"background-color:#ffcccc;color:black\">You appear to be running in JupyterLab (or JavaScript failed to load for some other reason).  You need to install the 3dmol extension: <br>\n        <tt>jupyter labextension install jupyterlab_3dmol</tt></p>\n        </div>\n<script>\n\nvar loadScriptAsync = function(uri){\n  return new Promise((resolve, reject) => {\n    //this is to ignore the existence of requirejs amd\n    var savedexports, savedmodule;\n    if (typeof exports !== 'undefined') savedexports = exports;\n    else exports = {}\n    if (typeof module !== 'undefined') savedmodule = module;\n    else module = {}\n\n    var tag = document.createElement('script');\n    tag.src = uri;\n    tag.async = true;\n    tag.onload = () => {\n        exports = savedexports;\n        module = savedmodule;\n        resolve();\n    };\n  var firstScriptTag = document.getElementsByTagName('script')[0];\n  firstScriptTag.parentNode.insertBefore(tag, firstScriptTag);\n});\n};\n\nif(typeof $3Dmolpromise === 'undefined') {\n$3Dmolpromise = null;\n  $3Dmolpromise = loadScriptAsync('https://cdnjs.cloudflare.com/ajax/libs/3Dmol/2.0.4/3Dmol-min.js');\n}\n\nvar viewer_17039713675541537 = null;\nvar warn = document.getElementById(\"3dmolwarning_17039713675541537\");\nif(warn) {\n    warn.parentNode.removeChild(warn);\n}\n$3Dmolpromise.then(function() {\nviewer_17039713675541537 = $3Dmol.createViewer(document.getElementById(\"3dmolviewer_17039713675541537\"),{backgroundColor:\"white\"});\nviewer_17039713675541537.zoomTo();\n\tviewer_17039713675541537.addModel(\"12\\nXYZ from PySCF\\nC           0.00000        0.00000        0.00000\\nC           1.41960        0.00000        0.00000\\nC          -0.86681        0.00000        1.22823\\nC           2.28641       -0.00000       -1.22823\\nH          -0.52266        0.00000       -0.94511\\nH           1.94226        0.00000        0.94511\\nH          -0.27077        0.00000        2.13438\\nH           1.69037       -0.00000       -2.13438\\nH          -1.51328        0.87385        1.24996\\nH          -1.51328       -0.87385        1.24996\\nH           2.93288        0.87385       -1.24996\\nH           2.93288       -0.87385       -1.24996\",\"xyz\");\n\tviewer_17039713675541537.setStyle({\"stick\": {\"radius\": 0.1, \"colorscheme\": \"greenCarbon\"}, \"sphere\": {\"scale\": 0.24, \"colorscheme\": \"greenCarbon\"}});\nviewer_17039713675541537.render();\n});\n</script>",
            "text/html": [
              "<div id=\"3dmolviewer_17039713675541537\"  style=\"position: relative; width: 400px; height: 400px;\">\n",
              "        <p id=\"3dmolwarning_17039713675541537\" style=\"background-color:#ffcccc;color:black\">You appear to be running in JupyterLab (or JavaScript failed to load for some other reason).  You need to install the 3dmol extension: <br>\n",
              "        <tt>jupyter labextension install jupyterlab_3dmol</tt></p>\n",
              "        </div>\n",
              "<script>\n",
              "\n",
              "var loadScriptAsync = function(uri){\n",
              "  return new Promise((resolve, reject) => {\n",
              "    //this is to ignore the existence of requirejs amd\n",
              "    var savedexports, savedmodule;\n",
              "    if (typeof exports !== 'undefined') savedexports = exports;\n",
              "    else exports = {}\n",
              "    if (typeof module !== 'undefined') savedmodule = module;\n",
              "    else module = {}\n",
              "\n",
              "    var tag = document.createElement('script');\n",
              "    tag.src = uri;\n",
              "    tag.async = true;\n",
              "    tag.onload = () => {\n",
              "        exports = savedexports;\n",
              "        module = savedmodule;\n",
              "        resolve();\n",
              "    };\n",
              "  var firstScriptTag = document.getElementsByTagName('script')[0];\n",
              "  firstScriptTag.parentNode.insertBefore(tag, firstScriptTag);\n",
              "});\n",
              "};\n",
              "\n",
              "if(typeof $3Dmolpromise === 'undefined') {\n",
              "$3Dmolpromise = null;\n",
              "  $3Dmolpromise = loadScriptAsync('https://cdnjs.cloudflare.com/ajax/libs/3Dmol/2.0.4/3Dmol-min.js');\n",
              "}\n",
              "\n",
              "var viewer_17039713675541537 = null;\n",
              "var warn = document.getElementById(\"3dmolwarning_17039713675541537\");\n",
              "if(warn) {\n",
              "    warn.parentNode.removeChild(warn);\n",
              "}\n",
              "$3Dmolpromise.then(function() {\n",
              "viewer_17039713675541537 = $3Dmol.createViewer(document.getElementById(\"3dmolviewer_17039713675541537\"),{backgroundColor:\"white\"});\n",
              "viewer_17039713675541537.zoomTo();\n",
              "\tviewer_17039713675541537.addModel(\"12\\nXYZ from PySCF\\nC           0.00000        0.00000        0.00000\\nC           1.41960        0.00000        0.00000\\nC          -0.86681        0.00000        1.22823\\nC           2.28641       -0.00000       -1.22823\\nH          -0.52266        0.00000       -0.94511\\nH           1.94226        0.00000        0.94511\\nH          -0.27077        0.00000        2.13438\\nH           1.69037       -0.00000       -2.13438\\nH          -1.51328        0.87385        1.24996\\nH          -1.51328       -0.87385        1.24996\\nH           2.93288        0.87385       -1.24996\\nH           2.93288       -0.87385       -1.24996\",\"xyz\");\n",
              "\tviewer_17039713675541537.setStyle({\"stick\": {\"radius\": 0.1, \"colorscheme\": \"greenCarbon\"}, \"sphere\": {\"scale\": 0.24, \"colorscheme\": \"greenCarbon\"}});\n",
              "viewer_17039713675541537.render();\n",
              "});\n",
              "</script>"
            ]
          },
          "metadata": {}
        },
        {
          "output_type": "stream",
          "name": "stdout",
          "text": [
            "\n",
            "C\n",
            "C 1 1.5196\n",
            "C 1 1.5033 2 125.212\n",
            "C 2 1.5033 1 125.212 3 180.0\n",
            "H 1 1.08 2 118.9435 3 180.0\n",
            "H 2 1.08 1 118.9435 4 180.0\n",
            "H 3 1.0846 1 111.4522 2 0.0\n",
            "H 4 1.0846 2 111.4522 1 0.0\n",
            "H 3 1.0872 1 111.0502 7 120.5449\n",
            "H 3 1.0872 1 111.0502 7 -120.5449\n",
            "H 4 1.0872 2 111.0502 8 120.5449\n",
            "H 4 1.0872 2 111.0502 8 -120.5449\n",
            "\n",
            "************************************##############################################*###############################  BONDLENGHT_HO = 1.5196\n",
            "************************************##############################################*###############################  BONDANGLE_OHO = 180.0\n",
            ".............................................Molecule Geometry......................................................\n",
            "\n",
            "C\n",
            "C 1 1.7196\n",
            "C 1 1.5033 2 125.212\n",
            "C 2 1.5033 1 125.212 3 180.0\n",
            "H 1 1.08 2 118.9435 3 180.0\n",
            "H 2 1.08 1 118.9435 4 180.0\n",
            "H 3 1.0846 1 111.4522 2 0.0\n",
            "H 4 1.0846 2 111.4522 1 0.0\n",
            "H 3 1.0872 1 111.0502 7 120.5449\n",
            "H 3 1.0872 1 111.0502 7 -120.5449\n",
            "H 4 1.0872 2 111.0502 8 120.5449\n",
            "H 4 1.0872 2 111.0502 8 -120.5449\n",
            "\n",
            "************************************##############################################*###############################  BONDLENGHT_HO = 1.7196\n",
            "************************************##############################################*###############################  BONDANGLE_OHO = 180.0\n",
            ".............................................Molecule Geometry......................................................\n"
          ]
        },
        {
          "output_type": "display_data",
          "data": {
            "application/3dmoljs_load.v0": "<div id=\"3dmolviewer_17039713677087004\"  style=\"position: relative; width: 400px; height: 400px;\">\n        <p id=\"3dmolwarning_17039713677087004\" style=\"background-color:#ffcccc;color:black\">You appear to be running in JupyterLab (or JavaScript failed to load for some other reason).  You need to install the 3dmol extension: <br>\n        <tt>jupyter labextension install jupyterlab_3dmol</tt></p>\n        </div>\n<script>\n\nvar loadScriptAsync = function(uri){\n  return new Promise((resolve, reject) => {\n    //this is to ignore the existence of requirejs amd\n    var savedexports, savedmodule;\n    if (typeof exports !== 'undefined') savedexports = exports;\n    else exports = {}\n    if (typeof module !== 'undefined') savedmodule = module;\n    else module = {}\n\n    var tag = document.createElement('script');\n    tag.src = uri;\n    tag.async = true;\n    tag.onload = () => {\n        exports = savedexports;\n        module = savedmodule;\n        resolve();\n    };\n  var firstScriptTag = document.getElementsByTagName('script')[0];\n  firstScriptTag.parentNode.insertBefore(tag, firstScriptTag);\n});\n};\n\nif(typeof $3Dmolpromise === 'undefined') {\n$3Dmolpromise = null;\n  $3Dmolpromise = loadScriptAsync('https://cdnjs.cloudflare.com/ajax/libs/3Dmol/2.0.4/3Dmol-min.js');\n}\n\nvar viewer_17039713677087004 = null;\nvar warn = document.getElementById(\"3dmolwarning_17039713677087004\");\nif(warn) {\n    warn.parentNode.removeChild(warn);\n}\n$3Dmolpromise.then(function() {\nviewer_17039713677087004 = $3Dmol.createViewer(document.getElementById(\"3dmolviewer_17039713677087004\"),{backgroundColor:\"white\"});\nviewer_17039713677087004.zoomTo();\n\tviewer_17039713677087004.addModel(\"12\\nXYZ from PySCF\\nC           0.00000        0.00000        0.00000\\nC           1.71960        0.00000        0.00000\\nC          -0.86681        0.00000        1.22823\\nC           2.58641       -0.00000       -1.22823\\nH          -0.52266        0.00000       -0.94511\\nH           2.24226        0.00000        0.94511\\nH          -0.27077        0.00000        2.13438\\nH           1.99037       -0.00000       -2.13438\\nH          -1.51328        0.87385        1.24996\\nH          -1.51328       -0.87385        1.24996\\nH           3.23288        0.87385       -1.24996\\nH           3.23288       -0.87385       -1.24996\",\"xyz\");\n\tviewer_17039713677087004.setStyle({\"stick\": {\"radius\": 0.1, \"colorscheme\": \"greenCarbon\"}, \"sphere\": {\"scale\": 0.24, \"colorscheme\": \"greenCarbon\"}});\nviewer_17039713677087004.render();\n});\n</script>",
            "text/html": [
              "<div id=\"3dmolviewer_17039713677087004\"  style=\"position: relative; width: 400px; height: 400px;\">\n",
              "        <p id=\"3dmolwarning_17039713677087004\" style=\"background-color:#ffcccc;color:black\">You appear to be running in JupyterLab (or JavaScript failed to load for some other reason).  You need to install the 3dmol extension: <br>\n",
              "        <tt>jupyter labextension install jupyterlab_3dmol</tt></p>\n",
              "        </div>\n",
              "<script>\n",
              "\n",
              "var loadScriptAsync = function(uri){\n",
              "  return new Promise((resolve, reject) => {\n",
              "    //this is to ignore the existence of requirejs amd\n",
              "    var savedexports, savedmodule;\n",
              "    if (typeof exports !== 'undefined') savedexports = exports;\n",
              "    else exports = {}\n",
              "    if (typeof module !== 'undefined') savedmodule = module;\n",
              "    else module = {}\n",
              "\n",
              "    var tag = document.createElement('script');\n",
              "    tag.src = uri;\n",
              "    tag.async = true;\n",
              "    tag.onload = () => {\n",
              "        exports = savedexports;\n",
              "        module = savedmodule;\n",
              "        resolve();\n",
              "    };\n",
              "  var firstScriptTag = document.getElementsByTagName('script')[0];\n",
              "  firstScriptTag.parentNode.insertBefore(tag, firstScriptTag);\n",
              "});\n",
              "};\n",
              "\n",
              "if(typeof $3Dmolpromise === 'undefined') {\n",
              "$3Dmolpromise = null;\n",
              "  $3Dmolpromise = loadScriptAsync('https://cdnjs.cloudflare.com/ajax/libs/3Dmol/2.0.4/3Dmol-min.js');\n",
              "}\n",
              "\n",
              "var viewer_17039713677087004 = null;\n",
              "var warn = document.getElementById(\"3dmolwarning_17039713677087004\");\n",
              "if(warn) {\n",
              "    warn.parentNode.removeChild(warn);\n",
              "}\n",
              "$3Dmolpromise.then(function() {\n",
              "viewer_17039713677087004 = $3Dmol.createViewer(document.getElementById(\"3dmolviewer_17039713677087004\"),{backgroundColor:\"white\"});\n",
              "viewer_17039713677087004.zoomTo();\n",
              "\tviewer_17039713677087004.addModel(\"12\\nXYZ from PySCF\\nC           0.00000        0.00000        0.00000\\nC           1.71960        0.00000        0.00000\\nC          -0.86681        0.00000        1.22823\\nC           2.58641       -0.00000       -1.22823\\nH          -0.52266        0.00000       -0.94511\\nH           2.24226        0.00000        0.94511\\nH          -0.27077        0.00000        2.13438\\nH           1.99037       -0.00000       -2.13438\\nH          -1.51328        0.87385        1.24996\\nH          -1.51328       -0.87385        1.24996\\nH           3.23288        0.87385       -1.24996\\nH           3.23288       -0.87385       -1.24996\",\"xyz\");\n",
              "\tviewer_17039713677087004.setStyle({\"stick\": {\"radius\": 0.1, \"colorscheme\": \"greenCarbon\"}, \"sphere\": {\"scale\": 0.24, \"colorscheme\": \"greenCarbon\"}});\n",
              "viewer_17039713677087004.render();\n",
              "});\n",
              "</script>"
            ]
          },
          "metadata": {}
        },
        {
          "output_type": "stream",
          "name": "stdout",
          "text": [
            "\n",
            "C\n",
            "C 1 1.9196\n",
            "C 1 1.5033 2 125.212\n",
            "C 2 1.5033 1 125.212 3 180.0\n",
            "H 1 1.08 2 118.9435 3 180.0\n",
            "H 2 1.08 1 118.9435 4 180.0\n",
            "H 3 1.0846 1 111.4522 2 0.0\n",
            "H 4 1.0846 2 111.4522 1 0.0\n",
            "H 3 1.0872 1 111.0502 7 120.5449\n",
            "H 3 1.0872 1 111.0502 7 -120.5449\n",
            "H 4 1.0872 2 111.0502 8 120.5449\n",
            "H 4 1.0872 2 111.0502 8 -120.5449\n",
            "\n",
            "************************************##############################################*###############################  BONDLENGHT_HO = 1.9196\n",
            "************************************##############################################*###############################  BONDANGLE_OHO = 180.0\n",
            ".............................................Molecule Geometry......................................................\n",
            "\n",
            "C\n",
            "C 1 2.1196\n",
            "C 1 1.5033 2 125.212\n",
            "C 2 1.5033 1 125.212 3 180.0\n",
            "H 1 1.08 2 118.9435 3 180.0\n",
            "H 2 1.08 1 118.9435 4 180.0\n",
            "H 3 1.0846 1 111.4522 2 0.0\n",
            "H 4 1.0846 2 111.4522 1 0.0\n",
            "H 3 1.0872 1 111.0502 7 120.5449\n",
            "H 3 1.0872 1 111.0502 7 -120.5449\n",
            "H 4 1.0872 2 111.0502 8 120.5449\n",
            "H 4 1.0872 2 111.0502 8 -120.5449\n",
            "\n",
            "************************************##############################################*###############################  BONDLENGHT_HO = 2.1196\n",
            "************************************##############################################*###############################  BONDANGLE_OHO = 180.0\n",
            ".............................................Molecule Geometry......................................................\n"
          ]
        },
        {
          "output_type": "display_data",
          "data": {
            "application/3dmoljs_load.v0": "<div id=\"3dmolviewer_1703971367815554\"  style=\"position: relative; width: 400px; height: 400px;\">\n        <p id=\"3dmolwarning_1703971367815554\" style=\"background-color:#ffcccc;color:black\">You appear to be running in JupyterLab (or JavaScript failed to load for some other reason).  You need to install the 3dmol extension: <br>\n        <tt>jupyter labextension install jupyterlab_3dmol</tt></p>\n        </div>\n<script>\n\nvar loadScriptAsync = function(uri){\n  return new Promise((resolve, reject) => {\n    //this is to ignore the existence of requirejs amd\n    var savedexports, savedmodule;\n    if (typeof exports !== 'undefined') savedexports = exports;\n    else exports = {}\n    if (typeof module !== 'undefined') savedmodule = module;\n    else module = {}\n\n    var tag = document.createElement('script');\n    tag.src = uri;\n    tag.async = true;\n    tag.onload = () => {\n        exports = savedexports;\n        module = savedmodule;\n        resolve();\n    };\n  var firstScriptTag = document.getElementsByTagName('script')[0];\n  firstScriptTag.parentNode.insertBefore(tag, firstScriptTag);\n});\n};\n\nif(typeof $3Dmolpromise === 'undefined') {\n$3Dmolpromise = null;\n  $3Dmolpromise = loadScriptAsync('https://cdnjs.cloudflare.com/ajax/libs/3Dmol/2.0.4/3Dmol-min.js');\n}\n\nvar viewer_1703971367815554 = null;\nvar warn = document.getElementById(\"3dmolwarning_1703971367815554\");\nif(warn) {\n    warn.parentNode.removeChild(warn);\n}\n$3Dmolpromise.then(function() {\nviewer_1703971367815554 = $3Dmol.createViewer(document.getElementById(\"3dmolviewer_1703971367815554\"),{backgroundColor:\"white\"});\nviewer_1703971367815554.zoomTo();\n\tviewer_1703971367815554.addModel(\"12\\nXYZ from PySCF\\nC           0.00000        0.00000        0.00000\\nC           2.11960        0.00000        0.00000\\nC          -0.86681        0.00000        1.22823\\nC           2.98641       -0.00000       -1.22823\\nH          -0.52266        0.00000       -0.94511\\nH           2.64226        0.00000        0.94511\\nH          -0.27077        0.00000        2.13438\\nH           2.39037       -0.00000       -2.13438\\nH          -1.51328        0.87385        1.24996\\nH          -1.51328       -0.87385        1.24996\\nH           3.63288        0.87385       -1.24996\\nH           3.63288       -0.87385       -1.24996\",\"xyz\");\n\tviewer_1703971367815554.setStyle({\"stick\": {\"radius\": 0.1, \"colorscheme\": \"greenCarbon\"}, \"sphere\": {\"scale\": 0.24, \"colorscheme\": \"greenCarbon\"}});\nviewer_1703971367815554.render();\n});\n</script>",
            "text/html": [
              "<div id=\"3dmolviewer_1703971367815554\"  style=\"position: relative; width: 400px; height: 400px;\">\n",
              "        <p id=\"3dmolwarning_1703971367815554\" style=\"background-color:#ffcccc;color:black\">You appear to be running in JupyterLab (or JavaScript failed to load for some other reason).  You need to install the 3dmol extension: <br>\n",
              "        <tt>jupyter labextension install jupyterlab_3dmol</tt></p>\n",
              "        </div>\n",
              "<script>\n",
              "\n",
              "var loadScriptAsync = function(uri){\n",
              "  return new Promise((resolve, reject) => {\n",
              "    //this is to ignore the existence of requirejs amd\n",
              "    var savedexports, savedmodule;\n",
              "    if (typeof exports !== 'undefined') savedexports = exports;\n",
              "    else exports = {}\n",
              "    if (typeof module !== 'undefined') savedmodule = module;\n",
              "    else module = {}\n",
              "\n",
              "    var tag = document.createElement('script');\n",
              "    tag.src = uri;\n",
              "    tag.async = true;\n",
              "    tag.onload = () => {\n",
              "        exports = savedexports;\n",
              "        module = savedmodule;\n",
              "        resolve();\n",
              "    };\n",
              "  var firstScriptTag = document.getElementsByTagName('script')[0];\n",
              "  firstScriptTag.parentNode.insertBefore(tag, firstScriptTag);\n",
              "});\n",
              "};\n",
              "\n",
              "if(typeof $3Dmolpromise === 'undefined') {\n",
              "$3Dmolpromise = null;\n",
              "  $3Dmolpromise = loadScriptAsync('https://cdnjs.cloudflare.com/ajax/libs/3Dmol/2.0.4/3Dmol-min.js');\n",
              "}\n",
              "\n",
              "var viewer_1703971367815554 = null;\n",
              "var warn = document.getElementById(\"3dmolwarning_1703971367815554\");\n",
              "if(warn) {\n",
              "    warn.parentNode.removeChild(warn);\n",
              "}\n",
              "$3Dmolpromise.then(function() {\n",
              "viewer_1703971367815554 = $3Dmol.createViewer(document.getElementById(\"3dmolviewer_1703971367815554\"),{backgroundColor:\"white\"});\n",
              "viewer_1703971367815554.zoomTo();\n",
              "\tviewer_1703971367815554.addModel(\"12\\nXYZ from PySCF\\nC           0.00000        0.00000        0.00000\\nC           2.11960        0.00000        0.00000\\nC          -0.86681        0.00000        1.22823\\nC           2.98641       -0.00000       -1.22823\\nH          -0.52266        0.00000       -0.94511\\nH           2.64226        0.00000        0.94511\\nH          -0.27077        0.00000        2.13438\\nH           2.39037       -0.00000       -2.13438\\nH          -1.51328        0.87385        1.24996\\nH          -1.51328       -0.87385        1.24996\\nH           3.63288        0.87385       -1.24996\\nH           3.63288       -0.87385       -1.24996\",\"xyz\");\n",
              "\tviewer_1703971367815554.setStyle({\"stick\": {\"radius\": 0.1, \"colorscheme\": \"greenCarbon\"}, \"sphere\": {\"scale\": 0.24, \"colorscheme\": \"greenCarbon\"}});\n",
              "viewer_1703971367815554.render();\n",
              "});\n",
              "</script>"
            ]
          },
          "metadata": {}
        },
        {
          "output_type": "stream",
          "name": "stdout",
          "text": [
            "\n",
            "C\n",
            "C 1 2.3196\n",
            "C 1 1.5033 2 125.212\n",
            "C 2 1.5033 1 125.212 3 180.0\n",
            "H 1 1.08 2 118.9435 3 180.0\n",
            "H 2 1.08 1 118.9435 4 180.0\n",
            "H 3 1.0846 1 111.4522 2 0.0\n",
            "H 4 1.0846 2 111.4522 1 0.0\n",
            "H 3 1.0872 1 111.0502 7 120.5449\n",
            "H 3 1.0872 1 111.0502 7 -120.5449\n",
            "H 4 1.0872 2 111.0502 8 120.5449\n",
            "H 4 1.0872 2 111.0502 8 -120.5449\n",
            "\n",
            "************************************##############################################*###############################  BONDLENGHT_HO = 2.3196\n",
            "************************************##############################################*###############################  BONDANGLE_OHO = 180.0\n",
            ".............................................Molecule Geometry......................................................\n"
          ]
        }
      ]
    },
    {
      "cell_type": "code",
      "source": [],
      "metadata": {
        "id": "3_SZcS1vnUfk"
      },
      "execution_count": 309,
      "outputs": []
    },
    {
      "cell_type": "code",
      "source": [
        "Global_Range_BONDANGLE_OHO"
      ],
      "metadata": {
        "colab": {
          "base_uri": "https://localhost:8080/"
        },
        "id": "7sNvcILLpNdo",
        "outputId": "a5de5fab-d7af-4e53-938d-f438ab15dcc8"
      },
      "execution_count": 310,
      "outputs": [
        {
          "output_type": "execute_result",
          "data": {
            "text/plain": [
              "array([180.])"
            ]
          },
          "metadata": {},
          "execution_count": 310
        }
      ]
    },
    {
      "cell_type": "code",
      "source": [
        "Global_Range_BONDLENGTH_HO"
      ],
      "metadata": {
        "colab": {
          "base_uri": "https://localhost:8080/"
        },
        "id": "A5PyOlmcoibA",
        "outputId": "e3805db2-9f54-4658-b0dd-f39b8fa28f7b"
      },
      "execution_count": 311,
      "outputs": [
        {
          "output_type": "execute_result",
          "data": {
            "text/plain": [
              "[1.0196,\n",
              " 1.1196,\n",
              " 1.2196,\n",
              " 1.3196,\n",
              " 1.4196,\n",
              " 1.5196,\n",
              " 1.7196,\n",
              " 1.9196,\n",
              " 2.1196,\n",
              " 2.3196]"
            ]
          },
          "metadata": {},
          "execution_count": 311
        }
      ]
    },
    {
      "cell_type": "code",
      "source": [],
      "metadata": {
        "id": "QPKse5XuMmDk"
      },
      "execution_count": 311,
      "outputs": []
    },
    {
      "cell_type": "code",
      "source": [],
      "metadata": {
        "id": "PAvYITNnkUYs"
      },
      "execution_count": 311,
      "outputs": []
    },
    {
      "cell_type": "markdown",
      "metadata": {
        "id": "nrYdSrTf3N3M"
      },
      "source": [
        "http://www.guenterhaucke.de/gamess/gam_grund_1/z-matrix.htm\n",
        "\n",
        "http://ursula.chem.yale.edu/~chem220/chem220js/STUDYAIDS/movies/butane.html# see this for PES along dihedral"
      ]
    },
    {
      "cell_type": "code",
      "execution_count": 312,
      "metadata": {
        "id": "AQmy_MGADZfD"
      },
      "outputs": [],
      "source": [
        "def buildaMoleculeSpinMOLECULEELEMENTCOUNT1(elementname, mydownloadedfile,  trythisspin ):\n",
        "      mol = gto.Mole()\n",
        "      #mol.atom = '''H 0 0 0'''\n",
        "      mol.atom = [[elementname, (0, 0, 0)] ]\n",
        "      mol.spin =  trythisspin\n",
        "      mol.basis = { elementname: gto.parse(mydownloadedfile)       }\n",
        "      mol.build()\n",
        "      return mol"
      ]
    },
    {
      "cell_type": "code",
      "execution_count": 313,
      "metadata": {
        "id": "FoNOCHQiChEG"
      },
      "outputs": [],
      "source": [
        "def buildaMoleculeTryMOLECULEELEMENTCOUNT1(elementname,  mydownloadedfile ):\n",
        "  molecule = None\n",
        "  for spinvaluecheckthis in range(5):\n",
        "    try:\n",
        "      molecule = buildaMoleculeSpinMOLECULEELEMENTCOUNT1(elementname, mydownloadedfile, spinvaluecheckthis )\n",
        "      return molecule, spinvaluecheckthis\n",
        "      break\n",
        "    except:\n",
        "      tempexcept = True\n",
        "      #print('SPIN is not correct. Auto matically trying another spin value...')\n",
        "    else:\n",
        "      tempelse = True\n",
        "      #print('TRYING SPIN')\n",
        "  return molecule, spinvaluecheckthis\n",
        "\n"
      ]
    },
    {
      "cell_type": "markdown",
      "metadata": {
        "id": "cxAQxLdTYX-J"
      },
      "source": [
        "## Step 4: Expected format of output table"
      ]
    },
    {
      "cell_type": "markdown",
      "metadata": {
        "id": "yxkHxcxOYf9G"
      },
      "source": [
        "## Step 5. Input values to be considered in this computation  "
      ]
    },
    {
      "cell_type": "markdown",
      "metadata": {
        "id": "8GKgQOHrYp3t"
      },
      "source": [
        "## Step 6. Compute Results\n",
        "## Run the computation for the above input values"
      ]
    },
    {
      "cell_type": "code",
      "execution_count": 314,
      "metadata": {
        "id": "m9dDlyeSik9_"
      },
      "outputs": [],
      "source": [
        "from pyscf import dft\n",
        "\n",
        "# DFT computation of SCF energy\n",
        "def SCFenergyFunctionalsbasedonDFTGOLD(mol , functionals ):\n",
        "  if mol.spin == 0:\n",
        "    mf = dft.RKS(mol)\n",
        "  else:\n",
        "    mf = dft.UKS(mol)\n",
        "  # functional.\n",
        "  #mf.xc = 'B3LYP'\n",
        "  mf.max_memory = PYSCF_MAX_MEMORY\n",
        "  mf.xc = functionals\n",
        "  # Run the DFT calculation.\n",
        "  answerDFT = mf.kernel()\n",
        "  return answerDFT\n",
        "\n"
      ]
    },
    {
      "cell_type": "code",
      "execution_count": 315,
      "metadata": {
        "id": "V_S4At-sh8D1"
      },
      "outputs": [],
      "source": [
        "\n",
        "# DFT computation of SCF energy\n",
        "def SCFenergyFunctionalsbasedonDFT(mol , functionals ):\n",
        "    mf = mol.KS()\n",
        "   # mf.xc = 'b3lyp'\n",
        "   # mf.xc = 'pbe0'\n",
        "   # mf.xc = 'M06-2X'\n",
        "   # mf.xc = 'SCAN'\n",
        "   # mf.xc = 'wB97X-V'\n",
        "   # mf.xc = 'PW6B95'\n",
        "    mf.xc = functionals\n",
        "    # Run the DFT calculation.\n",
        "    answerDFT = mf.kernel()\n",
        "    return answerDFT"
      ]
    },
    {
      "cell_type": "code",
      "execution_count": 316,
      "metadata": {
        "id": "zhrEkD-vTqOJ"
      },
      "outputs": [],
      "source": [
        "def SCFenergyFunctionalsbasedonNNGOLD(mol,  NNfunctionals ):\n",
        "    if mol.spin == 0:\n",
        "      mf = dft.RKS(mol)\n",
        "    else:\n",
        "      mf = dft.UKS(mol)\n",
        "    #mf._numint = dm21.NeuralNumInt(dm21.Functional.DM21m )\n",
        "    mf._numint = dm21.NeuralNumInt(NNfunctionals)\n",
        "    mf.max_memory = PYSCF_MAX_MEMORY\n",
        "    mf.conv_tol = 1e-5\n",
        "    mf.max_cycle  = 8\n",
        "\n",
        "    # Run the DFT calculation.\n",
        "    answerNN = mf.kernel()\n",
        "    return answerNN"
      ]
    },
    {
      "cell_type": "code",
      "execution_count": 317,
      "metadata": {
        "id": "q252BnqMmfWD"
      },
      "outputs": [],
      "source": [
        "def SCFenergyFunctionalsbasedonNN(mol,  NNfunctionals, functionals='b3lyp'):\n",
        "    mf = mol.KS()\n",
        "    mf.xc = functionals\n",
        "    #mf._numint = dm21.NeuralNumInt(dm21.Functional.DM21m )\n",
        "    mf._numint = dm21.NeuralNumInt(NNfunctionals)\n",
        "    # Run the DFT calculation.\n",
        "    answerNN = mf.kernel()\n",
        "    return answerNN"
      ]
    },
    {
      "cell_type": "code",
      "execution_count": 317,
      "metadata": {
        "id": "jPXfm5TaqFXY"
      },
      "outputs": [],
      "source": []
    },
    {
      "cell_type": "code",
      "execution_count": 317,
      "metadata": {
        "id": "cMOO55jPka49"
      },
      "outputs": [],
      "source": []
    },
    {
      "cell_type": "code",
      "execution_count": 318,
      "metadata": {
        "id": "W9GjaEhKAaCt"
      },
      "outputs": [],
      "source": [
        "# DFT computation of SCF energy\n",
        "def SCFenergybasedonDFT(mol):\n",
        "    mf = dft.RKS(mol)\n",
        "    # Run the DFT calculation.\n",
        "    answerDFT = mf.kernel()\n",
        "    return answerDFT"
      ]
    },
    {
      "cell_type": "code",
      "execution_count": 319,
      "metadata": {
        "id": "LzfM6gMZBABO"
      },
      "outputs": [],
      "source": [
        "# Neural network based prediction of SCF energy\n",
        "def SCFenergybasedonNN(mol):\n",
        "    mf = dft.RKS(mol)\n",
        "    mf._numint = dm21.NeuralNumInt(dm21.Functional.DM21)\n",
        "    # Run the DFT calculation.\n",
        "    answerNN = mf.kernel()\n",
        "    return answerNN"
      ]
    },
    {
      "cell_type": "code",
      "execution_count": 320,
      "metadata": {
        "id": "jN6A1KpWBvD_"
      },
      "outputs": [],
      "source": [
        "# CCSD computation\n",
        "def SCFenergybasedonCCSD(mol):\n",
        "  ccsdanswer = mol.apply('CCSD').run().e_tot\n",
        "  return ccsdanswer"
      ]
    },
    {
      "cell_type": "code",
      "execution_count": 321,
      "metadata": {
        "id": "t6DBX0xPJQUB"
      },
      "outputs": [],
      "source": [
        "from pyscf import  scf, cc\n",
        "\n",
        "# CCSD-T computation\n",
        "def SCFenergybasedonCCSDTGOLD(mol):\n",
        "  try:\n",
        "    mf = scf.HF(mol).run()\n",
        "    mf.max_memory = PYSCF_MAX_MEMORY\n",
        "    mycc = cc.CCSD(mf).run()\n",
        "    #print('CCSD  energy', mycc.e_tot)\n",
        "    et = mycc.ccsd_t()\n",
        "    CCSDTotal = mycc.e_tot + et\n",
        "  except ZeroDivisionError:\n",
        "    print('000000000000000000000000000000000000000-------CCSDT Error------------00000000000000000000000. Using CCSD')\n",
        "    return SCFenergybasedonCCSD(mol)\n",
        "  #print('CCSD(T) total energy', mycc.e_tot + et)\n",
        "  return CCSDTotal\n",
        "\n"
      ]
    },
    {
      "cell_type": "code",
      "execution_count": 321,
      "metadata": {
        "id": "7HNMoUa60U9w"
      },
      "outputs": [],
      "source": []
    },
    {
      "cell_type": "code",
      "execution_count": 321,
      "metadata": {
        "id": "Rz8tJdhwR0C1"
      },
      "outputs": [],
      "source": []
    },
    {
      "cell_type": "code",
      "execution_count": 322,
      "metadata": {
        "id": "ZapSFREjSiAI",
        "colab": {
          "base_uri": "https://localhost:8080/"
        },
        "outputId": "db551f8b-f0dd-4533-93fb-3834ea81ad7f"
      },
      "outputs": [
        {
          "output_type": "stream",
          "name": "stdout",
          "text": [
            "No        Element    \t  \t \t Basis Set\n"
          ]
        }
      ],
      "source": [
        "import urllib   # the lib that handles the url stuff\n",
        "import urllib.request  # the lib that handles the url stuff\n",
        "import numpy\n",
        "from google.colab import files\n",
        "\n",
        "\n",
        "print( 'No'  + '        ' + 'Element' + '    \\t  \\t \\t ' +  'Basis Set')\n",
        "\n"
      ]
    },
    {
      "cell_type": "code",
      "execution_count": 323,
      "metadata": {
        "id": "RTtSH0rhUlLD"
      },
      "outputs": [],
      "source": [
        "ValidatedBasisSetSOURCE = getValidBasisSet(PerdiocTableNumber)\n"
      ]
    },
    {
      "cell_type": "code",
      "execution_count": 324,
      "metadata": {
        "id": "qJNAhnj95mEc"
      },
      "outputs": [],
      "source": [
        "\n",
        "\n",
        "\n",
        "def compute1Mol1BasisSetMULTIPROCESSENABLED(elementname, ValidatedBasisSetStart ):\n",
        "  if True:\n",
        "    PerdiocTableNumber = dictPeriodicTable [elementname]\n",
        "    ValidatedBasisSet = ValidatedBasisSetSOURCE[ValidatedBasisSetStart:ValidatedBasisSetStart+1]\n",
        "    for BasisSet in ValidatedBasisSet:\n",
        "      print('***********************************************************')\n",
        "      print('***********************************************************')\n",
        "      print('***********************************************************')\n",
        "\n",
        "####      mydownloadedfile = downloadBasisSetAutoVersion(PerdiocTableNumber,BasisSet)\n",
        "      molUnoptimized, myspin = buildaMoleculeTryMOLECULEELEMENTCOUNT2(elementname, elementname, None , None )\n",
        "      if molUnoptimized == None:\n",
        "        return\n",
        "\n",
        "      print('.............................................Molecule Geometry......................................................')\n",
        "#      print('In Bohr')\n",
        "#      print(molUnoptimized.atom_coords(unit='Bohr'))\n",
        "#      print('In angstrom')\n",
        "#      print(molUnoptimized.atom_coords(unit='ANG'))\n",
        "#      print(molUnoptimized)\n",
        "\n",
        "\n",
        "     # mol = GetoptimizedMolecule(molUnoptimized)\n",
        "      mol = molUnoptimized\n",
        "\n",
        "      print(mol.atom)\n",
        "   #   print(mol.atom_coords(unit='Bohr'))\n",
        "      print(mol.basis)\n",
        "\n",
        "\n",
        "\n",
        "      print('.............................................COMPUTING SCF energy......................................................')\n",
        "\n",
        "      aResultDict = computePart(mol )\n",
        "\n",
        "\n",
        "      aResultDict['BasisSet'] = [BasisSet]\n",
        "\n",
        "      dfforOneElement = pd.DataFrame(aResultDict )\n",
        "\n",
        "\n",
        "\n",
        "      df = df.append(dfforOneElement, ignore_index = True)\n",
        "\n",
        "      return df\n",
        "\n",
        "\n",
        "    #  files.download('ComputedEnergy'+str(ValidatedBasisSetStart)+'.csv')\n",
        "\n",
        "\n",
        "\n"
      ]
    },
    {
      "cell_type": "code",
      "execution_count": 325,
      "metadata": {
        "id": "nsFu58KgJbdq"
      },
      "outputs": [],
      "source": [
        "\n",
        "\n",
        "def compute1Mol1BasisSet(elementname, ValidatedBasisSetStart , df):\n",
        "  if True:\n",
        "    PerdiocTableNumber = dictPeriodicTable [elementname]\n",
        "    ValidatedBasisSet = ValidatedBasisSetSOURCE[ValidatedBasisSetStart:ValidatedBasisSetStart+1]\n",
        "    for BasisSet in ValidatedBasisSet:\n",
        "      print('***********************************************************')\n",
        "      print('***********************************************************')\n",
        "      print('***********************************************************')\n",
        "\n",
        "####      mydownloadedfile = downloadBasisSetAutoVersion(PerdiocTableNumber,BasisSet)\n",
        "      molUnoptimized, myspin = buildaMoleculeTryMOLECULEELEMENTCOUNT2(elementname, elementname, None , None )\n",
        "      if molUnoptimized == None:\n",
        "        return df\n",
        "\n",
        "      print('.............................................Molecule Geometry......................................................')\n",
        "#      print('In Bohr')\n",
        "#      print(molUnoptimized.atom_coords(unit='Bohr'))\n",
        "#      print('In angstrom')\n",
        "#      print(molUnoptimized.atom_coords(unit='ANG'))\n",
        "#      print(molUnoptimized)\n",
        "\n",
        "\n",
        "     # mol = GetoptimizedMolecule(molUnoptimized)\n",
        "      mol = molUnoptimized\n",
        "\n",
        "      print(mol.atom)\n",
        "   #   print(mol.atom_coords(unit='Bohr'))\n",
        "      print(mol.basis)\n",
        "\n",
        "\n",
        "\n",
        "      print('.............................................COMPUTING SCF energy......................................................')\n",
        "\n",
        "      aResultDict = computePart(mol )\n",
        "\n",
        "\n",
        "      aResultDict['BasisSet'] = [BasisSet]\n",
        "\n",
        "      dfforOneElement = pd.DataFrame(aResultDict )\n",
        "\n",
        "\n",
        "\n",
        "      df = df.append(dfforOneElement, ignore_index = True)\n",
        "\n",
        "      return df\n",
        "\n",
        "\n",
        "    #  files.download('ComputedEnergy'+str(ValidatedBasisSetStart)+'.csv')\n",
        "\n",
        "\n",
        "\n"
      ]
    },
    {
      "cell_type": "code",
      "execution_count": 326,
      "metadata": {
        "id": "OTCbozQTSkL1"
      },
      "outputs": [],
      "source": [
        "\n",
        "\n",
        "\n",
        "def computePart(mol):\n",
        "  global DFT_energies\n",
        "  global NN_engeries\n",
        "  global CCSD_energies\n",
        "  global CCSD_Tenergies\n",
        "  global fci_energies\n",
        "  global bond_lengths\n",
        "  global Mole_bond_defintions\n",
        "\n",
        "\n",
        "  if True:\n",
        "      aResultDict = {}\n",
        "      aResultDict['bond_lenght'] = GlobalBONDLENGTH\n",
        "      aResultDict['bond_Angle'] =    GlobalBONDANGLE_OHO\n",
        "      aResultDict['Molecule'] = [mol.atom]\n",
        "      aResultDict['Spin'] = [mol.spin]\n",
        "      aResultDict['BuiltMolecule'] = [  mol.basis   ]\n",
        "\n",
        "      if ComputeThisInThisRUN == 'NN':\n",
        "        print('++++++++++++++++++++++++++++++++++++++++++++++++++  DM21 Functionals ++++++++++++++++++++++++++++++++++')\n",
        "        for aDMFunctionalvalue in dm21.Functional:\n",
        "          if str(aDMFunctionalvalue) ==  'Functional.DM21m' :\n",
        "          #if True:\n",
        "            ans = SCFenergyFunctionalsbasedonNNGOLD(mol, aDMFunctionalvalue)\n",
        "            aResultDict['NN-'+str(aDMFunctionalvalue)] = ans\n",
        "            NN_engeries += [ans]\n",
        "\n",
        "      if ComputeThisInThisRUN == 'DFT':\n",
        "        print('++++++++++++++++++++++++++++++++++++++++++++++++++  DFT Functionals ++++++++++++++++++++++++++++++++++')\n",
        "        for afunctionals in functionalsList:\n",
        "          ans = SCFenergyFunctionalsbasedonDFTGOLD(mol, afunctionals)\n",
        "          aResultDict['DFT-'+str(afunctionals)] = ans\n",
        "          DFT_energies += [ans]\n",
        "\n",
        "\n",
        "      if ComputeThisInThisRUN == 'CCST':\n",
        "        print('++++++++++++++++++++++++++++++++++++++++++++++++++  CCSD ++++++++++++++++++++++++++++++++++')\n",
        "        # Run the CCSD calculation.\n",
        "        CCSDenergy = SCFenergybasedonCCSD(mol)\n",
        "      # print('ENERGY Computing using CCSD appoach is = ' + str(CCSDenergy ))\n",
        "        print('++++++++++++++++++++++++++++++++++++++++++++++++++  CCSD(T) ++++++++++++++++++++++++++++++++++')\n",
        "        CCSDTenergy = SCFenergybasedonCCSDTGOLD(mol)\n",
        "        print('ENERGY Computing using CCSD T appoach is = ' + str(CCSDTenergy ))\n",
        "        #aResultDict['DFTApproach'] = answerDFT\n",
        "        #aResultDict['NNApproach'] = answerNN\n",
        "        aResultDict['CCSD'] = CCSDenergy\n",
        "        aResultDict['CCSDT'] = CCSDTenergy\n",
        "      # CCSD_energies += [CCSDenergy]\n",
        "        CCSD_Tenergies += [CCSDTenergy]\n",
        "\n",
        "\n",
        "      return aResultDict\n",
        "\n",
        "\n",
        "\n",
        "\n",
        "\n"
      ]
    },
    {
      "cell_type": "code",
      "execution_count": 327,
      "metadata": {
        "id": "rpSyWt2ibZtb"
      },
      "outputs": [],
      "source": [
        "if firstTimeorRestart == True:\n",
        "  df = pd.DataFrame(columns = ['Weight', 'Element', 'Molecule', 'BasisSet','Spin', 'BuiltMolecule' ])\n",
        "else:\n",
        "  df = dfRestart\n"
      ]
    },
    {
      "cell_type": "code",
      "execution_count": 328,
      "metadata": {
        "id": "cO7H3c7vyd6z"
      },
      "outputs": [],
      "source": [
        "DFT_energies = []\n",
        "NN_engeries = []\n",
        "CCSD_energies = []\n",
        "CCSD_Tenergies = []\n",
        "fci_energies = []\n",
        "bond_lengths = []\n",
        "bond_angles = []\n",
        "Mole_bond_defintions = []"
      ]
    },
    {
      "cell_type": "code",
      "execution_count": 329,
      "metadata": {
        "id": "YhhVbla0jRy9",
        "colab": {
          "base_uri": "https://localhost:8080/"
        },
        "outputId": "c3da3b7b-0c55-4040-b014-07789a30f2b5"
      },
      "outputs": [
        {
          "output_type": "stream",
          "name": "stdout",
          "text": [
            "************************************##############################################*###############################  BONDLENGHT_HO = 1.0196\n",
            "************************************##############################################*###############################  BONDANGLE_OHO = 180.0\n",
            "************************************##############################################*###############################  BONDLENGHT_HO = 1.1196\n",
            "************************************##############################################*###############################  BONDANGLE_OHO = 180.0\n",
            "************************************##############################################*###############################  BONDLENGHT_HO = 1.2196\n",
            "************************************##############################################*###############################  BONDANGLE_OHO = 180.0\n",
            "************************************##############################################*###############################  BONDLENGHT_HO = 1.3196\n",
            "************************************##############################################*###############################  BONDANGLE_OHO = 180.0\n",
            "************************************##############################################*###############################  BONDLENGHT_HO = 1.4196\n",
            "************************************##############################################*###############################  BONDANGLE_OHO = 180.0\n",
            "************************************##############################################*###############################  BONDLENGHT_HO = 1.5196\n",
            "************************************##############################################*###############################  BONDANGLE_OHO = 180.0\n",
            "************************************##############################################*###############################  BONDLENGHT_HO = 1.7196\n",
            "************************************##############################################*###############################  BONDANGLE_OHO = 180.0\n",
            "************************************##############################################*###############################  BONDLENGHT_HO = 1.9196\n",
            "************************************##############################################*###############################  BONDANGLE_OHO = 180.0\n",
            "************************************##############################################*###############################  BONDLENGHT_HO = 2.1196\n",
            "************************************##############################################*###############################  BONDANGLE_OHO = 180.0\n",
            "************************************##############################################*###############################  BONDLENGHT_HO = 2.3196\n",
            "************************************##############################################*###############################  BONDANGLE_OHO = 180.0\n"
          ]
        }
      ],
      "source": [
        "if True:\n",
        "  if True:\n",
        "    for elementname in dictPeriodicTable.keys():\n",
        "      for lengthHO in Global_Range_BONDLENGTH_HO:\n",
        "        for angle1 in Global_Range_BONDANGLE_OHO:\n",
        "          GlobalBONDANGLE_OHO = angle1\n",
        "          GlobalBONDLENGTH =  lengthHO\n",
        "          print('************************************##############################################*###############################  BONDLENGHT_HO = ' + str(GlobalBONDLENGTH))\n",
        "          print('************************************##############################################*###############################  BONDANGLE_OHO = ' + str(GlobalBONDANGLE_OHO))\n"
      ]
    },
    {
      "cell_type": "code",
      "execution_count": 330,
      "metadata": {
        "id": "OQwIncSxjeZm",
        "colab": {
          "base_uri": "https://localhost:8080/"
        },
        "outputId": "3ad98291-c532-41cf-d916-9a54fbd66a3d"
      },
      "outputs": [
        {
          "output_type": "stream",
          "name": "stdout",
          "text": [
            "[1.0196, 1.1196, 1.2196, 1.3196, 1.4196, 1.5196, 1.7196, 1.9196, 2.1196, 2.3196]\n"
          ]
        },
        {
          "output_type": "execute_result",
          "data": {
            "text/plain": [
              "list"
            ]
          },
          "metadata": {},
          "execution_count": 330
        }
      ],
      "source": [
        "print(Global_Range_BONDLENGTH_HO)\n",
        "\n",
        "type(Global_Range_BONDLENGTH_HO)\n",
        "\n"
      ]
    },
    {
      "cell_type": "code",
      "execution_count": 331,
      "metadata": {
        "id": "-U5lUp37j9Ca",
        "colab": {
          "base_uri": "https://localhost:8080/"
        },
        "outputId": "82763d2d-3672-457d-9db9-74cbe6a61e00"
      },
      "outputs": [
        {
          "output_type": "stream",
          "name": "stdout",
          "text": [
            "1.0196\n",
            "1.1196\n",
            "1.2196\n",
            "1.3196\n",
            "1.4196\n",
            "1.5196\n",
            "1.7196\n",
            "1.9196\n",
            "2.1196\n",
            "2.3196\n"
          ]
        }
      ],
      "source": [
        "      for lengthHO in Global_Range_BONDLENGTH_HO:\n",
        "          GlobalBONDLENGTH =  lengthHO\n",
        "          print( GlobalBONDLENGTH)\n"
      ]
    },
    {
      "cell_type": "markdown",
      "metadata": {
        "id": "95c0YsN-3LYY"
      },
      "source": []
    },
    {
      "cell_type": "markdown",
      "metadata": {
        "id": "N_zoudDGip01"
      },
      "source": [
        "#3D plots\n",
        "https://colab.research.google.com/drive/1qz-fzzZYgb2RScGJM5f-VQCPt28ydfSi?usp=sharing"
      ]
    },
    {
      "cell_type": "code",
      "execution_count": 332,
      "metadata": {
        "id": "yBd96Zy6yrSV"
      },
      "outputs": [],
      "source": [
        "#n_points = 30\n",
        "#bond_length_interval = 3.0 / n_points"
      ]
    },
    {
      "cell_type": "code",
      "execution_count": 333,
      "metadata": {
        "id": "_uYNebVpoeD0"
      },
      "outputs": [],
      "source": [
        "\n",
        "if True:\n",
        "  if firstTimeorRestart==True:\n",
        "    for elementname in dictPeriodicTable.keys():\n",
        "      for lengthHO in Global_Range_BONDLENGTH_HO:\n",
        "        for angle1 in Global_Range_BONDANGLE_OHO:\n",
        "          GlobalBONDANGLE_OHO = angle1\n",
        "          GlobalBONDLENGTH =  lengthHO\n",
        "          print('************************************##############################################*###############################  BONDLENGHT_HO = ' + str(GlobalBONDLENGTH))\n",
        "          print('************************************##############################################*###############################  BONDANGLE_OHO = ' + str(GlobalBONDANGLE_OHO))\n",
        "          df = compute1Mol1BasisSet(elementname, ValidatedBasisSetStart=0 , df=df)\n",
        "          bond_lengths += [GlobalBONDANGLE_OHO]\n",
        "          df.to_csv('/content/drive/My Drive/tryDeepMind' + EXPNO+ 'CE-temp2D-.csv' , index=False )\n",
        "\n",
        "#  except :\n",
        " #   print('************************************************************WARNING*********************************** : EXCPETION.. continuing' )"
      ]
    },
    {
      "cell_type": "code",
      "source": [],
      "metadata": {
        "id": "wUMWUSFs--9z"
      },
      "execution_count": 333,
      "outputs": []
    },
    {
      "cell_type": "code",
      "execution_count": 333,
      "metadata": {
        "id": "60mkmTVufuTb"
      },
      "outputs": [],
      "source": []
    },
    {
      "cell_type": "code",
      "execution_count": 333,
      "metadata": {
        "id": "0MXeCfT2f5lF"
      },
      "outputs": [],
      "source": []
    },
    {
      "cell_type": "code",
      "execution_count": 334,
      "metadata": {
        "id": "M3m86qDubj3r"
      },
      "outputs": [],
      "source": [
        "def addColoumIfDoesnotExisit(adf):\n",
        "  templocalmylistofcoloumnames = list(adf.columns.values)\n",
        "  if not (lookforAlreadyCompletedHINT in templocalmylistofcoloumnames):\n",
        "    adf[lookforAlreadyCompletedHINT] = float(\"nan\")\n",
        "  return adf"
      ]
    },
    {
      "cell_type": "code",
      "execution_count": 335,
      "metadata": {
        "id": "LzMHwLYF_H8d",
        "colab": {
          "base_uri": "https://localhost:8080/",
          "height": 676
        },
        "outputId": "a140f7fc-6c2d-49c5-b12e-3d1a60744fd6"
      },
      "outputs": [
        {
          "output_type": "execute_result",
          "data": {
            "text/plain": [
              "    Weight  Element                                           Molecule  \\\n",
              "0      NaN      NaN  \\nC\\nC 1 1.0196\\nC 1 1.5033 2 125.212\\nC 2 1.5...   \n",
              "1      NaN      NaN  \\nC\\nC 1 1.1196\\nC 1 1.5033 2 125.212\\nC 2 1.5...   \n",
              "2      NaN      NaN  \\nC\\nC 1 1.2196\\nC 1 1.5033 2 125.212\\nC 2 1.5...   \n",
              "3      NaN      NaN  \\nC\\nC 1 1.3196\\nC 1 1.5033 2 125.212\\nC 2 1.5...   \n",
              "4      NaN      NaN  \\nC\\nC 1 1.4196\\nC 1 1.5033 2 125.212\\nC 2 1.5...   \n",
              "5      NaN      NaN  \\nC\\nC 1 1.5196\\nC 1 1.5033 2 125.212\\nC 2 1.5...   \n",
              "6      NaN      NaN  \\nC\\nC 1 1.7196\\nC 1 1.5033 2 125.212\\nC 2 1.5...   \n",
              "7      NaN      NaN  \\nC\\nC 1 1.9196\\nC 1 1.5033 2 125.212\\nC 2 1.5...   \n",
              "8      NaN      NaN  \\nC\\nC 1 2.1196\\nC 1 1.5033 2 125.212\\nC 2 1.5...   \n",
              "9      NaN      NaN  \\nC\\nC 1 2.3196\\nC 1 1.5033 2 125.212\\nC 2 1.5...   \n",
              "10     NaN      NaN  \\nC\\nC 1 1.0196\\nC 1 1.5033 2 125.212\\nC 2 1.5...   \n",
              "11     NaN      NaN  \\nC\\nC 1 1.1196\\nC 1 1.5033 2 125.212\\nC 2 1.5...   \n",
              "12     NaN      NaN  \\nC\\nC 1 1.2196\\nC 1 1.5033 2 125.212\\nC 2 1.5...   \n",
              "13     NaN      NaN  \\nC\\nC 1 1.3196\\nC 1 1.5033 2 125.212\\nC 2 1.5...   \n",
              "14     NaN      NaN  \\nC\\nC 1 1.4196\\nC 1 1.5033 2 125.212\\nC 2 1.5...   \n",
              "15     NaN      NaN  \\nC\\nC 1 1.5196\\nC 1 1.5033 2 125.212\\nC 2 1.5...   \n",
              "16     NaN      NaN  \\nC\\nC 1 1.7196\\nC 1 1.5033 2 125.212\\nC 2 1.5...   \n",
              "17     NaN      NaN  \\nC\\nC 1 1.9196\\nC 1 1.5033 2 125.212\\nC 2 1.5...   \n",
              "18     NaN      NaN  \\nC\\nC 1 2.1196\\nC 1 1.5033 2 125.212\\nC 2 1.5...   \n",
              "19     NaN      NaN  \\nC\\nC 1 2.3196\\nC 1 1.5033 2 125.212\\nC 2 1.5...   \n",
              "\n",
              "   BasisSet  Spin BuiltMolecule  bond_lenght  bond_Angle  DFT-PW6B95  \\\n",
              "0   cc-pVDZ     0       cc-pVDZ       1.0196       180.0 -157.213830   \n",
              "1   cc-pVDZ     0       cc-pVDZ       1.1196       180.0 -157.347476   \n",
              "2   cc-pVDZ     0       cc-pVDZ       1.2196       180.0 -157.408610   \n",
              "3   cc-pVDZ     0       cc-pVDZ       1.3196       180.0 -157.426421   \n",
              "4   cc-pVDZ     0       cc-pVDZ       1.4196       180.0 -157.418884   \n",
              "5   cc-pVDZ     0       cc-pVDZ       1.5196       180.0 -157.397106   \n",
              "6   cc-pVDZ     0       cc-pVDZ       1.7196       180.0 -157.335483   \n",
              "7   cc-pVDZ     0       cc-pVDZ       1.9196       180.0 -157.270165   \n",
              "8   cc-pVDZ     0       cc-pVDZ       2.1196       180.0 -157.211107   \n",
              "9   cc-pVDZ     0       cc-pVDZ       2.3196       180.0 -157.160867   \n",
              "10  cc-pVDZ     0       cc-pVDZ       1.0196       180.0         NaN   \n",
              "11  cc-pVDZ     0       cc-pVDZ       1.1196       180.0         NaN   \n",
              "12  cc-pVDZ     0       cc-pVDZ       1.2196       180.0         NaN   \n",
              "13  cc-pVDZ     0       cc-pVDZ       1.3196       180.0         NaN   \n",
              "14  cc-pVDZ     0       cc-pVDZ       1.4196       180.0         NaN   \n",
              "15  cc-pVDZ     0       cc-pVDZ       1.5196       180.0         NaN   \n",
              "16  cc-pVDZ     0       cc-pVDZ       1.7196       180.0         NaN   \n",
              "17  cc-pVDZ     0       cc-pVDZ       1.9196       180.0         NaN   \n",
              "18  cc-pVDZ     0       cc-pVDZ       2.1196       180.0         NaN   \n",
              "19  cc-pVDZ     0       cc-pVDZ       2.3196       180.0         NaN   \n",
              "\n",
              "          CCSD       CCSDT  \n",
              "0          NaN         NaN  \n",
              "1          NaN         NaN  \n",
              "2          NaN         NaN  \n",
              "3          NaN         NaN  \n",
              "4          NaN         NaN  \n",
              "5          NaN         NaN  \n",
              "6          NaN         NaN  \n",
              "7          NaN         NaN  \n",
              "8          NaN         NaN  \n",
              "9          NaN         NaN  \n",
              "10 -156.515272 -156.532520  \n",
              "11 -156.657408 -156.675181  \n",
              "12 -156.724661 -156.743196  \n",
              "13 -156.746817 -156.766366  \n",
              "14 -156.742408 -156.763244  \n",
              "15 -156.722963 -156.745380  \n",
              "16 -156.664951 -156.691463  \n",
              "17 -156.603221 -156.635125  \n",
              "18 -156.548709 -156.587387  \n",
              "19 -156.504615 -156.551753  "
            ],
            "text/html": [
              "\n",
              "  <div id=\"df-21acaca6-4dbd-4859-9b67-2cf2e01287a6\" class=\"colab-df-container\">\n",
              "    <div>\n",
              "<style scoped>\n",
              "    .dataframe tbody tr th:only-of-type {\n",
              "        vertical-align: middle;\n",
              "    }\n",
              "\n",
              "    .dataframe tbody tr th {\n",
              "        vertical-align: top;\n",
              "    }\n",
              "\n",
              "    .dataframe thead th {\n",
              "        text-align: right;\n",
              "    }\n",
              "</style>\n",
              "<table border=\"1\" class=\"dataframe\">\n",
              "  <thead>\n",
              "    <tr style=\"text-align: right;\">\n",
              "      <th></th>\n",
              "      <th>Weight</th>\n",
              "      <th>Element</th>\n",
              "      <th>Molecule</th>\n",
              "      <th>BasisSet</th>\n",
              "      <th>Spin</th>\n",
              "      <th>BuiltMolecule</th>\n",
              "      <th>bond_lenght</th>\n",
              "      <th>bond_Angle</th>\n",
              "      <th>DFT-PW6B95</th>\n",
              "      <th>CCSD</th>\n",
              "      <th>CCSDT</th>\n",
              "    </tr>\n",
              "  </thead>\n",
              "  <tbody>\n",
              "    <tr>\n",
              "      <th>0</th>\n",
              "      <td>NaN</td>\n",
              "      <td>NaN</td>\n",
              "      <td>\\nC\\nC 1 1.0196\\nC 1 1.5033 2 125.212\\nC 2 1.5...</td>\n",
              "      <td>cc-pVDZ</td>\n",
              "      <td>0</td>\n",
              "      <td>cc-pVDZ</td>\n",
              "      <td>1.0196</td>\n",
              "      <td>180.0</td>\n",
              "      <td>-157.213830</td>\n",
              "      <td>NaN</td>\n",
              "      <td>NaN</td>\n",
              "    </tr>\n",
              "    <tr>\n",
              "      <th>1</th>\n",
              "      <td>NaN</td>\n",
              "      <td>NaN</td>\n",
              "      <td>\\nC\\nC 1 1.1196\\nC 1 1.5033 2 125.212\\nC 2 1.5...</td>\n",
              "      <td>cc-pVDZ</td>\n",
              "      <td>0</td>\n",
              "      <td>cc-pVDZ</td>\n",
              "      <td>1.1196</td>\n",
              "      <td>180.0</td>\n",
              "      <td>-157.347476</td>\n",
              "      <td>NaN</td>\n",
              "      <td>NaN</td>\n",
              "    </tr>\n",
              "    <tr>\n",
              "      <th>2</th>\n",
              "      <td>NaN</td>\n",
              "      <td>NaN</td>\n",
              "      <td>\\nC\\nC 1 1.2196\\nC 1 1.5033 2 125.212\\nC 2 1.5...</td>\n",
              "      <td>cc-pVDZ</td>\n",
              "      <td>0</td>\n",
              "      <td>cc-pVDZ</td>\n",
              "      <td>1.2196</td>\n",
              "      <td>180.0</td>\n",
              "      <td>-157.408610</td>\n",
              "      <td>NaN</td>\n",
              "      <td>NaN</td>\n",
              "    </tr>\n",
              "    <tr>\n",
              "      <th>3</th>\n",
              "      <td>NaN</td>\n",
              "      <td>NaN</td>\n",
              "      <td>\\nC\\nC 1 1.3196\\nC 1 1.5033 2 125.212\\nC 2 1.5...</td>\n",
              "      <td>cc-pVDZ</td>\n",
              "      <td>0</td>\n",
              "      <td>cc-pVDZ</td>\n",
              "      <td>1.3196</td>\n",
              "      <td>180.0</td>\n",
              "      <td>-157.426421</td>\n",
              "      <td>NaN</td>\n",
              "      <td>NaN</td>\n",
              "    </tr>\n",
              "    <tr>\n",
              "      <th>4</th>\n",
              "      <td>NaN</td>\n",
              "      <td>NaN</td>\n",
              "      <td>\\nC\\nC 1 1.4196\\nC 1 1.5033 2 125.212\\nC 2 1.5...</td>\n",
              "      <td>cc-pVDZ</td>\n",
              "      <td>0</td>\n",
              "      <td>cc-pVDZ</td>\n",
              "      <td>1.4196</td>\n",
              "      <td>180.0</td>\n",
              "      <td>-157.418884</td>\n",
              "      <td>NaN</td>\n",
              "      <td>NaN</td>\n",
              "    </tr>\n",
              "    <tr>\n",
              "      <th>5</th>\n",
              "      <td>NaN</td>\n",
              "      <td>NaN</td>\n",
              "      <td>\\nC\\nC 1 1.5196\\nC 1 1.5033 2 125.212\\nC 2 1.5...</td>\n",
              "      <td>cc-pVDZ</td>\n",
              "      <td>0</td>\n",
              "      <td>cc-pVDZ</td>\n",
              "      <td>1.5196</td>\n",
              "      <td>180.0</td>\n",
              "      <td>-157.397106</td>\n",
              "      <td>NaN</td>\n",
              "      <td>NaN</td>\n",
              "    </tr>\n",
              "    <tr>\n",
              "      <th>6</th>\n",
              "      <td>NaN</td>\n",
              "      <td>NaN</td>\n",
              "      <td>\\nC\\nC 1 1.7196\\nC 1 1.5033 2 125.212\\nC 2 1.5...</td>\n",
              "      <td>cc-pVDZ</td>\n",
              "      <td>0</td>\n",
              "      <td>cc-pVDZ</td>\n",
              "      <td>1.7196</td>\n",
              "      <td>180.0</td>\n",
              "      <td>-157.335483</td>\n",
              "      <td>NaN</td>\n",
              "      <td>NaN</td>\n",
              "    </tr>\n",
              "    <tr>\n",
              "      <th>7</th>\n",
              "      <td>NaN</td>\n",
              "      <td>NaN</td>\n",
              "      <td>\\nC\\nC 1 1.9196\\nC 1 1.5033 2 125.212\\nC 2 1.5...</td>\n",
              "      <td>cc-pVDZ</td>\n",
              "      <td>0</td>\n",
              "      <td>cc-pVDZ</td>\n",
              "      <td>1.9196</td>\n",
              "      <td>180.0</td>\n",
              "      <td>-157.270165</td>\n",
              "      <td>NaN</td>\n",
              "      <td>NaN</td>\n",
              "    </tr>\n",
              "    <tr>\n",
              "      <th>8</th>\n",
              "      <td>NaN</td>\n",
              "      <td>NaN</td>\n",
              "      <td>\\nC\\nC 1 2.1196\\nC 1 1.5033 2 125.212\\nC 2 1.5...</td>\n",
              "      <td>cc-pVDZ</td>\n",
              "      <td>0</td>\n",
              "      <td>cc-pVDZ</td>\n",
              "      <td>2.1196</td>\n",
              "      <td>180.0</td>\n",
              "      <td>-157.211107</td>\n",
              "      <td>NaN</td>\n",
              "      <td>NaN</td>\n",
              "    </tr>\n",
              "    <tr>\n",
              "      <th>9</th>\n",
              "      <td>NaN</td>\n",
              "      <td>NaN</td>\n",
              "      <td>\\nC\\nC 1 2.3196\\nC 1 1.5033 2 125.212\\nC 2 1.5...</td>\n",
              "      <td>cc-pVDZ</td>\n",
              "      <td>0</td>\n",
              "      <td>cc-pVDZ</td>\n",
              "      <td>2.3196</td>\n",
              "      <td>180.0</td>\n",
              "      <td>-157.160867</td>\n",
              "      <td>NaN</td>\n",
              "      <td>NaN</td>\n",
              "    </tr>\n",
              "    <tr>\n",
              "      <th>10</th>\n",
              "      <td>NaN</td>\n",
              "      <td>NaN</td>\n",
              "      <td>\\nC\\nC 1 1.0196\\nC 1 1.5033 2 125.212\\nC 2 1.5...</td>\n",
              "      <td>cc-pVDZ</td>\n",
              "      <td>0</td>\n",
              "      <td>cc-pVDZ</td>\n",
              "      <td>1.0196</td>\n",
              "      <td>180.0</td>\n",
              "      <td>NaN</td>\n",
              "      <td>-156.515272</td>\n",
              "      <td>-156.532520</td>\n",
              "    </tr>\n",
              "    <tr>\n",
              "      <th>11</th>\n",
              "      <td>NaN</td>\n",
              "      <td>NaN</td>\n",
              "      <td>\\nC\\nC 1 1.1196\\nC 1 1.5033 2 125.212\\nC 2 1.5...</td>\n",
              "      <td>cc-pVDZ</td>\n",
              "      <td>0</td>\n",
              "      <td>cc-pVDZ</td>\n",
              "      <td>1.1196</td>\n",
              "      <td>180.0</td>\n",
              "      <td>NaN</td>\n",
              "      <td>-156.657408</td>\n",
              "      <td>-156.675181</td>\n",
              "    </tr>\n",
              "    <tr>\n",
              "      <th>12</th>\n",
              "      <td>NaN</td>\n",
              "      <td>NaN</td>\n",
              "      <td>\\nC\\nC 1 1.2196\\nC 1 1.5033 2 125.212\\nC 2 1.5...</td>\n",
              "      <td>cc-pVDZ</td>\n",
              "      <td>0</td>\n",
              "      <td>cc-pVDZ</td>\n",
              "      <td>1.2196</td>\n",
              "      <td>180.0</td>\n",
              "      <td>NaN</td>\n",
              "      <td>-156.724661</td>\n",
              "      <td>-156.743196</td>\n",
              "    </tr>\n",
              "    <tr>\n",
              "      <th>13</th>\n",
              "      <td>NaN</td>\n",
              "      <td>NaN</td>\n",
              "      <td>\\nC\\nC 1 1.3196\\nC 1 1.5033 2 125.212\\nC 2 1.5...</td>\n",
              "      <td>cc-pVDZ</td>\n",
              "      <td>0</td>\n",
              "      <td>cc-pVDZ</td>\n",
              "      <td>1.3196</td>\n",
              "      <td>180.0</td>\n",
              "      <td>NaN</td>\n",
              "      <td>-156.746817</td>\n",
              "      <td>-156.766366</td>\n",
              "    </tr>\n",
              "    <tr>\n",
              "      <th>14</th>\n",
              "      <td>NaN</td>\n",
              "      <td>NaN</td>\n",
              "      <td>\\nC\\nC 1 1.4196\\nC 1 1.5033 2 125.212\\nC 2 1.5...</td>\n",
              "      <td>cc-pVDZ</td>\n",
              "      <td>0</td>\n",
              "      <td>cc-pVDZ</td>\n",
              "      <td>1.4196</td>\n",
              "      <td>180.0</td>\n",
              "      <td>NaN</td>\n",
              "      <td>-156.742408</td>\n",
              "      <td>-156.763244</td>\n",
              "    </tr>\n",
              "    <tr>\n",
              "      <th>15</th>\n",
              "      <td>NaN</td>\n",
              "      <td>NaN</td>\n",
              "      <td>\\nC\\nC 1 1.5196\\nC 1 1.5033 2 125.212\\nC 2 1.5...</td>\n",
              "      <td>cc-pVDZ</td>\n",
              "      <td>0</td>\n",
              "      <td>cc-pVDZ</td>\n",
              "      <td>1.5196</td>\n",
              "      <td>180.0</td>\n",
              "      <td>NaN</td>\n",
              "      <td>-156.722963</td>\n",
              "      <td>-156.745380</td>\n",
              "    </tr>\n",
              "    <tr>\n",
              "      <th>16</th>\n",
              "      <td>NaN</td>\n",
              "      <td>NaN</td>\n",
              "      <td>\\nC\\nC 1 1.7196\\nC 1 1.5033 2 125.212\\nC 2 1.5...</td>\n",
              "      <td>cc-pVDZ</td>\n",
              "      <td>0</td>\n",
              "      <td>cc-pVDZ</td>\n",
              "      <td>1.7196</td>\n",
              "      <td>180.0</td>\n",
              "      <td>NaN</td>\n",
              "      <td>-156.664951</td>\n",
              "      <td>-156.691463</td>\n",
              "    </tr>\n",
              "    <tr>\n",
              "      <th>17</th>\n",
              "      <td>NaN</td>\n",
              "      <td>NaN</td>\n",
              "      <td>\\nC\\nC 1 1.9196\\nC 1 1.5033 2 125.212\\nC 2 1.5...</td>\n",
              "      <td>cc-pVDZ</td>\n",
              "      <td>0</td>\n",
              "      <td>cc-pVDZ</td>\n",
              "      <td>1.9196</td>\n",
              "      <td>180.0</td>\n",
              "      <td>NaN</td>\n",
              "      <td>-156.603221</td>\n",
              "      <td>-156.635125</td>\n",
              "    </tr>\n",
              "    <tr>\n",
              "      <th>18</th>\n",
              "      <td>NaN</td>\n",
              "      <td>NaN</td>\n",
              "      <td>\\nC\\nC 1 2.1196\\nC 1 1.5033 2 125.212\\nC 2 1.5...</td>\n",
              "      <td>cc-pVDZ</td>\n",
              "      <td>0</td>\n",
              "      <td>cc-pVDZ</td>\n",
              "      <td>2.1196</td>\n",
              "      <td>180.0</td>\n",
              "      <td>NaN</td>\n",
              "      <td>-156.548709</td>\n",
              "      <td>-156.587387</td>\n",
              "    </tr>\n",
              "    <tr>\n",
              "      <th>19</th>\n",
              "      <td>NaN</td>\n",
              "      <td>NaN</td>\n",
              "      <td>\\nC\\nC 1 2.3196\\nC 1 1.5033 2 125.212\\nC 2 1.5...</td>\n",
              "      <td>cc-pVDZ</td>\n",
              "      <td>0</td>\n",
              "      <td>cc-pVDZ</td>\n",
              "      <td>2.3196</td>\n",
              "      <td>180.0</td>\n",
              "      <td>NaN</td>\n",
              "      <td>-156.504615</td>\n",
              "      <td>-156.551753</td>\n",
              "    </tr>\n",
              "  </tbody>\n",
              "</table>\n",
              "</div>\n",
              "    <div class=\"colab-df-buttons\">\n",
              "\n",
              "  <div class=\"colab-df-container\">\n",
              "    <button class=\"colab-df-convert\" onclick=\"convertToInteractive('df-21acaca6-4dbd-4859-9b67-2cf2e01287a6')\"\n",
              "            title=\"Convert this dataframe to an interactive table.\"\n",
              "            style=\"display:none;\">\n",
              "\n",
              "  <svg xmlns=\"http://www.w3.org/2000/svg\" height=\"24px\" viewBox=\"0 -960 960 960\">\n",
              "    <path d=\"M120-120v-720h720v720H120Zm60-500h600v-160H180v160Zm220 220h160v-160H400v160Zm0 220h160v-160H400v160ZM180-400h160v-160H180v160Zm440 0h160v-160H620v160ZM180-180h160v-160H180v160Zm440 0h160v-160H620v160Z\"/>\n",
              "  </svg>\n",
              "    </button>\n",
              "\n",
              "  <style>\n",
              "    .colab-df-container {\n",
              "      display:flex;\n",
              "      gap: 12px;\n",
              "    }\n",
              "\n",
              "    .colab-df-convert {\n",
              "      background-color: #E8F0FE;\n",
              "      border: none;\n",
              "      border-radius: 50%;\n",
              "      cursor: pointer;\n",
              "      display: none;\n",
              "      fill: #1967D2;\n",
              "      height: 32px;\n",
              "      padding: 0 0 0 0;\n",
              "      width: 32px;\n",
              "    }\n",
              "\n",
              "    .colab-df-convert:hover {\n",
              "      background-color: #E2EBFA;\n",
              "      box-shadow: 0px 1px 2px rgba(60, 64, 67, 0.3), 0px 1px 3px 1px rgba(60, 64, 67, 0.15);\n",
              "      fill: #174EA6;\n",
              "    }\n",
              "\n",
              "    .colab-df-buttons div {\n",
              "      margin-bottom: 4px;\n",
              "    }\n",
              "\n",
              "    [theme=dark] .colab-df-convert {\n",
              "      background-color: #3B4455;\n",
              "      fill: #D2E3FC;\n",
              "    }\n",
              "\n",
              "    [theme=dark] .colab-df-convert:hover {\n",
              "      background-color: #434B5C;\n",
              "      box-shadow: 0px 1px 3px 1px rgba(0, 0, 0, 0.15);\n",
              "      filter: drop-shadow(0px 1px 2px rgba(0, 0, 0, 0.3));\n",
              "      fill: #FFFFFF;\n",
              "    }\n",
              "  </style>\n",
              "\n",
              "    <script>\n",
              "      const buttonEl =\n",
              "        document.querySelector('#df-21acaca6-4dbd-4859-9b67-2cf2e01287a6 button.colab-df-convert');\n",
              "      buttonEl.style.display =\n",
              "        google.colab.kernel.accessAllowed ? 'block' : 'none';\n",
              "\n",
              "      async function convertToInteractive(key) {\n",
              "        const element = document.querySelector('#df-21acaca6-4dbd-4859-9b67-2cf2e01287a6');\n",
              "        const dataTable =\n",
              "          await google.colab.kernel.invokeFunction('convertToInteractive',\n",
              "                                                    [key], {});\n",
              "        if (!dataTable) return;\n",
              "\n",
              "        const docLinkHtml = 'Like what you see? Visit the ' +\n",
              "          '<a target=\"_blank\" href=https://colab.research.google.com/notebooks/data_table.ipynb>data table notebook</a>'\n",
              "          + ' to learn more about interactive tables.';\n",
              "        element.innerHTML = '';\n",
              "        dataTable['output_type'] = 'display_data';\n",
              "        await google.colab.output.renderOutput(dataTable, element);\n",
              "        const docLink = document.createElement('div');\n",
              "        docLink.innerHTML = docLinkHtml;\n",
              "        element.appendChild(docLink);\n",
              "      }\n",
              "    </script>\n",
              "  </div>\n",
              "\n",
              "\n",
              "<div id=\"df-c198f156-b308-4910-938e-68dcb8a117f2\">\n",
              "  <button class=\"colab-df-quickchart\" onclick=\"quickchart('df-c198f156-b308-4910-938e-68dcb8a117f2')\"\n",
              "            title=\"Suggest charts\"\n",
              "            style=\"display:none;\">\n",
              "\n",
              "<svg xmlns=\"http://www.w3.org/2000/svg\" height=\"24px\"viewBox=\"0 0 24 24\"\n",
              "     width=\"24px\">\n",
              "    <g>\n",
              "        <path d=\"M19 3H5c-1.1 0-2 .9-2 2v14c0 1.1.9 2 2 2h14c1.1 0 2-.9 2-2V5c0-1.1-.9-2-2-2zM9 17H7v-7h2v7zm4 0h-2V7h2v10zm4 0h-2v-4h2v4z\"/>\n",
              "    </g>\n",
              "</svg>\n",
              "  </button>\n",
              "\n",
              "<style>\n",
              "  .colab-df-quickchart {\n",
              "      --bg-color: #E8F0FE;\n",
              "      --fill-color: #1967D2;\n",
              "      --hover-bg-color: #E2EBFA;\n",
              "      --hover-fill-color: #174EA6;\n",
              "      --disabled-fill-color: #AAA;\n",
              "      --disabled-bg-color: #DDD;\n",
              "  }\n",
              "\n",
              "  [theme=dark] .colab-df-quickchart {\n",
              "      --bg-color: #3B4455;\n",
              "      --fill-color: #D2E3FC;\n",
              "      --hover-bg-color: #434B5C;\n",
              "      --hover-fill-color: #FFFFFF;\n",
              "      --disabled-bg-color: #3B4455;\n",
              "      --disabled-fill-color: #666;\n",
              "  }\n",
              "\n",
              "  .colab-df-quickchart {\n",
              "    background-color: var(--bg-color);\n",
              "    border: none;\n",
              "    border-radius: 50%;\n",
              "    cursor: pointer;\n",
              "    display: none;\n",
              "    fill: var(--fill-color);\n",
              "    height: 32px;\n",
              "    padding: 0;\n",
              "    width: 32px;\n",
              "  }\n",
              "\n",
              "  .colab-df-quickchart:hover {\n",
              "    background-color: var(--hover-bg-color);\n",
              "    box-shadow: 0 1px 2px rgba(60, 64, 67, 0.3), 0 1px 3px 1px rgba(60, 64, 67, 0.15);\n",
              "    fill: var(--button-hover-fill-color);\n",
              "  }\n",
              "\n",
              "  .colab-df-quickchart-complete:disabled,\n",
              "  .colab-df-quickchart-complete:disabled:hover {\n",
              "    background-color: var(--disabled-bg-color);\n",
              "    fill: var(--disabled-fill-color);\n",
              "    box-shadow: none;\n",
              "  }\n",
              "\n",
              "  .colab-df-spinner {\n",
              "    border: 2px solid var(--fill-color);\n",
              "    border-color: transparent;\n",
              "    border-bottom-color: var(--fill-color);\n",
              "    animation:\n",
              "      spin 1s steps(1) infinite;\n",
              "  }\n",
              "\n",
              "  @keyframes spin {\n",
              "    0% {\n",
              "      border-color: transparent;\n",
              "      border-bottom-color: var(--fill-color);\n",
              "      border-left-color: var(--fill-color);\n",
              "    }\n",
              "    20% {\n",
              "      border-color: transparent;\n",
              "      border-left-color: var(--fill-color);\n",
              "      border-top-color: var(--fill-color);\n",
              "    }\n",
              "    30% {\n",
              "      border-color: transparent;\n",
              "      border-left-color: var(--fill-color);\n",
              "      border-top-color: var(--fill-color);\n",
              "      border-right-color: var(--fill-color);\n",
              "    }\n",
              "    40% {\n",
              "      border-color: transparent;\n",
              "      border-right-color: var(--fill-color);\n",
              "      border-top-color: var(--fill-color);\n",
              "    }\n",
              "    60% {\n",
              "      border-color: transparent;\n",
              "      border-right-color: var(--fill-color);\n",
              "    }\n",
              "    80% {\n",
              "      border-color: transparent;\n",
              "      border-right-color: var(--fill-color);\n",
              "      border-bottom-color: var(--fill-color);\n",
              "    }\n",
              "    90% {\n",
              "      border-color: transparent;\n",
              "      border-bottom-color: var(--fill-color);\n",
              "    }\n",
              "  }\n",
              "</style>\n",
              "\n",
              "  <script>\n",
              "    async function quickchart(key) {\n",
              "      const quickchartButtonEl =\n",
              "        document.querySelector('#' + key + ' button');\n",
              "      quickchartButtonEl.disabled = true;  // To prevent multiple clicks.\n",
              "      quickchartButtonEl.classList.add('colab-df-spinner');\n",
              "      try {\n",
              "        const charts = await google.colab.kernel.invokeFunction(\n",
              "            'suggestCharts', [key], {});\n",
              "      } catch (error) {\n",
              "        console.error('Error during call to suggestCharts:', error);\n",
              "      }\n",
              "      quickchartButtonEl.classList.remove('colab-df-spinner');\n",
              "      quickchartButtonEl.classList.add('colab-df-quickchart-complete');\n",
              "    }\n",
              "    (() => {\n",
              "      let quickchartButtonEl =\n",
              "        document.querySelector('#df-c198f156-b308-4910-938e-68dcb8a117f2 button');\n",
              "      quickchartButtonEl.style.display =\n",
              "        google.colab.kernel.accessAllowed ? 'block' : 'none';\n",
              "    })();\n",
              "  </script>\n",
              "</div>\n",
              "    </div>\n",
              "  </div>\n"
            ]
          },
          "metadata": {},
          "execution_count": 335
        }
      ],
      "source": [
        "df"
      ]
    },
    {
      "cell_type": "code",
      "execution_count": 336,
      "metadata": {
        "id": "OvOqOlSqnurx"
      },
      "outputs": [],
      "source": [
        "isTryMultiProcessing = False"
      ]
    },
    {
      "cell_type": "code",
      "execution_count": 337,
      "metadata": {
        "id": "ssxcxDGRn6kq"
      },
      "outputs": [],
      "source": [
        "from multiprocessing import Pool\n",
        "import time"
      ]
    },
    {
      "cell_type": "code",
      "execution_count": 338,
      "metadata": {
        "id": "QYg8RZNSzQ9T"
      },
      "outputs": [],
      "source": [
        "inputdatatoFunction = [10, -100, 100, 1000]"
      ]
    },
    {
      "cell_type": "code",
      "execution_count": 339,
      "metadata": {
        "id": "umnbtQfiybGn"
      },
      "outputs": [],
      "source": [
        "def doworkhere(workinput)  :\n",
        "  sum = workinput\n",
        "  for i in range(100000):\n",
        "    sum = sum + 0.000001\n",
        "  return sum\n"
      ]
    },
    {
      "cell_type": "code",
      "execution_count": 340,
      "metadata": {
        "id": "66MaIMOwy0y5",
        "colab": {
          "base_uri": "https://localhost:8080/"
        },
        "outputId": "f6ea0409-bb36-4ca6-fa5d-4b534df0d74d"
      },
      "outputs": [
        {
          "output_type": "stream",
          "name": "stdout",
          "text": [
            "0.11914419100003215\n"
          ]
        }
      ],
      "source": [
        "wallclock = time.perf_counter()\n",
        "\n",
        "with Pool() as jesuspool:\n",
        "  answerfromFunction = jesuspool.map(doworkhere, inputdatatoFunction)\n",
        "\n",
        "wallclock =   time.perf_counter() - wallclock\n",
        "print(wallclock)"
      ]
    },
    {
      "cell_type": "code",
      "execution_count": 341,
      "metadata": {
        "id": "muyK09o93nYX"
      },
      "outputs": [],
      "source": [
        "#!lscpu\n"
      ]
    },
    {
      "cell_type": "code",
      "execution_count": 342,
      "metadata": {
        "id": "9d-g61_L2rws",
        "colab": {
          "base_uri": "https://localhost:8080/"
        },
        "outputId": "5c19a5a7-5cdd-4010-d3de-75f6d5e5dff3"
      },
      "outputs": [
        {
          "output_type": "stream",
          "name": "stdout",
          "text": [
            "install: missing destination file operand after 'htop'\n",
            "Try 'install --help' for more information.\n"
          ]
        }
      ],
      "source": [
        "!sudo  install htop"
      ]
    },
    {
      "cell_type": "code",
      "execution_count": 343,
      "metadata": {
        "id": "wOvBXn3D0bg-"
      },
      "outputs": [],
      "source": [
        "#!pip install colab-xterm\n",
        "#%load_ext colabxterm\n",
        "#%xterm"
      ]
    },
    {
      "cell_type": "code",
      "execution_count": 344,
      "metadata": {
        "id": "FydNoWaSzmWW",
        "colab": {
          "base_uri": "https://localhost:8080/"
        },
        "outputId": "ac09dc8e-2265-408c-e698-44d79e7cd532"
      },
      "outputs": [
        {
          "output_type": "execute_result",
          "data": {
            "text/plain": [
              "[10.09999999992516, -99.90000000025248, 100.09999999974752, 1000.0999999997475]"
            ]
          },
          "metadata": {},
          "execution_count": 344
        }
      ],
      "source": [
        "answerfromFunction"
      ]
    },
    {
      "cell_type": "code",
      "execution_count": 345,
      "metadata": {
        "id": "EtSoSfexzw7Y",
        "colab": {
          "base_uri": "https://localhost:8080/"
        },
        "outputId": "66c615e4-d41c-47ac-ed58-acd89dd0ee15"
      },
      "outputs": [
        {
          "output_type": "stream",
          "name": "stdout",
          "text": [
            "************************************##############################################*###############################  BONDLENGHT_HO = 1.0196\n",
            "************************************##############################################*###############################  BONDANGLE_OHO = 180.0\n",
            "***********************************************************\n",
            "***********************************************************\n",
            "***********************************************************\n",
            "\n",
            "C\n",
            "C 1 1.0196\n",
            "C 1 1.5033 2 125.212\n",
            "C 2 1.5033 1 125.212 3 180.0\n",
            "H 1 1.08 2 118.9435 3 180.0\n",
            "H 2 1.08 1 118.9435 4 180.0\n",
            "H 3 1.0846 1 111.4522 2 0.0\n",
            "H 4 1.0846 2 111.4522 1 0.0\n",
            "H 3 1.0872 1 111.0502 7 120.5449\n",
            "H 3 1.0872 1 111.0502 7 -120.5449\n",
            "H 4 1.0872 2 111.0502 8 120.5449\n",
            "H 4 1.0872 2 111.0502 8 -120.5449\n",
            "\n",
            ".............................................Molecule Geometry......................................................\n",
            "\n",
            "C\n",
            "C 1 1.0196\n",
            "C 1 1.5033 2 125.212\n",
            "C 2 1.5033 1 125.212 3 180.0\n",
            "H 1 1.08 2 118.9435 3 180.0\n",
            "H 2 1.08 1 118.9435 4 180.0\n",
            "H 3 1.0846 1 111.4522 2 0.0\n",
            "H 4 1.0846 2 111.4522 1 0.0\n",
            "H 3 1.0872 1 111.0502 7 120.5449\n",
            "H 3 1.0872 1 111.0502 7 -120.5449\n",
            "H 4 1.0872 2 111.0502 8 120.5449\n",
            "H 4 1.0872 2 111.0502 8 -120.5449\n",
            "\n",
            "cc-pVDZ\n",
            ".............................................COMPUTING SCF energy......................................................\n",
            "++++++++++++++++++++++++++++++++++++++++++++++++++  DM21 Functionals ++++++++++++++++++++++++++++++++++\n"
          ]
        },
        {
          "output_type": "stream",
          "name": "stderr",
          "text": [
            "WARNING:tensorflow:From /usr/local/lib/python3.10/dist-packages/tensorflow_hub/saved_model_lib.py:110: build_tensor_info (from tensorflow.python.saved_model.utils_impl) is deprecated and will be removed in a future version.\n",
            "Instructions for updating:\n",
            "This API was designed for TensorFlow v1. See https://www.tensorflow.org/guide/migrate for instructions on how to migrate your code to TensorFlow v2.\n"
          ]
        },
        {
          "output_type": "stream",
          "name": "stdout",
          "text": [
            "converged SCF energy = -156.918138445315\n",
            "************************************##############################################*###############################  BONDLENGHT_HO = 1.1196\n",
            "************************************##############################################*###############################  BONDANGLE_OHO = 180.0\n",
            "***********************************************************\n",
            "***********************************************************\n",
            "***********************************************************\n",
            "\n",
            "C\n",
            "C 1 1.1196\n",
            "C 1 1.5033 2 125.212\n",
            "C 2 1.5033 1 125.212 3 180.0\n",
            "H 1 1.08 2 118.9435 3 180.0\n",
            "H 2 1.08 1 118.9435 4 180.0\n",
            "H 3 1.0846 1 111.4522 2 0.0\n",
            "H 4 1.0846 2 111.4522 1 0.0\n",
            "H 3 1.0872 1 111.0502 7 120.5449\n",
            "H 3 1.0872 1 111.0502 7 -120.5449\n",
            "H 4 1.0872 2 111.0502 8 120.5449\n",
            "H 4 1.0872 2 111.0502 8 -120.5449\n",
            "\n",
            ".............................................Molecule Geometry......................................................\n",
            "\n",
            "C\n",
            "C 1 1.1196\n",
            "C 1 1.5033 2 125.212\n",
            "C 2 1.5033 1 125.212 3 180.0\n",
            "H 1 1.08 2 118.9435 3 180.0\n",
            "H 2 1.08 1 118.9435 4 180.0\n",
            "H 3 1.0846 1 111.4522 2 0.0\n",
            "H 4 1.0846 2 111.4522 1 0.0\n",
            "H 3 1.0872 1 111.0502 7 120.5449\n",
            "H 3 1.0872 1 111.0502 7 -120.5449\n",
            "H 4 1.0872 2 111.0502 8 120.5449\n",
            "H 4 1.0872 2 111.0502 8 -120.5449\n",
            "\n",
            "cc-pVDZ\n",
            ".............................................COMPUTING SCF energy......................................................\n",
            "++++++++++++++++++++++++++++++++++++++++++++++++++  DM21 Functionals ++++++++++++++++++++++++++++++++++\n"
          ]
        },
        {
          "output_type": "stream",
          "name": "stderr",
          "text": [
            "<ipython-input-325-06e12ef6209f>:43: FutureWarning: The frame.append method is deprecated and will be removed from pandas in a future version. Use pandas.concat instead.\n",
            "  df = df.append(dfforOneElement, ignore_index = True)\n"
          ]
        },
        {
          "output_type": "stream",
          "name": "stdout",
          "text": [
            "converged SCF energy = -157.052701026478\n",
            "************************************##############################################*###############################  BONDLENGHT_HO = 1.2196\n",
            "************************************##############################################*###############################  BONDANGLE_OHO = 180.0\n",
            "***********************************************************\n",
            "***********************************************************\n",
            "***********************************************************\n",
            "\n",
            "C\n",
            "C 1 1.2196\n",
            "C 1 1.5033 2 125.212\n",
            "C 2 1.5033 1 125.212 3 180.0\n",
            "H 1 1.08 2 118.9435 3 180.0\n",
            "H 2 1.08 1 118.9435 4 180.0\n",
            "H 3 1.0846 1 111.4522 2 0.0\n",
            "H 4 1.0846 2 111.4522 1 0.0\n",
            "H 3 1.0872 1 111.0502 7 120.5449\n",
            "H 3 1.0872 1 111.0502 7 -120.5449\n",
            "H 4 1.0872 2 111.0502 8 120.5449\n",
            "H 4 1.0872 2 111.0502 8 -120.5449\n",
            "\n",
            ".............................................Molecule Geometry......................................................\n",
            "\n",
            "C\n",
            "C 1 1.2196\n",
            "C 1 1.5033 2 125.212\n",
            "C 2 1.5033 1 125.212 3 180.0\n",
            "H 1 1.08 2 118.9435 3 180.0\n",
            "H 2 1.08 1 118.9435 4 180.0\n",
            "H 3 1.0846 1 111.4522 2 0.0\n",
            "H 4 1.0846 2 111.4522 1 0.0\n",
            "H 3 1.0872 1 111.0502 7 120.5449\n",
            "H 3 1.0872 1 111.0502 7 -120.5449\n",
            "H 4 1.0872 2 111.0502 8 120.5449\n",
            "H 4 1.0872 2 111.0502 8 -120.5449\n",
            "\n",
            "cc-pVDZ\n",
            ".............................................COMPUTING SCF energy......................................................\n",
            "++++++++++++++++++++++++++++++++++++++++++++++++++  DM21 Functionals ++++++++++++++++++++++++++++++++++\n"
          ]
        },
        {
          "output_type": "stream",
          "name": "stderr",
          "text": [
            "<ipython-input-325-06e12ef6209f>:43: FutureWarning: The frame.append method is deprecated and will be removed from pandas in a future version. Use pandas.concat instead.\n",
            "  df = df.append(dfforOneElement, ignore_index = True)\n"
          ]
        },
        {
          "output_type": "stream",
          "name": "stdout",
          "text": [
            "converged SCF energy = -157.114166352251\n",
            "************************************##############################################*###############################  BONDLENGHT_HO = 1.3196\n",
            "************************************##############################################*###############################  BONDANGLE_OHO = 180.0\n",
            "***********************************************************\n",
            "***********************************************************\n",
            "***********************************************************\n",
            "\n",
            "C\n",
            "C 1 1.3196\n",
            "C 1 1.5033 2 125.212\n",
            "C 2 1.5033 1 125.212 3 180.0\n",
            "H 1 1.08 2 118.9435 3 180.0\n",
            "H 2 1.08 1 118.9435 4 180.0\n",
            "H 3 1.0846 1 111.4522 2 0.0\n",
            "H 4 1.0846 2 111.4522 1 0.0\n",
            "H 3 1.0872 1 111.0502 7 120.5449\n",
            "H 3 1.0872 1 111.0502 7 -120.5449\n",
            "H 4 1.0872 2 111.0502 8 120.5449\n",
            "H 4 1.0872 2 111.0502 8 -120.5449\n",
            "\n",
            ".............................................Molecule Geometry......................................................\n",
            "\n",
            "C\n",
            "C 1 1.3196\n",
            "C 1 1.5033 2 125.212\n",
            "C 2 1.5033 1 125.212 3 180.0\n",
            "H 1 1.08 2 118.9435 3 180.0\n",
            "H 2 1.08 1 118.9435 4 180.0\n",
            "H 3 1.0846 1 111.4522 2 0.0\n",
            "H 4 1.0846 2 111.4522 1 0.0\n",
            "H 3 1.0872 1 111.0502 7 120.5449\n",
            "H 3 1.0872 1 111.0502 7 -120.5449\n",
            "H 4 1.0872 2 111.0502 8 120.5449\n",
            "H 4 1.0872 2 111.0502 8 -120.5449\n",
            "\n",
            "cc-pVDZ\n",
            ".............................................COMPUTING SCF energy......................................................\n",
            "++++++++++++++++++++++++++++++++++++++++++++++++++  DM21 Functionals ++++++++++++++++++++++++++++++++++\n"
          ]
        },
        {
          "output_type": "stream",
          "name": "stderr",
          "text": [
            "<ipython-input-325-06e12ef6209f>:43: FutureWarning: The frame.append method is deprecated and will be removed from pandas in a future version. Use pandas.concat instead.\n",
            "  df = df.append(dfforOneElement, ignore_index = True)\n"
          ]
        },
        {
          "output_type": "stream",
          "name": "stdout",
          "text": [
            "converged SCF energy = -157.132632511547\n",
            "************************************##############################################*###############################  BONDLENGHT_HO = 1.4196\n",
            "************************************##############################################*###############################  BONDANGLE_OHO = 180.0\n",
            "***********************************************************\n",
            "***********************************************************\n",
            "***********************************************************\n",
            "\n",
            "C\n",
            "C 1 1.4196\n",
            "C 1 1.5033 2 125.212\n",
            "C 2 1.5033 1 125.212 3 180.0\n",
            "H 1 1.08 2 118.9435 3 180.0\n",
            "H 2 1.08 1 118.9435 4 180.0\n",
            "H 3 1.0846 1 111.4522 2 0.0\n",
            "H 4 1.0846 2 111.4522 1 0.0\n",
            "H 3 1.0872 1 111.0502 7 120.5449\n",
            "H 3 1.0872 1 111.0502 7 -120.5449\n",
            "H 4 1.0872 2 111.0502 8 120.5449\n",
            "H 4 1.0872 2 111.0502 8 -120.5449\n",
            "\n",
            ".............................................Molecule Geometry......................................................\n",
            "\n",
            "C\n",
            "C 1 1.4196\n",
            "C 1 1.5033 2 125.212\n",
            "C 2 1.5033 1 125.212 3 180.0\n",
            "H 1 1.08 2 118.9435 3 180.0\n",
            "H 2 1.08 1 118.9435 4 180.0\n",
            "H 3 1.0846 1 111.4522 2 0.0\n",
            "H 4 1.0846 2 111.4522 1 0.0\n",
            "H 3 1.0872 1 111.0502 7 120.5449\n",
            "H 3 1.0872 1 111.0502 7 -120.5449\n",
            "H 4 1.0872 2 111.0502 8 120.5449\n",
            "H 4 1.0872 2 111.0502 8 -120.5449\n",
            "\n",
            "cc-pVDZ\n",
            ".............................................COMPUTING SCF energy......................................................\n",
            "++++++++++++++++++++++++++++++++++++++++++++++++++  DM21 Functionals ++++++++++++++++++++++++++++++++++\n"
          ]
        },
        {
          "output_type": "stream",
          "name": "stderr",
          "text": [
            "<ipython-input-325-06e12ef6209f>:43: FutureWarning: The frame.append method is deprecated and will be removed from pandas in a future version. Use pandas.concat instead.\n",
            "  df = df.append(dfforOneElement, ignore_index = True)\n"
          ]
        },
        {
          "output_type": "stream",
          "name": "stdout",
          "text": [
            "converged SCF energy = -157.126499676982\n",
            "************************************##############################################*###############################  BONDLENGHT_HO = 1.5196\n",
            "************************************##############################################*###############################  BONDANGLE_OHO = 180.0\n",
            "***********************************************************\n",
            "***********************************************************\n",
            "***********************************************************\n",
            "\n",
            "C\n",
            "C 1 1.5196\n",
            "C 1 1.5033 2 125.212\n",
            "C 2 1.5033 1 125.212 3 180.0\n",
            "H 1 1.08 2 118.9435 3 180.0\n",
            "H 2 1.08 1 118.9435 4 180.0\n",
            "H 3 1.0846 1 111.4522 2 0.0\n",
            "H 4 1.0846 2 111.4522 1 0.0\n",
            "H 3 1.0872 1 111.0502 7 120.5449\n",
            "H 3 1.0872 1 111.0502 7 -120.5449\n",
            "H 4 1.0872 2 111.0502 8 120.5449\n",
            "H 4 1.0872 2 111.0502 8 -120.5449\n",
            "\n",
            ".............................................Molecule Geometry......................................................\n",
            "\n",
            "C\n",
            "C 1 1.5196\n",
            "C 1 1.5033 2 125.212\n",
            "C 2 1.5033 1 125.212 3 180.0\n",
            "H 1 1.08 2 118.9435 3 180.0\n",
            "H 2 1.08 1 118.9435 4 180.0\n",
            "H 3 1.0846 1 111.4522 2 0.0\n",
            "H 4 1.0846 2 111.4522 1 0.0\n",
            "H 3 1.0872 1 111.0502 7 120.5449\n",
            "H 3 1.0872 1 111.0502 7 -120.5449\n",
            "H 4 1.0872 2 111.0502 8 120.5449\n",
            "H 4 1.0872 2 111.0502 8 -120.5449\n",
            "\n",
            "cc-pVDZ\n",
            ".............................................COMPUTING SCF energy......................................................\n",
            "++++++++++++++++++++++++++++++++++++++++++++++++++  DM21 Functionals ++++++++++++++++++++++++++++++++++\n"
          ]
        },
        {
          "output_type": "stream",
          "name": "stderr",
          "text": [
            "<ipython-input-325-06e12ef6209f>:43: FutureWarning: The frame.append method is deprecated and will be removed from pandas in a future version. Use pandas.concat instead.\n",
            "  df = df.append(dfforOneElement, ignore_index = True)\n"
          ]
        },
        {
          "output_type": "stream",
          "name": "stdout",
          "text": [
            "converged SCF energy = -157.106686966793\n",
            "************************************##############################################*###############################  BONDLENGHT_HO = 1.7196\n",
            "************************************##############################################*###############################  BONDANGLE_OHO = 180.0\n",
            "***********************************************************\n",
            "***********************************************************\n",
            "***********************************************************\n",
            "\n",
            "C\n",
            "C 1 1.7196\n",
            "C 1 1.5033 2 125.212\n",
            "C 2 1.5033 1 125.212 3 180.0\n",
            "H 1 1.08 2 118.9435 3 180.0\n",
            "H 2 1.08 1 118.9435 4 180.0\n",
            "H 3 1.0846 1 111.4522 2 0.0\n",
            "H 4 1.0846 2 111.4522 1 0.0\n",
            "H 3 1.0872 1 111.0502 7 120.5449\n",
            "H 3 1.0872 1 111.0502 7 -120.5449\n",
            "H 4 1.0872 2 111.0502 8 120.5449\n",
            "H 4 1.0872 2 111.0502 8 -120.5449\n",
            "\n",
            ".............................................Molecule Geometry......................................................\n",
            "\n",
            "C\n",
            "C 1 1.7196\n",
            "C 1 1.5033 2 125.212\n",
            "C 2 1.5033 1 125.212 3 180.0\n",
            "H 1 1.08 2 118.9435 3 180.0\n",
            "H 2 1.08 1 118.9435 4 180.0\n",
            "H 3 1.0846 1 111.4522 2 0.0\n",
            "H 4 1.0846 2 111.4522 1 0.0\n",
            "H 3 1.0872 1 111.0502 7 120.5449\n",
            "H 3 1.0872 1 111.0502 7 -120.5449\n",
            "H 4 1.0872 2 111.0502 8 120.5449\n",
            "H 4 1.0872 2 111.0502 8 -120.5449\n",
            "\n",
            "cc-pVDZ\n",
            ".............................................COMPUTING SCF energy......................................................\n",
            "++++++++++++++++++++++++++++++++++++++++++++++++++  DM21 Functionals ++++++++++++++++++++++++++++++++++\n"
          ]
        },
        {
          "output_type": "stream",
          "name": "stderr",
          "text": [
            "<ipython-input-325-06e12ef6209f>:43: FutureWarning: The frame.append method is deprecated and will be removed from pandas in a future version. Use pandas.concat instead.\n",
            "  df = df.append(dfforOneElement, ignore_index = True)\n"
          ]
        },
        {
          "output_type": "stream",
          "name": "stdout",
          "text": [
            "converged SCF energy = -157.048512459721\n",
            "************************************##############################################*###############################  BONDLENGHT_HO = 1.9196\n",
            "************************************##############################################*###############################  BONDANGLE_OHO = 180.0\n",
            "***********************************************************\n",
            "***********************************************************\n",
            "***********************************************************\n",
            "\n",
            "C\n",
            "C 1 1.9196\n",
            "C 1 1.5033 2 125.212\n",
            "C 2 1.5033 1 125.212 3 180.0\n",
            "H 1 1.08 2 118.9435 3 180.0\n",
            "H 2 1.08 1 118.9435 4 180.0\n",
            "H 3 1.0846 1 111.4522 2 0.0\n",
            "H 4 1.0846 2 111.4522 1 0.0\n",
            "H 3 1.0872 1 111.0502 7 120.5449\n",
            "H 3 1.0872 1 111.0502 7 -120.5449\n",
            "H 4 1.0872 2 111.0502 8 120.5449\n",
            "H 4 1.0872 2 111.0502 8 -120.5449\n",
            "\n",
            ".............................................Molecule Geometry......................................................\n",
            "\n",
            "C\n",
            "C 1 1.9196\n",
            "C 1 1.5033 2 125.212\n",
            "C 2 1.5033 1 125.212 3 180.0\n",
            "H 1 1.08 2 118.9435 3 180.0\n",
            "H 2 1.08 1 118.9435 4 180.0\n",
            "H 3 1.0846 1 111.4522 2 0.0\n",
            "H 4 1.0846 2 111.4522 1 0.0\n",
            "H 3 1.0872 1 111.0502 7 120.5449\n",
            "H 3 1.0872 1 111.0502 7 -120.5449\n",
            "H 4 1.0872 2 111.0502 8 120.5449\n",
            "H 4 1.0872 2 111.0502 8 -120.5449\n",
            "\n",
            "cc-pVDZ\n",
            ".............................................COMPUTING SCF energy......................................................\n",
            "++++++++++++++++++++++++++++++++++++++++++++++++++  DM21 Functionals ++++++++++++++++++++++++++++++++++\n"
          ]
        },
        {
          "output_type": "stream",
          "name": "stderr",
          "text": [
            "<ipython-input-325-06e12ef6209f>:43: FutureWarning: The frame.append method is deprecated and will be removed from pandas in a future version. Use pandas.concat instead.\n",
            "  df = df.append(dfforOneElement, ignore_index = True)\n"
          ]
        },
        {
          "output_type": "stream",
          "name": "stdout",
          "text": [
            "converged SCF energy = -156.985867053801\n",
            "************************************##############################################*###############################  BONDLENGHT_HO = 2.1196\n",
            "************************************##############################################*###############################  BONDANGLE_OHO = 180.0\n",
            "***********************************************************\n",
            "***********************************************************\n",
            "***********************************************************\n",
            "\n",
            "C\n",
            "C 1 2.1196\n",
            "C 1 1.5033 2 125.212\n",
            "C 2 1.5033 1 125.212 3 180.0\n",
            "H 1 1.08 2 118.9435 3 180.0\n",
            "H 2 1.08 1 118.9435 4 180.0\n",
            "H 3 1.0846 1 111.4522 2 0.0\n",
            "H 4 1.0846 2 111.4522 1 0.0\n",
            "H 3 1.0872 1 111.0502 7 120.5449\n",
            "H 3 1.0872 1 111.0502 7 -120.5449\n",
            "H 4 1.0872 2 111.0502 8 120.5449\n",
            "H 4 1.0872 2 111.0502 8 -120.5449\n",
            "\n",
            ".............................................Molecule Geometry......................................................\n",
            "\n",
            "C\n",
            "C 1 2.1196\n",
            "C 1 1.5033 2 125.212\n",
            "C 2 1.5033 1 125.212 3 180.0\n",
            "H 1 1.08 2 118.9435 3 180.0\n",
            "H 2 1.08 1 118.9435 4 180.0\n",
            "H 3 1.0846 1 111.4522 2 0.0\n",
            "H 4 1.0846 2 111.4522 1 0.0\n",
            "H 3 1.0872 1 111.0502 7 120.5449\n",
            "H 3 1.0872 1 111.0502 7 -120.5449\n",
            "H 4 1.0872 2 111.0502 8 120.5449\n",
            "H 4 1.0872 2 111.0502 8 -120.5449\n",
            "\n",
            "cc-pVDZ\n",
            ".............................................COMPUTING SCF energy......................................................\n",
            "++++++++++++++++++++++++++++++++++++++++++++++++++  DM21 Functionals ++++++++++++++++++++++++++++++++++\n"
          ]
        },
        {
          "output_type": "stream",
          "name": "stderr",
          "text": [
            "<ipython-input-325-06e12ef6209f>:43: FutureWarning: The frame.append method is deprecated and will be removed from pandas in a future version. Use pandas.concat instead.\n",
            "  df = df.append(dfforOneElement, ignore_index = True)\n"
          ]
        },
        {
          "output_type": "stream",
          "name": "stdout",
          "text": [
            "converged SCF energy = -156.929693315093\n",
            "************************************##############################################*###############################  BONDLENGHT_HO = 2.3196\n",
            "************************************##############################################*###############################  BONDANGLE_OHO = 180.0\n",
            "***********************************************************\n",
            "***********************************************************\n",
            "***********************************************************\n",
            "\n",
            "C\n",
            "C 1 2.3196\n",
            "C 1 1.5033 2 125.212\n",
            "C 2 1.5033 1 125.212 3 180.0\n",
            "H 1 1.08 2 118.9435 3 180.0\n",
            "H 2 1.08 1 118.9435 4 180.0\n",
            "H 3 1.0846 1 111.4522 2 0.0\n",
            "H 4 1.0846 2 111.4522 1 0.0\n",
            "H 3 1.0872 1 111.0502 7 120.5449\n",
            "H 3 1.0872 1 111.0502 7 -120.5449\n",
            "H 4 1.0872 2 111.0502 8 120.5449\n",
            "H 4 1.0872 2 111.0502 8 -120.5449\n",
            "\n",
            ".............................................Molecule Geometry......................................................\n",
            "\n",
            "C\n",
            "C 1 2.3196\n",
            "C 1 1.5033 2 125.212\n",
            "C 2 1.5033 1 125.212 3 180.0\n",
            "H 1 1.08 2 118.9435 3 180.0\n",
            "H 2 1.08 1 118.9435 4 180.0\n",
            "H 3 1.0846 1 111.4522 2 0.0\n",
            "H 4 1.0846 2 111.4522 1 0.0\n",
            "H 3 1.0872 1 111.0502 7 120.5449\n",
            "H 3 1.0872 1 111.0502 7 -120.5449\n",
            "H 4 1.0872 2 111.0502 8 120.5449\n",
            "H 4 1.0872 2 111.0502 8 -120.5449\n",
            "\n",
            "cc-pVDZ\n",
            ".............................................COMPUTING SCF energy......................................................\n",
            "++++++++++++++++++++++++++++++++++++++++++++++++++  DM21 Functionals ++++++++++++++++++++++++++++++++++\n"
          ]
        },
        {
          "output_type": "stream",
          "name": "stderr",
          "text": [
            "<ipython-input-325-06e12ef6209f>:43: FutureWarning: The frame.append method is deprecated and will be removed from pandas in a future version. Use pandas.concat instead.\n",
            "  df = df.append(dfforOneElement, ignore_index = True)\n"
          ]
        },
        {
          "output_type": "stream",
          "name": "stdout",
          "text": [
            "converged SCF energy = -156.882601142925\n"
          ]
        },
        {
          "output_type": "stream",
          "name": "stderr",
          "text": [
            "<ipython-input-325-06e12ef6209f>:43: FutureWarning: The frame.append method is deprecated and will be removed from pandas in a future version. Use pandas.concat instead.\n",
            "  df = df.append(dfforOneElement, ignore_index = True)\n"
          ]
        }
      ],
      "source": [
        "\n",
        "\n",
        "\n",
        "\n",
        "\n",
        "\n",
        "\n",
        "if True:\n",
        "  if firstTimeorRestart==False:\n",
        "    dfCompare = df.copy(deep=True)\n",
        "    dfCompare = dfCompare.round({'bond_Angle': 3, 'bond_lenght': 3})\n",
        "    dfCompare  = addColoumIfDoesnotExisit(dfCompare)\n",
        "\n",
        "    for elementname in dictPeriodicTable.keys():\n",
        "      for lengthHO in Global_Range_BONDLENGTH_HO:\n",
        "        for angle1 in Global_Range_BONDANGLE_OHO:\n",
        "          GlobalBONDANGLE_OHO = angle1\n",
        "          GlobalBONDLENGTH =  lengthHO\n",
        "          temppppp = dfCompare.loc[  (dfCompare['bond_Angle'] == round(angle1, 3)) & (dfCompare['bond_lenght'] == round( lengthHO, 3))     ]\n",
        "          #if (len( temppppp['bond_lenght']) == 0):\n",
        "          isalreadyComputed = False\n",
        "          numberofrowsmatchingcriteria = len( temppppp[lookforAlreadyCompletedHINT])\n",
        "          if numberofrowsmatchingcriteria == 0:\n",
        "            isalreadyComputed = False\n",
        "          if numberofrowsmatchingcriteria >= 1:\n",
        "            tempparrayofDM21values = np.array(temppppp[lookforAlreadyCompletedHINT])\n",
        "            if np.isnan(tempparrayofDM21values).all()  == True:\n",
        "              isalreadyComputed = False\n",
        "            else :\n",
        "              isalreadyComputed = True\n",
        "\n",
        "          if (isalreadyComputed == False ):\n",
        "            print('************************************##############################################*###############################  BONDLENGHT_HO = ' + str(GlobalBONDLENGTH))\n",
        "            print('************************************##############################################*###############################  BONDANGLE_OHO = ' + str(GlobalBONDANGLE_OHO))\n",
        "            try:\n",
        "              df = compute1Mol1BasisSet(elementname, ValidatedBasisSetStart = 0, df=df)\n",
        "              df.to_csv('/content/drive/My Drive/tryDeepMind' + EXPNO+ 'CE-temp2D-.csv' , index=False)\n",
        "\n",
        "              bond_lengths += [GlobalBONDANGLE_OHO]\n",
        "            except:\n",
        "              print('????????????????????????????? EXCEPTION ????????????????')\n",
        "\n",
        "\n",
        "\n",
        "#  except :\n",
        " #   print('************************************************************WARNING*********************************** : EXCPETION.. continuing' )"
      ]
    },
    {
      "cell_type": "code",
      "source": [],
      "metadata": {
        "id": "HybXCUlW2W9g"
      },
      "execution_count": 345,
      "outputs": []
    },
    {
      "cell_type": "code",
      "execution_count": 346,
      "metadata": {
        "id": "ZhLHGhj0sYii",
        "colab": {
          "base_uri": "https://localhost:8080/"
        },
        "outputId": "8d71103e-d16f-40fa-c32c-410db55f2d39"
      },
      "outputs": [
        {
          "output_type": "stream",
          "name": "stdout",
          "text": [
            "Requirement already satisfied: py3Dmol in /usr/local/lib/python3.10/dist-packages (2.0.4)\n"
          ]
        }
      ],
      "source": [
        "!pip install py3Dmol\n"
      ]
    },
    {
      "cell_type": "code",
      "execution_count": 347,
      "metadata": {
        "id": "oh9MbdLOsXX7"
      },
      "outputs": [],
      "source": [
        "\n",
        "import py3Dmol\n"
      ]
    },
    {
      "cell_type": "code",
      "execution_count": 348,
      "metadata": {
        "id": "Ix-Jx7rhZHsB",
        "colab": {
          "base_uri": "https://localhost:8080/"
        },
        "outputId": "6b04126d-6a7d-4756-d857-49a1100b72d5"
      },
      "outputs": [
        {
          "output_type": "execute_result",
          "data": {
            "text/plain": [
              "[1.0196,\n",
              " 1.1196,\n",
              " 1.2196,\n",
              " 1.3196,\n",
              " 1.4196,\n",
              " 1.5196,\n",
              " 1.7196,\n",
              " 1.9196,\n",
              " 2.1196,\n",
              " 2.3196]"
            ]
          },
          "metadata": {},
          "execution_count": 348
        }
      ],
      "source": [
        "Global_Range_BONDLENGTH_HO"
      ]
    },
    {
      "cell_type": "code",
      "execution_count": 349,
      "metadata": {
        "id": "FMNNnIwuZJCh",
        "colab": {
          "base_uri": "https://localhost:8080/"
        },
        "outputId": "e6a2b737-672f-4b9b-a06b-803cd67fb5d6"
      },
      "outputs": [
        {
          "output_type": "execute_result",
          "data": {
            "text/plain": [
              "array([180.])"
            ]
          },
          "metadata": {},
          "execution_count": 349
        }
      ],
      "source": [
        "Global_Range_BONDANGLE_OHO"
      ]
    },
    {
      "cell_type": "code",
      "execution_count": 350,
      "metadata": {
        "id": "TSnqUNJU8Tou"
      },
      "outputs": [],
      "source": [
        "df.to_csv('/content/drive/My Drive/tryDeepMind' + EXPNO+ 'Final-.csv' , index=False )\n"
      ]
    },
    {
      "cell_type": "code",
      "execution_count": 351,
      "metadata": {
        "id": "Ng9sMry4bqv2",
        "colab": {
          "base_uri": "https://localhost:8080/",
          "height": 989
        },
        "outputId": "51294696-bb43-4048-a35e-a2d0ebfcfb33"
      },
      "outputs": [
        {
          "output_type": "execute_result",
          "data": {
            "text/plain": [
              "    Weight  Element                                           Molecule  \\\n",
              "0      NaN      NaN  \\nC\\nC 1 1.0196\\nC 1 1.5033 2 125.212\\nC 2 1.5...   \n",
              "1      NaN      NaN  \\nC\\nC 1 1.1196\\nC 1 1.5033 2 125.212\\nC 2 1.5...   \n",
              "2      NaN      NaN  \\nC\\nC 1 1.2196\\nC 1 1.5033 2 125.212\\nC 2 1.5...   \n",
              "3      NaN      NaN  \\nC\\nC 1 1.3196\\nC 1 1.5033 2 125.212\\nC 2 1.5...   \n",
              "4      NaN      NaN  \\nC\\nC 1 1.4196\\nC 1 1.5033 2 125.212\\nC 2 1.5...   \n",
              "5      NaN      NaN  \\nC\\nC 1 1.5196\\nC 1 1.5033 2 125.212\\nC 2 1.5...   \n",
              "6      NaN      NaN  \\nC\\nC 1 1.7196\\nC 1 1.5033 2 125.212\\nC 2 1.5...   \n",
              "7      NaN      NaN  \\nC\\nC 1 1.9196\\nC 1 1.5033 2 125.212\\nC 2 1.5...   \n",
              "8      NaN      NaN  \\nC\\nC 1 2.1196\\nC 1 1.5033 2 125.212\\nC 2 1.5...   \n",
              "9      NaN      NaN  \\nC\\nC 1 2.3196\\nC 1 1.5033 2 125.212\\nC 2 1.5...   \n",
              "10     NaN      NaN  \\nC\\nC 1 1.0196\\nC 1 1.5033 2 125.212\\nC 2 1.5...   \n",
              "11     NaN      NaN  \\nC\\nC 1 1.1196\\nC 1 1.5033 2 125.212\\nC 2 1.5...   \n",
              "12     NaN      NaN  \\nC\\nC 1 1.2196\\nC 1 1.5033 2 125.212\\nC 2 1.5...   \n",
              "13     NaN      NaN  \\nC\\nC 1 1.3196\\nC 1 1.5033 2 125.212\\nC 2 1.5...   \n",
              "14     NaN      NaN  \\nC\\nC 1 1.4196\\nC 1 1.5033 2 125.212\\nC 2 1.5...   \n",
              "15     NaN      NaN  \\nC\\nC 1 1.5196\\nC 1 1.5033 2 125.212\\nC 2 1.5...   \n",
              "16     NaN      NaN  \\nC\\nC 1 1.7196\\nC 1 1.5033 2 125.212\\nC 2 1.5...   \n",
              "17     NaN      NaN  \\nC\\nC 1 1.9196\\nC 1 1.5033 2 125.212\\nC 2 1.5...   \n",
              "18     NaN      NaN  \\nC\\nC 1 2.1196\\nC 1 1.5033 2 125.212\\nC 2 1.5...   \n",
              "19     NaN      NaN  \\nC\\nC 1 2.3196\\nC 1 1.5033 2 125.212\\nC 2 1.5...   \n",
              "20     NaN      NaN  \\nC\\nC 1 1.0196\\nC 1 1.5033 2 125.212\\nC 2 1.5...   \n",
              "21     NaN      NaN  \\nC\\nC 1 1.1196\\nC 1 1.5033 2 125.212\\nC 2 1.5...   \n",
              "22     NaN      NaN  \\nC\\nC 1 1.2196\\nC 1 1.5033 2 125.212\\nC 2 1.5...   \n",
              "23     NaN      NaN  \\nC\\nC 1 1.3196\\nC 1 1.5033 2 125.212\\nC 2 1.5...   \n",
              "24     NaN      NaN  \\nC\\nC 1 1.4196\\nC 1 1.5033 2 125.212\\nC 2 1.5...   \n",
              "25     NaN      NaN  \\nC\\nC 1 1.5196\\nC 1 1.5033 2 125.212\\nC 2 1.5...   \n",
              "26     NaN      NaN  \\nC\\nC 1 1.7196\\nC 1 1.5033 2 125.212\\nC 2 1.5...   \n",
              "27     NaN      NaN  \\nC\\nC 1 1.9196\\nC 1 1.5033 2 125.212\\nC 2 1.5...   \n",
              "28     NaN      NaN  \\nC\\nC 1 2.1196\\nC 1 1.5033 2 125.212\\nC 2 1.5...   \n",
              "29     NaN      NaN  \\nC\\nC 1 2.3196\\nC 1 1.5033 2 125.212\\nC 2 1.5...   \n",
              "\n",
              "   BasisSet  Spin BuiltMolecule  bond_lenght  bond_Angle  DFT-PW6B95  \\\n",
              "0   cc-pVDZ     0       cc-pVDZ       1.0196       180.0 -157.213830   \n",
              "1   cc-pVDZ     0       cc-pVDZ       1.1196       180.0 -157.347476   \n",
              "2   cc-pVDZ     0       cc-pVDZ       1.2196       180.0 -157.408610   \n",
              "3   cc-pVDZ     0       cc-pVDZ       1.3196       180.0 -157.426421   \n",
              "4   cc-pVDZ     0       cc-pVDZ       1.4196       180.0 -157.418884   \n",
              "5   cc-pVDZ     0       cc-pVDZ       1.5196       180.0 -157.397106   \n",
              "6   cc-pVDZ     0       cc-pVDZ       1.7196       180.0 -157.335483   \n",
              "7   cc-pVDZ     0       cc-pVDZ       1.9196       180.0 -157.270165   \n",
              "8   cc-pVDZ     0       cc-pVDZ       2.1196       180.0 -157.211107   \n",
              "9   cc-pVDZ     0       cc-pVDZ       2.3196       180.0 -157.160867   \n",
              "10  cc-pVDZ     0       cc-pVDZ       1.0196       180.0         NaN   \n",
              "11  cc-pVDZ     0       cc-pVDZ       1.1196       180.0         NaN   \n",
              "12  cc-pVDZ     0       cc-pVDZ       1.2196       180.0         NaN   \n",
              "13  cc-pVDZ     0       cc-pVDZ       1.3196       180.0         NaN   \n",
              "14  cc-pVDZ     0       cc-pVDZ       1.4196       180.0         NaN   \n",
              "15  cc-pVDZ     0       cc-pVDZ       1.5196       180.0         NaN   \n",
              "16  cc-pVDZ     0       cc-pVDZ       1.7196       180.0         NaN   \n",
              "17  cc-pVDZ     0       cc-pVDZ       1.9196       180.0         NaN   \n",
              "18  cc-pVDZ     0       cc-pVDZ       2.1196       180.0         NaN   \n",
              "19  cc-pVDZ     0       cc-pVDZ       2.3196       180.0         NaN   \n",
              "20  cc-pVDZ     0       cc-pVDZ       1.0196       180.0         NaN   \n",
              "21  cc-pVDZ     0       cc-pVDZ       1.1196       180.0         NaN   \n",
              "22  cc-pVDZ     0       cc-pVDZ       1.2196       180.0         NaN   \n",
              "23  cc-pVDZ     0       cc-pVDZ       1.3196       180.0         NaN   \n",
              "24  cc-pVDZ     0       cc-pVDZ       1.4196       180.0         NaN   \n",
              "25  cc-pVDZ     0       cc-pVDZ       1.5196       180.0         NaN   \n",
              "26  cc-pVDZ     0       cc-pVDZ       1.7196       180.0         NaN   \n",
              "27  cc-pVDZ     0       cc-pVDZ       1.9196       180.0         NaN   \n",
              "28  cc-pVDZ     0       cc-pVDZ       2.1196       180.0         NaN   \n",
              "29  cc-pVDZ     0       cc-pVDZ       2.3196       180.0         NaN   \n",
              "\n",
              "          CCSD       CCSDT  NN-Functional.DM21m  \n",
              "0          NaN         NaN                  NaN  \n",
              "1          NaN         NaN                  NaN  \n",
              "2          NaN         NaN                  NaN  \n",
              "3          NaN         NaN                  NaN  \n",
              "4          NaN         NaN                  NaN  \n",
              "5          NaN         NaN                  NaN  \n",
              "6          NaN         NaN                  NaN  \n",
              "7          NaN         NaN                  NaN  \n",
              "8          NaN         NaN                  NaN  \n",
              "9          NaN         NaN                  NaN  \n",
              "10 -156.515272 -156.532520                  NaN  \n",
              "11 -156.657408 -156.675181                  NaN  \n",
              "12 -156.724661 -156.743196                  NaN  \n",
              "13 -156.746817 -156.766366                  NaN  \n",
              "14 -156.742408 -156.763244                  NaN  \n",
              "15 -156.722963 -156.745380                  NaN  \n",
              "16 -156.664951 -156.691463                  NaN  \n",
              "17 -156.603221 -156.635125                  NaN  \n",
              "18 -156.548709 -156.587387                  NaN  \n",
              "19 -156.504615 -156.551753                  NaN  \n",
              "20         NaN         NaN          -156.918138  \n",
              "21         NaN         NaN          -157.052701  \n",
              "22         NaN         NaN          -157.114166  \n",
              "23         NaN         NaN          -157.132633  \n",
              "24         NaN         NaN          -157.126500  \n",
              "25         NaN         NaN          -157.106687  \n",
              "26         NaN         NaN          -157.048512  \n",
              "27         NaN         NaN          -156.985867  \n",
              "28         NaN         NaN          -156.929693  \n",
              "29         NaN         NaN          -156.882601  "
            ],
            "text/html": [
              "\n",
              "  <div id=\"df-9333ab76-9b0d-435f-81a2-49da464be92a\" class=\"colab-df-container\">\n",
              "    <div>\n",
              "<style scoped>\n",
              "    .dataframe tbody tr th:only-of-type {\n",
              "        vertical-align: middle;\n",
              "    }\n",
              "\n",
              "    .dataframe tbody tr th {\n",
              "        vertical-align: top;\n",
              "    }\n",
              "\n",
              "    .dataframe thead th {\n",
              "        text-align: right;\n",
              "    }\n",
              "</style>\n",
              "<table border=\"1\" class=\"dataframe\">\n",
              "  <thead>\n",
              "    <tr style=\"text-align: right;\">\n",
              "      <th></th>\n",
              "      <th>Weight</th>\n",
              "      <th>Element</th>\n",
              "      <th>Molecule</th>\n",
              "      <th>BasisSet</th>\n",
              "      <th>Spin</th>\n",
              "      <th>BuiltMolecule</th>\n",
              "      <th>bond_lenght</th>\n",
              "      <th>bond_Angle</th>\n",
              "      <th>DFT-PW6B95</th>\n",
              "      <th>CCSD</th>\n",
              "      <th>CCSDT</th>\n",
              "      <th>NN-Functional.DM21m</th>\n",
              "    </tr>\n",
              "  </thead>\n",
              "  <tbody>\n",
              "    <tr>\n",
              "      <th>0</th>\n",
              "      <td>NaN</td>\n",
              "      <td>NaN</td>\n",
              "      <td>\\nC\\nC 1 1.0196\\nC 1 1.5033 2 125.212\\nC 2 1.5...</td>\n",
              "      <td>cc-pVDZ</td>\n",
              "      <td>0</td>\n",
              "      <td>cc-pVDZ</td>\n",
              "      <td>1.0196</td>\n",
              "      <td>180.0</td>\n",
              "      <td>-157.213830</td>\n",
              "      <td>NaN</td>\n",
              "      <td>NaN</td>\n",
              "      <td>NaN</td>\n",
              "    </tr>\n",
              "    <tr>\n",
              "      <th>1</th>\n",
              "      <td>NaN</td>\n",
              "      <td>NaN</td>\n",
              "      <td>\\nC\\nC 1 1.1196\\nC 1 1.5033 2 125.212\\nC 2 1.5...</td>\n",
              "      <td>cc-pVDZ</td>\n",
              "      <td>0</td>\n",
              "      <td>cc-pVDZ</td>\n",
              "      <td>1.1196</td>\n",
              "      <td>180.0</td>\n",
              "      <td>-157.347476</td>\n",
              "      <td>NaN</td>\n",
              "      <td>NaN</td>\n",
              "      <td>NaN</td>\n",
              "    </tr>\n",
              "    <tr>\n",
              "      <th>2</th>\n",
              "      <td>NaN</td>\n",
              "      <td>NaN</td>\n",
              "      <td>\\nC\\nC 1 1.2196\\nC 1 1.5033 2 125.212\\nC 2 1.5...</td>\n",
              "      <td>cc-pVDZ</td>\n",
              "      <td>0</td>\n",
              "      <td>cc-pVDZ</td>\n",
              "      <td>1.2196</td>\n",
              "      <td>180.0</td>\n",
              "      <td>-157.408610</td>\n",
              "      <td>NaN</td>\n",
              "      <td>NaN</td>\n",
              "      <td>NaN</td>\n",
              "    </tr>\n",
              "    <tr>\n",
              "      <th>3</th>\n",
              "      <td>NaN</td>\n",
              "      <td>NaN</td>\n",
              "      <td>\\nC\\nC 1 1.3196\\nC 1 1.5033 2 125.212\\nC 2 1.5...</td>\n",
              "      <td>cc-pVDZ</td>\n",
              "      <td>0</td>\n",
              "      <td>cc-pVDZ</td>\n",
              "      <td>1.3196</td>\n",
              "      <td>180.0</td>\n",
              "      <td>-157.426421</td>\n",
              "      <td>NaN</td>\n",
              "      <td>NaN</td>\n",
              "      <td>NaN</td>\n",
              "    </tr>\n",
              "    <tr>\n",
              "      <th>4</th>\n",
              "      <td>NaN</td>\n",
              "      <td>NaN</td>\n",
              "      <td>\\nC\\nC 1 1.4196\\nC 1 1.5033 2 125.212\\nC 2 1.5...</td>\n",
              "      <td>cc-pVDZ</td>\n",
              "      <td>0</td>\n",
              "      <td>cc-pVDZ</td>\n",
              "      <td>1.4196</td>\n",
              "      <td>180.0</td>\n",
              "      <td>-157.418884</td>\n",
              "      <td>NaN</td>\n",
              "      <td>NaN</td>\n",
              "      <td>NaN</td>\n",
              "    </tr>\n",
              "    <tr>\n",
              "      <th>5</th>\n",
              "      <td>NaN</td>\n",
              "      <td>NaN</td>\n",
              "      <td>\\nC\\nC 1 1.5196\\nC 1 1.5033 2 125.212\\nC 2 1.5...</td>\n",
              "      <td>cc-pVDZ</td>\n",
              "      <td>0</td>\n",
              "      <td>cc-pVDZ</td>\n",
              "      <td>1.5196</td>\n",
              "      <td>180.0</td>\n",
              "      <td>-157.397106</td>\n",
              "      <td>NaN</td>\n",
              "      <td>NaN</td>\n",
              "      <td>NaN</td>\n",
              "    </tr>\n",
              "    <tr>\n",
              "      <th>6</th>\n",
              "      <td>NaN</td>\n",
              "      <td>NaN</td>\n",
              "      <td>\\nC\\nC 1 1.7196\\nC 1 1.5033 2 125.212\\nC 2 1.5...</td>\n",
              "      <td>cc-pVDZ</td>\n",
              "      <td>0</td>\n",
              "      <td>cc-pVDZ</td>\n",
              "      <td>1.7196</td>\n",
              "      <td>180.0</td>\n",
              "      <td>-157.335483</td>\n",
              "      <td>NaN</td>\n",
              "      <td>NaN</td>\n",
              "      <td>NaN</td>\n",
              "    </tr>\n",
              "    <tr>\n",
              "      <th>7</th>\n",
              "      <td>NaN</td>\n",
              "      <td>NaN</td>\n",
              "      <td>\\nC\\nC 1 1.9196\\nC 1 1.5033 2 125.212\\nC 2 1.5...</td>\n",
              "      <td>cc-pVDZ</td>\n",
              "      <td>0</td>\n",
              "      <td>cc-pVDZ</td>\n",
              "      <td>1.9196</td>\n",
              "      <td>180.0</td>\n",
              "      <td>-157.270165</td>\n",
              "      <td>NaN</td>\n",
              "      <td>NaN</td>\n",
              "      <td>NaN</td>\n",
              "    </tr>\n",
              "    <tr>\n",
              "      <th>8</th>\n",
              "      <td>NaN</td>\n",
              "      <td>NaN</td>\n",
              "      <td>\\nC\\nC 1 2.1196\\nC 1 1.5033 2 125.212\\nC 2 1.5...</td>\n",
              "      <td>cc-pVDZ</td>\n",
              "      <td>0</td>\n",
              "      <td>cc-pVDZ</td>\n",
              "      <td>2.1196</td>\n",
              "      <td>180.0</td>\n",
              "      <td>-157.211107</td>\n",
              "      <td>NaN</td>\n",
              "      <td>NaN</td>\n",
              "      <td>NaN</td>\n",
              "    </tr>\n",
              "    <tr>\n",
              "      <th>9</th>\n",
              "      <td>NaN</td>\n",
              "      <td>NaN</td>\n",
              "      <td>\\nC\\nC 1 2.3196\\nC 1 1.5033 2 125.212\\nC 2 1.5...</td>\n",
              "      <td>cc-pVDZ</td>\n",
              "      <td>0</td>\n",
              "      <td>cc-pVDZ</td>\n",
              "      <td>2.3196</td>\n",
              "      <td>180.0</td>\n",
              "      <td>-157.160867</td>\n",
              "      <td>NaN</td>\n",
              "      <td>NaN</td>\n",
              "      <td>NaN</td>\n",
              "    </tr>\n",
              "    <tr>\n",
              "      <th>10</th>\n",
              "      <td>NaN</td>\n",
              "      <td>NaN</td>\n",
              "      <td>\\nC\\nC 1 1.0196\\nC 1 1.5033 2 125.212\\nC 2 1.5...</td>\n",
              "      <td>cc-pVDZ</td>\n",
              "      <td>0</td>\n",
              "      <td>cc-pVDZ</td>\n",
              "      <td>1.0196</td>\n",
              "      <td>180.0</td>\n",
              "      <td>NaN</td>\n",
              "      <td>-156.515272</td>\n",
              "      <td>-156.532520</td>\n",
              "      <td>NaN</td>\n",
              "    </tr>\n",
              "    <tr>\n",
              "      <th>11</th>\n",
              "      <td>NaN</td>\n",
              "      <td>NaN</td>\n",
              "      <td>\\nC\\nC 1 1.1196\\nC 1 1.5033 2 125.212\\nC 2 1.5...</td>\n",
              "      <td>cc-pVDZ</td>\n",
              "      <td>0</td>\n",
              "      <td>cc-pVDZ</td>\n",
              "      <td>1.1196</td>\n",
              "      <td>180.0</td>\n",
              "      <td>NaN</td>\n",
              "      <td>-156.657408</td>\n",
              "      <td>-156.675181</td>\n",
              "      <td>NaN</td>\n",
              "    </tr>\n",
              "    <tr>\n",
              "      <th>12</th>\n",
              "      <td>NaN</td>\n",
              "      <td>NaN</td>\n",
              "      <td>\\nC\\nC 1 1.2196\\nC 1 1.5033 2 125.212\\nC 2 1.5...</td>\n",
              "      <td>cc-pVDZ</td>\n",
              "      <td>0</td>\n",
              "      <td>cc-pVDZ</td>\n",
              "      <td>1.2196</td>\n",
              "      <td>180.0</td>\n",
              "      <td>NaN</td>\n",
              "      <td>-156.724661</td>\n",
              "      <td>-156.743196</td>\n",
              "      <td>NaN</td>\n",
              "    </tr>\n",
              "    <tr>\n",
              "      <th>13</th>\n",
              "      <td>NaN</td>\n",
              "      <td>NaN</td>\n",
              "      <td>\\nC\\nC 1 1.3196\\nC 1 1.5033 2 125.212\\nC 2 1.5...</td>\n",
              "      <td>cc-pVDZ</td>\n",
              "      <td>0</td>\n",
              "      <td>cc-pVDZ</td>\n",
              "      <td>1.3196</td>\n",
              "      <td>180.0</td>\n",
              "      <td>NaN</td>\n",
              "      <td>-156.746817</td>\n",
              "      <td>-156.766366</td>\n",
              "      <td>NaN</td>\n",
              "    </tr>\n",
              "    <tr>\n",
              "      <th>14</th>\n",
              "      <td>NaN</td>\n",
              "      <td>NaN</td>\n",
              "      <td>\\nC\\nC 1 1.4196\\nC 1 1.5033 2 125.212\\nC 2 1.5...</td>\n",
              "      <td>cc-pVDZ</td>\n",
              "      <td>0</td>\n",
              "      <td>cc-pVDZ</td>\n",
              "      <td>1.4196</td>\n",
              "      <td>180.0</td>\n",
              "      <td>NaN</td>\n",
              "      <td>-156.742408</td>\n",
              "      <td>-156.763244</td>\n",
              "      <td>NaN</td>\n",
              "    </tr>\n",
              "    <tr>\n",
              "      <th>15</th>\n",
              "      <td>NaN</td>\n",
              "      <td>NaN</td>\n",
              "      <td>\\nC\\nC 1 1.5196\\nC 1 1.5033 2 125.212\\nC 2 1.5...</td>\n",
              "      <td>cc-pVDZ</td>\n",
              "      <td>0</td>\n",
              "      <td>cc-pVDZ</td>\n",
              "      <td>1.5196</td>\n",
              "      <td>180.0</td>\n",
              "      <td>NaN</td>\n",
              "      <td>-156.722963</td>\n",
              "      <td>-156.745380</td>\n",
              "      <td>NaN</td>\n",
              "    </tr>\n",
              "    <tr>\n",
              "      <th>16</th>\n",
              "      <td>NaN</td>\n",
              "      <td>NaN</td>\n",
              "      <td>\\nC\\nC 1 1.7196\\nC 1 1.5033 2 125.212\\nC 2 1.5...</td>\n",
              "      <td>cc-pVDZ</td>\n",
              "      <td>0</td>\n",
              "      <td>cc-pVDZ</td>\n",
              "      <td>1.7196</td>\n",
              "      <td>180.0</td>\n",
              "      <td>NaN</td>\n",
              "      <td>-156.664951</td>\n",
              "      <td>-156.691463</td>\n",
              "      <td>NaN</td>\n",
              "    </tr>\n",
              "    <tr>\n",
              "      <th>17</th>\n",
              "      <td>NaN</td>\n",
              "      <td>NaN</td>\n",
              "      <td>\\nC\\nC 1 1.9196\\nC 1 1.5033 2 125.212\\nC 2 1.5...</td>\n",
              "      <td>cc-pVDZ</td>\n",
              "      <td>0</td>\n",
              "      <td>cc-pVDZ</td>\n",
              "      <td>1.9196</td>\n",
              "      <td>180.0</td>\n",
              "      <td>NaN</td>\n",
              "      <td>-156.603221</td>\n",
              "      <td>-156.635125</td>\n",
              "      <td>NaN</td>\n",
              "    </tr>\n",
              "    <tr>\n",
              "      <th>18</th>\n",
              "      <td>NaN</td>\n",
              "      <td>NaN</td>\n",
              "      <td>\\nC\\nC 1 2.1196\\nC 1 1.5033 2 125.212\\nC 2 1.5...</td>\n",
              "      <td>cc-pVDZ</td>\n",
              "      <td>0</td>\n",
              "      <td>cc-pVDZ</td>\n",
              "      <td>2.1196</td>\n",
              "      <td>180.0</td>\n",
              "      <td>NaN</td>\n",
              "      <td>-156.548709</td>\n",
              "      <td>-156.587387</td>\n",
              "      <td>NaN</td>\n",
              "    </tr>\n",
              "    <tr>\n",
              "      <th>19</th>\n",
              "      <td>NaN</td>\n",
              "      <td>NaN</td>\n",
              "      <td>\\nC\\nC 1 2.3196\\nC 1 1.5033 2 125.212\\nC 2 1.5...</td>\n",
              "      <td>cc-pVDZ</td>\n",
              "      <td>0</td>\n",
              "      <td>cc-pVDZ</td>\n",
              "      <td>2.3196</td>\n",
              "      <td>180.0</td>\n",
              "      <td>NaN</td>\n",
              "      <td>-156.504615</td>\n",
              "      <td>-156.551753</td>\n",
              "      <td>NaN</td>\n",
              "    </tr>\n",
              "    <tr>\n",
              "      <th>20</th>\n",
              "      <td>NaN</td>\n",
              "      <td>NaN</td>\n",
              "      <td>\\nC\\nC 1 1.0196\\nC 1 1.5033 2 125.212\\nC 2 1.5...</td>\n",
              "      <td>cc-pVDZ</td>\n",
              "      <td>0</td>\n",
              "      <td>cc-pVDZ</td>\n",
              "      <td>1.0196</td>\n",
              "      <td>180.0</td>\n",
              "      <td>NaN</td>\n",
              "      <td>NaN</td>\n",
              "      <td>NaN</td>\n",
              "      <td>-156.918138</td>\n",
              "    </tr>\n",
              "    <tr>\n",
              "      <th>21</th>\n",
              "      <td>NaN</td>\n",
              "      <td>NaN</td>\n",
              "      <td>\\nC\\nC 1 1.1196\\nC 1 1.5033 2 125.212\\nC 2 1.5...</td>\n",
              "      <td>cc-pVDZ</td>\n",
              "      <td>0</td>\n",
              "      <td>cc-pVDZ</td>\n",
              "      <td>1.1196</td>\n",
              "      <td>180.0</td>\n",
              "      <td>NaN</td>\n",
              "      <td>NaN</td>\n",
              "      <td>NaN</td>\n",
              "      <td>-157.052701</td>\n",
              "    </tr>\n",
              "    <tr>\n",
              "      <th>22</th>\n",
              "      <td>NaN</td>\n",
              "      <td>NaN</td>\n",
              "      <td>\\nC\\nC 1 1.2196\\nC 1 1.5033 2 125.212\\nC 2 1.5...</td>\n",
              "      <td>cc-pVDZ</td>\n",
              "      <td>0</td>\n",
              "      <td>cc-pVDZ</td>\n",
              "      <td>1.2196</td>\n",
              "      <td>180.0</td>\n",
              "      <td>NaN</td>\n",
              "      <td>NaN</td>\n",
              "      <td>NaN</td>\n",
              "      <td>-157.114166</td>\n",
              "    </tr>\n",
              "    <tr>\n",
              "      <th>23</th>\n",
              "      <td>NaN</td>\n",
              "      <td>NaN</td>\n",
              "      <td>\\nC\\nC 1 1.3196\\nC 1 1.5033 2 125.212\\nC 2 1.5...</td>\n",
              "      <td>cc-pVDZ</td>\n",
              "      <td>0</td>\n",
              "      <td>cc-pVDZ</td>\n",
              "      <td>1.3196</td>\n",
              "      <td>180.0</td>\n",
              "      <td>NaN</td>\n",
              "      <td>NaN</td>\n",
              "      <td>NaN</td>\n",
              "      <td>-157.132633</td>\n",
              "    </tr>\n",
              "    <tr>\n",
              "      <th>24</th>\n",
              "      <td>NaN</td>\n",
              "      <td>NaN</td>\n",
              "      <td>\\nC\\nC 1 1.4196\\nC 1 1.5033 2 125.212\\nC 2 1.5...</td>\n",
              "      <td>cc-pVDZ</td>\n",
              "      <td>0</td>\n",
              "      <td>cc-pVDZ</td>\n",
              "      <td>1.4196</td>\n",
              "      <td>180.0</td>\n",
              "      <td>NaN</td>\n",
              "      <td>NaN</td>\n",
              "      <td>NaN</td>\n",
              "      <td>-157.126500</td>\n",
              "    </tr>\n",
              "    <tr>\n",
              "      <th>25</th>\n",
              "      <td>NaN</td>\n",
              "      <td>NaN</td>\n",
              "      <td>\\nC\\nC 1 1.5196\\nC 1 1.5033 2 125.212\\nC 2 1.5...</td>\n",
              "      <td>cc-pVDZ</td>\n",
              "      <td>0</td>\n",
              "      <td>cc-pVDZ</td>\n",
              "      <td>1.5196</td>\n",
              "      <td>180.0</td>\n",
              "      <td>NaN</td>\n",
              "      <td>NaN</td>\n",
              "      <td>NaN</td>\n",
              "      <td>-157.106687</td>\n",
              "    </tr>\n",
              "    <tr>\n",
              "      <th>26</th>\n",
              "      <td>NaN</td>\n",
              "      <td>NaN</td>\n",
              "      <td>\\nC\\nC 1 1.7196\\nC 1 1.5033 2 125.212\\nC 2 1.5...</td>\n",
              "      <td>cc-pVDZ</td>\n",
              "      <td>0</td>\n",
              "      <td>cc-pVDZ</td>\n",
              "      <td>1.7196</td>\n",
              "      <td>180.0</td>\n",
              "      <td>NaN</td>\n",
              "      <td>NaN</td>\n",
              "      <td>NaN</td>\n",
              "      <td>-157.048512</td>\n",
              "    </tr>\n",
              "    <tr>\n",
              "      <th>27</th>\n",
              "      <td>NaN</td>\n",
              "      <td>NaN</td>\n",
              "      <td>\\nC\\nC 1 1.9196\\nC 1 1.5033 2 125.212\\nC 2 1.5...</td>\n",
              "      <td>cc-pVDZ</td>\n",
              "      <td>0</td>\n",
              "      <td>cc-pVDZ</td>\n",
              "      <td>1.9196</td>\n",
              "      <td>180.0</td>\n",
              "      <td>NaN</td>\n",
              "      <td>NaN</td>\n",
              "      <td>NaN</td>\n",
              "      <td>-156.985867</td>\n",
              "    </tr>\n",
              "    <tr>\n",
              "      <th>28</th>\n",
              "      <td>NaN</td>\n",
              "      <td>NaN</td>\n",
              "      <td>\\nC\\nC 1 2.1196\\nC 1 1.5033 2 125.212\\nC 2 1.5...</td>\n",
              "      <td>cc-pVDZ</td>\n",
              "      <td>0</td>\n",
              "      <td>cc-pVDZ</td>\n",
              "      <td>2.1196</td>\n",
              "      <td>180.0</td>\n",
              "      <td>NaN</td>\n",
              "      <td>NaN</td>\n",
              "      <td>NaN</td>\n",
              "      <td>-156.929693</td>\n",
              "    </tr>\n",
              "    <tr>\n",
              "      <th>29</th>\n",
              "      <td>NaN</td>\n",
              "      <td>NaN</td>\n",
              "      <td>\\nC\\nC 1 2.3196\\nC 1 1.5033 2 125.212\\nC 2 1.5...</td>\n",
              "      <td>cc-pVDZ</td>\n",
              "      <td>0</td>\n",
              "      <td>cc-pVDZ</td>\n",
              "      <td>2.3196</td>\n",
              "      <td>180.0</td>\n",
              "      <td>NaN</td>\n",
              "      <td>NaN</td>\n",
              "      <td>NaN</td>\n",
              "      <td>-156.882601</td>\n",
              "    </tr>\n",
              "  </tbody>\n",
              "</table>\n",
              "</div>\n",
              "    <div class=\"colab-df-buttons\">\n",
              "\n",
              "  <div class=\"colab-df-container\">\n",
              "    <button class=\"colab-df-convert\" onclick=\"convertToInteractive('df-9333ab76-9b0d-435f-81a2-49da464be92a')\"\n",
              "            title=\"Convert this dataframe to an interactive table.\"\n",
              "            style=\"display:none;\">\n",
              "\n",
              "  <svg xmlns=\"http://www.w3.org/2000/svg\" height=\"24px\" viewBox=\"0 -960 960 960\">\n",
              "    <path d=\"M120-120v-720h720v720H120Zm60-500h600v-160H180v160Zm220 220h160v-160H400v160Zm0 220h160v-160H400v160ZM180-400h160v-160H180v160Zm440 0h160v-160H620v160ZM180-180h160v-160H180v160Zm440 0h160v-160H620v160Z\"/>\n",
              "  </svg>\n",
              "    </button>\n",
              "\n",
              "  <style>\n",
              "    .colab-df-container {\n",
              "      display:flex;\n",
              "      gap: 12px;\n",
              "    }\n",
              "\n",
              "    .colab-df-convert {\n",
              "      background-color: #E8F0FE;\n",
              "      border: none;\n",
              "      border-radius: 50%;\n",
              "      cursor: pointer;\n",
              "      display: none;\n",
              "      fill: #1967D2;\n",
              "      height: 32px;\n",
              "      padding: 0 0 0 0;\n",
              "      width: 32px;\n",
              "    }\n",
              "\n",
              "    .colab-df-convert:hover {\n",
              "      background-color: #E2EBFA;\n",
              "      box-shadow: 0px 1px 2px rgba(60, 64, 67, 0.3), 0px 1px 3px 1px rgba(60, 64, 67, 0.15);\n",
              "      fill: #174EA6;\n",
              "    }\n",
              "\n",
              "    .colab-df-buttons div {\n",
              "      margin-bottom: 4px;\n",
              "    }\n",
              "\n",
              "    [theme=dark] .colab-df-convert {\n",
              "      background-color: #3B4455;\n",
              "      fill: #D2E3FC;\n",
              "    }\n",
              "\n",
              "    [theme=dark] .colab-df-convert:hover {\n",
              "      background-color: #434B5C;\n",
              "      box-shadow: 0px 1px 3px 1px rgba(0, 0, 0, 0.15);\n",
              "      filter: drop-shadow(0px 1px 2px rgba(0, 0, 0, 0.3));\n",
              "      fill: #FFFFFF;\n",
              "    }\n",
              "  </style>\n",
              "\n",
              "    <script>\n",
              "      const buttonEl =\n",
              "        document.querySelector('#df-9333ab76-9b0d-435f-81a2-49da464be92a button.colab-df-convert');\n",
              "      buttonEl.style.display =\n",
              "        google.colab.kernel.accessAllowed ? 'block' : 'none';\n",
              "\n",
              "      async function convertToInteractive(key) {\n",
              "        const element = document.querySelector('#df-9333ab76-9b0d-435f-81a2-49da464be92a');\n",
              "        const dataTable =\n",
              "          await google.colab.kernel.invokeFunction('convertToInteractive',\n",
              "                                                    [key], {});\n",
              "        if (!dataTable) return;\n",
              "\n",
              "        const docLinkHtml = 'Like what you see? Visit the ' +\n",
              "          '<a target=\"_blank\" href=https://colab.research.google.com/notebooks/data_table.ipynb>data table notebook</a>'\n",
              "          + ' to learn more about interactive tables.';\n",
              "        element.innerHTML = '';\n",
              "        dataTable['output_type'] = 'display_data';\n",
              "        await google.colab.output.renderOutput(dataTable, element);\n",
              "        const docLink = document.createElement('div');\n",
              "        docLink.innerHTML = docLinkHtml;\n",
              "        element.appendChild(docLink);\n",
              "      }\n",
              "    </script>\n",
              "  </div>\n",
              "\n",
              "\n",
              "<div id=\"df-64150aad-f84c-4e9e-9c27-e1d46eeb29c8\">\n",
              "  <button class=\"colab-df-quickchart\" onclick=\"quickchart('df-64150aad-f84c-4e9e-9c27-e1d46eeb29c8')\"\n",
              "            title=\"Suggest charts\"\n",
              "            style=\"display:none;\">\n",
              "\n",
              "<svg xmlns=\"http://www.w3.org/2000/svg\" height=\"24px\"viewBox=\"0 0 24 24\"\n",
              "     width=\"24px\">\n",
              "    <g>\n",
              "        <path d=\"M19 3H5c-1.1 0-2 .9-2 2v14c0 1.1.9 2 2 2h14c1.1 0 2-.9 2-2V5c0-1.1-.9-2-2-2zM9 17H7v-7h2v7zm4 0h-2V7h2v10zm4 0h-2v-4h2v4z\"/>\n",
              "    </g>\n",
              "</svg>\n",
              "  </button>\n",
              "\n",
              "<style>\n",
              "  .colab-df-quickchart {\n",
              "      --bg-color: #E8F0FE;\n",
              "      --fill-color: #1967D2;\n",
              "      --hover-bg-color: #E2EBFA;\n",
              "      --hover-fill-color: #174EA6;\n",
              "      --disabled-fill-color: #AAA;\n",
              "      --disabled-bg-color: #DDD;\n",
              "  }\n",
              "\n",
              "  [theme=dark] .colab-df-quickchart {\n",
              "      --bg-color: #3B4455;\n",
              "      --fill-color: #D2E3FC;\n",
              "      --hover-bg-color: #434B5C;\n",
              "      --hover-fill-color: #FFFFFF;\n",
              "      --disabled-bg-color: #3B4455;\n",
              "      --disabled-fill-color: #666;\n",
              "  }\n",
              "\n",
              "  .colab-df-quickchart {\n",
              "    background-color: var(--bg-color);\n",
              "    border: none;\n",
              "    border-radius: 50%;\n",
              "    cursor: pointer;\n",
              "    display: none;\n",
              "    fill: var(--fill-color);\n",
              "    height: 32px;\n",
              "    padding: 0;\n",
              "    width: 32px;\n",
              "  }\n",
              "\n",
              "  .colab-df-quickchart:hover {\n",
              "    background-color: var(--hover-bg-color);\n",
              "    box-shadow: 0 1px 2px rgba(60, 64, 67, 0.3), 0 1px 3px 1px rgba(60, 64, 67, 0.15);\n",
              "    fill: var(--button-hover-fill-color);\n",
              "  }\n",
              "\n",
              "  .colab-df-quickchart-complete:disabled,\n",
              "  .colab-df-quickchart-complete:disabled:hover {\n",
              "    background-color: var(--disabled-bg-color);\n",
              "    fill: var(--disabled-fill-color);\n",
              "    box-shadow: none;\n",
              "  }\n",
              "\n",
              "  .colab-df-spinner {\n",
              "    border: 2px solid var(--fill-color);\n",
              "    border-color: transparent;\n",
              "    border-bottom-color: var(--fill-color);\n",
              "    animation:\n",
              "      spin 1s steps(1) infinite;\n",
              "  }\n",
              "\n",
              "  @keyframes spin {\n",
              "    0% {\n",
              "      border-color: transparent;\n",
              "      border-bottom-color: var(--fill-color);\n",
              "      border-left-color: var(--fill-color);\n",
              "    }\n",
              "    20% {\n",
              "      border-color: transparent;\n",
              "      border-left-color: var(--fill-color);\n",
              "      border-top-color: var(--fill-color);\n",
              "    }\n",
              "    30% {\n",
              "      border-color: transparent;\n",
              "      border-left-color: var(--fill-color);\n",
              "      border-top-color: var(--fill-color);\n",
              "      border-right-color: var(--fill-color);\n",
              "    }\n",
              "    40% {\n",
              "      border-color: transparent;\n",
              "      border-right-color: var(--fill-color);\n",
              "      border-top-color: var(--fill-color);\n",
              "    }\n",
              "    60% {\n",
              "      border-color: transparent;\n",
              "      border-right-color: var(--fill-color);\n",
              "    }\n",
              "    80% {\n",
              "      border-color: transparent;\n",
              "      border-right-color: var(--fill-color);\n",
              "      border-bottom-color: var(--fill-color);\n",
              "    }\n",
              "    90% {\n",
              "      border-color: transparent;\n",
              "      border-bottom-color: var(--fill-color);\n",
              "    }\n",
              "  }\n",
              "</style>\n",
              "\n",
              "  <script>\n",
              "    async function quickchart(key) {\n",
              "      const quickchartButtonEl =\n",
              "        document.querySelector('#' + key + ' button');\n",
              "      quickchartButtonEl.disabled = true;  // To prevent multiple clicks.\n",
              "      quickchartButtonEl.classList.add('colab-df-spinner');\n",
              "      try {\n",
              "        const charts = await google.colab.kernel.invokeFunction(\n",
              "            'suggestCharts', [key], {});\n",
              "      } catch (error) {\n",
              "        console.error('Error during call to suggestCharts:', error);\n",
              "      }\n",
              "      quickchartButtonEl.classList.remove('colab-df-spinner');\n",
              "      quickchartButtonEl.classList.add('colab-df-quickchart-complete');\n",
              "    }\n",
              "    (() => {\n",
              "      let quickchartButtonEl =\n",
              "        document.querySelector('#df-64150aad-f84c-4e9e-9c27-e1d46eeb29c8 button');\n",
              "      quickchartButtonEl.style.display =\n",
              "        google.colab.kernel.accessAllowed ? 'block' : 'none';\n",
              "    })();\n",
              "  </script>\n",
              "</div>\n",
              "    </div>\n",
              "  </div>\n"
            ]
          },
          "metadata": {},
          "execution_count": 351
        }
      ],
      "source": [
        "df"
      ]
    },
    {
      "cell_type": "code",
      "source": [
        "df"
      ],
      "metadata": {
        "colab": {
          "base_uri": "https://localhost:8080/",
          "height": 989
        },
        "id": "mLlXH9znxhjz",
        "outputId": "1e8a97a6-00e5-42cb-a64d-81c3a66d8890"
      },
      "execution_count": 352,
      "outputs": [
        {
          "output_type": "execute_result",
          "data": {
            "text/plain": [
              "    Weight  Element                                           Molecule  \\\n",
              "0      NaN      NaN  \\nC\\nC 1 1.0196\\nC 1 1.5033 2 125.212\\nC 2 1.5...   \n",
              "1      NaN      NaN  \\nC\\nC 1 1.1196\\nC 1 1.5033 2 125.212\\nC 2 1.5...   \n",
              "2      NaN      NaN  \\nC\\nC 1 1.2196\\nC 1 1.5033 2 125.212\\nC 2 1.5...   \n",
              "3      NaN      NaN  \\nC\\nC 1 1.3196\\nC 1 1.5033 2 125.212\\nC 2 1.5...   \n",
              "4      NaN      NaN  \\nC\\nC 1 1.4196\\nC 1 1.5033 2 125.212\\nC 2 1.5...   \n",
              "5      NaN      NaN  \\nC\\nC 1 1.5196\\nC 1 1.5033 2 125.212\\nC 2 1.5...   \n",
              "6      NaN      NaN  \\nC\\nC 1 1.7196\\nC 1 1.5033 2 125.212\\nC 2 1.5...   \n",
              "7      NaN      NaN  \\nC\\nC 1 1.9196\\nC 1 1.5033 2 125.212\\nC 2 1.5...   \n",
              "8      NaN      NaN  \\nC\\nC 1 2.1196\\nC 1 1.5033 2 125.212\\nC 2 1.5...   \n",
              "9      NaN      NaN  \\nC\\nC 1 2.3196\\nC 1 1.5033 2 125.212\\nC 2 1.5...   \n",
              "10     NaN      NaN  \\nC\\nC 1 1.0196\\nC 1 1.5033 2 125.212\\nC 2 1.5...   \n",
              "11     NaN      NaN  \\nC\\nC 1 1.1196\\nC 1 1.5033 2 125.212\\nC 2 1.5...   \n",
              "12     NaN      NaN  \\nC\\nC 1 1.2196\\nC 1 1.5033 2 125.212\\nC 2 1.5...   \n",
              "13     NaN      NaN  \\nC\\nC 1 1.3196\\nC 1 1.5033 2 125.212\\nC 2 1.5...   \n",
              "14     NaN      NaN  \\nC\\nC 1 1.4196\\nC 1 1.5033 2 125.212\\nC 2 1.5...   \n",
              "15     NaN      NaN  \\nC\\nC 1 1.5196\\nC 1 1.5033 2 125.212\\nC 2 1.5...   \n",
              "16     NaN      NaN  \\nC\\nC 1 1.7196\\nC 1 1.5033 2 125.212\\nC 2 1.5...   \n",
              "17     NaN      NaN  \\nC\\nC 1 1.9196\\nC 1 1.5033 2 125.212\\nC 2 1.5...   \n",
              "18     NaN      NaN  \\nC\\nC 1 2.1196\\nC 1 1.5033 2 125.212\\nC 2 1.5...   \n",
              "19     NaN      NaN  \\nC\\nC 1 2.3196\\nC 1 1.5033 2 125.212\\nC 2 1.5...   \n",
              "20     NaN      NaN  \\nC\\nC 1 1.0196\\nC 1 1.5033 2 125.212\\nC 2 1.5...   \n",
              "21     NaN      NaN  \\nC\\nC 1 1.1196\\nC 1 1.5033 2 125.212\\nC 2 1.5...   \n",
              "22     NaN      NaN  \\nC\\nC 1 1.2196\\nC 1 1.5033 2 125.212\\nC 2 1.5...   \n",
              "23     NaN      NaN  \\nC\\nC 1 1.3196\\nC 1 1.5033 2 125.212\\nC 2 1.5...   \n",
              "24     NaN      NaN  \\nC\\nC 1 1.4196\\nC 1 1.5033 2 125.212\\nC 2 1.5...   \n",
              "25     NaN      NaN  \\nC\\nC 1 1.5196\\nC 1 1.5033 2 125.212\\nC 2 1.5...   \n",
              "26     NaN      NaN  \\nC\\nC 1 1.7196\\nC 1 1.5033 2 125.212\\nC 2 1.5...   \n",
              "27     NaN      NaN  \\nC\\nC 1 1.9196\\nC 1 1.5033 2 125.212\\nC 2 1.5...   \n",
              "28     NaN      NaN  \\nC\\nC 1 2.1196\\nC 1 1.5033 2 125.212\\nC 2 1.5...   \n",
              "29     NaN      NaN  \\nC\\nC 1 2.3196\\nC 1 1.5033 2 125.212\\nC 2 1.5...   \n",
              "\n",
              "   BasisSet  Spin BuiltMolecule  bond_lenght  bond_Angle  DFT-PW6B95  \\\n",
              "0   cc-pVDZ     0       cc-pVDZ       1.0196       180.0 -157.213830   \n",
              "1   cc-pVDZ     0       cc-pVDZ       1.1196       180.0 -157.347476   \n",
              "2   cc-pVDZ     0       cc-pVDZ       1.2196       180.0 -157.408610   \n",
              "3   cc-pVDZ     0       cc-pVDZ       1.3196       180.0 -157.426421   \n",
              "4   cc-pVDZ     0       cc-pVDZ       1.4196       180.0 -157.418884   \n",
              "5   cc-pVDZ     0       cc-pVDZ       1.5196       180.0 -157.397106   \n",
              "6   cc-pVDZ     0       cc-pVDZ       1.7196       180.0 -157.335483   \n",
              "7   cc-pVDZ     0       cc-pVDZ       1.9196       180.0 -157.270165   \n",
              "8   cc-pVDZ     0       cc-pVDZ       2.1196       180.0 -157.211107   \n",
              "9   cc-pVDZ     0       cc-pVDZ       2.3196       180.0 -157.160867   \n",
              "10  cc-pVDZ     0       cc-pVDZ       1.0196       180.0         NaN   \n",
              "11  cc-pVDZ     0       cc-pVDZ       1.1196       180.0         NaN   \n",
              "12  cc-pVDZ     0       cc-pVDZ       1.2196       180.0         NaN   \n",
              "13  cc-pVDZ     0       cc-pVDZ       1.3196       180.0         NaN   \n",
              "14  cc-pVDZ     0       cc-pVDZ       1.4196       180.0         NaN   \n",
              "15  cc-pVDZ     0       cc-pVDZ       1.5196       180.0         NaN   \n",
              "16  cc-pVDZ     0       cc-pVDZ       1.7196       180.0         NaN   \n",
              "17  cc-pVDZ     0       cc-pVDZ       1.9196       180.0         NaN   \n",
              "18  cc-pVDZ     0       cc-pVDZ       2.1196       180.0         NaN   \n",
              "19  cc-pVDZ     0       cc-pVDZ       2.3196       180.0         NaN   \n",
              "20  cc-pVDZ     0       cc-pVDZ       1.0196       180.0         NaN   \n",
              "21  cc-pVDZ     0       cc-pVDZ       1.1196       180.0         NaN   \n",
              "22  cc-pVDZ     0       cc-pVDZ       1.2196       180.0         NaN   \n",
              "23  cc-pVDZ     0       cc-pVDZ       1.3196       180.0         NaN   \n",
              "24  cc-pVDZ     0       cc-pVDZ       1.4196       180.0         NaN   \n",
              "25  cc-pVDZ     0       cc-pVDZ       1.5196       180.0         NaN   \n",
              "26  cc-pVDZ     0       cc-pVDZ       1.7196       180.0         NaN   \n",
              "27  cc-pVDZ     0       cc-pVDZ       1.9196       180.0         NaN   \n",
              "28  cc-pVDZ     0       cc-pVDZ       2.1196       180.0         NaN   \n",
              "29  cc-pVDZ     0       cc-pVDZ       2.3196       180.0         NaN   \n",
              "\n",
              "          CCSD       CCSDT  NN-Functional.DM21m  \n",
              "0          NaN         NaN                  NaN  \n",
              "1          NaN         NaN                  NaN  \n",
              "2          NaN         NaN                  NaN  \n",
              "3          NaN         NaN                  NaN  \n",
              "4          NaN         NaN                  NaN  \n",
              "5          NaN         NaN                  NaN  \n",
              "6          NaN         NaN                  NaN  \n",
              "7          NaN         NaN                  NaN  \n",
              "8          NaN         NaN                  NaN  \n",
              "9          NaN         NaN                  NaN  \n",
              "10 -156.515272 -156.532520                  NaN  \n",
              "11 -156.657408 -156.675181                  NaN  \n",
              "12 -156.724661 -156.743196                  NaN  \n",
              "13 -156.746817 -156.766366                  NaN  \n",
              "14 -156.742408 -156.763244                  NaN  \n",
              "15 -156.722963 -156.745380                  NaN  \n",
              "16 -156.664951 -156.691463                  NaN  \n",
              "17 -156.603221 -156.635125                  NaN  \n",
              "18 -156.548709 -156.587387                  NaN  \n",
              "19 -156.504615 -156.551753                  NaN  \n",
              "20         NaN         NaN          -156.918138  \n",
              "21         NaN         NaN          -157.052701  \n",
              "22         NaN         NaN          -157.114166  \n",
              "23         NaN         NaN          -157.132633  \n",
              "24         NaN         NaN          -157.126500  \n",
              "25         NaN         NaN          -157.106687  \n",
              "26         NaN         NaN          -157.048512  \n",
              "27         NaN         NaN          -156.985867  \n",
              "28         NaN         NaN          -156.929693  \n",
              "29         NaN         NaN          -156.882601  "
            ],
            "text/html": [
              "\n",
              "  <div id=\"df-320b6a5b-81f4-4322-b8b5-13b139593518\" class=\"colab-df-container\">\n",
              "    <div>\n",
              "<style scoped>\n",
              "    .dataframe tbody tr th:only-of-type {\n",
              "        vertical-align: middle;\n",
              "    }\n",
              "\n",
              "    .dataframe tbody tr th {\n",
              "        vertical-align: top;\n",
              "    }\n",
              "\n",
              "    .dataframe thead th {\n",
              "        text-align: right;\n",
              "    }\n",
              "</style>\n",
              "<table border=\"1\" class=\"dataframe\">\n",
              "  <thead>\n",
              "    <tr style=\"text-align: right;\">\n",
              "      <th></th>\n",
              "      <th>Weight</th>\n",
              "      <th>Element</th>\n",
              "      <th>Molecule</th>\n",
              "      <th>BasisSet</th>\n",
              "      <th>Spin</th>\n",
              "      <th>BuiltMolecule</th>\n",
              "      <th>bond_lenght</th>\n",
              "      <th>bond_Angle</th>\n",
              "      <th>DFT-PW6B95</th>\n",
              "      <th>CCSD</th>\n",
              "      <th>CCSDT</th>\n",
              "      <th>NN-Functional.DM21m</th>\n",
              "    </tr>\n",
              "  </thead>\n",
              "  <tbody>\n",
              "    <tr>\n",
              "      <th>0</th>\n",
              "      <td>NaN</td>\n",
              "      <td>NaN</td>\n",
              "      <td>\\nC\\nC 1 1.0196\\nC 1 1.5033 2 125.212\\nC 2 1.5...</td>\n",
              "      <td>cc-pVDZ</td>\n",
              "      <td>0</td>\n",
              "      <td>cc-pVDZ</td>\n",
              "      <td>1.0196</td>\n",
              "      <td>180.0</td>\n",
              "      <td>-157.213830</td>\n",
              "      <td>NaN</td>\n",
              "      <td>NaN</td>\n",
              "      <td>NaN</td>\n",
              "    </tr>\n",
              "    <tr>\n",
              "      <th>1</th>\n",
              "      <td>NaN</td>\n",
              "      <td>NaN</td>\n",
              "      <td>\\nC\\nC 1 1.1196\\nC 1 1.5033 2 125.212\\nC 2 1.5...</td>\n",
              "      <td>cc-pVDZ</td>\n",
              "      <td>0</td>\n",
              "      <td>cc-pVDZ</td>\n",
              "      <td>1.1196</td>\n",
              "      <td>180.0</td>\n",
              "      <td>-157.347476</td>\n",
              "      <td>NaN</td>\n",
              "      <td>NaN</td>\n",
              "      <td>NaN</td>\n",
              "    </tr>\n",
              "    <tr>\n",
              "      <th>2</th>\n",
              "      <td>NaN</td>\n",
              "      <td>NaN</td>\n",
              "      <td>\\nC\\nC 1 1.2196\\nC 1 1.5033 2 125.212\\nC 2 1.5...</td>\n",
              "      <td>cc-pVDZ</td>\n",
              "      <td>0</td>\n",
              "      <td>cc-pVDZ</td>\n",
              "      <td>1.2196</td>\n",
              "      <td>180.0</td>\n",
              "      <td>-157.408610</td>\n",
              "      <td>NaN</td>\n",
              "      <td>NaN</td>\n",
              "      <td>NaN</td>\n",
              "    </tr>\n",
              "    <tr>\n",
              "      <th>3</th>\n",
              "      <td>NaN</td>\n",
              "      <td>NaN</td>\n",
              "      <td>\\nC\\nC 1 1.3196\\nC 1 1.5033 2 125.212\\nC 2 1.5...</td>\n",
              "      <td>cc-pVDZ</td>\n",
              "      <td>0</td>\n",
              "      <td>cc-pVDZ</td>\n",
              "      <td>1.3196</td>\n",
              "      <td>180.0</td>\n",
              "      <td>-157.426421</td>\n",
              "      <td>NaN</td>\n",
              "      <td>NaN</td>\n",
              "      <td>NaN</td>\n",
              "    </tr>\n",
              "    <tr>\n",
              "      <th>4</th>\n",
              "      <td>NaN</td>\n",
              "      <td>NaN</td>\n",
              "      <td>\\nC\\nC 1 1.4196\\nC 1 1.5033 2 125.212\\nC 2 1.5...</td>\n",
              "      <td>cc-pVDZ</td>\n",
              "      <td>0</td>\n",
              "      <td>cc-pVDZ</td>\n",
              "      <td>1.4196</td>\n",
              "      <td>180.0</td>\n",
              "      <td>-157.418884</td>\n",
              "      <td>NaN</td>\n",
              "      <td>NaN</td>\n",
              "      <td>NaN</td>\n",
              "    </tr>\n",
              "    <tr>\n",
              "      <th>5</th>\n",
              "      <td>NaN</td>\n",
              "      <td>NaN</td>\n",
              "      <td>\\nC\\nC 1 1.5196\\nC 1 1.5033 2 125.212\\nC 2 1.5...</td>\n",
              "      <td>cc-pVDZ</td>\n",
              "      <td>0</td>\n",
              "      <td>cc-pVDZ</td>\n",
              "      <td>1.5196</td>\n",
              "      <td>180.0</td>\n",
              "      <td>-157.397106</td>\n",
              "      <td>NaN</td>\n",
              "      <td>NaN</td>\n",
              "      <td>NaN</td>\n",
              "    </tr>\n",
              "    <tr>\n",
              "      <th>6</th>\n",
              "      <td>NaN</td>\n",
              "      <td>NaN</td>\n",
              "      <td>\\nC\\nC 1 1.7196\\nC 1 1.5033 2 125.212\\nC 2 1.5...</td>\n",
              "      <td>cc-pVDZ</td>\n",
              "      <td>0</td>\n",
              "      <td>cc-pVDZ</td>\n",
              "      <td>1.7196</td>\n",
              "      <td>180.0</td>\n",
              "      <td>-157.335483</td>\n",
              "      <td>NaN</td>\n",
              "      <td>NaN</td>\n",
              "      <td>NaN</td>\n",
              "    </tr>\n",
              "    <tr>\n",
              "      <th>7</th>\n",
              "      <td>NaN</td>\n",
              "      <td>NaN</td>\n",
              "      <td>\\nC\\nC 1 1.9196\\nC 1 1.5033 2 125.212\\nC 2 1.5...</td>\n",
              "      <td>cc-pVDZ</td>\n",
              "      <td>0</td>\n",
              "      <td>cc-pVDZ</td>\n",
              "      <td>1.9196</td>\n",
              "      <td>180.0</td>\n",
              "      <td>-157.270165</td>\n",
              "      <td>NaN</td>\n",
              "      <td>NaN</td>\n",
              "      <td>NaN</td>\n",
              "    </tr>\n",
              "    <tr>\n",
              "      <th>8</th>\n",
              "      <td>NaN</td>\n",
              "      <td>NaN</td>\n",
              "      <td>\\nC\\nC 1 2.1196\\nC 1 1.5033 2 125.212\\nC 2 1.5...</td>\n",
              "      <td>cc-pVDZ</td>\n",
              "      <td>0</td>\n",
              "      <td>cc-pVDZ</td>\n",
              "      <td>2.1196</td>\n",
              "      <td>180.0</td>\n",
              "      <td>-157.211107</td>\n",
              "      <td>NaN</td>\n",
              "      <td>NaN</td>\n",
              "      <td>NaN</td>\n",
              "    </tr>\n",
              "    <tr>\n",
              "      <th>9</th>\n",
              "      <td>NaN</td>\n",
              "      <td>NaN</td>\n",
              "      <td>\\nC\\nC 1 2.3196\\nC 1 1.5033 2 125.212\\nC 2 1.5...</td>\n",
              "      <td>cc-pVDZ</td>\n",
              "      <td>0</td>\n",
              "      <td>cc-pVDZ</td>\n",
              "      <td>2.3196</td>\n",
              "      <td>180.0</td>\n",
              "      <td>-157.160867</td>\n",
              "      <td>NaN</td>\n",
              "      <td>NaN</td>\n",
              "      <td>NaN</td>\n",
              "    </tr>\n",
              "    <tr>\n",
              "      <th>10</th>\n",
              "      <td>NaN</td>\n",
              "      <td>NaN</td>\n",
              "      <td>\\nC\\nC 1 1.0196\\nC 1 1.5033 2 125.212\\nC 2 1.5...</td>\n",
              "      <td>cc-pVDZ</td>\n",
              "      <td>0</td>\n",
              "      <td>cc-pVDZ</td>\n",
              "      <td>1.0196</td>\n",
              "      <td>180.0</td>\n",
              "      <td>NaN</td>\n",
              "      <td>-156.515272</td>\n",
              "      <td>-156.532520</td>\n",
              "      <td>NaN</td>\n",
              "    </tr>\n",
              "    <tr>\n",
              "      <th>11</th>\n",
              "      <td>NaN</td>\n",
              "      <td>NaN</td>\n",
              "      <td>\\nC\\nC 1 1.1196\\nC 1 1.5033 2 125.212\\nC 2 1.5...</td>\n",
              "      <td>cc-pVDZ</td>\n",
              "      <td>0</td>\n",
              "      <td>cc-pVDZ</td>\n",
              "      <td>1.1196</td>\n",
              "      <td>180.0</td>\n",
              "      <td>NaN</td>\n",
              "      <td>-156.657408</td>\n",
              "      <td>-156.675181</td>\n",
              "      <td>NaN</td>\n",
              "    </tr>\n",
              "    <tr>\n",
              "      <th>12</th>\n",
              "      <td>NaN</td>\n",
              "      <td>NaN</td>\n",
              "      <td>\\nC\\nC 1 1.2196\\nC 1 1.5033 2 125.212\\nC 2 1.5...</td>\n",
              "      <td>cc-pVDZ</td>\n",
              "      <td>0</td>\n",
              "      <td>cc-pVDZ</td>\n",
              "      <td>1.2196</td>\n",
              "      <td>180.0</td>\n",
              "      <td>NaN</td>\n",
              "      <td>-156.724661</td>\n",
              "      <td>-156.743196</td>\n",
              "      <td>NaN</td>\n",
              "    </tr>\n",
              "    <tr>\n",
              "      <th>13</th>\n",
              "      <td>NaN</td>\n",
              "      <td>NaN</td>\n",
              "      <td>\\nC\\nC 1 1.3196\\nC 1 1.5033 2 125.212\\nC 2 1.5...</td>\n",
              "      <td>cc-pVDZ</td>\n",
              "      <td>0</td>\n",
              "      <td>cc-pVDZ</td>\n",
              "      <td>1.3196</td>\n",
              "      <td>180.0</td>\n",
              "      <td>NaN</td>\n",
              "      <td>-156.746817</td>\n",
              "      <td>-156.766366</td>\n",
              "      <td>NaN</td>\n",
              "    </tr>\n",
              "    <tr>\n",
              "      <th>14</th>\n",
              "      <td>NaN</td>\n",
              "      <td>NaN</td>\n",
              "      <td>\\nC\\nC 1 1.4196\\nC 1 1.5033 2 125.212\\nC 2 1.5...</td>\n",
              "      <td>cc-pVDZ</td>\n",
              "      <td>0</td>\n",
              "      <td>cc-pVDZ</td>\n",
              "      <td>1.4196</td>\n",
              "      <td>180.0</td>\n",
              "      <td>NaN</td>\n",
              "      <td>-156.742408</td>\n",
              "      <td>-156.763244</td>\n",
              "      <td>NaN</td>\n",
              "    </tr>\n",
              "    <tr>\n",
              "      <th>15</th>\n",
              "      <td>NaN</td>\n",
              "      <td>NaN</td>\n",
              "      <td>\\nC\\nC 1 1.5196\\nC 1 1.5033 2 125.212\\nC 2 1.5...</td>\n",
              "      <td>cc-pVDZ</td>\n",
              "      <td>0</td>\n",
              "      <td>cc-pVDZ</td>\n",
              "      <td>1.5196</td>\n",
              "      <td>180.0</td>\n",
              "      <td>NaN</td>\n",
              "      <td>-156.722963</td>\n",
              "      <td>-156.745380</td>\n",
              "      <td>NaN</td>\n",
              "    </tr>\n",
              "    <tr>\n",
              "      <th>16</th>\n",
              "      <td>NaN</td>\n",
              "      <td>NaN</td>\n",
              "      <td>\\nC\\nC 1 1.7196\\nC 1 1.5033 2 125.212\\nC 2 1.5...</td>\n",
              "      <td>cc-pVDZ</td>\n",
              "      <td>0</td>\n",
              "      <td>cc-pVDZ</td>\n",
              "      <td>1.7196</td>\n",
              "      <td>180.0</td>\n",
              "      <td>NaN</td>\n",
              "      <td>-156.664951</td>\n",
              "      <td>-156.691463</td>\n",
              "      <td>NaN</td>\n",
              "    </tr>\n",
              "    <tr>\n",
              "      <th>17</th>\n",
              "      <td>NaN</td>\n",
              "      <td>NaN</td>\n",
              "      <td>\\nC\\nC 1 1.9196\\nC 1 1.5033 2 125.212\\nC 2 1.5...</td>\n",
              "      <td>cc-pVDZ</td>\n",
              "      <td>0</td>\n",
              "      <td>cc-pVDZ</td>\n",
              "      <td>1.9196</td>\n",
              "      <td>180.0</td>\n",
              "      <td>NaN</td>\n",
              "      <td>-156.603221</td>\n",
              "      <td>-156.635125</td>\n",
              "      <td>NaN</td>\n",
              "    </tr>\n",
              "    <tr>\n",
              "      <th>18</th>\n",
              "      <td>NaN</td>\n",
              "      <td>NaN</td>\n",
              "      <td>\\nC\\nC 1 2.1196\\nC 1 1.5033 2 125.212\\nC 2 1.5...</td>\n",
              "      <td>cc-pVDZ</td>\n",
              "      <td>0</td>\n",
              "      <td>cc-pVDZ</td>\n",
              "      <td>2.1196</td>\n",
              "      <td>180.0</td>\n",
              "      <td>NaN</td>\n",
              "      <td>-156.548709</td>\n",
              "      <td>-156.587387</td>\n",
              "      <td>NaN</td>\n",
              "    </tr>\n",
              "    <tr>\n",
              "      <th>19</th>\n",
              "      <td>NaN</td>\n",
              "      <td>NaN</td>\n",
              "      <td>\\nC\\nC 1 2.3196\\nC 1 1.5033 2 125.212\\nC 2 1.5...</td>\n",
              "      <td>cc-pVDZ</td>\n",
              "      <td>0</td>\n",
              "      <td>cc-pVDZ</td>\n",
              "      <td>2.3196</td>\n",
              "      <td>180.0</td>\n",
              "      <td>NaN</td>\n",
              "      <td>-156.504615</td>\n",
              "      <td>-156.551753</td>\n",
              "      <td>NaN</td>\n",
              "    </tr>\n",
              "    <tr>\n",
              "      <th>20</th>\n",
              "      <td>NaN</td>\n",
              "      <td>NaN</td>\n",
              "      <td>\\nC\\nC 1 1.0196\\nC 1 1.5033 2 125.212\\nC 2 1.5...</td>\n",
              "      <td>cc-pVDZ</td>\n",
              "      <td>0</td>\n",
              "      <td>cc-pVDZ</td>\n",
              "      <td>1.0196</td>\n",
              "      <td>180.0</td>\n",
              "      <td>NaN</td>\n",
              "      <td>NaN</td>\n",
              "      <td>NaN</td>\n",
              "      <td>-156.918138</td>\n",
              "    </tr>\n",
              "    <tr>\n",
              "      <th>21</th>\n",
              "      <td>NaN</td>\n",
              "      <td>NaN</td>\n",
              "      <td>\\nC\\nC 1 1.1196\\nC 1 1.5033 2 125.212\\nC 2 1.5...</td>\n",
              "      <td>cc-pVDZ</td>\n",
              "      <td>0</td>\n",
              "      <td>cc-pVDZ</td>\n",
              "      <td>1.1196</td>\n",
              "      <td>180.0</td>\n",
              "      <td>NaN</td>\n",
              "      <td>NaN</td>\n",
              "      <td>NaN</td>\n",
              "      <td>-157.052701</td>\n",
              "    </tr>\n",
              "    <tr>\n",
              "      <th>22</th>\n",
              "      <td>NaN</td>\n",
              "      <td>NaN</td>\n",
              "      <td>\\nC\\nC 1 1.2196\\nC 1 1.5033 2 125.212\\nC 2 1.5...</td>\n",
              "      <td>cc-pVDZ</td>\n",
              "      <td>0</td>\n",
              "      <td>cc-pVDZ</td>\n",
              "      <td>1.2196</td>\n",
              "      <td>180.0</td>\n",
              "      <td>NaN</td>\n",
              "      <td>NaN</td>\n",
              "      <td>NaN</td>\n",
              "      <td>-157.114166</td>\n",
              "    </tr>\n",
              "    <tr>\n",
              "      <th>23</th>\n",
              "      <td>NaN</td>\n",
              "      <td>NaN</td>\n",
              "      <td>\\nC\\nC 1 1.3196\\nC 1 1.5033 2 125.212\\nC 2 1.5...</td>\n",
              "      <td>cc-pVDZ</td>\n",
              "      <td>0</td>\n",
              "      <td>cc-pVDZ</td>\n",
              "      <td>1.3196</td>\n",
              "      <td>180.0</td>\n",
              "      <td>NaN</td>\n",
              "      <td>NaN</td>\n",
              "      <td>NaN</td>\n",
              "      <td>-157.132633</td>\n",
              "    </tr>\n",
              "    <tr>\n",
              "      <th>24</th>\n",
              "      <td>NaN</td>\n",
              "      <td>NaN</td>\n",
              "      <td>\\nC\\nC 1 1.4196\\nC 1 1.5033 2 125.212\\nC 2 1.5...</td>\n",
              "      <td>cc-pVDZ</td>\n",
              "      <td>0</td>\n",
              "      <td>cc-pVDZ</td>\n",
              "      <td>1.4196</td>\n",
              "      <td>180.0</td>\n",
              "      <td>NaN</td>\n",
              "      <td>NaN</td>\n",
              "      <td>NaN</td>\n",
              "      <td>-157.126500</td>\n",
              "    </tr>\n",
              "    <tr>\n",
              "      <th>25</th>\n",
              "      <td>NaN</td>\n",
              "      <td>NaN</td>\n",
              "      <td>\\nC\\nC 1 1.5196\\nC 1 1.5033 2 125.212\\nC 2 1.5...</td>\n",
              "      <td>cc-pVDZ</td>\n",
              "      <td>0</td>\n",
              "      <td>cc-pVDZ</td>\n",
              "      <td>1.5196</td>\n",
              "      <td>180.0</td>\n",
              "      <td>NaN</td>\n",
              "      <td>NaN</td>\n",
              "      <td>NaN</td>\n",
              "      <td>-157.106687</td>\n",
              "    </tr>\n",
              "    <tr>\n",
              "      <th>26</th>\n",
              "      <td>NaN</td>\n",
              "      <td>NaN</td>\n",
              "      <td>\\nC\\nC 1 1.7196\\nC 1 1.5033 2 125.212\\nC 2 1.5...</td>\n",
              "      <td>cc-pVDZ</td>\n",
              "      <td>0</td>\n",
              "      <td>cc-pVDZ</td>\n",
              "      <td>1.7196</td>\n",
              "      <td>180.0</td>\n",
              "      <td>NaN</td>\n",
              "      <td>NaN</td>\n",
              "      <td>NaN</td>\n",
              "      <td>-157.048512</td>\n",
              "    </tr>\n",
              "    <tr>\n",
              "      <th>27</th>\n",
              "      <td>NaN</td>\n",
              "      <td>NaN</td>\n",
              "      <td>\\nC\\nC 1 1.9196\\nC 1 1.5033 2 125.212\\nC 2 1.5...</td>\n",
              "      <td>cc-pVDZ</td>\n",
              "      <td>0</td>\n",
              "      <td>cc-pVDZ</td>\n",
              "      <td>1.9196</td>\n",
              "      <td>180.0</td>\n",
              "      <td>NaN</td>\n",
              "      <td>NaN</td>\n",
              "      <td>NaN</td>\n",
              "      <td>-156.985867</td>\n",
              "    </tr>\n",
              "    <tr>\n",
              "      <th>28</th>\n",
              "      <td>NaN</td>\n",
              "      <td>NaN</td>\n",
              "      <td>\\nC\\nC 1 2.1196\\nC 1 1.5033 2 125.212\\nC 2 1.5...</td>\n",
              "      <td>cc-pVDZ</td>\n",
              "      <td>0</td>\n",
              "      <td>cc-pVDZ</td>\n",
              "      <td>2.1196</td>\n",
              "      <td>180.0</td>\n",
              "      <td>NaN</td>\n",
              "      <td>NaN</td>\n",
              "      <td>NaN</td>\n",
              "      <td>-156.929693</td>\n",
              "    </tr>\n",
              "    <tr>\n",
              "      <th>29</th>\n",
              "      <td>NaN</td>\n",
              "      <td>NaN</td>\n",
              "      <td>\\nC\\nC 1 2.3196\\nC 1 1.5033 2 125.212\\nC 2 1.5...</td>\n",
              "      <td>cc-pVDZ</td>\n",
              "      <td>0</td>\n",
              "      <td>cc-pVDZ</td>\n",
              "      <td>2.3196</td>\n",
              "      <td>180.0</td>\n",
              "      <td>NaN</td>\n",
              "      <td>NaN</td>\n",
              "      <td>NaN</td>\n",
              "      <td>-156.882601</td>\n",
              "    </tr>\n",
              "  </tbody>\n",
              "</table>\n",
              "</div>\n",
              "    <div class=\"colab-df-buttons\">\n",
              "\n",
              "  <div class=\"colab-df-container\">\n",
              "    <button class=\"colab-df-convert\" onclick=\"convertToInteractive('df-320b6a5b-81f4-4322-b8b5-13b139593518')\"\n",
              "            title=\"Convert this dataframe to an interactive table.\"\n",
              "            style=\"display:none;\">\n",
              "\n",
              "  <svg xmlns=\"http://www.w3.org/2000/svg\" height=\"24px\" viewBox=\"0 -960 960 960\">\n",
              "    <path d=\"M120-120v-720h720v720H120Zm60-500h600v-160H180v160Zm220 220h160v-160H400v160Zm0 220h160v-160H400v160ZM180-400h160v-160H180v160Zm440 0h160v-160H620v160ZM180-180h160v-160H180v160Zm440 0h160v-160H620v160Z\"/>\n",
              "  </svg>\n",
              "    </button>\n",
              "\n",
              "  <style>\n",
              "    .colab-df-container {\n",
              "      display:flex;\n",
              "      gap: 12px;\n",
              "    }\n",
              "\n",
              "    .colab-df-convert {\n",
              "      background-color: #E8F0FE;\n",
              "      border: none;\n",
              "      border-radius: 50%;\n",
              "      cursor: pointer;\n",
              "      display: none;\n",
              "      fill: #1967D2;\n",
              "      height: 32px;\n",
              "      padding: 0 0 0 0;\n",
              "      width: 32px;\n",
              "    }\n",
              "\n",
              "    .colab-df-convert:hover {\n",
              "      background-color: #E2EBFA;\n",
              "      box-shadow: 0px 1px 2px rgba(60, 64, 67, 0.3), 0px 1px 3px 1px rgba(60, 64, 67, 0.15);\n",
              "      fill: #174EA6;\n",
              "    }\n",
              "\n",
              "    .colab-df-buttons div {\n",
              "      margin-bottom: 4px;\n",
              "    }\n",
              "\n",
              "    [theme=dark] .colab-df-convert {\n",
              "      background-color: #3B4455;\n",
              "      fill: #D2E3FC;\n",
              "    }\n",
              "\n",
              "    [theme=dark] .colab-df-convert:hover {\n",
              "      background-color: #434B5C;\n",
              "      box-shadow: 0px 1px 3px 1px rgba(0, 0, 0, 0.15);\n",
              "      filter: drop-shadow(0px 1px 2px rgba(0, 0, 0, 0.3));\n",
              "      fill: #FFFFFF;\n",
              "    }\n",
              "  </style>\n",
              "\n",
              "    <script>\n",
              "      const buttonEl =\n",
              "        document.querySelector('#df-320b6a5b-81f4-4322-b8b5-13b139593518 button.colab-df-convert');\n",
              "      buttonEl.style.display =\n",
              "        google.colab.kernel.accessAllowed ? 'block' : 'none';\n",
              "\n",
              "      async function convertToInteractive(key) {\n",
              "        const element = document.querySelector('#df-320b6a5b-81f4-4322-b8b5-13b139593518');\n",
              "        const dataTable =\n",
              "          await google.colab.kernel.invokeFunction('convertToInteractive',\n",
              "                                                    [key], {});\n",
              "        if (!dataTable) return;\n",
              "\n",
              "        const docLinkHtml = 'Like what you see? Visit the ' +\n",
              "          '<a target=\"_blank\" href=https://colab.research.google.com/notebooks/data_table.ipynb>data table notebook</a>'\n",
              "          + ' to learn more about interactive tables.';\n",
              "        element.innerHTML = '';\n",
              "        dataTable['output_type'] = 'display_data';\n",
              "        await google.colab.output.renderOutput(dataTable, element);\n",
              "        const docLink = document.createElement('div');\n",
              "        docLink.innerHTML = docLinkHtml;\n",
              "        element.appendChild(docLink);\n",
              "      }\n",
              "    </script>\n",
              "  </div>\n",
              "\n",
              "\n",
              "<div id=\"df-31657465-e0fc-4e3c-a986-4ec76495eea0\">\n",
              "  <button class=\"colab-df-quickchart\" onclick=\"quickchart('df-31657465-e0fc-4e3c-a986-4ec76495eea0')\"\n",
              "            title=\"Suggest charts\"\n",
              "            style=\"display:none;\">\n",
              "\n",
              "<svg xmlns=\"http://www.w3.org/2000/svg\" height=\"24px\"viewBox=\"0 0 24 24\"\n",
              "     width=\"24px\">\n",
              "    <g>\n",
              "        <path d=\"M19 3H5c-1.1 0-2 .9-2 2v14c0 1.1.9 2 2 2h14c1.1 0 2-.9 2-2V5c0-1.1-.9-2-2-2zM9 17H7v-7h2v7zm4 0h-2V7h2v10zm4 0h-2v-4h2v4z\"/>\n",
              "    </g>\n",
              "</svg>\n",
              "  </button>\n",
              "\n",
              "<style>\n",
              "  .colab-df-quickchart {\n",
              "      --bg-color: #E8F0FE;\n",
              "      --fill-color: #1967D2;\n",
              "      --hover-bg-color: #E2EBFA;\n",
              "      --hover-fill-color: #174EA6;\n",
              "      --disabled-fill-color: #AAA;\n",
              "      --disabled-bg-color: #DDD;\n",
              "  }\n",
              "\n",
              "  [theme=dark] .colab-df-quickchart {\n",
              "      --bg-color: #3B4455;\n",
              "      --fill-color: #D2E3FC;\n",
              "      --hover-bg-color: #434B5C;\n",
              "      --hover-fill-color: #FFFFFF;\n",
              "      --disabled-bg-color: #3B4455;\n",
              "      --disabled-fill-color: #666;\n",
              "  }\n",
              "\n",
              "  .colab-df-quickchart {\n",
              "    background-color: var(--bg-color);\n",
              "    border: none;\n",
              "    border-radius: 50%;\n",
              "    cursor: pointer;\n",
              "    display: none;\n",
              "    fill: var(--fill-color);\n",
              "    height: 32px;\n",
              "    padding: 0;\n",
              "    width: 32px;\n",
              "  }\n",
              "\n",
              "  .colab-df-quickchart:hover {\n",
              "    background-color: var(--hover-bg-color);\n",
              "    box-shadow: 0 1px 2px rgba(60, 64, 67, 0.3), 0 1px 3px 1px rgba(60, 64, 67, 0.15);\n",
              "    fill: var(--button-hover-fill-color);\n",
              "  }\n",
              "\n",
              "  .colab-df-quickchart-complete:disabled,\n",
              "  .colab-df-quickchart-complete:disabled:hover {\n",
              "    background-color: var(--disabled-bg-color);\n",
              "    fill: var(--disabled-fill-color);\n",
              "    box-shadow: none;\n",
              "  }\n",
              "\n",
              "  .colab-df-spinner {\n",
              "    border: 2px solid var(--fill-color);\n",
              "    border-color: transparent;\n",
              "    border-bottom-color: var(--fill-color);\n",
              "    animation:\n",
              "      spin 1s steps(1) infinite;\n",
              "  }\n",
              "\n",
              "  @keyframes spin {\n",
              "    0% {\n",
              "      border-color: transparent;\n",
              "      border-bottom-color: var(--fill-color);\n",
              "      border-left-color: var(--fill-color);\n",
              "    }\n",
              "    20% {\n",
              "      border-color: transparent;\n",
              "      border-left-color: var(--fill-color);\n",
              "      border-top-color: var(--fill-color);\n",
              "    }\n",
              "    30% {\n",
              "      border-color: transparent;\n",
              "      border-left-color: var(--fill-color);\n",
              "      border-top-color: var(--fill-color);\n",
              "      border-right-color: var(--fill-color);\n",
              "    }\n",
              "    40% {\n",
              "      border-color: transparent;\n",
              "      border-right-color: var(--fill-color);\n",
              "      border-top-color: var(--fill-color);\n",
              "    }\n",
              "    60% {\n",
              "      border-color: transparent;\n",
              "      border-right-color: var(--fill-color);\n",
              "    }\n",
              "    80% {\n",
              "      border-color: transparent;\n",
              "      border-right-color: var(--fill-color);\n",
              "      border-bottom-color: var(--fill-color);\n",
              "    }\n",
              "    90% {\n",
              "      border-color: transparent;\n",
              "      border-bottom-color: var(--fill-color);\n",
              "    }\n",
              "  }\n",
              "</style>\n",
              "\n",
              "  <script>\n",
              "    async function quickchart(key) {\n",
              "      const quickchartButtonEl =\n",
              "        document.querySelector('#' + key + ' button');\n",
              "      quickchartButtonEl.disabled = true;  // To prevent multiple clicks.\n",
              "      quickchartButtonEl.classList.add('colab-df-spinner');\n",
              "      try {\n",
              "        const charts = await google.colab.kernel.invokeFunction(\n",
              "            'suggestCharts', [key], {});\n",
              "      } catch (error) {\n",
              "        console.error('Error during call to suggestCharts:', error);\n",
              "      }\n",
              "      quickchartButtonEl.classList.remove('colab-df-spinner');\n",
              "      quickchartButtonEl.classList.add('colab-df-quickchart-complete');\n",
              "    }\n",
              "    (() => {\n",
              "      let quickchartButtonEl =\n",
              "        document.querySelector('#df-31657465-e0fc-4e3c-a986-4ec76495eea0 button');\n",
              "      quickchartButtonEl.style.display =\n",
              "        google.colab.kernel.accessAllowed ? 'block' : 'none';\n",
              "    })();\n",
              "  </script>\n",
              "</div>\n",
              "    </div>\n",
              "  </div>\n"
            ]
          },
          "metadata": {},
          "execution_count": 352
        }
      ]
    },
    {
      "cell_type": "code",
      "execution_count": 353,
      "metadata": {
        "id": "AiJH_F1_Zf8i"
      },
      "outputs": [],
      "source": [
        "EnergyToPLOT = 'DFT-b3lyp'\n",
        "EnergyToPLOT = 'NN-Functional.DM21m'\n"
      ]
    },
    {
      "cell_type": "code",
      "execution_count": 354,
      "metadata": {
        "id": "Nb-vUB-oH1oM"
      },
      "outputs": [],
      "source": [
        "import pandas as pd\n",
        "#df = pd.read_csv('/content/drive/My Drive/DeepMind' + EXPNO+ 'CE-Final-.csv' )\n"
      ]
    },
    {
      "cell_type": "code",
      "execution_count": 355,
      "metadata": {
        "id": "HflJ5uG3KX44"
      },
      "outputs": [],
      "source": [
        "df2 = df.copy()"
      ]
    },
    {
      "cell_type": "code",
      "execution_count": 356,
      "metadata": {
        "id": "DiEWg_eGKcpX"
      },
      "outputs": [],
      "source": [
        "#df.drop(columns=['Weight', 'Element', 'Molecule', 'BasisSet', 'Spin','BuiltMolecule'])"
      ]
    },
    {
      "cell_type": "code",
      "execution_count": 357,
      "metadata": {
        "id": "fR0uwmTg-aRO",
        "colab": {
          "base_uri": "https://localhost:8080/",
          "height": 254
        },
        "outputId": "d02f207f-2373-4e78-d534-bc038fc151a0"
      },
      "outputs": [
        {
          "output_type": "error",
          "ename": "AttributeError",
          "evalue": "ignored",
          "traceback": [
            "\u001b[0;31m---------------------------------------------------------------------------\u001b[0m",
            "\u001b[0;31mAttributeError\u001b[0m                            Traceback (most recent call last)",
            "\u001b[0;32m<ipython-input-357-2593e8018c0e>\u001b[0m in \u001b[0;36m<cell line: 3>\u001b[0;34m()\u001b[0m\n\u001b[1;32m      1\u001b[0m \u001b[0;32mimport\u001b[0m  \u001b[0mmatplotlib\u001b[0m\u001b[0;34m.\u001b[0m\u001b[0mfont_manager\u001b[0m\u001b[0;34m\u001b[0m\u001b[0;34m\u001b[0m\u001b[0m\n\u001b[1;32m      2\u001b[0m \u001b[0;34m\u001b[0m\u001b[0m\n\u001b[0;32m----> 3\u001b[0;31m \u001b[0mflist\u001b[0m \u001b[0;34m=\u001b[0m \u001b[0mmatplotlib\u001b[0m\u001b[0;34m.\u001b[0m\u001b[0mfont_manager\u001b[0m\u001b[0;34m.\u001b[0m\u001b[0mget_fontconfig_fonts\u001b[0m\u001b[0;34m(\u001b[0m\u001b[0;34m)\u001b[0m\u001b[0;34m\u001b[0m\u001b[0;34m\u001b[0m\u001b[0m\n\u001b[0m\u001b[1;32m      4\u001b[0m \u001b[0mnames\u001b[0m \u001b[0;34m=\u001b[0m \u001b[0;34m[\u001b[0m\u001b[0mmatplotlib\u001b[0m\u001b[0;34m.\u001b[0m\u001b[0mfont_manager\u001b[0m\u001b[0;34m.\u001b[0m\u001b[0mFontProperties\u001b[0m\u001b[0;34m(\u001b[0m\u001b[0mfname\u001b[0m\u001b[0;34m=\u001b[0m\u001b[0mfname\u001b[0m\u001b[0;34m)\u001b[0m\u001b[0;34m.\u001b[0m\u001b[0mget_name\u001b[0m\u001b[0;34m(\u001b[0m\u001b[0;34m)\u001b[0m \u001b[0;32mfor\u001b[0m \u001b[0mfname\u001b[0m \u001b[0;32min\u001b[0m \u001b[0mflist\u001b[0m\u001b[0;34m]\u001b[0m\u001b[0;34m\u001b[0m\u001b[0;34m\u001b[0m\u001b[0m\n\u001b[1;32m      5\u001b[0m \u001b[0mprint\u001b[0m\u001b[0;34m(\u001b[0m\u001b[0mnames\u001b[0m\u001b[0;34m)\u001b[0m\u001b[0;34m\u001b[0m\u001b[0;34m\u001b[0m\u001b[0m\n",
            "\u001b[0;31mAttributeError\u001b[0m: module 'matplotlib.font_manager' has no attribute 'get_fontconfig_fonts'"
          ]
        }
      ],
      "source": [
        "import  matplotlib.font_manager\n",
        "\n",
        "flist = matplotlib.font_manager.get_fontconfig_fonts()\n",
        "names = [matplotlib.font_manager.FontProperties(fname=fname).get_name() for fname in flist]\n",
        "print(names)"
      ]
    },
    {
      "cell_type": "code",
      "execution_count": null,
      "metadata": {
        "id": "9BL6JU5bLpB7"
      },
      "outputs": [],
      "source": [
        "import matplotlib.pyplot as plt\n",
        "%matplotlib inline\n",
        "\n"
      ]
    },
    {
      "cell_type": "code",
      "execution_count": null,
      "metadata": {
        "id": "Zzr559JysU4t"
      },
      "outputs": [],
      "source": [
        "dfBACKUP = dfRestart.copy(deep=True)\n"
      ]
    },
    {
      "cell_type": "code",
      "execution_count": null,
      "metadata": {
        "id": "kHXcxJgIaJl8"
      },
      "outputs": [],
      "source": [
        "dfBACKUP"
      ]
    },
    {
      "cell_type": "code",
      "execution_count": null,
      "metadata": {
        "id": "Fko66MuCrmYr"
      },
      "outputs": [],
      "source": [
        "dfDFT = dfBACKUP.copy(deep=True)\n",
        "\n",
        "#dfDFTnew = dfDFT[ dfDFT['DFT-b3lyp'].notnull()]\n",
        "\n",
        "#dfDFTnew = dfDFT[ dfDFT['NN-Functional.DM21m'].notnull()]\n",
        "\n",
        "dfDFTnew = dfDFT[ dfDFT[EnergyToPLOT].notnull()]\n",
        "\n",
        "\n"
      ]
    },
    {
      "cell_type": "code",
      "execution_count": null,
      "metadata": {
        "id": "vRNflRTrskfs"
      },
      "outputs": [],
      "source": [
        "df = dfDFTnew\n",
        "dfTest = df.drop(columns=['Weight', 'Element', 'Molecule', 'BasisSet', 'Spin','BuiltMolecule'])"
      ]
    },
    {
      "cell_type": "code",
      "execution_count": null,
      "metadata": {
        "id": "wUL3PYlRboR2"
      },
      "outputs": [],
      "source": [
        "dfTest\n"
      ]
    },
    {
      "cell_type": "code",
      "execution_count": null,
      "metadata": {
        "id": "tTOoAGYejKQO"
      },
      "outputs": [],
      "source": [
        "fig = plt.figure()\n",
        "fig.set_figwidth(20)\n",
        "fig.set_figheight(20)\n",
        "params = {'legend.fontsize': 'x-large',\n",
        "         'axes.labelsize': 'x-large',\n",
        "         'axes.titlesize':'x-large',\n",
        "         'xtick.labelsize':'x-large',\n",
        "         'ytick.labelsize':'x-large'}\n",
        "plt.rcParams.update(params)\n",
        "ax = fig.gca(projection='3d')\n",
        "surf=ax.plot_trisurf(dfTest['bond_lenght'], dfTest['bond_Angle'], dfTest[EnergyToPLOT],    cmap=plt.cm.jet,  antialiased=True,  linewidth=0.02)\n",
        "ax.view_init(10, 30 )\n",
        "\n",
        "fig.colorbar( surf, shrink=0.5, aspect=5)\n",
        "plt.show()"
      ]
    },
    {
      "cell_type": "code",
      "execution_count": null,
      "metadata": {
        "id": "fuNwgs-3EFj-"
      },
      "outputs": [],
      "source": [
        "import plotly.graph_objects as go\n",
        "\n",
        "import seaborn as sb\n",
        "import matplotlib.pyplot as plot\n",
        "import numpy as np\n",
        "\n",
        "dftesting = df.copy(deep=True)\n",
        "#dftesting = dftesting[ (dftesting['bond_lenght'] <= 1.09) &  (dftesting['bond_lenght'] >= 0.90) ]\n",
        "#dftesting = dftesting[ (dftesting[EnergyToPLOT] <= -1.6)   ]\n",
        "\n",
        "\n",
        "x = dftesting['bond_lenght'].to_numpy()\n",
        "y = dftesting['bond_Angle'].to_numpy()\n",
        "z = dftesting[EnergyToPLOT].to_numpy()\n",
        "\n",
        "marker=dict(\n",
        "        size=3,\n",
        "        color=z,                # set color to an array/list of desired values\n",
        "        colorscale='Turbo',   # choose a colorscale Viridis Rainbow   Aggrnyl Turbo Plotly3 RdBu\n",
        "        opacity=1\n",
        "    )\n",
        "\n",
        "\n",
        "\n",
        "fig = go.Figure(data=[go.Scatter3d(\n",
        "    x=x,\n",
        "    y=y,\n",
        "    z=z,\n",
        "    mode='markers',\n",
        "    marker= marker)])\n",
        "\n",
        "\n",
        "fig.show()"
      ]
    },
    {
      "cell_type": "code",
      "execution_count": null,
      "metadata": {
        "id": "Q0VwtLWNlG5s"
      },
      "outputs": [],
      "source": [
        "fig = plt.figure()\n",
        "fig.set_figwidth(20)\n",
        "fig.set_figheight(20)\n",
        "params = {'legend.fontsize': 'x-large',\n",
        "         'axes.labelsize': 'x-large',\n",
        "         'axes.titlesize':'x-large',\n",
        "         'xtick.labelsize':'x-large',\n",
        "         'ytick.labelsize':'x-large'}\n",
        "plt.rcParams.update(params)\n",
        "ax = fig.gca(projection='3d')\n",
        "\n",
        "\n",
        "dftesting = df.copy(deep=True)\n",
        "#dftesting = dftesting[ (dftesting['bond_lenght'] <= 1.09) &  (dftesting['bond_lenght'] >= 0.90) ]\n",
        "dftesting = dftesting[ (dftesting[EnergyToPLOT] <= -1.45)   ]\n",
        "\n",
        "surf=ax.plot_trisurf(dftesting['bond_lenght'], dftesting['bond_Angle'], dftesting[EnergyToPLOT], cmap=plt.cm.jet,  linewidth=0.02, vmax=-1.60)\n",
        "ax.view_init(15, 20 )\n",
        "\n",
        "fig.colorbar( surf, shrink=0.5, aspect=5)\n",
        "plt.show()"
      ]
    },
    {
      "cell_type": "code",
      "execution_count": null,
      "metadata": {
        "id": "ACn0-GAt5-XJ"
      },
      "outputs": [],
      "source": [
        "fig = plt.figure()\n",
        "fig.set_figwidth(20)\n",
        "fig.set_figheight(20)\n",
        "params = {'legend.fontsize': 'x-large',\n",
        "         'axes.labelsize': 'x-large',\n",
        "         'axes.titlesize':'x-large',\n",
        "         'xtick.labelsize':'x-large',\n",
        "         'ytick.labelsize':'x-large'}\n",
        "plt.rcParams.update(params)\n",
        "ax = fig.gca(projection='3d')\n",
        "surf=ax.plot_trisurf(dftesting['bond_lenght'], dftesting['bond_Angle'], dftesting[EnergyToPLOT], cmap=plt.cm.jet,  linewidth=0.02)\n",
        "ax.view_init(60, 35 )\n",
        "\n",
        "fig.colorbar( surf, shrink=0.5, aspect=5)\n",
        "plt.show()"
      ]
    },
    {
      "cell_type": "code",
      "execution_count": null,
      "metadata": {
        "id": "oG5zWU_A0_aU"
      },
      "outputs": [],
      "source": [
        "\n",
        "\n",
        "fig = plt.figure()\n",
        "fig.set_figwidth(20)\n",
        "fig.set_figheight(20)\n",
        "params = {'legend.fontsize': 'x-large',\n",
        "         'axes.labelsize': 'x-large',\n",
        "         'axes.titlesize':'x-large',\n",
        "         'xtick.labelsize':'x-large',\n",
        "         'ytick.labelsize':'x-large'}\n",
        "plt.rcParams.update(params)\n",
        "ax = fig.gca(projection='3d')\n",
        "surf=ax.plot_trisurf(df['bond_lenght'], df['bond_Angle'], df['DFT-b3lyp'],   cmap=plt.cm.jet,  linewidth=0.02)\n",
        "ax.view_init(4, 15 )\n",
        "\n",
        "fig.colorbar( surf, shrink=0.5, aspect=5)\n",
        "plt.show()"
      ]
    },
    {
      "cell_type": "code",
      "execution_count": null,
      "metadata": {
        "id": "B9lks2yI0gpi"
      },
      "outputs": [],
      "source": [
        "fig = plt.figure()\n",
        "fig.set_figwidth(20)\n",
        "fig.set_figheight(20)\n",
        "params = {'legend.fontsize': 'x-large',\n",
        "         'axes.labelsize': 'x-large',\n",
        "         'axes.titlesize':'x-large',\n",
        "         'xtick.labelsize':'x-large',\n",
        "         'ytick.labelsize':'x-large'}\n",
        "plt.rcParams.update(params)\n",
        "ax = fig.gca(projection='3d')\n",
        "surf=ax.plot_surface(Z=myarray , X=Global_Range_BONDLENGTH_HO, Y=mylistofbonganglesarray , cmap=plt.cm.jet,  linewidth=0.02)\n",
        "ax.view_init(20, 5 )\n",
        "\n",
        "fig.colorbar( surf, shrink=0.5, aspect=5)\n",
        "plt.show()"
      ]
    },
    {
      "cell_type": "code",
      "execution_count": null,
      "metadata": {
        "id": "Ntfhv_xqzm6p"
      },
      "outputs": [],
      "source": [
        "fig = plt.figure()\n",
        "fig.set_figwidth(20)\n",
        "fig.set_figheight(20)\n",
        "params = {'legend.fontsize': 'x-large',\n",
        "         'axes.labelsize': 'x-large',\n",
        "         'axes.titlesize':'x-large',\n",
        "         'xtick.labelsize':'x-large',\n",
        "         'ytick.labelsize':'x-large'}\n",
        "plt.rcParams.update(params)\n",
        "ax = fig.gca(projection='3d')\n",
        "surf=ax.plot_wireframe(Z=myarray , Y=Global_Range_BONDLENGTH_HO, X=mylistofbonganglesarray , cmap=plt.cm.jet,  linewidth=0.02)\n",
        "ax.view_init(20, 5 )\n",
        "\n",
        "fig.colorbar( surf, shrink=0.5, aspect=5)\n",
        "plt.show()"
      ]
    },
    {
      "cell_type": "code",
      "execution_count": null,
      "metadata": {
        "id": "JoqPZtoUX1Wh"
      },
      "outputs": [],
      "source": [
        "fig = plt.figure()\n",
        "fig.set_figwidth(20)\n",
        "fig.set_figheight(20)\n",
        "params = {'legend.fontsize': 'x-large',\n",
        "         'axes.labelsize': 'x-large',\n",
        "         'axes.titlesize':'x-large',\n",
        "         'xtick.labelsize':'x-large',\n",
        "         'ytick.labelsize':'x-large'}\n",
        "plt.rcParams.update(params)\n",
        "ax = fig.gca(projection='3d')\n",
        "surf=ax.plot_trisurf(df['bond_lenght'], df['bond_Angle'], df['NN-Functional.DM21m'], cmap=plt.cm.jet,  linewidth=0.02)\n",
        "ax.view_init(30, 10 )\n",
        "\n",
        "fig.colorbar( surf, shrink=0.5, aspect=5)\n",
        "plt.show()"
      ]
    },
    {
      "cell_type": "code",
      "execution_count": null,
      "metadata": {
        "id": "Nd28T-WMiKrM"
      },
      "outputs": [],
      "source": [
        "dftesting = df.copy(deep=True)\n",
        "#dftesting = dftesting[ (dftesting['bond_lenght'] <= 1.09) &  (dftesting['bond_lenght'] >= 0.90) ]"
      ]
    },
    {
      "cell_type": "code",
      "execution_count": null,
      "metadata": {
        "id": "fZmr_yN5gDHV"
      },
      "outputs": [],
      "source": [
        "fig = plt.figure()\n",
        "fig.set_figwidth(20)\n",
        "fig.set_figheight(20)\n",
        "params = {'legend.fontsize': 'x-large',\n",
        "         'axes.labelsize': 'x-large',\n",
        "         'axes.titlesize':'x-large',\n",
        "         'xtick.labelsize':'x-large',\n",
        "         'ytick.labelsize':'x-large'}\n",
        "plt.rcParams.update(params)\n",
        "ax = fig.gca(projection='3d')\n",
        "surf=ax.plot_trisurf(dftesting['bond_lenght'], dftesting['bond_Angle'], dftesting['NN-Functional.DM21m'], cmap=plt.cm.jet,  linewidth=0.01)\n",
        "ax.view_init(10, 15 )\n",
        "\n",
        "fig.colorbar( surf, shrink=0.5, aspect=10)\n",
        "plt.show()"
      ]
    },
    {
      "cell_type": "code",
      "execution_count": null,
      "metadata": {
        "id": "QkGHpiqDYFtT"
      },
      "outputs": [],
      "source": [
        "fig = plt.figure()\n",
        "fig.set_figwidth(20)\n",
        "fig.set_figheight(20)\n",
        "params = {'legend.fontsize': 'x-large',\n",
        "         'axes.labelsize': 'x-large',\n",
        "         'axes.titlesize':'x-large',\n",
        "         'xtick.labelsize':'x-large',\n",
        "         'ytick.labelsize':'x-large'}\n",
        "plt.rcParams.update(params)\n",
        "ax = fig.gca(projection='3d')\n",
        "surf=ax.plot_trisurf(df['bond_lenght'], df['bond_Angle'], df['NN-Functional.DM21m'], cmap=plt.cm.jet,  linewidth=0.02)\n",
        "ax.view_init(-30, 40 )\n",
        "\n",
        "fig.colorbar( surf, shrink=0.5, aspect=5)\n",
        "plt.show()"
      ]
    },
    {
      "cell_type": "code",
      "execution_count": null,
      "metadata": {
        "id": "97q4VAMDceAV"
      },
      "outputs": [],
      "source": [
        "import plotly.graph_objects as go\n",
        "\n",
        "import seaborn as sb\n",
        "import matplotlib.pyplot as plot\n",
        "import numpy as np\n",
        "x = dftesting['bond_lenght'].to_numpy()\n",
        "y = dftesting['bond_Angle'].to_numpy()\n",
        "z = dftesting['DFT-b3lyp'].to_numpy()\n",
        "\n",
        "fig = go.Figure(data=[go.Mesh3d(x=x, y=y, z=z, color='lightpink', alphahull=-1, opacity=0.50)])\n",
        "fig.show()"
      ]
    },
    {
      "cell_type": "code",
      "execution_count": null,
      "metadata": {
        "id": "n9dtXsHCAR9r"
      },
      "outputs": [],
      "source": [
        "\n",
        "\n",
        "fig = go.Figure(data=[go.Surface(\n",
        "    x=x,\n",
        "    y=y,\n",
        "    z=z,\n",
        "    showscale=False,\n",
        "    colorscale=[[0, 'rgb(0,0,255)'], [1, 'rgb(0,0,255)']]\n",
        "    )])\n",
        "\n",
        "fig.show()\n"
      ]
    },
    {
      "cell_type": "code",
      "execution_count": null,
      "metadata": {
        "id": "htrI4hdN_ywp"
      },
      "outputs": [],
      "source": [
        "surf=dict(type='surface',\n",
        "           x=x,\n",
        "           y=y,\n",
        "           z=z\n",
        ")\n",
        "fig = go.Figure(surf)"
      ]
    },
    {
      "cell_type": "code",
      "execution_count": null,
      "metadata": {
        "id": "5EP8yrbLdUqy"
      },
      "outputs": [],
      "source": [
        "import plotly.express as px\n",
        "\n",
        "fig = px.scatter_3d(dftesting, x=x, y=y, z=z,)\n",
        "fig.show()"
      ]
    },
    {
      "cell_type": "code",
      "execution_count": null,
      "metadata": {
        "id": "1nHm73NYCaht"
      },
      "outputs": [],
      "source": [
        "import plotly.graph_objects as go\n",
        "\n",
        "import seaborn as sb\n",
        "import matplotlib.pyplot as plot\n",
        "import numpy as np\n",
        "x = df['bond_lenght'].to_numpy()\n",
        "y = df['bond_Angle'].to_numpy()\n",
        "z = df['DFT-b3lyp'].to_numpy()\n",
        "\n",
        "marker=dict(\n",
        "        size=3,\n",
        "        color=z,                # set color to an array/list of desired values\n",
        "        colorscale='Turbo',   # choose a colorscale Viridis Rainbow   Aggrnyl Turbo Plotly3 RdBu\n",
        "        opacity=1\n",
        "    )\n",
        "\n",
        "\n",
        "\n",
        "fig = go.Figure(data=[go.Scatter3d(\n",
        "    x=x,\n",
        "    y=y,\n",
        "    z=z,\n",
        "    mode='markers',\n",
        "    marker= marker)])\n",
        "\n",
        "\n",
        "fig.show()"
      ]
    },
    {
      "cell_type": "code",
      "execution_count": null,
      "metadata": {
        "id": "gdIXoP6Tnwhs"
      },
      "outputs": [],
      "source": [
        "w  = len(Global_Range_BONDANGLE_OHO)\n",
        "h = len(Global_Range_BONDLENGTH_HO)\n",
        "\n",
        "mylistofbongangles = list([*Global_Range_BONDANGLE_OHO])\n",
        "\n",
        "mylistofbonganglesarray = np.array(mylistofbongangles)"
      ]
    },
    {
      "cell_type": "code",
      "execution_count": null,
      "metadata": {
        "id": "40JL0Gr_xM9P"
      },
      "outputs": [],
      "source": [
        "mylistofbongangles = list([*Global_Range_BONDANGLE_OHO])\n",
        "\n",
        "mylistofbonganglesarray = np.array(mylistofbongangles)\n",
        "\n"
      ]
    },
    {
      "cell_type": "code",
      "execution_count": null,
      "metadata": {
        "id": "bpDnpwIfqQm_"
      },
      "outputs": [],
      "source": [
        "[*Global_Range_BONDANGLE_OHO]"
      ]
    },
    {
      "cell_type": "code",
      "execution_count": null,
      "metadata": {
        "id": "hNbd9TduxPBM"
      },
      "outputs": [],
      "source": [
        "Global_Range_BONDLENGTH_HO"
      ]
    },
    {
      "cell_type": "code",
      "execution_count": null,
      "metadata": {
        "id": "zCGm4Mrlns_-"
      },
      "outputs": [],
      "source": [
        "h = len(Global_Range_BONDLENGTH_HO)\n",
        "h"
      ]
    },
    {
      "cell_type": "code",
      "execution_count": null,
      "metadata": {
        "id": "0e1BSAhqn2De"
      },
      "outputs": [],
      "source": [
        "Matrix = [[0.0 for x in range(w)] for y in range(h)]\n",
        "myarray = numpy.array(Matrix)"
      ]
    },
    {
      "cell_type": "code",
      "execution_count": null,
      "metadata": {
        "id": "V3A6wAVcpAjP"
      },
      "outputs": [],
      "source": [
        "myarray.shape"
      ]
    },
    {
      "cell_type": "code",
      "execution_count": null,
      "metadata": {
        "id": "_gox5lBSl3WW"
      },
      "outputs": [],
      "source": [
        "# Read data from a csv\n",
        "#dftesting = dftesting[ (dftesting[EnergyToPLOT] <= 1.1)   ]\n",
        "\n",
        "df2 = dftesting.copy(deep=True)\n",
        "\n",
        "df5 =  df2[ [  EnergyToPLOT,  'bond_Angle', 'bond_lenght'  ] ]"
      ]
    },
    {
      "cell_type": "code",
      "execution_count": null,
      "metadata": {
        "id": "UcDEAp75nibH"
      },
      "outputs": [],
      "source": [
        "df5 = df5.round({'bond_Angle': 3, 'bond_lenght': 3})"
      ]
    },
    {
      "cell_type": "code",
      "execution_count": null,
      "metadata": {
        "id": "kB5QyHiPp-xr"
      },
      "outputs": [],
      "source": [
        "df5"
      ]
    },
    {
      "cell_type": "code",
      "execution_count": null,
      "metadata": {
        "id": "moaJI9usfZ-y"
      },
      "outputs": [],
      "source": [
        "w  = len(Global_Range_BONDANGLE_OHO)\n",
        "h = len(Global_Range_BONDLENGTH_HO)\n",
        "\n",
        "mylistofbongangles = list([*Global_Range_BONDANGLE_OHO])\n",
        "mylistofbonganglesarray = np.array(mylistofbongangles)\n",
        "\n",
        "Matrix = [[0.0 for x in range(w)] for y in range(h)]\n",
        "myarray = numpy.array(Matrix)\n",
        "\n",
        "for i in range(0, len(ValidatedBasisSetSOURCE)):\n",
        "  if True:\n",
        "    for elementname in dictPeriodicTable.keys():\n",
        "      bondlenghtcounter = -1\n",
        "      for lengthHO in Global_Range_BONDLENGTH_HO:\n",
        "        bondlenghtcounter= bondlenghtcounter + 1\n",
        "        anglecounter = -1\n",
        "        for angle1 in Global_Range_BONDANGLE_OHO:\n",
        "          anglecounter= anglecounter + 1\n",
        "          GlobalBONDANGLE_OHO = angle1\n",
        "          GlobalBONDLENGTH =  lengthHO\n",
        "#          print('************************************##############################################*###############################  BONDLENGHT_HO = ' + str(lengthHO))\n",
        "#          print('************************************##############################################*###############################  BONDLENGHT_HO = ' + str(round(lengthHO, 3)))\n",
        "      #    print('************************************##############################################*###############################  BONDANGLE_OHO = ' + str(GlobalBONDANGLE_OHO))\n",
        "          temppppp = df5.loc[  (   df5['bond_Angle'] == round(angle1, 3)) & (df5['bond_lenght'] == round( lengthHO, 3))     ]\n",
        "#          temppppp = df5.loc[  (df5['bond_Angle'] == round(lengthHO, 3) )     ]\n",
        "          if (len( temppppp[EnergyToPLOT]) > 0):\n",
        "            print(  temppppp[EnergyToPLOT].values[0]  )\n",
        "            myarray[   bondlenghtcounter, anglecounter ] = temppppp[EnergyToPLOT].values[0]\n",
        "\n"
      ]
    },
    {
      "cell_type": "code",
      "execution_count": null,
      "metadata": {
        "id": "nGU0j2RsoZVh"
      },
      "outputs": [],
      "source": [
        " len(myarray)"
      ]
    },
    {
      "cell_type": "code",
      "execution_count": null,
      "metadata": {
        "id": "E8nMX2yRp-WL"
      },
      "outputs": [],
      "source": []
    },
    {
      "cell_type": "code",
      "execution_count": null,
      "metadata": {
        "id": "Xomjx8m1GdsZ"
      },
      "outputs": [],
      "source": [
        "import plotly.graph_objects as go\n",
        "\n",
        "contours=dict(\n",
        "            coloring ='heatmap',\n",
        "\n",
        "            showlabels = True, # show labels on contours\n",
        "            labelfont = dict( # label font properties\n",
        "                size = 18,\n",
        "                color = 'white',\n",
        "            )\n",
        "        )\n",
        "\n",
        "\n",
        "\n",
        "\n",
        "fig = go.Figure(data =\n",
        "    go.Contour(\n",
        "        z= np.clip(myarray, None, 15353)  ,   y=Global_Range_BONDLENGTH_HO, x=mylistofbonganglesarray ,      connectgaps=True, showscale=True, line_smoothing=0.65, colorscale='Rainbow', contours=contours\n",
        "    ))\n",
        "\n",
        "fig.update_layout( autosize=True,\n",
        "                  width=1000, height=1000,\n",
        "                  title='2D PES'     )\n",
        "\n",
        "fig.show()"
      ]
    },
    {
      "cell_type": "code",
      "execution_count": null,
      "metadata": {
        "id": "blyQ3U-e6vL2"
      },
      "outputs": [],
      "source": [
        "type(myarray)"
      ]
    },
    {
      "cell_type": "code",
      "execution_count": null,
      "metadata": {
        "id": "AIX8XJ1fG4fB"
      },
      "outputs": [],
      "source": [
        "# Read data from a csv\n",
        "\n",
        "contours=dict(\n",
        "            start=0,\n",
        "            end=8,\n",
        "            size=2,\n",
        "        )\n",
        "\n",
        "\n",
        "\n",
        "fig = go.Figure(data=[go.Surface(z= np.clip(myarray, None, -153)  , y=Global_Range_BONDLENGTH_HO, x=mylistofbonganglesarray  , colorscale='Rainbow' ) ]  )\n",
        "fig.update_traces(contours_z=dict(show=True, usecolormap=True,      highlight=True,\n",
        "                                  highlightcolor=\"limegreen\", project_z=True))\n",
        "fig.update_layout( autosize=True,\n",
        "                  scene_camera_eye=dict(x=1.87, y=0.88, z=-0.64),\n",
        "                  width=1000, height=1000,\n",
        "                  title='2D PES',\n",
        "                  scene=dict(\n",
        "        xaxis_title='Bond angle',\n",
        "        yaxis_title='Bond length',\n",
        "        zaxis_title='Energy',\n",
        "    ),\n",
        "                  margin=dict(l=65, r=50, b=65, t=90)\n",
        ")\n",
        "\n",
        "fig.show()"
      ]
    },
    {
      "cell_type": "code",
      "execution_count": null,
      "metadata": {
        "id": "g9RXuifmHxke"
      },
      "outputs": [],
      "source": [
        "contours=dict(\n",
        "            coloring ='heatmap',\n",
        "            showlabels = True, # show labels on contours\n",
        "            labelfont = dict( # label font properties\n",
        "                size = 12,\n",
        "                color = 'white',\n",
        "            )\n",
        "        )"
      ]
    },
    {
      "cell_type": "code",
      "execution_count": null,
      "metadata": {
        "id": "-fSldSDtIYnO"
      },
      "outputs": [],
      "source": [
        "#df['bond_lenght'] = df['bond_lenght'] *2"
      ]
    },
    {
      "cell_type": "code",
      "execution_count": null,
      "metadata": {
        "id": "Me5vzSyhJ0mq"
      },
      "outputs": [],
      "source": [
        " stoppp"
      ]
    },
    {
      "cell_type": "code",
      "execution_count": null,
      "metadata": {
        "id": "1Qze70j-jJHP"
      },
      "outputs": [],
      "source": [
        "fig = plt.figure()\n",
        "fig.set_figwidth(20)\n",
        "fig.set_figheight(20)\n",
        "params = {'legend.fontsize': 'x-large',\n",
        "         'axes.labelsize': 'x-large',\n",
        "         'axes.titlesize':'x-large',\n",
        "         'xtick.labelsize':'x-large',\n",
        "         'ytick.labelsize':'x-large'}\n",
        "plt.rcParams.update(params)\n",
        "ax = fig.gca(projection='3d')\n",
        "surf=ax.plot_trisurf(df['bond_lenght'], df['bond_Angle'], df['DFT-b3lyp'], cmap=plt.cm.jet,  linewidth=0.02)\n",
        "ax.view_init(30, 150 )\n",
        "\n",
        "fig.colorbar( surf, shrink=0.5, aspect=5)\n",
        "plt.show()"
      ]
    },
    {
      "cell_type": "code",
      "execution_count": null,
      "metadata": {
        "id": "nc-0uc2ZKIBp"
      },
      "outputs": [],
      "source": []
    },
    {
      "cell_type": "code",
      "execution_count": null,
      "metadata": {
        "id": "LDFgXtPuN74e"
      },
      "outputs": [],
      "source": [
        "\n",
        "\n",
        "\n",
        "\n",
        "def plotNand(choiceDFT , myfigsize=(12, 10), myfontsize=20):\n",
        "  plt.figure(0)\n",
        "\n",
        "\n",
        "  plt.figure(figsize=myfigsize)\n",
        "  plt.rcParams[\"font.family\"] = \"Liberation Serif\"\n",
        "\n",
        "\n",
        "\n",
        "  lengendlist =[]\n",
        "\n",
        "  if 'CCSDT' in choiceDFT:\n",
        "    plt.plot(df['bond_lenght'].to_numpy() , df['CCSDT'].to_numpy()  , 'o-')\n",
        "    lengendlist.append('CCSD(T)')\n",
        "\n",
        "\n",
        "\n",
        "  for afunctionals in functionalsList:\n",
        "    if afunctionals in choiceDFT:\n",
        "      plt.plot(df['bond_lenght'].to_numpy() , df['DFT-'+str(afunctionals)].to_numpy() , 'x-' )\n",
        "      lengendlist.append(str(afunctionals))\n",
        "\n",
        "  for aDMFunctionalvalue in dm21.Functional:\n",
        "    if str(aDMFunctionalvalue) in choiceDFT:\n",
        "      plt.plot(df['bond_lenght'].to_numpy() , df['NN-'+str(aDMFunctionalvalue)].to_numpy()  )\n",
        "      lengendlist.append(str(aDMFunctionalvalue))\n",
        "\n",
        "\n",
        "\n",
        "  plt.legend(lengendlist,  fontsize = myfontsize)\n",
        "  plt.rc('xtick',labelsize=myfontsize-1)\n",
        "  plt.rc('ytick',labelsize=myfontsize-2)\n",
        "  plt.ylabel('Energy in Hartree', fontsize = myfontsize)\n",
        "  plt.xlabel('Bond length in angstrom', fontsize = myfontsize)\n",
        "  plt.show()\n",
        "\n",
        "\n"
      ]
    },
    {
      "cell_type": "code",
      "execution_count": null,
      "metadata": {
        "id": "xU11p9zwVDXU"
      },
      "outputs": [],
      "source": [
        "\n",
        "\n",
        "\n",
        "\n",
        "def plotNand1(choiceDFT , myfigsize=(12, 10), myfontsize=20):\n",
        "  plt.figure(0)\n",
        "\n",
        "\n",
        "  plt.figure(figsize=myfigsize)\n",
        "  plt.rcParams[\"font.family\"] = \"Liberation Serif\"\n",
        "\n",
        "\n",
        "\n",
        "  lengendlist =[]\n",
        "\n",
        "  if 'CCSDT' in choiceDFT:\n",
        "    plt.plot(df['bond_lenght'].to_numpy() , df['CCSDT'].to_numpy()  )\n",
        "    lengendlist.append('CCSD(T)')\n",
        "\n",
        "\n",
        "\n",
        "  for afunctionals in functionalsList:\n",
        "    if afunctionals in choiceDFT:\n",
        "      plt.plot(df['bond_lenght'].to_numpy() , df['DFT-'+str(afunctionals)].to_numpy(), '--'\t )\n",
        "      lengendlist.append(str(afunctionals))\n",
        "\n",
        "  for aDMFunctionalvalue in dm21.Functional:\n",
        "    if str(aDMFunctionalvalue) in choiceDFT:\n",
        "      plt.plot(df['bond_lenght'].to_numpy() , df['NN-'+str(aDMFunctionalvalue)].to_numpy()  )\n",
        "      lengendlist.append(str(aDMFunctionalvalue))\n",
        "\n",
        "\n",
        "\n",
        "  plt.legend(lengendlist,  fontsize = myfontsize)\n",
        "  plt.rc('xtick',labelsize=myfontsize-1)\n",
        "  plt.rc('ytick',labelsize=myfontsize-2)\n",
        "  plt.ylabel('Energy in Hartree', fontsize = myfontsize)\n",
        "  plt.xlabel('Bond length in angstrom', fontsize = myfontsize)\n",
        "  plt.show()\n",
        "\n",
        "\n"
      ]
    },
    {
      "cell_type": "code",
      "execution_count": null,
      "metadata": {
        "id": "gIaGNrFrPRng"
      },
      "outputs": [],
      "source": [
        "\n",
        "choiceDFT = ['CCSDT', 'b3lyp' , 'Functional.DM21m']\n",
        "plotNand(choiceDFT , myfigsize=(12, 10), myfontsize=20)"
      ]
    },
    {
      "cell_type": "code",
      "execution_count": null,
      "metadata": {
        "id": "QbE628knSlFN"
      },
      "outputs": [],
      "source": [
        "df"
      ]
    },
    {
      "cell_type": "code",
      "execution_count": null,
      "metadata": {
        "id": "Hn6XyptJZrMe"
      },
      "outputs": [],
      "source": [
        "df2"
      ]
    },
    {
      "cell_type": "code",
      "execution_count": null,
      "metadata": {
        "id": "Sni-tsHfSpll"
      },
      "outputs": [],
      "source": [
        "from mpl_toolkits.mplot3d import Axes3D\n",
        "import matplotlib.pyplot as plt\n",
        "import pandas as pd\n",
        "import seaborn as sns\n"
      ]
    },
    {
      "cell_type": "code",
      "execution_count": null,
      "metadata": {
        "id": "9yBj3Nd-Su0e"
      },
      "outputs": [],
      "source": [
        "# Make the plot\n",
        "fig = plt.figure()\n",
        "ax = fig.gca(projection='3d')\n",
        "ax.plot_trisurf(df['bond_lenght'], df['bond_Angle'], df['NN-Functional.DM21m'], cmap=plt.cm.viridis, linewidth=0.2)\n",
        "plt.show()"
      ]
    },
    {
      "cell_type": "code",
      "execution_count": null,
      "metadata": {
        "id": "N4FCXGqVS9mZ"
      },
      "outputs": [],
      "source": [
        "fig = plt.figure()\n",
        "fig.set_figwidth(20)\n",
        "fig.set_figheight(20)\n",
        "params = {'legend.fontsize': 'x-large',\n",
        "         'axes.labelsize': 'x-large',\n",
        "         'axes.titlesize':'x-large',\n",
        "         'xtick.labelsize':'x-large',\n",
        "         'ytick.labelsize':'x-large'}\n",
        "plt.rcParams.update(params)\n",
        "ax = fig.gca(projection='3d')\n",
        "surf=ax.plot_trisurf(df['bond_lenght'], df['bond_Angle'], df['NN-Functional.DM21m'], cmap=plt.cm.viridis, linewidth=0.02)\n",
        "fig.colorbar( surf, shrink=0.5, aspect=5)\n",
        "plt.show()"
      ]
    },
    {
      "cell_type": "code",
      "execution_count": null,
      "metadata": {
        "id": "qsKwrOs5cmOL"
      },
      "outputs": [],
      "source": [
        "fig = plt.figure()\n",
        "fig.set_figwidth(20)\n",
        "fig.set_figheight(20)\n",
        "params = {'legend.fontsize': 'x-large',\n",
        "         'axes.labelsize': 'x-large',\n",
        "         'axes.titlesize':'x-large',\n",
        "         'xtick.labelsize':'x-large',\n",
        "         'ytick.labelsize':'x-large'}\n",
        "plt.rcParams.update(params)\n",
        "ax = fig.gca(projection='3d')\n",
        "surf=ax.plot_trisurf(df['bond_lenght'], df['bond_Angle'], df['DFT-b3lyp'], cmap=plt.cm.jet,  linewidth=0.02)\n",
        "ax.view_init(30, 150 )\n",
        "\n",
        "fig.colorbar( surf, shrink=0.5, aspect=5)\n",
        "plt.show()"
      ]
    },
    {
      "cell_type": "code",
      "execution_count": null,
      "metadata": {
        "id": "KnXHFlnodbLc"
      },
      "outputs": [],
      "source": [
        "fig = plt.figure()\n",
        "fig.set_figwidth(20)\n",
        "fig.set_figheight(20)\n",
        "params = {'legend.fontsize': 'x-large',\n",
        "         'axes.labelsize': 'x-large',\n",
        "         'axes.titlesize':'x-large',\n",
        "         'xtick.labelsize':'x-large',\n",
        "         'ytick.labelsize':'x-large'}\n",
        "plt.rcParams.update(params)\n",
        "ax = fig.gca(projection='3d')\n",
        "surf=ax.plot_trisurf(df['bond_lenght'], df['bond_Angle'], df['NN-Functional.DM21m'], cmap=plt.cm.viridis ,  linewidth=0.02)\n",
        "ax.view_init(30, 150 )\n",
        "\n",
        "fig.colorbar( surf, shrink=0.5, aspect=5)\n",
        "plt.show()"
      ]
    },
    {
      "cell_type": "code",
      "execution_count": null,
      "metadata": {
        "id": "RKmTPTSzdyEC"
      },
      "outputs": [],
      "source": [
        "fig = plt.figure()\n",
        "fig.set_figwidth(20)\n",
        "fig.set_figheight(20)\n",
        "params = {'legend.fontsize': 'x-large',\n",
        "         'axes.labelsize': 'x-large',\n",
        "         'axes.titlesize':'x-large',\n",
        "         'xtick.labelsize':'x-large',\n",
        "         'ytick.labelsize':'x-large'}\n",
        "plt.rcParams.update(params)\n",
        "ax = fig.gca(projection='3d')\n",
        "surf=ax.plot_trisurf(df['bond_lenght'], df['bond_Angle'], df['NN-Functional.DM21m'], cmap=plt.cm.viridis ,  linewidth=0.02)\n",
        "ax.view_init(130, -150 )\n",
        "\n",
        "fig.colorbar( surf, shrink=0.5, aspect=5)\n",
        "plt.show()"
      ]
    },
    {
      "cell_type": "code",
      "execution_count": null,
      "metadata": {
        "id": "yhVmNZe3eBnI"
      },
      "outputs": [],
      "source": [
        "fig = plt.figure()\n",
        "fig.set_figwidth(20)\n",
        "fig.set_figheight(20)\n",
        "params = {'legend.fontsize': 'x-large',\n",
        "         'axes.labelsize': 'x-large',\n",
        "         'axes.titlesize':'x-large',\n",
        "         'xtick.labelsize':'x-large',\n",
        "         'ytick.labelsize':'x-large'}\n",
        "plt.rcParams.update(params)\n",
        "ax = fig.gca(projection='3d')\n",
        "surf=ax.plot_trisurf(df['bond_lenght'], df['bond_Angle'], df['DFT-b3lyp'], cmap=plt.cm.viridis ,  linewidth=0.02)\n",
        "ax.view_init(20, 10 )\n",
        "\n",
        "fig.colorbar( surf, shrink=0.5, aspect=55)\n",
        "plt.show()"
      ]
    },
    {
      "cell_type": "code",
      "execution_count": null,
      "metadata": {
        "id": "S-NYEDSNevES"
      },
      "outputs": [],
      "source": [
        "fig = plt.figure()\n",
        "fig.set_figwidth(20)\n",
        "fig.set_figheight(20)\n",
        "params = {'legend.fontsize': 'x-large',\n",
        "         'axes.labelsize': 'x-large',\n",
        "         'axes.titlesize':'x-large',\n",
        "         'xtick.labelsize':'x-large',\n",
        "         'ytick.labelsize':'x-large'}\n",
        "plt.rcParams.update(params)\n",
        "ax = fig.gca(projection='3d')\n",
        "surf=ax.plot_trisurf(df['bond_lenght'], df['bond_Angle'], df['NN-Functional.DM21m'], cmap=plt.cm.viridis ,  linewidth=0.02)\n",
        "\n",
        "fig.colorbar( surf, shrink=0.5, aspect=55)\n",
        "plt.show()"
      ]
    },
    {
      "cell_type": "code",
      "execution_count": null,
      "metadata": {
        "id": "c4Ign2MSTVfZ"
      },
      "outputs": [],
      "source": [
        "# Rotate it\n",
        "fig = plt.figure()\n",
        "ax = fig.gca(projection='3d')\n",
        "surf=ax.plot_trisurf(df['bond_lenght'], df['bond_Angle'], df['NN-Functional.DM21m'], cmap=plt.cm.viridis, linewidth=0.2)\n",
        "ax.view_init(10, 45)\n",
        "plt.show()"
      ]
    },
    {
      "cell_type": "code",
      "execution_count": null,
      "metadata": {
        "id": "oP-PDv2Qax4n"
      },
      "outputs": [],
      "source": [
        "# Rotate it\n",
        "fig = plt.figure()\n",
        "ax = fig.gca(projection='3d')\n",
        "surf=ax.plot_trisurf(df['bond_lenght'], df['bond_Angle'], df['NN-Functional.DM21m'], cmap=plt.cm.viridis, linewidth=0.2)\n",
        "ax.view_init(10, 10)\n",
        "plt.show()"
      ]
    },
    {
      "cell_type": "code",
      "execution_count": null,
      "metadata": {
        "id": "U6Mctfiya8nk"
      },
      "outputs": [],
      "source": [
        "# Rotate it\n",
        "fig = plt.figure()\n",
        "ax = fig.gca(projection='3d')\n",
        "surf=ax.plot_trisurf(df['bond_lenght'], df['bond_Angle'], df['NN-Functional.DM21m'], cmap=plt.cm.viridis, linewidth=0.2)\n",
        "ax.view_init(10, 20)\n",
        "plt.show()"
      ]
    },
    {
      "cell_type": "code",
      "execution_count": null,
      "metadata": {
        "id": "sWTiP0ZQTqyQ"
      },
      "outputs": [],
      "source": [
        "# Other palette\n",
        "fig = plt.figure()\n",
        "ax = fig.gca(projection='3d')\n",
        "ax.plot_trisurf(df['bond_lenght'], df['bond_Angle'], df['NN-Functional.DM21m'],  cmap=plt.cm.jet, linewidth=0.01)\n",
        "plt.show()"
      ]
    },
    {
      "cell_type": "code",
      "execution_count": null,
      "metadata": {
        "id": "NVAYiVxxoBxj"
      },
      "outputs": [],
      "source": [
        "import plotly.express as px\n",
        "\n",
        "fig = px.scatter_3d(df, x=y, y=x, z=z,)\n",
        "fig.show()"
      ]
    },
    {
      "cell_type": "code",
      "execution_count": null,
      "metadata": {
        "id": "Nbmdj7JPx5t7"
      },
      "outputs": [],
      "source": [
        "df"
      ]
    },
    {
      "cell_type": "code",
      "execution_count": null,
      "metadata": {
        "id": "klF_pr7LfAA9"
      },
      "outputs": [],
      "source": [
        "import plotly.express as px\n",
        "\n",
        "import seaborn as sb\n",
        "import matplotlib.pyplot as plot\n",
        "import numpy as np\n",
        "df = df2.copy()\n",
        "x = df['bond_lenght'].to_numpy()\n",
        "y = df['bond_Angle'].to_numpy()\n",
        "z =  df['DFT-b3lyp'].to_numpy()\n",
        "\n",
        "fig = go.Figure(data=[go.Mesh3d(x=x, y=y, z=z, color='lightpink', opacity=0.50)])\n",
        "fig.show()\n",
        "\n",
        "fig = px.scatter_3d(df2, x=x, y=y, z=z,)\n",
        "fig.show()"
      ]
    },
    {
      "cell_type": "code",
      "execution_count": null,
      "metadata": {
        "id": "i9rbKZYafNBh"
      },
      "outputs": [],
      "source": []
    },
    {
      "cell_type": "code",
      "execution_count": null,
      "metadata": {
        "id": "7wrolLDXfNHt"
      },
      "outputs": [],
      "source": [
        "import plotly.express as px\n",
        "\n",
        "import seaborn as sb\n",
        "import matplotlib.pyplot as plot\n",
        "import numpy as np\n",
        "df = df2.copy()\n",
        "x = df['bond_lenght'].to_numpy()\n",
        "y = df['bond_Angle'].to_numpy()\n",
        "z =  df['NN-Functional.DM21m'].to_numpy()\n",
        "\n",
        "fig = go.Figure(data=[go.Mesh3d(x=x, y=y, z=z, color='green' )])\n",
        "fig.show()\n",
        "\n",
        "fig = px.scatter_3d(df2, x=x, y=y, z=z,)\n",
        "fig.show()"
      ]
    },
    {
      "cell_type": "code",
      "execution_count": null,
      "metadata": {
        "id": "b8HcrUkAe1kz"
      },
      "outputs": [],
      "source": [
        "import plotly.express as px\n",
        "\n",
        "fig = px.scatter_3d(df, x=x, y=y, z=z,)\n",
        "fig.show()"
      ]
    },
    {
      "cell_type": "code",
      "execution_count": null,
      "metadata": {
        "id": "Luw6cbU1ebCd"
      },
      "outputs": [],
      "source": [
        "df['NN-Functional.DM21m'].values"
      ]
    },
    {
      "cell_type": "code",
      "execution_count": null,
      "metadata": {
        "id": "PL0kd7QJeM7L"
      },
      "outputs": [],
      "source": [
        "\n",
        "import pandas as pd\n",
        "\n",
        "# Read data from a csv\n",
        "\n",
        "fig = go.Figure(data=[go.Surface(df['DFT-b3lyp'].values)])\n",
        "\n",
        "fig.update_layout(title='Mt Bruno Elevation', autosize=False,\n",
        "                  width=500, height=500,\n",
        "                  margin=dict(l=65, r=50, b=65, t=90))\n",
        "\n",
        "fig.show()"
      ]
    },
    {
      "cell_type": "code",
      "execution_count": null,
      "metadata": {
        "id": "Wuf5mzi5eutH"
      },
      "outputs": [],
      "source": [
        "import plotly.graph_objects as go\n",
        "\n",
        "import pandas as pd\n",
        "\n",
        "# Read data from a csv\n",
        "z_data =  df2[ [  'DFT-b3lyp',  'bond_Angle', 'bond_lenght'  ] ]\n",
        "\n",
        "\n",
        "\n",
        "fig = go.Figure(data=[go.Surface(z=z_data, connectgaps=True )])\n",
        "\n",
        "\n",
        "fig.update_layout(title='Mt Bruno Elevation')\n",
        "\n",
        "fig.show()"
      ]
    },
    {
      "cell_type": "code",
      "execution_count": null,
      "metadata": {
        "id": "8HUpXm09ooaP"
      },
      "outputs": [],
      "source": [
        "z_data"
      ]
    },
    {
      "cell_type": "code",
      "execution_count": null,
      "metadata": {
        "id": "iVWREBb1kyj0"
      },
      "outputs": [],
      "source": [
        "from mpl_toolkits import mplot3d\n",
        "import numpy as np\n",
        "import matplotlib.pyplot as plt\n",
        "\n",
        "\n",
        "df = df2.copy()\n",
        "x = df['bond_lenght'].to_numpy()\n",
        "y = df['bond_Angle'].to_numpy()\n",
        "z =  df['DFT-b3lyp'].to_numpy()\n",
        "\n",
        "\n",
        "# Creating figure\n",
        "fig = plt.figure(figsize =(14, 9))\n",
        "ax = plt.axes(projection ='3d')\n",
        "\n",
        "# Creating plot\n",
        "ax.plot_surface(x, y, z)\n",
        "\n",
        "# show plot\n",
        "plt.show()"
      ]
    },
    {
      "cell_type": "code",
      "execution_count": null,
      "metadata": {
        "id": "aReHR1B7pGDD"
      },
      "outputs": [],
      "source": [
        "df3"
      ]
    },
    {
      "cell_type": "code",
      "execution_count": null,
      "metadata": {
        "id": "WaAFtvMdpWbu"
      },
      "outputs": [],
      "source": [
        "# Import libraries\n",
        "from mpl_toolkits import mplot3d\n",
        "import numpy as np\n",
        "import matplotlib.pyplot as plt\n",
        "\n",
        "df = df2.copy()\n",
        "x11 = df['bond_lenght'].to_numpy()\n",
        "y11 = df['bond_Angle'].to_numpy()\n",
        "z11 =  df['NN-Functional.DM21m'].to_numpy()\n",
        "\n",
        "\n",
        "# Creating dataset\n",
        "x = np.outer(x11, np.ones(3))\n",
        "y = np.outer(y11, np.ones(3))\n",
        "z = ( (x **2)  )\n",
        "\n",
        "# Creating figure\n",
        "fig = plt.figure(figsize =(14, 9))\n",
        "ax = plt.axes(projection ='3d')\n",
        "\n",
        "# Creating plot\n",
        "ax.plot_surface(x, y, z)\n",
        "\n",
        "\n",
        "\n",
        "# show plot\n",
        "plt.show()"
      ]
    },
    {
      "cell_type": "code",
      "execution_count": null,
      "metadata": {
        "id": "5ww3Q2Mepx9R"
      },
      "outputs": [],
      "source": [
        "x"
      ]
    },
    {
      "cell_type": "code",
      "execution_count": null,
      "metadata": {
        "id": "rCApr8rylFo5"
      },
      "outputs": [],
      "source": [
        "# Import libraries\n",
        "from mpl_toolkits import mplot3d\n",
        "import numpy as np\n",
        "import matplotlib.pyplot as plt\n",
        "\n",
        "\n",
        "# Creating dataset\n",
        "x = np.outer(np.linspace(-3, 3, 3), np.ones(3))\n",
        "y = x.copy().T # transpose\n",
        "z = ( (x **2)  )\n",
        "\n",
        "# Creating figure\n",
        "fig = plt.figure(figsize =(14, 9))\n",
        "ax = plt.axes(projection ='3d')\n",
        "\n",
        "# Creating plot\n",
        "ax.plot_surface(x, y, z)\n",
        "\n",
        "\n",
        "\n",
        "# show plot\n",
        "plt.show()"
      ]
    },
    {
      "cell_type": "code",
      "execution_count": null,
      "metadata": {
        "id": "p7MLr6Z2mXJe"
      },
      "outputs": [],
      "source": [
        "x"
      ]
    },
    {
      "cell_type": "code",
      "execution_count": null,
      "metadata": {
        "id": "KADkCci-mX4k"
      },
      "outputs": [],
      "source": [
        "y"
      ]
    },
    {
      "cell_type": "code",
      "execution_count": null,
      "metadata": {
        "id": "FkQICdOFm0bs"
      },
      "outputs": [],
      "source": [
        "z"
      ]
    },
    {
      "cell_type": "code",
      "execution_count": null,
      "metadata": {
        "id": "t4hoVoeflJFh"
      },
      "outputs": [],
      "source": [
        "np.outer( np.linspace(-3, 3, 3), np.ones(3))"
      ]
    },
    {
      "cell_type": "code",
      "execution_count": null,
      "metadata": {
        "id": "mFe7azyGl4_O"
      },
      "outputs": [],
      "source": [
        "np.linspace(-3, 3, 3)"
      ]
    },
    {
      "cell_type": "code",
      "execution_count": null,
      "metadata": {
        "id": "vSohMES1jgJr"
      },
      "outputs": [],
      "source": [
        "z_data"
      ]
    },
    {
      "cell_type": "code",
      "execution_count": null,
      "metadata": {
        "id": "GYVzWPRNfjhC"
      },
      "outputs": [],
      "source": [
        "df3"
      ]
    },
    {
      "cell_type": "code",
      "execution_count": null,
      "metadata": {
        "id": "PSLi76lZfJ3p"
      },
      "outputs": [],
      "source": [
        "z_data2 =  df[['bond_lenght' ,  'bond_Angle', 'NN-Functional.DM21m'] ]\n"
      ]
    },
    {
      "cell_type": "code",
      "execution_count": null,
      "metadata": {
        "id": "NJlWfcdne1CH"
      },
      "outputs": [],
      "source": [
        "z_data2"
      ]
    },
    {
      "cell_type": "code",
      "execution_count": null,
      "metadata": {
        "id": "plzQJBhZVohE"
      },
      "outputs": [],
      "source": [
        "Y1"
      ]
    },
    {
      "cell_type": "code",
      "execution_count": null,
      "metadata": {
        "id": "zHFnNGBHVfqR"
      },
      "outputs": [],
      "source": [
        "import seaborn as sb\n",
        "import matplotlib.pyplot as plot\n",
        "import numpy as np\n",
        "\n",
        "def FUNC_Z(x, y):\n",
        "    return 50 - (x**2 + y**2)\n",
        "\n",
        "\n",
        "sb.set_style('whitegrid')\n",
        "N = 50\n",
        "\n",
        "X_VAL = np.linspace(-5, 5, N)\n",
        "Y_VAL = np.linspace(-5, 5, N)\n",
        "\n",
        "X1, Y1 = np.meshgrid(X_VAL, Y_VAL)\n",
        "\n",
        "Z1 = FUNC_Z(X1, Y1)\n",
        "\n",
        "axes = plot.axes(projection='3d')\n",
        "axes.plot_surface(X1, Y1, Z1)\n",
        "plot.show()"
      ]
    },
    {
      "cell_type": "code",
      "execution_count": null,
      "metadata": {
        "id": "6K71MGmT3QJq"
      },
      "outputs": [],
      "source": [
        "x = np.linspace(0, 40, 4)\n",
        "y = np.linspace(0, 50, 5)[:, np.newaxis]\n",
        "\n",
        "a = np.arange(2)\n",
        "b = np.arange(3)[:, np.newaxis]\n",
        "\n",
        "z = np.sin(x) ** 10 + np.cos(10 + y * x) * np.cos(x)\n",
        "c = a + b + 100"
      ]
    },
    {
      "cell_type": "code",
      "execution_count": null,
      "metadata": {
        "id": "rkz09zTOzsO1"
      },
      "outputs": [],
      "source": [
        "a"
      ]
    },
    {
      "cell_type": "code",
      "execution_count": null,
      "metadata": {
        "id": "0A_g8YvXNnN-"
      },
      "outputs": [],
      "source": [
        "\n",
        "a = [[0,0,0],[1, 1 , 1],[2,2,2]]\n",
        "b = np.arange(3)[:, np.newaxis]\n",
        "\n",
        "z = np.sin(x) ** 10 + np.cos(10 + y * x) * np.cos(x)\n",
        "c = a + b"
      ]
    },
    {
      "cell_type": "code",
      "execution_count": null,
      "metadata": {
        "id": "b4GOj5O13bnn"
      },
      "outputs": [],
      "source": [
        "a"
      ]
    },
    {
      "cell_type": "code",
      "execution_count": null,
      "metadata": {
        "id": "D7k4VvmQ3cWN"
      },
      "outputs": [],
      "source": [
        "b"
      ]
    },
    {
      "cell_type": "code",
      "execution_count": null,
      "metadata": {
        "id": "K4LKY5f1zzNg"
      },
      "outputs": [],
      "source": [
        "c"
      ]
    },
    {
      "cell_type": "code",
      "execution_count": null,
      "metadata": {
        "id": "Z9dCLFTQ8P8P"
      },
      "outputs": [],
      "source": [
        "b.reshape(3)"
      ]
    },
    {
      "cell_type": "code",
      "execution_count": null,
      "metadata": {
        "id": "3DWGku1gN6TU"
      },
      "outputs": [],
      "source": [
        "a"
      ]
    },
    {
      "cell_type": "code",
      "execution_count": null,
      "metadata": {
        "id": "b_T9OT9r3k31"
      },
      "outputs": [],
      "source": [
        "c"
      ]
    },
    {
      "cell_type": "code",
      "execution_count": null,
      "metadata": {
        "id": "zABUmLsY3TEP"
      },
      "outputs": [],
      "source": [
        "plt.imshow(c, origin='lower' ,\n",
        "           cmap='viridis')\n",
        "plt.colorbar();"
      ]
    },
    {
      "cell_type": "code",
      "execution_count": null,
      "metadata": {
        "id": "JvJIBppWQXz-"
      },
      "outputs": [],
      "source": [
        "for i in range(0, len(ValidatedBasisSetSOURCE)):\n",
        "  if True:\n",
        "    for elementname in dictPeriodicTable.keys():\n",
        "      for lengthHO in Global_Range_BONDLENGTH_HO:\n",
        "        for angle1 in Global_Range_BONDANGLE_OHO:\n",
        "          GlobalBONDANGLE_OHO = angle1\n",
        "          GlobalBONDLENGTH =  lengthHO\n",
        "          print('************************************##############################################*###############################  BONDLENGHT_HO = ' + str(GlobalBONDLENGTH))\n",
        "          print('************************************##############################################*###############################  BONDANGLE_OHO = ' + str(GlobalBONDANGLE_OHO))\n",
        "          bond_lengths += [GlobalBONDANGLE_OHO]"
      ]
    },
    {
      "cell_type": "code",
      "execution_count": null,
      "metadata": {
        "id": "m5vdFYseQb9b"
      },
      "outputs": [],
      "source": [
        "for i in range(0, len(ValidatedBasisSetSOURCE)):\n",
        "  if True:\n",
        "    for elementname in dictPeriodicTable.keys():\n",
        "      for lengthHO in Global_Range_BONDLENGTH_HO:\n",
        "          GlobalBONDLENGTH =  lengthHO\n",
        "          print('************************************##############################################*###############################  BONDLENGHT_HO = ' + str(GlobalBONDLENGTH))\n",
        "          bond_lengths += [GlobalBONDANGLE_OHO]"
      ]
    },
    {
      "cell_type": "code",
      "execution_count": null,
      "metadata": {
        "id": "KRvNkx0QQwN0"
      },
      "outputs": [],
      "source": [
        "for i in range(0, len(ValidatedBasisSetSOURCE)):\n",
        "  if True:\n",
        "    for elementname in dictPeriodicTable.keys():\n",
        "        for angle1 in Global_Range_BONDANGLE_OHO:\n",
        "          GlobalBONDANGLE_OHO = angle1\n",
        "          print('************************************##############################################*###############################  BONDANGLE_OHO = ' + str(GlobalBONDANGLE_OHO))\n"
      ]
    },
    {
      "cell_type": "code",
      "execution_count": null,
      "metadata": {
        "id": "LUjCH7OCOZtL"
      },
      "outputs": [],
      "source": [
        "df5"
      ]
    },
    {
      "cell_type": "code",
      "execution_count": null,
      "metadata": {
        "id": "wkjvZqL6aVDB"
      },
      "outputs": [],
      "source": [
        "temp44 = df5.loc[  (df5['bond_Angle'] == 1.2 )     ]\n",
        "\n",
        "temp44['NN-Functional.DM21m'][0]"
      ]
    },
    {
      "cell_type": "code",
      "execution_count": null,
      "metadata": {
        "id": "RfZ42IYia1nW"
      },
      "outputs": [],
      "source": [
        "temp44 = df5.loc[    (df5['bond_Angle'] == 1.2 ) &  (df5['bond_lenght'] == 81 )    ]\n",
        "temp44"
      ]
    },
    {
      "cell_type": "code",
      "execution_count": null,
      "metadata": {
        "id": "u4OnPCADbABW"
      },
      "outputs": [],
      "source": [
        "len(temp44['NN-Functional.DM21m'] )"
      ]
    },
    {
      "cell_type": "code",
      "execution_count": null,
      "metadata": {
        "id": "OzU4KarocUsN"
      },
      "outputs": [],
      "source": [
        "temp44['NN-Functional.DM21m'].values[0]"
      ]
    },
    {
      "cell_type": "code",
      "execution_count": null,
      "metadata": {
        "id": "1UjaBi5IPNO2"
      },
      "outputs": [],
      "source": [
        "# Read data from a csv\n",
        "df2 = df.copy(deep=True)\n",
        "df5 =  df2[ [  'DFT-b3lyp',  'bond_Angle', 'bond_lenght'  ] ]"
      ]
    },
    {
      "cell_type": "code",
      "execution_count": null,
      "metadata": {
        "id": "Gv9uezT4Z4O6"
      },
      "outputs": [],
      "source": [
        "for i in range(0, len(ValidatedBasisSetSOURCE)):\n",
        "  if True:\n",
        "    for elementname in dictPeriodicTable.keys():\n",
        "      for lengthHO in Global_Range_BONDLENGTH_HO:\n",
        "        for angle1 in Global_Range_BONDANGLE_OHO:\n",
        "          GlobalBONDANGLE_OHO = angle1\n",
        "          GlobalBONDLENGTH =  lengthHO\n",
        "#          print('************************************##############################################*###############################  BONDLENGHT_HO = ' + str(lengthHO))\n",
        "#          print('************************************##############################################*###############################  BONDLENGHT_HO = ' + str(round(lengthHO, 3)))\n",
        "      #    print('************************************##############################################*###############################  BONDANGLE_OHO = ' + str(GlobalBONDANGLE_OHO))\n",
        "          temppppp = df5.loc[  (df5['bond_Angle'] == round(lengthHO, 3)) & (df5['bond_lenght'] == round(angle1, 3))     ]\n",
        "#          temppppp = df5.loc[  (df5['bond_Angle'] == round(lengthHO, 3) )     ]\n",
        "          if (len( temppppp['NN-Functional.DM21m']) > 0):\n",
        "            print(  temppppp['NN-Functional.DM21m'].values[0]  )\n",
        "\n"
      ]
    },
    {
      "cell_type": "code",
      "execution_count": null,
      "metadata": {
        "id": "wjItDEUcHpnm"
      },
      "outputs": [],
      "source": [
        "fig = go.Figure(data =\n",
        "    go.Contour(\n",
        "        z=myarray, connectgaps=True, showscale=True, line_smoothing=0.85, contours=contours\n",
        "    ))\n",
        "fig.show()"
      ]
    },
    {
      "cell_type": "code",
      "execution_count": null,
      "metadata": {
        "id": "v8EiNCCuyKha"
      },
      "outputs": [],
      "source": [
        "yarray = np.array([*Global_Range_BONDANGLE_OHO])\n",
        "yarray"
      ]
    },
    {
      "cell_type": "code",
      "execution_count": null,
      "metadata": {
        "id": "f4IkuIMcyud_"
      },
      "outputs": [],
      "source": [
        "Global_Range_BONDLENGTH_HO"
      ]
    },
    {
      "cell_type": "code",
      "execution_count": null,
      "metadata": {
        "id": "M7ijzZLH1OBK"
      },
      "outputs": [],
      "source": []
    },
    {
      "cell_type": "code",
      "execution_count": null,
      "metadata": {
        "id": "DxtLY8LPxBTn"
      },
      "outputs": [],
      "source": [
        "from mpl_toolkits import mplot3d\n",
        "\n",
        "\n",
        "\n",
        "fig = plt.figure()\n",
        "ax = plt.axes(projection='3d')\n",
        "ax.contour3D(  yarray.reshape(39) , Global_Range_BONDLENGTH_HO,    myarray, 100, origin='lower', cmap='viridis')\n",
        "ax.set_xlabel('x')\n",
        "ax.set_ylabel('y')\n",
        "ax.set_zlabel('z');\n",
        "ax.view_init(60, 35)"
      ]
    },
    {
      "cell_type": "code",
      "execution_count": null,
      "metadata": {
        "id": "W_ihfPk_0N25"
      },
      "outputs": [],
      "source": [
        "a"
      ]
    },
    {
      "cell_type": "code",
      "execution_count": null,
      "metadata": {
        "id": "UPDUUCNSy6Mh"
      },
      "outputs": [],
      "source": [
        "b"
      ]
    },
    {
      "cell_type": "code",
      "execution_count": null,
      "metadata": {
        "id": "XlTDtQ75y7vG"
      },
      "outputs": [],
      "source": [
        "b.reshape(3)"
      ]
    },
    {
      "cell_type": "code",
      "execution_count": null,
      "metadata": {
        "id": "kajs0jsN0ObZ"
      },
      "outputs": [],
      "source": [
        "c"
      ]
    },
    {
      "cell_type": "code",
      "execution_count": null,
      "metadata": {
        "id": "XKWBAHcW0Vqc"
      },
      "outputs": [],
      "source": [
        "c.shape"
      ]
    },
    {
      "cell_type": "code",
      "execution_count": null,
      "metadata": {
        "id": "A7TnGUXyA8Yf"
      },
      "outputs": [],
      "source": [
        "from mpl_toolkits import mplot3d\n",
        "\n",
        "\n",
        "\n",
        "fig = plt.figure()\n",
        "ax = plt.axes(projection='3d')\n",
        "ax.contour3D(a, b.reshape(3), c, 100, origin='lower', cmap='viridis')\n",
        "ax.set_xlabel('x')\n",
        "ax.set_ylabel('y')\n",
        "ax.set_zlabel('z');\n",
        "ax.view_init(60, 35)\n"
      ]
    },
    {
      "cell_type": "code",
      "execution_count": null,
      "metadata": {
        "id": "KIvqLNYwJnoE"
      },
      "outputs": [],
      "source": [
        "import plotly.graph_objects as go\n",
        "\n",
        "fig = go.Figure(data =\n",
        "    go.Mesh3d(\n",
        "        z=myarray\n",
        "    ))\n",
        "fig.show()"
      ]
    },
    {
      "cell_type": "code",
      "execution_count": null,
      "metadata": {
        "id": "5rP8MFtiJ096"
      },
      "outputs": [],
      "source": [
        "import plotly.graph_objects as go\n",
        "import numpy as np\n",
        "np.random.seed(1)\n",
        "\n",
        "N = 70\n",
        "\n",
        "fig = go.Figure(data=[go.Mesh3d(x=(70*np.random.randn(N)),\n",
        "                   y=(55*np.random.randn(N)),\n",
        "                   z=(40*np.random.randn(N)),\n",
        "                   opacity=0.5,\n",
        "                   color='rgba(244,22,100,0.6)'\n",
        "                  )])\n",
        "\n",
        "fig.update_layout(\n",
        "    scene = dict(\n",
        "        xaxis = dict(nticks=4, range=[-100,100],),\n",
        "                     yaxis = dict(nticks=4, range=[-50,100],),\n",
        "                     zaxis = dict(nticks=4, range=[-100,100],),),\n",
        "    width=700,\n",
        "    margin=dict(r=20, l=10, b=10, t=10))\n",
        "\n",
        "fig.show()"
      ]
    },
    {
      "cell_type": "code",
      "execution_count": null,
      "metadata": {
        "id": "W8_Blx9nKOqW"
      },
      "outputs": [],
      "source": [
        "z_data"
      ]
    },
    {
      "cell_type": "code",
      "execution_count": null,
      "metadata": {
        "id": "SpDi7PZfvZNq"
      },
      "outputs": [],
      "source": [
        "myarray.shape"
      ]
    },
    {
      "cell_type": "code",
      "execution_count": null,
      "metadata": {
        "id": "LYMQmeLKvIHe"
      },
      "outputs": [],
      "source": [
        "for i in range(21):\n",
        "  for j in range(51):\n",
        "    if (myarray[i, j] != 0):\n",
        "      print(myarray[i, j] )\n"
      ]
    },
    {
      "cell_type": "code",
      "execution_count": null,
      "metadata": {
        "id": "2ZpdNSG2wUYd"
      },
      "outputs": [],
      "source": [
        "for i in range(21):\n",
        "  for j in range(51):\n",
        "    if (myarray[i, j] == 0):\n",
        "      myarray[i, j] = -75.5"
      ]
    },
    {
      "cell_type": "code",
      "execution_count": null,
      "metadata": {
        "id": "dN323ZKM4Er4"
      },
      "outputs": [],
      "source": [
        "fig = go.Figure(data =\n",
        "    go.Contour(\n",
        "        z=myarray, connectgaps=True, showscale=True, line_smoothing=0.85, contours=contours\n",
        "    ))\n",
        "fig.show()"
      ]
    },
    {
      "cell_type": "markdown",
      "metadata": {
        "id": "bqswxq7ICJlS"
      },
      "source": [
        "https://jakevdp.github.io/PythonDataScienceHandbook/04.12-three-dimensional-plotting.html\n",
        "\n",
        "https://plotly.com/python/contour-plots/"
      ]
    },
    {
      "cell_type": "code",
      "execution_count": null,
      "metadata": {
        "id": "OyTPr8vr9DiZ"
      },
      "outputs": [],
      "source": [
        "plt.contourf(a, b.reshape(3), c, 10, origin='lower', cmap='viridis');\n",
        "plt.colorbar();\n"
      ]
    },
    {
      "cell_type": "code",
      "execution_count": null,
      "metadata": {
        "id": "fy94GOqZ9690"
      },
      "outputs": [],
      "source": [
        "contours = plt.contour(a,  b.reshape(3), c, 3, colors='black')\n",
        "plt.clabel(contours, inline=True, fontsize=8)\n",
        "plt.contourf(a, b.reshape(3), c, 10, origin='lower', cmap='viridis');\n",
        "plt.colorbar();"
      ]
    },
    {
      "cell_type": "code",
      "execution_count": null,
      "metadata": {
        "id": "4-0tyBkW-IPn"
      },
      "outputs": [],
      "source": [
        "contours = plt.contour(a,  b.reshape(3), c, 1, colors='black')\n",
        "plt.clabel(contours, inline=True, fontsize=12)\n",
        "contours"
      ]
    },
    {
      "cell_type": "code",
      "execution_count": null,
      "metadata": {
        "id": "aja85oMu-YOG"
      },
      "outputs": [],
      "source": []
    },
    {
      "cell_type": "code",
      "execution_count": null,
      "metadata": {
        "id": "PeWgOZO5uWgV"
      },
      "outputs": [],
      "source": [
        "Z"
      ]
    },
    {
      "cell_type": "code",
      "execution_count": null,
      "metadata": {
        "id": "OPosBJIVKKKS"
      },
      "outputs": [],
      "source": [
        "import plotly.graph_objects as go\n",
        "\n",
        "import pandas as pd\n",
        "\n",
        "# Read data from a csv\n",
        "\n",
        "fig = go.Figure(data=[go.Surface(z=myarray)])\n",
        "\n",
        "\n",
        "fig.show()"
      ]
    },
    {
      "cell_type": "code",
      "execution_count": null,
      "metadata": {
        "id": "rWqOu3Ak4Ima"
      },
      "outputs": [],
      "source": [
        "import plotly.graph_objects as go\n",
        "\n",
        "import pandas as pd\n",
        "\n",
        "\n",
        "fig = go.Figure(data=[go.Surface(z=myarray)])\n",
        "\n",
        "\n",
        "fig.show()"
      ]
    },
    {
      "cell_type": "code",
      "execution_count": null,
      "metadata": {
        "id": "kM9lUgHVKn0O"
      },
      "outputs": [],
      "source": []
    },
    {
      "cell_type": "code",
      "execution_count": null,
      "metadata": {
        "id": "-aEs9Zr5tnzT"
      },
      "outputs": [],
      "source": [
        "from mpl_toolkits import mplot3d\n",
        "import numpy as np\n",
        "import matplotlib.pyplot as plt\n",
        "def f(x, y):\n",
        "   return np.sin(np.sqrt(x ** 2 + y ** 2))\n",
        "\n",
        "x = np.linspace(-6, 6, 5)\n",
        "y = np.linspace(-6, 6, 5)\n",
        "\n",
        "X, Y = np.meshgrid(x, y)\n",
        "Z = f(X, Y)\n",
        "\n",
        "fig = plt.figure()\n",
        "ax = plt.axes(projection='3d')\n",
        "ax.contour3D(X, Y, Z, 50, cmap='binary')\n",
        "ax.set_xlabel('x')\n",
        "ax.set_ylabel('y')\n",
        "ax.set_zlabel('z')\n",
        "ax.set_title('3D contour')\n",
        "plt.show()"
      ]
    },
    {
      "cell_type": "code",
      "execution_count": null,
      "metadata": {
        "id": "3YiwcRUjKvhx"
      },
      "outputs": [],
      "source": [
        "z_data.values.shape"
      ]
    },
    {
      "cell_type": "code",
      "execution_count": null,
      "metadata": {
        "id": "dIvb9wPBKo6i"
      },
      "outputs": [],
      "source": [
        "import plotly.graph_objects as go\n",
        "\n",
        "import pandas as pd\n",
        "\n",
        "\n",
        "\n",
        "#fig = go.Figure(data=[go.Surface(z=z_data.values)])\n",
        "\n",
        "acontours = {\n",
        "        \"x\": {\"show\": True, \"start\": 1.5, \"end\": 2, \"size\": 0.04, \"color\":\"white\"},\n",
        "        \"z\": {\"show\": True, \"start\": 0.5, \"end\": 0.8, \"size\": 0.05}\n",
        "    }\n",
        "\n",
        "fig = go.Figure(data=[go.Surface(z=myarray, contours = acontours)])\n",
        "\n",
        "\n",
        "fig.update_traces(contours_z=dict(show=True, usecolormap=True,\n",
        "                                  highlightcolor=\"limegreen\", project_z=True))\n",
        "fig.update_layout(title='Mt Bruno Elevation', autosize=False,\n",
        "                  scene_camera_eye=dict(x=1.87, y=0.88, z=-0.64),\n",
        "                  width=500, height=500,\n",
        "                  margin=dict(l=65, r=50, b=65, t=90)\n",
        ")\n",
        "\n",
        "fig.show()"
      ]
    },
    {
      "cell_type": "code",
      "execution_count": null,
      "metadata": {
        "id": "bCKds1OKtedC"
      },
      "outputs": [],
      "source": [
        "# Read data from a csv\n",
        "\n",
        "contours=dict(\n",
        "            start=0,\n",
        "            end=8,\n",
        "            size=2,\n",
        "        )\n",
        "\n",
        "fig = go.Figure(data=[go.Surface(z=myarray  ) ]  )\n",
        "fig.update_traces(contours_z=dict(show=True, usecolormap=True,      highlight=True,\n",
        "                                  highlightcolor=\"limegreen\", project_z=True))\n",
        "fig.update_layout(title='Mt Bruno Elevation', autosize=True,\n",
        "                  scene_camera_eye=dict(x=1.87, y=0.88, z=-0.64),\n",
        "                  width=800, height=800,\n",
        "                  margin=dict(l=65, r=50, b=65, t=90)\n",
        ")\n",
        "\n",
        "fig.show()"
      ]
    },
    {
      "cell_type": "code",
      "execution_count": null,
      "metadata": {
        "id": "HN5B2B_VLtbn"
      },
      "outputs": [],
      "source": [
        "import plotly.graph_objects as go\n",
        "\n",
        "fig = go.Figure(go.Surface(\n",
        "    contours = {\n",
        "        \"x\": {\"show\": True, \"start\": 1.5, \"end\": 2, \"size\": 0.04, \"color\":\"white\"},\n",
        "        \"z\": {\"show\": True, \"start\": 0.5, \"end\": 0.8, \"size\": 0.05}\n",
        "    },\n",
        "    x = [1,2,3,4,5],\n",
        "    y = [1,2,3,4],\n",
        "    z = [\n",
        "        [0, 1, 0, 1, 0],\n",
        "        [1, 0, 1, 0, 1],\n",
        "        [0, 1, 0, 1, 0],\n",
        "        [1, 0, 1, 0, 1]\n",
        "    ]))\n",
        "fig.update_layout(\n",
        "        scene = {\n",
        "            \"xaxis\": {\"nticks\": 20},\n",
        "            \"zaxis\": {\"nticks\": 4},\n",
        "            'camera_eye': {\"x\": 0, \"y\": -1, \"z\": 0.5},\n",
        "            \"aspectratio\": {\"x\": 1, \"y\": 1, \"z\": 0.2}\n",
        "        })\n",
        "fig.show()"
      ]
    },
    {
      "cell_type": "code",
      "execution_count": null,
      "metadata": {
        "id": "R0WryjRi0_-C"
      },
      "outputs": [],
      "source": [
        "import plotly.graph_objects as go\n",
        "\n",
        "fig = go.Figure(go.Surface(\n",
        "    contours = {\n",
        "        \"x\": {\"show\": True, \"start\": 1.5, \"end\": 2, \"size\": 0.04, \"color\":\"white\"},\n",
        "        \"z\": {\"show\": True, \"start\": 0.5, \"end\": 0.8, \"size\": 0.05}\n",
        "    },\n",
        "    x = [1,2,3,4,5],\n",
        "    y = [1,2,3,4],\n",
        "    z = [\n",
        "        [0, 1, 0, 1, 0],\n",
        "        [1, 0, 1, 0, 1],\n",
        "        [0, 1, 0, 1, 0],\n",
        "        [1, 0, 1, 0, 1]\n",
        "    ]))\n",
        "fig.update_layout(\n",
        "        scene = {\n",
        "            \"xaxis\": {\"nticks\": 20},\n",
        "            \"zaxis\": {\"nticks\": 4},\n",
        "            'camera_eye': {\"x\": 0, \"y\": -1, \"z\": 0.5},\n",
        "            \"aspectratio\": {\"x\": 1, \"y\": 1, \"z\": 0.2}\n",
        "        })\n",
        "fig.show()"
      ]
    },
    {
      "cell_type": "code",
      "execution_count": null,
      "metadata": {
        "id": "GmDPTs-4Ly4H"
      },
      "outputs": [],
      "source": [
        "import plotly.graph_objects as go\n",
        "\n",
        "fig = go.Figure(go.Surface(\n",
        "    contours = {\n",
        "        \"x\": {\"show\": True, \"start\": 1.5, \"end\": 2, \"size\": 0.04, \"color\":\"white\"},\n",
        "        \"z\": {\"show\": True, \"start\": 0.5, \"end\": 0.8, \"size\": 0.05}\n",
        "    },\n",
        "    x = a+5,\n",
        "    y = b.reshape(3),\n",
        "    z = c))\n",
        "fig.update_layout(\n",
        "        scene = {\n",
        "            \"xaxis\": {\"nticks\": 20},\n",
        "            \"zaxis\": {\"nticks\": 4},\n",
        "            'camera_eye': {\"x\": 0, \"y\": -1, \"z\": 0.5},\n",
        "            \"aspectratio\": {\"x\": 1, \"y\": 1, \"z\": 0.2}\n",
        "        })\n",
        "fig.show()"
      ]
    },
    {
      "cell_type": "code",
      "execution_count": null,
      "metadata": {
        "id": "eGFn65N6MNl4"
      },
      "outputs": [],
      "source": [
        "import plotly.graph_objects as go\n",
        "\n",
        "d = a+b\n",
        "\n",
        "fig = go.Figure(go.Surface(\n",
        "    contours = {\n",
        "        \"x\": {\"show\": True, \"start\": 1.5, \"end\": 2, \"size\": 0.04, \"color\":\"white\"},\n",
        "        \"z\": {\"show\": True, \"start\": 0.5, \"end\": 0.8, \"size\": 0.05}\n",
        "    },\n",
        "    x = a,\n",
        "    y = b.reshape(3),\n",
        "    z = d ))\n",
        "fig.update_layout(\n",
        "        scene = {\n",
        "            \"xaxis\": {\"nticks\": 20},\n",
        "            \"zaxis\": {\"nticks\": 4},\n",
        "            'camera_eye': {\"x\": 0, \"y\": -1, \"z\": 0.5},\n",
        "            \"aspectratio\": {\"x\": 1, \"y\": 1, \"z\": 0.2}\n",
        "        })\n",
        "fig.show()\n",
        "\n",
        "d"
      ]
    },
    {
      "cell_type": "code",
      "execution_count": null,
      "metadata": {
        "id": "LeWrvsLRWqQk"
      },
      "outputs": [],
      "source": [
        "import seaborn as seaborn\n",
        "import matplotlib.pyplot as plot\n",
        "import numpy as np\n",
        "\n",
        "seaborn.set_style(\"darkgrid\")\n",
        "\n",
        "mean = 3\n",
        "number =50\n",
        "\n",
        "x1 = np.random.normal(mean, 1, size=number)\n",
        "y1 = np.random.normal(mean, 1, size=number)\n",
        "z1 = np.random.normal(mean, 1, size=number)\n",
        "\n",
        "x1 = df['bond_lenght'].to_numpy()\n",
        "y1 = df['bond_Angle'].to_numpy()\n",
        "z1 =  df['NN-Functional.DM21m'].to_numpy()\n",
        "\n",
        "plot.figure(figsize=(6,5))\n",
        "axes = plot.axes(projection='3d')\n",
        "print(type(axes))\n",
        "axes.scatter3D(x1, y1, z1)\n",
        "\n",
        "axes.set_xlabel('x')\n",
        "axes.set_ylabel('y')\n",
        "axes.set_zlabel('z')\n",
        "\n",
        "axes.view_init(45, 215)\n",
        "plot.show()"
      ]
    },
    {
      "cell_type": "code",
      "execution_count": null,
      "metadata": {
        "id": "c87e1FdvVkEh"
      },
      "outputs": [],
      "source": [
        "X1"
      ]
    },
    {
      "cell_type": "code",
      "execution_count": null,
      "metadata": {
        "id": "2WcwTOC6VxOM"
      },
      "outputs": [],
      "source": [
        "df3 = df2.copy()"
      ]
    },
    {
      "cell_type": "code",
      "execution_count": null,
      "metadata": {
        "id": "d_dn2j3ra8ET"
      },
      "outputs": [],
      "source": [
        "df3"
      ]
    },
    {
      "cell_type": "code",
      "execution_count": null,
      "metadata": {
        "id": "mdU3YC8YZdyF"
      },
      "outputs": [],
      "source": [
        "import plotly.express as px\n",
        "fig = px.line_3d(df2, x=\"bond_lenght\", y=\"bond_Angle\", z=\"NN-Functional.DM21m\" )\n",
        "fig.show()\n",
        "\n"
      ]
    },
    {
      "cell_type": "code",
      "execution_count": null,
      "metadata": {
        "id": "vDxMjwftU1ZW"
      },
      "outputs": [],
      "source": [
        "df['NN-Functional.DM21m'].to_numpy()"
      ]
    },
    {
      "cell_type": "code",
      "execution_count": null,
      "metadata": {
        "id": "csaxRMpDXbWG"
      },
      "outputs": [],
      "source": [
        "import plotly.graph_objects as go\n",
        "import pandas as pd\n",
        "import numpy as np\n",
        "# Read data from a csv\n",
        "z_data = pd.read_csv('https://raw.githubusercontent.com/plotly/datasets/master/api_docs/mt_bruno_elevation.csv')\n",
        "z = z_data.values\n",
        "sh_0, sh_1 = z.shape\n",
        "x, y = np.linspace(0, 1, sh_0), np.linspace(0, 1, sh_1)\n",
        "fig = go.Figure(data=[go.Surface(z=z, x=x, y=y)])\n",
        "fig.update_layout(title='Mt Bruno Elevation', autosize=False,\n",
        "                  width=500, height=500,\n",
        "                  margin=dict(l=65, r=50, b=65, t=90))\n",
        "fig.show()"
      ]
    },
    {
      "cell_type": "code",
      "execution_count": null,
      "metadata": {
        "id": "3mVpiBpcXpPs"
      },
      "outputs": [],
      "source": [
        "z.shape"
      ]
    },
    {
      "cell_type": "code",
      "execution_count": null,
      "metadata": {
        "id": "setmDYhOQ1MB"
      },
      "outputs": [],
      "source": [
        "\n",
        "choiceDFT = ['CCSDT',  'b3lyp', 'SCAN'  , 'wB97X-V'  , 'pbe',  'PW6B95' , 'Functional.DM21m', 'Functional.DM21mc' , 'Functional.DM21mu']\n",
        "plotNand1(choiceDFT , myfigsize=(18, 14), myfontsize=20)"
      ]
    },
    {
      "cell_type": "code",
      "execution_count": null,
      "metadata": {
        "id": "raPLa3UGl3pF"
      },
      "outputs": [],
      "source": [
        "\n",
        "choiceDFT = ['CCSDT',  'b3lyp', 'SCAN'  , 'wB97X-V'  , 'pbe',  'PW6B95' , 'Functional.DM21', 'Functional.DM21m', 'Functional.DM21mc' , 'Functional.DM21mu']\n",
        "plotNand1(choiceDFT , myfigsize=(18, 14), myfontsize=20)"
      ]
    },
    {
      "cell_type": "markdown",
      "metadata": {
        "id": "YN51Zjv5XD-v"
      },
      "source": []
    },
    {
      "cell_type": "code",
      "execution_count": null,
      "metadata": {
        "id": "MilPvffvUFES"
      },
      "outputs": [],
      "source": [
        "import seaborn as sb\n",
        "import matplotlib.pyplot as plot\n",
        "import numpy as np\n",
        "X1 = df['bond_lenght'].to_numpy()\n",
        "Y1 = df['bond_Angle'].to_numpy()\n",
        "Z =  df['NN-Functional.DM21m'].to_numpy()\n",
        "\n",
        "X2, Y2 = np.meshgrid(X1, Y1)\n",
        "\n",
        "\n",
        "axes = plot.axes(projection='3d')\n",
        "\n",
        "axes.plot_surface(X2, Y2 , Z)\n",
        "plot.show()"
      ]
    },
    {
      "cell_type": "code",
      "execution_count": null,
      "metadata": {
        "id": "bbpee0PRVBU6"
      },
      "outputs": [],
      "source": [
        "\n",
        "choiceDFT = ['CCSDT',  'b3lyp', 'SCAN'  , 'wB97X-V'  , 'pbe',  'PW6B95' , 'Functional.DM21m', 'Functional.DM21mc' , 'Functional.DM21mu']\n",
        "plotNand1(choiceDFT , myfigsize=(18, 14), myfontsize=20)"
      ]
    },
    {
      "cell_type": "code",
      "execution_count": null,
      "metadata": {
        "id": "EdWXcKiBUoa2"
      },
      "outputs": [],
      "source": [
        "\n",
        "choiceDFT = ['CCSDT', 'b3lyp' , 'SCAN' , 'wB97X-V', 'pbe' ,   'Functional.DM21m', 'Functional.DM21mc' , 'Functional.DM21mu']\n",
        "plotNand(choiceDFT , myfigsize=(18, 14), myfontsize=20)"
      ]
    },
    {
      "cell_type": "code",
      "execution_count": null,
      "metadata": {
        "id": "YZSsY1ThUdtf"
      },
      "outputs": [],
      "source": [
        "\n",
        "choiceDFT = ['CCSDT', 'wB97X-V',   'Functional.DM21', 'Functional.DM21m', 'Functional.DM21mc' , 'Functional.DM21mu']\n",
        "plotNand1(choiceDFT , myfigsize=(18, 14), myfontsize=20)"
      ]
    },
    {
      "cell_type": "code",
      "execution_count": null,
      "metadata": {
        "id": "YWwd2K2TXP6P"
      },
      "outputs": [],
      "source": [
        "choiceDFT = ['CCSDT',   'SCAN' , 'Functional.DM21m',  'Functional.DM21mu']\n",
        "plotNand(choiceDFT , myfigsize=(20, 20), myfontsize=20)"
      ]
    },
    {
      "cell_type": "code",
      "execution_count": null,
      "metadata": {
        "id": "LvZINEjCXvO7"
      },
      "outputs": [],
      "source": [
        "choiceDFT = ['CCSDT',   'b3lyp' ,    'Functional.DM21m']\n",
        "plotNand(choiceDFT , myfigsize=(20, 20), myfontsize=20)"
      ]
    },
    {
      "cell_type": "code",
      "execution_count": null,
      "metadata": {
        "id": "U967GKvQYJcW"
      },
      "outputs": [],
      "source": [
        "choiceDFT = ['CCSDT',   'pbe' ,    'Functional.DM21m']\n",
        "plotNand(choiceDFT , myfigsize=(20, 20), myfontsize=20)"
      ]
    },
    {
      "cell_type": "code",
      "execution_count": null,
      "metadata": {
        "id": "u-x0R4AVKMxL"
      },
      "outputs": [],
      "source": [
        "def plotNandZOOM(choiceDFT , myfigsize=(12, 10), myfontsize=20, ylimits=[-170,-10], xlimits=[0, 4], mytitle=''):\n",
        "  plt.figure(0)\n",
        "\n",
        "\n",
        "  plt.figure(figsize=myfigsize)\n",
        "  plt.rcParams[\"font.family\"] = \"Liberation Serif\"\n",
        "\n",
        "  axes = plt.axes()\n",
        "  axes.set_ylim(ylimits  )\n",
        "  axes.set_xlim(xlimits )\n",
        "\n",
        "  lengendlist =[]\n",
        "\n",
        "  if 'CCSDT' in choiceDFT:\n",
        "    plt.plot(df['bond_lenght'].to_numpy() , df['CCSDT'].to_numpy()  , 'o-')\n",
        "    lengendlist.append('CCSD(T)')\n",
        "\n",
        "\n",
        "\n",
        "  for afunctionals in functionalsList:\n",
        "    if afunctionals in choiceDFT:\n",
        "      plt.plot(df['bond_lenght'].to_numpy() , df['DFT-'+str(afunctionals)].to_numpy() , 'x-' )\n",
        "      lengendlist.append(str(afunctionals))\n",
        "\n",
        "  for aDMFunctionalvalue in dm21.Functional:\n",
        "    if str(aDMFunctionalvalue) in choiceDFT:\n",
        "      plt.plot(df['bond_lenght'].to_numpy() , df['NN-'+str(aDMFunctionalvalue)].to_numpy()  )\n",
        "      lengendlist.append(str(aDMFunctionalvalue))\n",
        "\n",
        "\n",
        "  plt.title(mytitle,  fontsize = myfontsize)\n",
        "  plt.legend(lengendlist,  fontsize = myfontsize)\n",
        "  plt.rc('xtick',labelsize=myfontsize-6)\n",
        "  plt.rc('ytick',labelsize=myfontsize-6)\n",
        "  plt.ylabel('Energy in Hartree', fontsize = myfontsize)\n",
        "  plt.xlabel('length in angstrom', fontsize = myfontsize)\n",
        "  plt.show()"
      ]
    },
    {
      "cell_type": "code",
      "execution_count": null,
      "metadata": {
        "id": "RmMBAMT1PDfg"
      },
      "outputs": [],
      "source": [
        "def plotNandZOOMandERROR(choiceDFT , myfigsize=(12, 10), myfontsize=20, ylimits=[-170,-10], xlimits=[0, 4], ErrorNN = [ 'NN-Functional.DM21m' , 'DFT-wB97X-V'], myfigsize1=(12, 6) , mytitle=''):\n",
        "  plt.figure(0)\n",
        "\n",
        "\n",
        "  plt.figure(figsize=myfigsize)\n",
        "  plt.rcParams[\"font.family\"] = \"Liberation Serif\"\n",
        "\n",
        "  axes = plt.axes()\n",
        "  axes.set_ylim(ylimits  )\n",
        "  axes.set_xlim(xlimits )\n",
        "\n",
        "  lengendlist =[]\n",
        "\n",
        "  if 'CCSDT' in choiceDFT:\n",
        "    plt.plot(df['bond_lenght'].to_numpy() , df['CCSDT'].to_numpy()  , 'o-')\n",
        "    lengendlist.append('CCSD(T)')\n",
        "\n",
        "\n",
        "\n",
        "  for afunctionals in functionalsList:\n",
        "    if afunctionals in choiceDFT:\n",
        "      plt.plot(df['bond_lenght'].to_numpy() , df['DFT-'+str(afunctionals)].to_numpy() , 'x-' )\n",
        "      lengendlist.append(str(afunctionals))\n",
        "\n",
        "  for aDMFunctionalvalue in dm21.Functional:\n",
        "    if str(aDMFunctionalvalue) in choiceDFT:\n",
        "      plt.plot(df['bond_lenght'].to_numpy() , df['NN-'+str(aDMFunctionalvalue)].to_numpy()  )\n",
        "      lengendlist.append(str(aDMFunctionalvalue))\n",
        "\n",
        "\n",
        "  plt.title(mytitle,  fontsize = myfontsize)\n",
        "  plt.legend(lengendlist,  fontsize = myfontsize)\n",
        "  plt.rc('xtick',labelsize=myfontsize-6)\n",
        "  plt.rc('ytick',labelsize=myfontsize-6)\n",
        "  plt.ylabel('Energy in Hartree', fontsize = myfontsize)\n",
        "  plt.xlabel('length in angstrom', fontsize = myfontsize)\n",
        "#  plt.show()\n",
        "\n",
        "  plt.figure(1)\n",
        "\n",
        "\n",
        "  plt.figure(figsize=myfigsize)\n",
        "  plt.rcParams[\"font.family\"] = \"Liberation Serif\"\n",
        "\n",
        "\n",
        "  lengendlist =[]\n",
        "\n",
        "  plt.plot(df['bond_lenght'].to_numpy() , (df['CCSDT'] - df[ErrorNN[0]]).to_numpy() , 'g' )\n",
        "  plt.plot(df['bond_lenght'].to_numpy() , (df['CCSDT'] - df[ErrorNN[1]]).to_numpy() , 'x-' )\n",
        "  plt.bar(df['bond_lenght'].to_numpy() , (df['CCSDT'] - df[ErrorNN[1]]).to_numpy()  , width = 0.02, color ='orange' )\n",
        "  plt.bar(df['bond_lenght'].to_numpy() , (df['CCSDT'] - df[ErrorNN[0]]).to_numpy()  , width = 0.01 , color ='green' )\n",
        "\n",
        "\n",
        "\n",
        "  plt.legend(lengendlist,  fontsize = myfontsize)\n",
        "  plt.rc('xtick',labelsize=myfontsize-6)\n",
        "  plt.rc('ytick',labelsize=myfontsize-6)\n",
        "  plt.ylabel('E', fontsize = myfontsize)\n",
        "\n",
        "\n",
        "  plt.show()"
      ]
    },
    {
      "cell_type": "code",
      "execution_count": null,
      "metadata": {
        "id": "SxMwRNBidEDX"
      },
      "outputs": [],
      "source": []
    },
    {
      "cell_type": "code",
      "execution_count": null,
      "metadata": {
        "id": "wAdx54YTcjAX"
      },
      "outputs": [],
      "source": [
        "choiceDFT = ['CCSDT', 'wB97X-V' , 'Functional.DM21m']\n",
        "\n",
        "plotNandZOOMandERROR(choiceDFT , myfigsize=(20, 16), myfontsize=38, ylimits =  [-200, -190], xlimits = [0.2, 3], mytitle='Computed PES of diatomic fluorine ')\n"
      ]
    },
    {
      "cell_type": "code",
      "execution_count": null,
      "metadata": {
        "id": "fV6c_UCoQwTb"
      },
      "outputs": [],
      "source": [
        "df.head(1)"
      ]
    },
    {
      "cell_type": "code",
      "execution_count": null,
      "metadata": {
        "id": "FZSwG8c2Qj-P"
      },
      "outputs": [],
      "source": [
        "\n",
        "for afunctionals in functionalsList:\n",
        "    print(afunctionals)"
      ]
    },
    {
      "cell_type": "code",
      "execution_count": null,
      "metadata": {
        "id": "xN61RkrbQp9O"
      },
      "outputs": [],
      "source": [
        "for aDMFunctionalvalue in dm21.Functional:\n",
        "    print(aDMFunctionalvalue)"
      ]
    },
    {
      "cell_type": "code",
      "execution_count": null,
      "metadata": {
        "id": "cyQbvOeMPaYY"
      },
      "outputs": [],
      "source": [
        "choiceDFT = ['CCSDT',   'wB97X-V' ,  'Functional.DM21m'  ]\n",
        "\n",
        "plotNandZOOMandERROR(choiceDFT , myfigsize=(20, 16), myfontsize=20, ylimits = [-200, -185], xlimits = [0.0, 3], ErrorNN = [ 'NN-Functional.DM21m' , 'DFT-wB97X-V'])\n"
      ]
    },
    {
      "cell_type": "code",
      "execution_count": null,
      "metadata": {
        "id": "96BCvTJsN0mc"
      },
      "outputs": [],
      "source": [
        "choiceDFT = ['CCSDT',   'SCAN' ,  'Functional.DM21', 'Functional.DM21m', 'Functional.DM21mu', 'Functional.DM21mc' ]\n",
        "\n",
        "plotNandZOOMandERROR(choiceDFT , myfigsize=(20, 16), myfontsize=20, ylimits = [-200, -185], xlimits = [0.0, 3])\n"
      ]
    },
    {
      "cell_type": "code",
      "execution_count": null,
      "metadata": {
        "id": "P1ZJAIQfPQAg"
      },
      "outputs": [],
      "source": [
        "choiceDFT = ['CCSDT',   'pbe' ,  'Functional.DM21', 'Functional.DM21m', 'Functional.DM21mu', 'Functional.DM21mc' ]\n",
        "\n",
        "plotNandZOOM(choiceDFT , myfigsize=(20, 16), myfontsize=20, ylimits = [-1.2, -0.75], xlimits = [0.5, 4.2])\n"
      ]
    },
    {
      "cell_type": "code",
      "execution_count": null,
      "metadata": {
        "id": "v87mN4Z9YTX7"
      },
      "outputs": [],
      "source": [
        "choiceDFT = ['CCSDT',   'pbe' ,    'Functional.DM21m']\n",
        "plotNand(choiceDFT , myfigsize=(18, 16), myfontsize=20)"
      ]
    },
    {
      "cell_type": "code",
      "execution_count": null,
      "metadata": {
        "id": "O_rU5kQVdw22"
      },
      "outputs": [],
      "source": [
        "choiceDFT = ['CCSDT', 'wB97X-V' , 'Functional.DM21m']\n",
        "\n",
        "plotNandZOOM(choiceDFT , myfigsize=(20, 16), myfontsize=38, ylimits =  [-200, -190], xlimits = [0.2, 3], mytitle='Computed PES of diatomic fluorine ')\n"
      ]
    },
    {
      "cell_type": "code",
      "execution_count": null,
      "metadata": {
        "id": "huKDzbD4Xr1i"
      },
      "outputs": [],
      "source": [
        "choiceDFT = ['CCSDT', 'wB97X-V' , 'Functional.DM21m']\n",
        "\n",
        "plotNandZOOMandERROR(choiceDFT , myfigsize=(20, 16), myfontsize=38, ylimits =  [-200, -190], xlimits = [0.2, 3], mytitle='Computed PES of diatomic fluorine ')\n"
      ]
    },
    {
      "cell_type": "code",
      "execution_count": null,
      "metadata": {
        "id": "r9mNv1NVM5Ws"
      },
      "outputs": [],
      "source": [
        "choiceDFT = ['CCSDT', 'wB97X-V' , 'Functional.DM21m']\n",
        "\n",
        "plotNandZOOM(choiceDFT , myfigsize=(20, 16), myfontsize=38, ylimits =  [-200, -195], xlimits = [0.2, 3], mytitle='Computed PES of diatomic fluorine ')\n"
      ]
    },
    {
      "cell_type": "code",
      "execution_count": null,
      "metadata": {
        "id": "dqh5ejIxd5nG"
      },
      "outputs": [],
      "source": [
        "choiceDFT = ['CCSDT', 'wB97X-V' ,  'Functional.DM21m',  'Functional.DM21mu', 'b3lyp']\n",
        "\n",
        "plotNandZOOM(choiceDFT , myfigsize=(20, 16), myfontsize=20, ylimits = [-200, -195], xlimits = [0, 4])\n"
      ]
    },
    {
      "cell_type": "code",
      "execution_count": null,
      "metadata": {
        "id": "1dd7Vv6VNN_2"
      },
      "outputs": [],
      "source": [
        "choiceDFT = ['CCSDT',  'b3lyp', 'Functional.DM21m',  'Functional.DM21mu', 'b3lyp']\n",
        "\n",
        "plotNandZOOM(choiceDFT , myfigsize=(20, 16), myfontsize=20, ylimits = [-200, -195], xlimits = [0,  3])\n"
      ]
    },
    {
      "cell_type": "code",
      "execution_count": null,
      "metadata": {
        "id": "10GCYPY0NMnf"
      },
      "outputs": [],
      "source": []
    },
    {
      "cell_type": "code",
      "execution_count": null,
      "metadata": {
        "id": "UIEYqqx5kd3Q"
      },
      "outputs": [],
      "source": [
        "choiceDFT = ['CCSDT', 'wB97X-V' ,  'Functional.DM21m',  'Functional.DM21mu']\n",
        "\n",
        "plotNandZOOM(choiceDFT , myfigsize=(20, 16), myfontsize=20, ylimits = [-1.2, -0.85], xlimits = [0, 4])\n"
      ]
    },
    {
      "cell_type": "code",
      "execution_count": null,
      "metadata": {
        "id": "3ni66SJ8KVHr"
      },
      "outputs": [],
      "source": [
        "choiceDFT = ['CCSDT', 'wB97X-V' ,  'Functional.DM21m',  'Functional.DM21mu']\n",
        "\n",
        "plotNandZOOM(choiceDFT , myfigsize=(20, 16), myfontsize=20, ylimits = [-1.2, -0.85], xlimits = [0, 3])\n"
      ]
    },
    {
      "cell_type": "code",
      "execution_count": null,
      "metadata": {
        "id": "4JEfolaSdDXd"
      },
      "outputs": [],
      "source": [
        "choiceDFT = ['CCSDT', 'wB97X-V' ,  'Functional.DM21m',  'Functional.DM21mu']\n",
        "\n",
        "plotNandZOOM(choiceDFT , myfigsize=(20, 16), myfontsize=20, ylimits = [-1.2, -0.85], xlimits = [0, 3])\n"
      ]
    },
    {
      "cell_type": "code",
      "execution_count": null,
      "metadata": {
        "id": "moQe5x6DPkFG"
      },
      "outputs": [],
      "source": [
        "choiceDFT = ['CCSDT', 'b3lyp' , 'Functional.DM21m']\n",
        "plotNand(choiceDFT , myfigsize=(20, 16), myfontsize=20)"
      ]
    },
    {
      "cell_type": "code",
      "execution_count": null,
      "metadata": {
        "id": "YUih3eHJWhA2"
      },
      "outputs": [],
      "source": [
        "choiceDFT = ['CCSDT', 'wB97X-V' , 'Functional.DM21m']\n",
        "plotNand(choiceDFT , myfigsize=(20, 16), myfontsize=20)"
      ]
    },
    {
      "cell_type": "code",
      "execution_count": null,
      "metadata": {
        "id": "h3WfkK50Jria"
      },
      "outputs": [],
      "source": [
        "choiceDFT = ['CCSDT', 'wB97X-V' , 'Functional.DM21m', 'pbe']\n",
        "plotNand(choiceDFT , myfigsize=(20, 16), myfontsize=20)"
      ]
    },
    {
      "cell_type": "markdown",
      "metadata": {
        "id": "GBadUdue8_Eu"
      },
      "source": [
        "#validate the energy against NIST bechmarks ..\n",
        "manually just the ball park number some be matcoed\n",
        "\n",
        "https://cccbdb.nist.gov/bseenergy2x.asp shows  \n",
        "or  http://www.begdb.org/index.php\n",
        "\n",
        "For C,\n",
        "*   CCSD = -75.7656956\n",
        "*   CCST(T)/cc-pVQZ is -75.8552316\n",
        "\n",
        "\n",
        "\n",
        "\n"
      ]
    },
    {
      "cell_type": "markdown",
      "metadata": {
        "id": "9B0LDr_V-ug5"
      },
      "source": []
    },
    {
      "cell_type": "markdown",
      "metadata": {
        "id": "wWVYc1zk-zZU"
      },
      "source": []
    },
    {
      "cell_type": "markdown",
      "metadata": {
        "id": "ra4cvhSW-4Rx"
      },
      "source": []
    },
    {
      "cell_type": "markdown",
      "metadata": {
        "id": "2aHc89r_-72e"
      },
      "source": []
    },
    {
      "cell_type": "markdown",
      "metadata": {
        "id": "uEszPYuO-9UT"
      },
      "source": []
    },
    {
      "cell_type": "markdown",
      "metadata": {
        "id": "JLTtseLM_CM1"
      },
      "source": []
    },
    {
      "cell_type": "markdown",
      "metadata": {
        "id": "_NUrGKOs_HFR"
      },
      "source": []
    },
    {
      "cell_type": "markdown",
      "metadata": {
        "id": "dNsjq_YB_L92"
      },
      "source": []
    },
    {
      "cell_type": "markdown",
      "metadata": {
        "id": "MzgVbnCX_Q2Y"
      },
      "source": []
    },
    {
      "cell_type": "markdown",
      "metadata": {
        "id": "Joytg4eB_Vu5"
      },
      "source": []
    },
    {
      "cell_type": "markdown",
      "metadata": {
        "id": "BxkLE79j_ZJm"
      },
      "source": []
    },
    {
      "cell_type": "markdown",
      "metadata": {
        "id": "K9r49Lb-_anV"
      },
      "source": []
    },
    {
      "cell_type": "markdown",
      "metadata": {
        "id": "BKgOJJ2Q_ffs"
      },
      "source": []
    },
    {
      "cell_type": "markdown",
      "metadata": {
        "id": "pO0Pgtly_kYb"
      },
      "source": []
    },
    {
      "cell_type": "markdown",
      "metadata": {
        "id": "R7SxAggJ_pQ1"
      },
      "source": []
    },
    {
      "cell_type": "markdown",
      "metadata": {
        "id": "vnLNBCBN_uJH"
      },
      "source": []
    },
    {
      "cell_type": "markdown",
      "metadata": {
        "id": "W18Y8dgo_zB5"
      },
      "source": []
    },
    {
      "cell_type": "markdown",
      "metadata": {
        "id": "FOl5EOai_2ca"
      },
      "source": []
    },
    {
      "cell_type": "markdown",
      "metadata": {
        "id": "BCNkGXO__36J"
      },
      "source": []
    },
    {
      "cell_type": "markdown",
      "metadata": {
        "id": "nLfCeZLX_8yv"
      },
      "source": []
    },
    {
      "cell_type": "markdown",
      "metadata": {
        "id": "QCuCI5LUABrc"
      },
      "source": []
    },
    {
      "cell_type": "markdown",
      "metadata": {
        "id": "CvTDOLXqARTf"
      },
      "source": []
    },
    {
      "cell_type": "markdown",
      "metadata": {
        "id": "fxFX2JLKATvn"
      },
      "source": []
    },
    {
      "cell_type": "markdown",
      "metadata": {
        "id": "7smWDcA0Af84"
      },
      "source": []
    },
    {
      "cell_type": "markdown",
      "metadata": {
        "id": "zYMtSYn2Aumg"
      },
      "source": []
    },
    {
      "cell_type": "markdown",
      "metadata": {
        "id": "rMZdbVVlA9QD"
      },
      "source": []
    },
    {
      "cell_type": "markdown",
      "metadata": {
        "id": "nB9iQuToA9Rh"
      },
      "source": []
    },
    {
      "cell_type": "markdown",
      "metadata": {
        "id": "3oViucwMBL5o"
      },
      "source": []
    },
    {
      "cell_type": "markdown",
      "metadata": {
        "id": "hTmQKKsFBajD"
      },
      "source": []
    },
    {
      "cell_type": "markdown",
      "metadata": {
        "id": "kxfz-1lIBaki"
      },
      "source": []
    },
    {
      "cell_type": "markdown",
      "metadata": {
        "id": "w2VWZCdfBpMo"
      },
      "source": []
    },
    {
      "cell_type": "markdown",
      "metadata": {
        "id": "r2Jss1YXB31x"
      },
      "source": []
    },
    {
      "cell_type": "markdown",
      "metadata": {
        "id": "8VScTkiMB33T"
      },
      "source": []
    },
    {
      "cell_type": "markdown",
      "metadata": {
        "id": "IEaw5nYTCGfi"
      },
      "source": []
    },
    {
      "cell_type": "markdown",
      "metadata": {
        "id": "x4fh_1LRCVJD"
      },
      "source": []
    },
    {
      "cell_type": "markdown",
      "metadata": {
        "id": "3_QN0IpuCVKr"
      },
      "source": []
    },
    {
      "cell_type": "markdown",
      "metadata": {
        "id": "pYGO_PaeCjyd"
      },
      "source": []
    },
    {
      "cell_type": "markdown",
      "metadata": {
        "id": "qOqEPhmyCycF"
      },
      "source": []
    },
    {
      "cell_type": "markdown",
      "metadata": {
        "id": "3gDISkyACydl"
      },
      "source": []
    },
    {
      "cell_type": "markdown",
      "metadata": {
        "id": "BfFIxswdDBFf"
      },
      "source": []
    },
    {
      "cell_type": "markdown",
      "metadata": {
        "id": "_crREK32DPvA"
      },
      "source": []
    },
    {
      "cell_type": "markdown",
      "metadata": {
        "id": "AFXSBAJ3DPwm"
      },
      "source": []
    },
    {
      "cell_type": "markdown",
      "metadata": {
        "id": "FG37VE8FDeYl"
      },
      "source": []
    },
    {
      "cell_type": "markdown",
      "metadata": {
        "id": "Fy-p6MqGDtB3"
      },
      "source": []
    },
    {
      "cell_type": "markdown",
      "metadata": {
        "id": "X-dY6tUADtDn"
      },
      "source": []
    },
    {
      "cell_type": "markdown",
      "metadata": {
        "id": "9PbsHRHfD6AS"
      },
      "source": []
    },
    {
      "cell_type": "markdown",
      "metadata": {
        "id": "ugZ61gXPD6iq"
      },
      "source": []
    },
    {
      "cell_type": "markdown",
      "metadata": {
        "id": "7FR5aBTWD-AT"
      },
      "source": []
    }
  ],
  "metadata": {
    "colab": {
      "provenance": [],
      "include_colab_link": true
    },
    "kernelspec": {
      "display_name": "Python 3",
      "name": "python3"
    },
    "language_info": {
      "name": "python"
    }
  },
  "nbformat": 4,
  "nbformat_minor": 0
}