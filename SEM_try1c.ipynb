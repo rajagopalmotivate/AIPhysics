{
  "nbformat": 4,
  "nbformat_minor": 0,
  "metadata": {
    "colab": {
      "name": "SEM try1c.ipynb",
      "version": "0.3.2",
      "provenance": [],
      "include_colab_link": true
    },
    "kernelspec": {
      "name": "python3",
      "display_name": "Python 3"
    },
    "accelerator": "GPU"
  },
  "cells": [
    {
      "cell_type": "markdown",
      "metadata": {
        "id": "view-in-github",
        "colab_type": "text"
      },
      "source": [
        "<a href=\"https://colab.research.google.com/github/rajagopalmotivate/AIPhysics/blob/master/SEM_try1c.ipynb\" target=\"_parent\"><img src=\"https://colab.research.google.com/assets/colab-badge.svg\" alt=\"Open In Colab\"/></a>"
      ]
    },
    {
      "cell_type": "code",
      "metadata": {
        "id": "cWyrAcjNzAj_",
        "colab_type": "code",
        "colab": {}
      },
      "source": [
        ""
      ],
      "execution_count": 0,
      "outputs": []
    },
    {
      "cell_type": "markdown",
      "metadata": {
        "id": "Q4tfacsdsYFD",
        "colab_type": "text"
      },
      "source": [
        "Paper https://www.nature.com/articles/sdata2018172"
      ]
    },
    {
      "cell_type": "markdown",
      "metadata": {
        "id": "TsOUaD9jsbYg",
        "colab_type": "text"
      },
      "source": [
        "idea 1: auto ml version of sem \n",
        "\n",
        "idea 2 : ensemble of inception, vgg, resnet based approach \n",
        "\n",
        "idea 3: denoising AE \n",
        "\n",
        "idea 4: inpainting to uncover hidden things \n",
        "\n"
      ]
    },
    {
      "cell_type": "code",
      "metadata": {
        "id": "YnYN-YuqrYrX",
        "colab_type": "code",
        "colab": {}
      },
      "source": [
        "#delete the directory named mynewfiles including its subfolders with the rm -r command \n",
        "!rm -r mynewfiles"
      ],
      "execution_count": 0,
      "outputs": []
    },
    {
      "cell_type": "code",
      "metadata": {
        "id": "02lHc0NIpEFN",
        "colab_type": "code",
        "colab": {}
      },
      "source": [
        "!mkdir mynewfiles"
      ],
      "execution_count": 0,
      "outputs": []
    },
    {
      "cell_type": "code",
      "metadata": {
        "id": "LYL4Py_opEO5",
        "colab_type": "code",
        "outputId": "fbbad762-3a20-4241-c7f9-0851d6a9da8c",
        "colab": {
          "base_uri": "https://localhost:8080/",
          "height": 208
        }
      },
      "source": [
        "# source URL for dataset: https://b2share.eudat.eu/records/72758204db9044ab8b3e6b6c4d2eb576\n",
        "\n",
        "!wget https://b2share.eudat.eu/api/files/87275d32-0908-45bc-89e2-8f3d86029283/Porous_Sponge.tar -O /tmp/dir1.tar"
      ],
      "execution_count": 3,
      "outputs": [
        {
          "output_type": "stream",
          "text": [
            "--2019-08-29 18:29:51--  https://b2share.eudat.eu/api/files/87275d32-0908-45bc-89e2-8f3d86029283/Porous_Sponge.tar\n",
            "Resolving b2share.eudat.eu (b2share.eudat.eu)... 86.50.166.74\n",
            "Connecting to b2share.eudat.eu (b2share.eudat.eu)|86.50.166.74|:443... connected.\n",
            "HTTP request sent, awaiting response... 200 OK\n",
            "Length: 123289600 (118M) [application/octet-stream]\n",
            "Saving to: ‘/tmp/dir1.tar’\n",
            "\n",
            "/tmp/dir1.tar       100%[===================>] 117.58M  10.3MB/s    in 13s     \n",
            "\n",
            "2019-08-29 18:30:06 (8.79 MB/s) - ‘/tmp/dir1.tar’ saved [123289600/123289600]\n",
            "\n"
          ],
          "name": "stdout"
        }
      ]
    },
    {
      "cell_type": "code",
      "metadata": {
        "id": "jiALoue6tLtG",
        "colab_type": "code",
        "colab": {
          "base_uri": "https://localhost:8080/",
          "height": 69
        },
        "outputId": "4e53ad34-26b5-4eb6-b941-da2aaf9ba747"
      },
      "source": [
        "!ls /tmp\n"
      ],
      "execution_count": 4,
      "outputs": [
        {
          "output_type": "stream",
          "text": [
            "dir1.tar  inception_v3_weights_tf_dim_ordering_tf_kernels_notop.h5\n",
            "dir2.tar  pymp-s3da6pxq\n",
            "dir3.tar\n"
          ],
          "name": "stdout"
        }
      ]
    },
    {
      "cell_type": "code",
      "metadata": {
        "id": "VxNb0WJcpRO-",
        "colab_type": "code",
        "colab": {}
      },
      "source": [
        "!ls mynewfiles"
      ],
      "execution_count": 0,
      "outputs": []
    },
    {
      "cell_type": "code",
      "metadata": {
        "id": "HF0a6dq8rDto",
        "colab_type": "code",
        "colab": {
          "base_uri": "https://localhost:8080/",
          "height": 1000
        },
        "outputId": "d1052c49-e32d-4e9a-d861-1f0ffe188b90"
      },
      "source": [
        "!tar xvf  /tmp/dir1.tar -C mynewfiles"
      ],
      "execution_count": 6,
      "outputs": [
        {
          "output_type": "stream",
          "text": [
            "Porous_Sponge/\n",
            "Porous_Sponge/L0_cf9f11694caad1e286bedf582bb45456.jpg\n",
            "Porous_Sponge/L0_7333ded956b39296bbf8379c39d70682.jpg\n",
            "Porous_Sponge/L0_35da4528991365232bec1278d5456bbc.jpg\n",
            "Porous_Sponge/L0_fc3543ca184b0e8340559b6ed6a5686a.jpg\n",
            "Porous_Sponge/L0_9df743ce3d6097d610fd145c07895ea0.jpg\n",
            "Porous_Sponge/L0_1bb457a9dae682696fdce19955bc1360.jpg\n",
            "Porous_Sponge/L0_18d2c6b2f552be88041cba8beb378ab4.jpg\n",
            "Porous_Sponge/L0_1c34778dec5a1701d689a7067c4813eb.jpg\n",
            "Porous_Sponge/L0_35fb9e4f21c0f68a9130df0746d221d5.jpg\n",
            "Porous_Sponge/L0_0f33d3d0e9efbe60c16a2aa1af3e128d.jpg\n",
            "Porous_Sponge/L0_df0c51c3537b6933ea08467339d3eaee.jpg\n",
            "Porous_Sponge/L0_273b2fe2c224173a255d9c03d4c98c32.jpg\n",
            "Porous_Sponge/L0_2ce557ad129572b8d8258f440fbdec2e.jpg\n",
            "Porous_Sponge/L0_74f696205ed9a1c0a355d0a7fa59addf.jpg\n",
            "Porous_Sponge/L0_f38f03e44dd36406590945a374402a26.jpg\n",
            "Porous_Sponge/L0_6fcbe32aaa0e3bcf95d61460991caeb6.jpg\n",
            "Porous_Sponge/L0_109dd70cc8f44651f0e1f76837057e56.jpg\n",
            "Porous_Sponge/L0_028965453585464cfda6b7df06e0bc39.jpg\n",
            "Porous_Sponge/L0_6259b0d2848cd69f0aac5bb927d7109c.jpg\n",
            "Porous_Sponge/L0_76aafa1e0645a557a7c5bf8bce83d2f5.jpg\n",
            "Porous_Sponge/L0_1bb34d2383ffd3b513b0b1b75233b3d5.jpg\n",
            "Porous_Sponge/L0_58dce4bf5c6d8301906f408f0c2253e9.jpg\n",
            "Porous_Sponge/L0_b425a81fb93536cc64340932937b46ba.jpg\n",
            "Porous_Sponge/L0_ee3dd72b977b5f4b32f3d25410831662.jpg\n",
            "Porous_Sponge/L0_ca8beba58f6a7ef531d911940f351b32.jpg\n",
            "Porous_Sponge/L0_8f181fecf1c14a6cdf965400d8effc34.jpg\n",
            "Porous_Sponge/L0_0a68c7bc788a43f347aec5cb1876ae22.jpg\n",
            "Porous_Sponge/L0_f9f4e00ff6fa2e1d9355c9e5d238dc14.jpg\n",
            "Porous_Sponge/L0_ea81e54a84052cc9679aba779535c1e9.jpg\n",
            "Porous_Sponge/L0_3e0308953fa67d5bd3f6e3ffde669bbf.jpg\n",
            "Porous_Sponge/L0_c3878d4b40d8aa00e9916cbfbfc2d578.jpg\n",
            "Porous_Sponge/L0_214422c3830aaf7657442fdab0ba4968.jpg\n",
            "Porous_Sponge/L0_663358025c9688fc3c282767274d0536.jpg\n",
            "Porous_Sponge/L0_67fb4354e327a7896b240aee9867c0f5.jpg\n",
            "Porous_Sponge/L0_bc5b60c40edadebbcb7da7064be093fd.jpg\n",
            "Porous_Sponge/L0_9daf8b25c600c83ab8050d278db44cf3.jpg\n",
            "Porous_Sponge/L0_a9132ad0b01c082eb7085674e36e889c.jpg\n",
            "Porous_Sponge/L0_aa7d6da23492622ba4e74b9da05bb4f4.jpg\n",
            "Porous_Sponge/L0_5627fa977e96ab8b52335ff7836222a3.jpg\n",
            "Porous_Sponge/L0_98b1f245c705b25a0b126d8f4ecc3ac8.jpg\n",
            "Porous_Sponge/L0_14e439b32472d4f4dc4731eb92460d4e.jpg\n",
            "Porous_Sponge/L0_3bf90b72bca1f9d55659bad888129fda.jpg\n",
            "Porous_Sponge/L0_285e39d2473a2badbcbe50ddac3b3d06.jpg\n",
            "Porous_Sponge/L0_23d7b35eb13ad249f2f5397aa53e4804.jpg\n",
            "Porous_Sponge/L0_5ac40416d409e5b80f321be7cc17aa43.jpg\n",
            "Porous_Sponge/L0_576b9bafb97fe919c795a035c2fe2d09.jpg\n",
            "Porous_Sponge/L0_1c1a297ca53b08c22fd101b06915891a.jpg\n",
            "Porous_Sponge/L0_77d5b259f6a66ca5f1a91ef44322b3ee.jpg\n",
            "Porous_Sponge/L0_21548dd75e7313130edf27956cf71222.jpg\n",
            "Porous_Sponge/L0_e9a690910774c175dd56e2cf895792c7.jpg\n",
            "Porous_Sponge/L0_6564dd393107b5b252d0f06478937a04.jpg\n",
            "Porous_Sponge/L0_541a20df9ce12e6ce941ddf9330c7441.jpg\n",
            "Porous_Sponge/L0_3efa7f51be8b2643e3190299443c4642.jpg\n",
            "Porous_Sponge/L0_f950342cf9fdb2e0971c3850608db0bf.jpg\n",
            "Porous_Sponge/L0_f9a6e2e3e5beb23eb88223c353122f38.jpg\n",
            "Porous_Sponge/L0_8eabceb3c5539b4c60a5adb31470f5e2.jpg\n",
            "Porous_Sponge/L0_16fc617559ec7188bdf6daff5dfaae93.jpg\n",
            "Porous_Sponge/L0_f152464bf5d9fbf5e824a59350abf41c.jpg\n",
            "Porous_Sponge/L0_371464b90891905ec859741039765370.jpg\n",
            "Porous_Sponge/L0_ee7cdaac62fabbe39cecd28102935842.jpg\n",
            "Porous_Sponge/L0_cb76311080eae373b4efd07e317a7543.jpg\n",
            "Porous_Sponge/L0_5551b15cae7f84769d85ba568b68524d.jpg\n",
            "Porous_Sponge/L0_d116ebe3a5852a361056ce51773b546e.jpg\n",
            "Porous_Sponge/L0_b7422da633fb4961e49300601dbbc56f.jpg\n",
            "Porous_Sponge/L0_6c2abf9c84d21e289b495bfaf0753169.jpg\n",
            "Porous_Sponge/L0_e73e3751affa9bc7094948ec7390fddd.jpg\n",
            "Porous_Sponge/L0_385bbf24240334ea02636df8255a427d.jpg\n",
            "Porous_Sponge/L0_def8a497e26fef972e5bda6041fadd94.jpg\n",
            "Porous_Sponge/L0_a37bc0583f9df0b28077bc659b052951.jpg\n",
            "Porous_Sponge/L0_f094ef980e1353d14203e2c055801832.jpg\n",
            "Porous_Sponge/L0_ffa00068f07f58866f00826b227d7757.jpg\n",
            "Porous_Sponge/L0_388b38a8ea05fe41f3f165b9cc61a880.jpg\n",
            "Porous_Sponge/L0_5d5e9b4c8c55171ffe745765d259aeb5.jpg\n",
            "Porous_Sponge/L0_613c25208059f64d32dfd4aae2eb28ce.jpg\n",
            "Porous_Sponge/L0_5efa49a2d0e3f729203e8d47b5c27c23.jpg\n",
            "Porous_Sponge/L0_e8aa2fb2bee62b3e53960c5249e91959.jpg\n",
            "Porous_Sponge/L0_51bd4937cbf2ca6b81e3130a3c3d30bf.jpg\n",
            "Porous_Sponge/L0_90ea60e60d1751c4d1f4c770cd1804aa.jpg\n",
            "Porous_Sponge/L0_3ac8acf63c790f286602439f0039cc15.jpg\n",
            "Porous_Sponge/L0_f75d2966873ea0778bbf242ef2a56ef7.jpg\n",
            "Porous_Sponge/L0_3af8fcd18a2127efbd6cf3d24166ea2d.jpg\n",
            "Porous_Sponge/L0_42beb080aae6a212a755deb90c3e49b3.jpg\n",
            "Porous_Sponge/L0_1132aa665e8da5b973040262778d82ad.jpg\n",
            "Porous_Sponge/L0_f8166b8c791c0f5e8c8e55312dfec8ce.jpg\n",
            "Porous_Sponge/L0_ab272d4311bb45290d7f090201f5a3cf.jpg\n",
            "Porous_Sponge/L0_fa2b0f226b5da8a8a34a1358040854b7.jpg\n",
            "Porous_Sponge/L0_cbaecdff86be9a4952256975ac5f39a3.jpg\n",
            "Porous_Sponge/L0_058cd323dec1fd831c1a52d81374f3ee.jpg\n",
            "Porous_Sponge/L0_87cb0429b20d79c28e115a15fde22a27.jpg\n",
            "Porous_Sponge/L0_d0957aef3e7a309ef0b639ba8205f537.jpg\n",
            "Porous_Sponge/L0_48e2d64c3c43b9693dd949191dee9a3d.jpg\n",
            "Porous_Sponge/L0_01455569b841d10229d332815f1d512e.jpg\n",
            "Porous_Sponge/L0_76790e49cb19cde496a02ac9f4d69bc9.jpg\n",
            "Porous_Sponge/L0_12c2c23beb76f1df2dd705c42cc26b37.jpg\n",
            "Porous_Sponge/L0_bee33ac22449533472917078ad495f4a.jpg\n",
            "Porous_Sponge/L0_104d1fa1d8e688d4cd71c1d3f2a6c870.jpg\n",
            "Porous_Sponge/L0_e09ec92afeb971eae733f68eeabec57d.jpg\n",
            "Porous_Sponge/L0_def96ccacd39e7dafb855cda5638ad6f.jpg\n",
            "Porous_Sponge/L0_db85c462d0785fc88e6b789b11e9d292.jpg\n",
            "Porous_Sponge/L0_5844039aa3471b0034fbe909c6f5ea28.jpg\n",
            "Porous_Sponge/L0_8d563dbf1efc7d83ab86fa0ce6ca96d7.jpg\n",
            "Porous_Sponge/L0_a7c79a822fc5f72396daa9f523426b81.jpg\n",
            "Porous_Sponge/L0_a1992c8aa586c8387e6d1b3c5399da43.jpg\n",
            "Porous_Sponge/L0_45c30a92e533f69901a4376bafa206af.jpg\n",
            "Porous_Sponge/L0_7f5ade5a38df4e04d10ad04b7eacacf9.jpg\n",
            "Porous_Sponge/L0_b897a685b3c2382a00bd830a601c8eea.jpg\n",
            "Porous_Sponge/L0_ea66e5427a2991c5f20aa7d9b9c902cc.jpg\n",
            "Porous_Sponge/L0_32afc7367a6a7fad822b1da09e6b3503.jpg\n",
            "Porous_Sponge/L0_906218d1df33d123be0c53265f80b67b.jpg\n",
            "Porous_Sponge/L0_3d3ce732f2789efc157378966744be19.jpg\n",
            "Porous_Sponge/L0_d031595e30a3504b4d90f5546eec9f49.jpg\n",
            "Porous_Sponge/L0_1e399a9f637a1d4e2e6d78add83ce16d.jpg\n",
            "Porous_Sponge/L0_8bab62b53d34fce6ae7d30d686a1f184.jpg\n",
            "Porous_Sponge/L0_6889a50d781072ff2989caf4653cd494.jpg\n",
            "Porous_Sponge/L0_0fb5092c2e46fcc1c2b797e50d0ee583.jpg\n",
            "Porous_Sponge/L0_da6e0d7602e5a8efb5d918fcc20e1970.jpg\n",
            "Porous_Sponge/L0_db1b384dc9999c18a9f629438918ed03.jpg\n",
            "Porous_Sponge/L0_cbc051107fc973c734802cf46389df49.jpg\n",
            "Porous_Sponge/L0_d6d0ac1a5b895832f739adb5c1688b7f.jpg\n",
            "Porous_Sponge/L0_c76034310538059fccf32d487a92c234.jpg\n",
            "Porous_Sponge/L0_30bb5b4598e0ab8a0795eac13ab62bd8.jpg\n",
            "Porous_Sponge/L0_8491d4e6c01058c50654744001acea1d.jpg\n",
            "Porous_Sponge/L0_10b39bc98353669e8626c3871e3f6e91.jpg\n",
            "Porous_Sponge/L0_099fd258fa7436a86f7f780ea8f73e60.jpg\n",
            "Porous_Sponge/L0_93b3605a1629fa11fe9bf7cb2116e5d6.jpg\n",
            "Porous_Sponge/L0_9542b000ba65cf88d13afc649b5c3f71.jpg\n",
            "Porous_Sponge/L0_2e08300d0ac85d68d5ae519744e16a2d.jpg\n",
            "Porous_Sponge/L0_96909e6a870f6ccbd5ef4938d7650663.jpg\n",
            "Porous_Sponge/L0_bbaf2aba3f987b75e124f6c06eb6e84a.jpg\n",
            "Porous_Sponge/L0_44ae03e5bcaa93df66503adc901250da.jpg\n",
            "Porous_Sponge/L0_cefcbfa02da338ea8fe8f18f7accf9e7.jpg\n",
            "Porous_Sponge/L0_543d4eb216d424515d09c52e4cfa72f5.jpg\n",
            "Porous_Sponge/L0_bdc26961c9c5328d8fb24cb82559435e.jpg\n",
            "Porous_Sponge/L0_625d5c4156d13c47b5cee4b514889372.jpg\n",
            "Porous_Sponge/L0_1b17b7008bd900a3ac5509d849a4e365.jpg\n",
            "Porous_Sponge/L0_91b4253f983568d194e4317e92a52267.jpg\n",
            "Porous_Sponge/L0_a23b1430499b651433f4a0ab5c4179d8.jpg\n",
            "Porous_Sponge/L0_b325895e844b55d6c1766b4032f308a6.jpg\n",
            "Porous_Sponge/L0_35361fc57920d961451d3eb6bcae119e.jpg\n",
            "Porous_Sponge/L0_c0aca927b7b56322f534efa5e93b4df0.jpg\n",
            "Porous_Sponge/L0_eccd7d11282e66847b89db677fcec7ac.jpg\n",
            "Porous_Sponge/L0_cac79bad47c5d0a75bd4ed1761eee4af.jpg\n",
            "Porous_Sponge/L0_3fa536a8650cbe57b59ab44d110f6de8.jpg\n",
            "Porous_Sponge/L0_b9c49c729625903186c0b27f6fc63788.jpg\n",
            "Porous_Sponge/L0_82682581cc742c7d6c986978825e7cfa.jpg\n",
            "Porous_Sponge/L0_98a85d8f0757bf66b6afc850bbe0b442.jpg\n",
            "Porous_Sponge/L0_246f4ca9ca178fa93fc6fe4dec2a72e9.jpg\n",
            "Porous_Sponge/L0_f8f525671fe66852c630d26533ebeab5.jpg\n",
            "Porous_Sponge/L0_83a74bb0ba06bd73ff343759640a6291.jpg\n",
            "Porous_Sponge/L0_fd457d57395fa7c8560c47288068378f.jpg\n",
            "Porous_Sponge/L0_9edd8da3fca507dcb9bd4c24d3bb101e.jpg\n",
            "Porous_Sponge/L0_b58be0554faeb54367f09915ca2a9f18.jpg\n",
            "Porous_Sponge/L0_7a872105aa1ac4c258cfaccfa006927d.jpg\n",
            "Porous_Sponge/L0_f87c8263a2d0a7f7927ba4e553d99edc.jpg\n",
            "Porous_Sponge/L0_0038707665fc59f16025e8c29b158d90.jpg\n",
            "Porous_Sponge/L0_ae1c8f14a5ade3d92540e283da87d528.jpg\n",
            "Porous_Sponge/L0_0f49e2400764304ac7e4efb9270d762b.jpg\n",
            "Porous_Sponge/L0_a4e1105c07e7d4d03fb76718be1ce764.jpg\n",
            "Porous_Sponge/L0_b6a96f8fc045d0e0c2ca4df9c8673a1d.jpg\n",
            "Porous_Sponge/L0_6ae4f6e4b367192eb175a5aa1a0f0281.jpg\n",
            "Porous_Sponge/L0_6579407de7e7a57b93c98291f1d3f478.jpg\n",
            "Porous_Sponge/L0_007fc50de2f321795f2629d0002dab3a.jpg\n",
            "Porous_Sponge/L0_a45db4ded3e359d1f9daf0ec4d3927c0.jpg\n",
            "Porous_Sponge/L0_4cf560fabc4dd14825bcc0d53a8e9c6d.jpg\n",
            "Porous_Sponge/L0_b54eb8f491ab6f8e12f81214a9912f1e.jpg\n",
            "Porous_Sponge/L0_667f6523fc276a0ce970ce263510bebd.jpg\n",
            "Porous_Sponge/L0_1033c2ad9d3c6cea920a488a14b06a9b.jpg\n",
            "Porous_Sponge/L0_8cb9d31d4bc58bb514184cc6eddace33.jpg\n",
            "Porous_Sponge/L0_37027445f319e6c4729b24830b0d53f6.jpg\n",
            "Porous_Sponge/L0_0b19dd513f38a9213b227e6323a79170.jpg\n",
            "Porous_Sponge/L0_82f628aa94c70defd895d9550beaae1b.jpg\n",
            "Porous_Sponge/L0_d40900185319ec92f5e2fb224be6ed31.jpg\n",
            "Porous_Sponge/L0_ada8d6a4ea27f1f958620e6c2bc65774.jpg\n",
            "Porous_Sponge/L0_d775dd9b4d6806963e340acb33887d58.jpg\n",
            "Porous_Sponge/L0_70cb8e72abbe4e122ea358ddd4750e14.jpg\n",
            "Porous_Sponge/L0_311a35b988dcbd586108ecdf3b8cefa6.jpg\n",
            "Porous_Sponge/L0_91b38637bb638bd1beadbee08322f7b5.jpg\n",
            "Porous_Sponge/L0_20d84d67e917453a578c3a79dea3a607.jpg\n",
            "Porous_Sponge/L0_cc59dc40bfb2954475b5f65aff32305a.jpg\n",
            "Porous_Sponge/L0_c21e8a8ef23c15dcbff3e4a429af2554.jpg\n",
            "Porous_Sponge/L0_bd5b0d661532e0b22b6d265b3e66f036.jpg\n"
          ],
          "name": "stdout"
        }
      ]
    },
    {
      "cell_type": "code",
      "metadata": {
        "id": "IsmBAyPDqqDF",
        "colab_type": "code",
        "colab": {
          "base_uri": "https://localhost:8080/",
          "height": 35
        },
        "outputId": "7a650ab9-db4b-408a-84f4-9ad443f36bb9"
      },
      "source": [
        "!ls mynewfiles"
      ],
      "execution_count": 7,
      "outputs": [
        {
          "output_type": "stream",
          "text": [
            "Porous_Sponge\n"
          ],
          "name": "stdout"
        }
      ]
    },
    {
      "cell_type": "code",
      "metadata": {
        "id": "PdcELrPRsHNa",
        "colab_type": "code",
        "colab": {
          "base_uri": "https://localhost:8080/",
          "height": 361
        },
        "outputId": "9ba677cb-b0af-4c2b-ce7d-468bde460a45"
      },
      "source": [
        "!wget https://b2share.eudat.eu/api/files/87275d32-0908-45bc-89e2-8f3d86029283/Films_Coated_Surface.tar -O /tmp/dir2.tar"
      ],
      "execution_count": 8,
      "outputs": [
        {
          "output_type": "error",
          "ename": "KeyboardInterrupt",
          "evalue": "ignored",
          "traceback": [
            "\u001b[0;31m---------------------------------------------------------------------------\u001b[0m",
            "\u001b[0;31mKeyboardInterrupt\u001b[0m                         Traceback (most recent call last)",
            "\u001b[0;32m<ipython-input-8-be9a21825502>\u001b[0m in \u001b[0;36m<module>\u001b[0;34m()\u001b[0m\n\u001b[0;32m----> 1\u001b[0;31m \u001b[0mget_ipython\u001b[0m\u001b[0;34m(\u001b[0m\u001b[0;34m)\u001b[0m\u001b[0;34m.\u001b[0m\u001b[0msystem\u001b[0m\u001b[0;34m(\u001b[0m\u001b[0;34m'wget https://b2share.eudat.eu/api/files/87275d32-0908-45bc-89e2-8f3d86029283/Films_Coated_Surface.tar -O /tmp/dir2.tar'\u001b[0m\u001b[0;34m)\u001b[0m\u001b[0;34m\u001b[0m\u001b[0;34m\u001b[0m\u001b[0m\n\u001b[0m",
            "\u001b[0;32m/usr/local/lib/python3.6/dist-packages/google/colab/_shell.py\u001b[0m in \u001b[0;36msystem\u001b[0;34m(self, *args, **kwargs)\u001b[0m\n\u001b[1;32m     82\u001b[0m       \u001b[0mkwargs\u001b[0m\u001b[0;34m.\u001b[0m\u001b[0mupdate\u001b[0m\u001b[0;34m(\u001b[0m\u001b[0;34m{\u001b[0m\u001b[0;34m'also_return_output'\u001b[0m\u001b[0;34m:\u001b[0m \u001b[0;32mTrue\u001b[0m\u001b[0;34m}\u001b[0m\u001b[0;34m)\u001b[0m\u001b[0;34m\u001b[0m\u001b[0;34m\u001b[0m\u001b[0m\n\u001b[1;32m     83\u001b[0m \u001b[0;34m\u001b[0m\u001b[0m\n\u001b[0;32m---> 84\u001b[0;31m     \u001b[0moutput\u001b[0m \u001b[0;34m=\u001b[0m \u001b[0m_system_commands\u001b[0m\u001b[0;34m.\u001b[0m\u001b[0m_system_compat\u001b[0m\u001b[0;34m(\u001b[0m\u001b[0mself\u001b[0m\u001b[0;34m,\u001b[0m \u001b[0;34m*\u001b[0m\u001b[0margs\u001b[0m\u001b[0;34m,\u001b[0m \u001b[0;34m**\u001b[0m\u001b[0mkwargs\u001b[0m\u001b[0;34m)\u001b[0m  \u001b[0;31m# pylint:disable=protected-access\u001b[0m\u001b[0;34m\u001b[0m\u001b[0;34m\u001b[0m\u001b[0m\n\u001b[0m\u001b[1;32m     85\u001b[0m \u001b[0;34m\u001b[0m\u001b[0m\n\u001b[1;32m     86\u001b[0m     \u001b[0;32mif\u001b[0m \u001b[0mpip_warn\u001b[0m\u001b[0;34m:\u001b[0m\u001b[0;34m\u001b[0m\u001b[0;34m\u001b[0m\u001b[0m\n",
            "\u001b[0;32m/usr/local/lib/python3.6/dist-packages/google/colab/_system_commands.py\u001b[0m in \u001b[0;36m_system_compat\u001b[0;34m(shell, cmd, also_return_output)\u001b[0m\n\u001b[1;32m    436\u001b[0m   \u001b[0;31m# stack.\u001b[0m\u001b[0;34m\u001b[0m\u001b[0;34m\u001b[0m\u001b[0;34m\u001b[0m\u001b[0m\n\u001b[1;32m    437\u001b[0m   result = _run_command(\n\u001b[0;32m--> 438\u001b[0;31m       shell.var_expand(cmd, depth=2), clear_streamed_output=False)\n\u001b[0m\u001b[1;32m    439\u001b[0m   \u001b[0mshell\u001b[0m\u001b[0;34m.\u001b[0m\u001b[0muser_ns\u001b[0m\u001b[0;34m[\u001b[0m\u001b[0;34m'_exit_code'\u001b[0m\u001b[0;34m]\u001b[0m \u001b[0;34m=\u001b[0m \u001b[0mresult\u001b[0m\u001b[0;34m.\u001b[0m\u001b[0mreturncode\u001b[0m\u001b[0;34m\u001b[0m\u001b[0;34m\u001b[0m\u001b[0m\n\u001b[1;32m    440\u001b[0m   \u001b[0;32mif\u001b[0m \u001b[0;34m-\u001b[0m\u001b[0mresult\u001b[0m\u001b[0;34m.\u001b[0m\u001b[0mreturncode\u001b[0m \u001b[0;32min\u001b[0m \u001b[0m_INTERRUPTED_SIGNALS\u001b[0m\u001b[0;34m:\u001b[0m\u001b[0;34m\u001b[0m\u001b[0;34m\u001b[0m\u001b[0m\n",
            "\u001b[0;32m/usr/local/lib/python3.6/dist-packages/google/colab/_system_commands.py\u001b[0m in \u001b[0;36m_run_command\u001b[0;34m(cmd, clear_streamed_output)\u001b[0m\n\u001b[1;32m    179\u001b[0m \u001b[0;34m\u001b[0m\u001b[0m\n\u001b[1;32m    180\u001b[0m     with temporary_clearer(), _display_stdin_widget(\n\u001b[0;32m--> 181\u001b[0;31m         delay_millis=500) as update_stdin_widget:\n\u001b[0m\u001b[1;32m    182\u001b[0m       \u001b[0;31m# TODO(b/115531839): Ensure that subprocesses are terminated upon\u001b[0m\u001b[0;34m\u001b[0m\u001b[0;34m\u001b[0m\u001b[0;34m\u001b[0m\u001b[0m\n\u001b[1;32m    183\u001b[0m       \u001b[0;31m# interrupt.\u001b[0m\u001b[0;34m\u001b[0m\u001b[0;34m\u001b[0m\u001b[0;34m\u001b[0m\u001b[0m\n",
            "\u001b[0;32m/usr/lib/python3.6/contextlib.py\u001b[0m in \u001b[0;36m__enter__\u001b[0;34m(self)\u001b[0m\n\u001b[1;32m     79\u001b[0m     \u001b[0;32mdef\u001b[0m \u001b[0m__enter__\u001b[0m\u001b[0;34m(\u001b[0m\u001b[0mself\u001b[0m\u001b[0;34m)\u001b[0m\u001b[0;34m:\u001b[0m\u001b[0;34m\u001b[0m\u001b[0;34m\u001b[0m\u001b[0m\n\u001b[1;32m     80\u001b[0m         \u001b[0;32mtry\u001b[0m\u001b[0;34m:\u001b[0m\u001b[0;34m\u001b[0m\u001b[0;34m\u001b[0m\u001b[0m\n\u001b[0;32m---> 81\u001b[0;31m             \u001b[0;32mreturn\u001b[0m \u001b[0mnext\u001b[0m\u001b[0;34m(\u001b[0m\u001b[0mself\u001b[0m\u001b[0;34m.\u001b[0m\u001b[0mgen\u001b[0m\u001b[0;34m)\u001b[0m\u001b[0;34m\u001b[0m\u001b[0;34m\u001b[0m\u001b[0m\n\u001b[0m\u001b[1;32m     82\u001b[0m         \u001b[0;32mexcept\u001b[0m \u001b[0mStopIteration\u001b[0m\u001b[0;34m:\u001b[0m\u001b[0;34m\u001b[0m\u001b[0;34m\u001b[0m\u001b[0m\n\u001b[1;32m     83\u001b[0m             \u001b[0;32mraise\u001b[0m \u001b[0mRuntimeError\u001b[0m\u001b[0;34m(\u001b[0m\u001b[0;34m\"generator didn't yield\"\u001b[0m\u001b[0;34m)\u001b[0m \u001b[0;32mfrom\u001b[0m \u001b[0;32mNone\u001b[0m\u001b[0;34m\u001b[0m\u001b[0;34m\u001b[0m\u001b[0m\n",
            "\u001b[0;32m/usr/local/lib/python3.6/dist-packages/google/colab/_system_commands.py\u001b[0m in \u001b[0;36m_display_stdin_widget\u001b[0;34m(delay_millis)\u001b[0m\n\u001b[1;32m    339\u001b[0m   \u001b[0mshell\u001b[0m \u001b[0;34m=\u001b[0m \u001b[0m_ipython\u001b[0m\u001b[0;34m.\u001b[0m\u001b[0mget_ipython\u001b[0m\u001b[0;34m(\u001b[0m\u001b[0;34m)\u001b[0m\u001b[0;34m\u001b[0m\u001b[0;34m\u001b[0m\u001b[0m\n\u001b[1;32m    340\u001b[0m   \u001b[0mdisplay_args\u001b[0m \u001b[0;34m=\u001b[0m \u001b[0;34m[\u001b[0m\u001b[0;34m'cell_display_stdin'\u001b[0m\u001b[0;34m,\u001b[0m \u001b[0;34m{\u001b[0m\u001b[0;34m'delayMillis'\u001b[0m\u001b[0;34m:\u001b[0m \u001b[0mdelay_millis\u001b[0m\u001b[0;34m}\u001b[0m\u001b[0;34m]\u001b[0m\u001b[0;34m\u001b[0m\u001b[0;34m\u001b[0m\u001b[0m\n\u001b[0;32m--> 341\u001b[0;31m   \u001b[0m_message\u001b[0m\u001b[0;34m.\u001b[0m\u001b[0mblocking_request\u001b[0m\u001b[0;34m(\u001b[0m\u001b[0;34m*\u001b[0m\u001b[0mdisplay_args\u001b[0m\u001b[0;34m,\u001b[0m \u001b[0mparent\u001b[0m\u001b[0;34m=\u001b[0m\u001b[0mshell\u001b[0m\u001b[0;34m.\u001b[0m\u001b[0mparent_header\u001b[0m\u001b[0;34m)\u001b[0m\u001b[0;34m\u001b[0m\u001b[0;34m\u001b[0m\u001b[0m\n\u001b[0m\u001b[1;32m    342\u001b[0m \u001b[0;34m\u001b[0m\u001b[0m\n\u001b[1;32m    343\u001b[0m   \u001b[0;32mdef\u001b[0m \u001b[0mecho_updater\u001b[0m\u001b[0;34m(\u001b[0m\u001b[0mnew_echo_status\u001b[0m\u001b[0;34m)\u001b[0m\u001b[0;34m:\u001b[0m\u001b[0;34m\u001b[0m\u001b[0;34m\u001b[0m\u001b[0m\n",
            "\u001b[0;32m/usr/local/lib/python3.6/dist-packages/google/colab/_message.py\u001b[0m in \u001b[0;36mblocking_request\u001b[0;34m(request_type, request, timeout_sec, parent)\u001b[0m\n\u001b[1;32m    169\u001b[0m   \u001b[0;31m# unique.\u001b[0m\u001b[0;34m\u001b[0m\u001b[0;34m\u001b[0m\u001b[0;34m\u001b[0m\u001b[0m\n\u001b[1;32m    170\u001b[0m   \u001b[0mrequest_id\u001b[0m \u001b[0;34m=\u001b[0m \u001b[0msend_request\u001b[0m\u001b[0;34m(\u001b[0m\u001b[0mrequest_type\u001b[0m\u001b[0;34m,\u001b[0m \u001b[0mrequest\u001b[0m\u001b[0;34m,\u001b[0m \u001b[0mparent\u001b[0m\u001b[0;34m=\u001b[0m\u001b[0mparent\u001b[0m\u001b[0;34m)\u001b[0m\u001b[0;34m\u001b[0m\u001b[0;34m\u001b[0m\u001b[0m\n\u001b[0;32m--> 171\u001b[0;31m   \u001b[0;32mreturn\u001b[0m \u001b[0mread_reply_from_input\u001b[0m\u001b[0;34m(\u001b[0m\u001b[0mrequest_id\u001b[0m\u001b[0;34m,\u001b[0m \u001b[0mtimeout_sec\u001b[0m\u001b[0;34m)\u001b[0m\u001b[0;34m\u001b[0m\u001b[0;34m\u001b[0m\u001b[0m\n\u001b[0m",
            "\u001b[0;32m/usr/local/lib/python3.6/dist-packages/google/colab/_message.py\u001b[0m in \u001b[0;36mread_reply_from_input\u001b[0;34m(message_id, timeout_sec)\u001b[0m\n\u001b[1;32m     99\u001b[0m     \u001b[0mreply\u001b[0m \u001b[0;34m=\u001b[0m \u001b[0m_read_next_input_message\u001b[0m\u001b[0;34m(\u001b[0m\u001b[0;34m)\u001b[0m\u001b[0;34m\u001b[0m\u001b[0;34m\u001b[0m\u001b[0m\n\u001b[1;32m    100\u001b[0m     \u001b[0;32mif\u001b[0m \u001b[0mreply\u001b[0m \u001b[0;34m==\u001b[0m \u001b[0m_NOT_READY\u001b[0m \u001b[0;32mor\u001b[0m \u001b[0;32mnot\u001b[0m \u001b[0misinstance\u001b[0m\u001b[0;34m(\u001b[0m\u001b[0mreply\u001b[0m\u001b[0;34m,\u001b[0m \u001b[0mdict\u001b[0m\u001b[0;34m)\u001b[0m\u001b[0;34m:\u001b[0m\u001b[0;34m\u001b[0m\u001b[0;34m\u001b[0m\u001b[0m\n\u001b[0;32m--> 101\u001b[0;31m       \u001b[0mtime\u001b[0m\u001b[0;34m.\u001b[0m\u001b[0msleep\u001b[0m\u001b[0;34m(\u001b[0m\u001b[0;36m0.025\u001b[0m\u001b[0;34m)\u001b[0m\u001b[0;34m\u001b[0m\u001b[0;34m\u001b[0m\u001b[0m\n\u001b[0m\u001b[1;32m    102\u001b[0m       \u001b[0;32mcontinue\u001b[0m\u001b[0;34m\u001b[0m\u001b[0;34m\u001b[0m\u001b[0m\n\u001b[1;32m    103\u001b[0m     if (reply.get('type') == 'colab_reply' and\n",
            "\u001b[0;31mKeyboardInterrupt\u001b[0m: "
          ]
        }
      ]
    },
    {
      "cell_type": "code",
      "metadata": {
        "id": "SceXxNN_tOz5",
        "colab_type": "code",
        "colab": {}
      },
      "source": [
        "!ls /tmp\n"
      ],
      "execution_count": 0,
      "outputs": []
    },
    {
      "cell_type": "code",
      "metadata": {
        "id": "vTV_g58vtBKg",
        "colab_type": "code",
        "colab": {}
      },
      "source": [
        "!tar xvf  /tmp/dir2.tar -C mynewfiles"
      ],
      "execution_count": 0,
      "outputs": []
    },
    {
      "cell_type": "code",
      "metadata": {
        "id": "YhkbEmO5tFwp",
        "colab_type": "code",
        "colab": {}
      },
      "source": [
        "!ls mynewfiles"
      ],
      "execution_count": 0,
      "outputs": []
    },
    {
      "cell_type": "code",
      "metadata": {
        "id": "-YD1JXeXlfW6",
        "colab_type": "code",
        "colab": {}
      },
      "source": [
        "!wget https://b2share.eudat.eu/api/files/87275d32-0908-45bc-89e2-8f3d86029283/Fibres.tar -O /tmp/dir3.tar"
      ],
      "execution_count": 0,
      "outputs": []
    },
    {
      "cell_type": "code",
      "metadata": {
        "id": "tGt32Hdolpr4",
        "colab_type": "code",
        "colab": {}
      },
      "source": [
        "!tar xvf  /tmp/dir3.tar -C mynewfiles"
      ],
      "execution_count": 0,
      "outputs": []
    },
    {
      "cell_type": "code",
      "metadata": {
        "id": "QZndEv3IlsX9",
        "colab_type": "code",
        "colab": {}
      },
      "source": [
        "!ls mynewfiles"
      ],
      "execution_count": 0,
      "outputs": []
    },
    {
      "cell_type": "code",
      "metadata": {
        "id": "QTOTizo-tXrS",
        "colab_type": "code",
        "colab": {}
      },
      "source": [
        ""
      ],
      "execution_count": 0,
      "outputs": []
    },
    {
      "cell_type": "markdown",
      "metadata": {
        "id": "j_FdfTTcIQQc",
        "colab_type": "text"
      },
      "source": [
        "#Goal: Just understand the high level concept \n",
        "###( let's understand the big picture , don't worry about the coding details right now..)"
      ]
    },
    {
      "cell_type": "code",
      "metadata": {
        "id": "OmeK_Ma6zBPJ",
        "colab_type": "code",
        "colab": {}
      },
      "source": [
        "!ls mynewfiles"
      ],
      "execution_count": 0,
      "outputs": []
    },
    {
      "cell_type": "code",
      "metadata": {
        "id": "tu1vR36uzPU4",
        "colab_type": "code",
        "colab": {}
      },
      "source": [
        "!pwd"
      ],
      "execution_count": 0,
      "outputs": []
    },
    {
      "cell_type": "code",
      "metadata": {
        "id": "UhtxSACfmZmV",
        "colab_type": "code",
        "colab": {}
      },
      "source": [
        "!ls"
      ],
      "execution_count": 0,
      "outputs": []
    },
    {
      "cell_type": "code",
      "metadata": {
        "id": "5mUsQLd8zPaW",
        "colab_type": "code",
        "colab": {}
      },
      "source": [
        "import os\n",
        "\n",
        "rock_dir = os.path.join('mynewfiles/Fibres')\n",
        "paper_dir = os.path.join('mynewfiles/Films_Coated_Surface')\n",
        "scissors_dir = os.path.join('mynewfiles/Porous_Sponge')\n",
        "\n",
        "print('total training rock images:', len(os.listdir(rock_dir)))\n",
        "print('total training paper images:', len(os.listdir(paper_dir)))\n",
        "print('total training scissors images:', len(os.listdir(scissors_dir)))\n",
        "\n",
        "rock_files = os.listdir(rock_dir)\n",
        "print(rock_files[:10])\n",
        "\n",
        "paper_files = os.listdir(paper_dir)\n",
        "print(paper_files[:10])\n",
        "\n",
        "scissors_files = os.listdir(scissors_dir)\n",
        "print(scissors_files[:10])"
      ],
      "execution_count": 0,
      "outputs": []
    },
    {
      "cell_type": "code",
      "metadata": {
        "id": "VlfUXZkOzPhU",
        "colab_type": "code",
        "colab": {}
      },
      "source": [
        "%matplotlib inline\n",
        "\n",
        "import matplotlib.pyplot as plt\n",
        "import matplotlib.image as mpimg\n",
        "\n",
        "pic_index = 2\n",
        "\n",
        "next_rock = [os.path.join(rock_dir, fname) \n",
        "                for fname in rock_files[pic_index-2:pic_index]]\n",
        "next_paper = [os.path.join(paper_dir, fname) \n",
        "                for fname in paper_files[pic_index-2:pic_index]]\n",
        "next_scissors = [os.path.join(scissors_dir, fname) \n",
        "                for fname in scissors_files[pic_index-2:pic_index]]\n",
        "\n",
        "for i, img_path in enumerate(next_rock+next_paper+next_scissors):\n",
        "  #print(img_path)\n",
        "  img = mpimg.imread(img_path)\n",
        "  print(img_path)\n",
        "  print(img.shape)\n",
        "  plt.imshow(img)\n",
        "  plt.axis('Off')\n",
        "  plt.show()"
      ],
      "execution_count": 0,
      "outputs": []
    },
    {
      "cell_type": "code",
      "metadata": {
        "id": "_jh0bidk0A8S",
        "colab_type": "code",
        "colab": {}
      },
      "source": [
        ""
      ],
      "execution_count": 0,
      "outputs": []
    },
    {
      "cell_type": "code",
      "metadata": {
        "id": "vFVhGmdY0A-5",
        "colab_type": "code",
        "colab": {}
      },
      "source": [
        "import tensorflow as tf\n",
        "import keras_preprocessing\n",
        "from keras_preprocessing import image\n",
        "from keras_preprocessing.image import ImageDataGenerator\n",
        "\n",
        "TRAINING_DIR = \"mynewfiles/\"\n",
        "\n",
        "datagen = ImageDataGenerator(validation_split=0.1, rescale=1./255,      rotation_range=40,\n",
        "     width_shift_range=0.2,\n",
        "     height_shift_range=0.2,\n",
        "     shear_range=0.2,\n",
        "     zoom_range=0.2,\n",
        "     horizontal_flip=True,\n",
        "     fill_mode='nearest')\n",
        "\n",
        "train_generator = datagen.flow_from_directory(\n",
        "    TRAINING_DIR, \n",
        "    subset='training',\n",
        "    target_size=(150,150),\n",
        "         shuffle=True, batch_size = 2, \n",
        "\t  class_mode='categorical'\n",
        ")\n",
        "\n",
        "validation_generator = datagen.flow_from_directory(\n",
        "    TRAINING_DIR,\n",
        "    subset='validation',\n",
        "    \ttarget_size=(150,150),\n",
        "         shuffle=True, batch_size = 2, \n",
        "\tclass_mode='categorical'\n",
        ")\n",
        "\n",
        "\n",
        "\n",
        "\n",
        "test_datagen = ImageDataGenerator( rescale=1./255)\n",
        "\n",
        "\n",
        "test_generator = test_datagen.flow_from_directory(\n",
        "    TRAINING_DIR,\n",
        "    target_size=(150,150),\n",
        "    batch_size=1,\n",
        "    class_mode='categorical',\n",
        "    shuffle=True,\n",
        "    seed=42\n",
        ")"
      ],
      "execution_count": 0,
      "outputs": []
    },
    {
      "cell_type": "code",
      "metadata": {
        "id": "RNuu8i1CEn2x",
        "colab_type": "code",
        "colab": {}
      },
      "source": [
        ""
      ],
      "execution_count": 0,
      "outputs": []
    },
    {
      "cell_type": "code",
      "metadata": {
        "id": "9pghqN1gEoCB",
        "colab_type": "code",
        "colab": {}
      },
      "source": [
        "!wget --no-check-certificate \\\n",
        "    https://storage.googleapis.com/mledu-datasets/inception_v3_weights_tf_dim_ordering_tf_kernels_notop.h5 \\\n",
        "    -O /tmp/inception_v3_weights_tf_dim_ordering_tf_kernels_notop.h5"
      ],
      "execution_count": 0,
      "outputs": []
    },
    {
      "cell_type": "code",
      "metadata": {
        "id": "Ry66DMtyFmN7",
        "colab_type": "code",
        "colab": {}
      },
      "source": [
        "from tensorflow.keras.applications.inception_v3 import InceptionV3\n",
        "\n",
        "local_weights_file = '/tmp/inception_v3_weights_tf_dim_ordering_tf_kernels_notop.h5'\n",
        "pre_trained_model = InceptionV3(\n",
        "    input_shape=(150, 150, 3), include_top=False, weights=None)\n",
        "pre_trained_model.load_weights(local_weights_file)"
      ],
      "execution_count": 0,
      "outputs": []
    },
    {
      "cell_type": "code",
      "metadata": {
        "id": "Cb3znbKKFv3D",
        "colab_type": "code",
        "colab": {}
      },
      "source": [
        "for layer in pre_trained_model.layers:\n",
        "  layer.trainable = False"
      ],
      "execution_count": 0,
      "outputs": []
    },
    {
      "cell_type": "code",
      "metadata": {
        "id": "bn8w_KRyF4Fk",
        "colab_type": "code",
        "colab": {}
      },
      "source": [
        "last_layer = pre_trained_model.get_layer('mixed7')\n",
        "print(last_layer.output_shape)\n",
        "last_output = last_layer.output"
      ],
      "execution_count": 0,
      "outputs": []
    },
    {
      "cell_type": "code",
      "metadata": {
        "id": "STxDVByWQy6M",
        "colab_type": "code",
        "colab": {}
      },
      "source": [
        "ispostmixed = False \n",
        "\n",
        "for layer in pre_trained_model.layers:\n",
        "  if layer.name == \"mixed6\":\n",
        "    ispostmixed = True\n",
        "  if ispostmixed == True:\n",
        "    layer.trainable = True\n",
        "    print(layer.name)"
      ],
      "execution_count": 0,
      "outputs": []
    },
    {
      "cell_type": "code",
      "metadata": {
        "id": "hgdIrLDLGMAi",
        "colab_type": "code",
        "colab": {}
      },
      "source": [
        "from tensorflow.keras import layers\n",
        "\n",
        "# Flatten the output layer to 1 dimension\n",
        "x = layers.Flatten()(last_output)\n",
        "x = layers.BatchNormalization() (x)\n",
        "# Add a fully connected layer with 1,024 hidden units and ReLU activation\n",
        "x = layers.Dense(5000, activation='relu')(x)\n",
        "# Add a dropout rate of 0.2\n",
        "x = layers.Dropout(0.2)(x)\n",
        "x = layers.BatchNormalization() (x)\n",
        "x = layers.Dense(512, activation='relu')(x)\n",
        "x = layers.Dropout(0.2)(x)\n",
        "x = layers.BatchNormalization() (x)\n",
        "x = layers.Dense(3, activation='softmax')(x)\n",
        "\n",
        "\n",
        "\n"
      ],
      "execution_count": 0,
      "outputs": []
    },
    {
      "cell_type": "code",
      "metadata": {
        "id": "2GjMPGXKF4PS",
        "colab_type": "code",
        "colab": {}
      },
      "source": [
        "from tensorflow.keras import Model\n",
        "model = Model(pre_trained_model.input, x)\n"
      ],
      "execution_count": 0,
      "outputs": []
    },
    {
      "cell_type": "code",
      "metadata": {
        "id": "5zJGne_VFmWl",
        "colab_type": "code",
        "colab": {}
      },
      "source": [
        ""
      ],
      "execution_count": 0,
      "outputs": []
    },
    {
      "cell_type": "code",
      "metadata": {
        "id": "33THwdwH0IQ_",
        "colab_type": "code",
        "colab": {}
      },
      "source": [
        "\n",
        "modelOLD = tf.keras.models.Sequential([\n",
        "    # Note the input shape is the desired size of the image 150x150 with 3 bytes color\n",
        "    # This is the first convolution\n",
        "    tf.keras.layers.Conv2D(64, (3,3), activation='relu', input_shape=(150, 150, 3)),\n",
        "    tf.keras.layers.MaxPooling2D(2, 2),\n",
        "    # The second convolution\n",
        "    tf.keras.layers.Conv2D(64, (3,3), activation='relu'),\n",
        "    tf.keras.layers.MaxPooling2D(2,2),\n",
        "    # The third convolution\n",
        "    tf.keras.layers.Conv2D(128, (3,3), activation='relu'),\n",
        "    tf.keras.layers.MaxPooling2D(2,2),\n",
        "    # The fourth convolution\n",
        "    tf.keras.layers.Conv2D(128, (3,3), activation='relu'),\n",
        "    tf.keras.layers.MaxPooling2D(2,2),\n",
        "    # Flatten the results to feed into a DNN\n",
        "    tf.keras.layers.Flatten(),\n",
        "    tf.keras.layers.Dropout(0.5),\n",
        "    # 512 neuron hidden layer\n",
        "    tf.keras.layers.Dense(512, activation='relu'),\n",
        "    tf.keras.layers.Dense(3, activation='softmax')\n",
        "])\n"
      ],
      "execution_count": 0,
      "outputs": []
    },
    {
      "cell_type": "code",
      "metadata": {
        "id": "pXLtqI8w0LRG",
        "colab_type": "code",
        "colab": {}
      },
      "source": [
        "model.summary()\n",
        "\n",
        "model.compile(loss = 'categorical_crossentropy', optimizer='rmsprop', metrics=['accuracy'])\n"
      ],
      "execution_count": 0,
      "outputs": []
    },
    {
      "cell_type": "code",
      "metadata": {
        "id": "0yMv-055OJZQ",
        "colab_type": "code",
        "colab": {}
      },
      "source": [
        "for alayer in model.layers:\n",
        "  print(str(alayer.name) + '    \\t \\t \\t ' +  str(alayer.trainable))"
      ],
      "execution_count": 0,
      "outputs": []
    },
    {
      "cell_type": "code",
      "metadata": {
        "id": "2ZkHjBkOG69p",
        "colab_type": "code",
        "colab": {}
      },
      "source": [
        ""
      ],
      "execution_count": 0,
      "outputs": []
    },
    {
      "cell_type": "code",
      "metadata": {
        "id": "kX6bxAlm0LTm",
        "colab_type": "code",
        "colab": {}
      },
      "source": [
        "history = model.fit_generator(train_generator, epochs=4, validation_data = validation_generator , verbose = 1)\n",
        "\n",
        "#model.save(\"rps.h5\")"
      ],
      "execution_count": 0,
      "outputs": []
    },
    {
      "cell_type": "code",
      "metadata": {
        "id": "4c9v11xB0LWS",
        "colab_type": "code",
        "colab": {}
      },
      "source": [
        "import matplotlib.pyplot as plt\n",
        "acc = history.history['acc']\n",
        "val_acc = history.history['val_acc']\n",
        "loss = history.history['loss']\n",
        "val_loss = history.history['val_loss']\n",
        "\n",
        "epochs = range(len(acc))\n",
        "\n",
        "plt.plot(epochs, acc, 'r', label='Training accuracy')\n",
        "plt.plot(epochs, val_acc, 'b', label='Validation accuracy')\n",
        "plt.title('Training and validation accuracy')\n",
        "plt.legend(loc=0)\n",
        "plt.figure()\n",
        "\n",
        "\n",
        "plt.show()"
      ],
      "execution_count": 0,
      "outputs": []
    },
    {
      "cell_type": "code",
      "metadata": {
        "id": "8P0_qW1sKHSj",
        "colab_type": "code",
        "colab": {}
      },
      "source": [
        "test_generator.reset()\n"
      ],
      "execution_count": 0,
      "outputs": []
    },
    {
      "cell_type": "code",
      "metadata": {
        "id": "1c-A91N40LZU",
        "colab_type": "code",
        "colab": {}
      },
      "source": [
        "#STEP_SIZE_TEST=validation_generator.n//validation_generator.batch_size\n",
        "\n",
        "import numpy as np\n",
        "\n",
        "predictions =model.predict_generator(test_generator, steps=100, verbose=1)\n",
        "print(predictions)\n",
        "\n",
        "predicted_class_indices=np.argmax(predictions,axis=1)\n",
        "print(predicted_class_indices)\n",
        "\n",
        "labels = (test_generator.class_indices)\n",
        "labels = dict((v,k) for k,v in labels.items())\n",
        "predictionsanswers = [labels[k] for k in predicted_class_indices]\n",
        "\n",
        "print(predictionsanswers)\n"
      ],
      "execution_count": 0,
      "outputs": []
    },
    {
      "cell_type": "code",
      "metadata": {
        "id": "VfCG2Y2GIHtz",
        "colab_type": "code",
        "colab": {}
      },
      "source": [
        "\n",
        "\n"
      ],
      "execution_count": 0,
      "outputs": []
    },
    {
      "cell_type": "code",
      "metadata": {
        "id": "CHFoJ_D4Iau0",
        "colab_type": "code",
        "colab": {}
      },
      "source": [
        "filenames=test_generator.filenames\n",
        "\n",
        "print(filenames)"
      ],
      "execution_count": 0,
      "outputs": []
    },
    {
      "cell_type": "code",
      "metadata": {
        "id": "hBMhYE_4Kaec",
        "colab_type": "code",
        "colab": {}
      },
      "source": [
        "for i in range( 1):\n",
        " print(predictionsanswers[i] , filenames[i] ) \n",
        "\n"
      ],
      "execution_count": 0,
      "outputs": []
    },
    {
      "cell_type": "code",
      "metadata": {
        "id": "yZKABjRiS--t",
        "colab_type": "code",
        "colab": {}
      },
      "source": [
        "test_generator.reset()\n",
        "x , y = next(test_generator)\n",
        "\n",
        "print(x.shape)"
      ],
      "execution_count": 0,
      "outputs": []
    },
    {
      "cell_type": "code",
      "metadata": {
        "id": "3xH2Y--3T_W1",
        "colab_type": "code",
        "colab": {}
      },
      "source": [
        "predictions =model.predict_generator(test_generator, steps=100, verbose=1)\n",
        "print(predictions)\n",
        "\n",
        "predicted_class_indices=np.argmax(predictions,axis=1)\n",
        "print(predicted_class_indices)\n",
        "\n",
        "labels = (test_generator.class_indices)\n",
        "labels = dict((v,k) for k,v in labels.items())\n",
        "predictionsanswers = [labels[k] for k in predicted_class_indices]\n",
        "\n",
        "print(predictionsanswers)\n"
      ],
      "execution_count": 0,
      "outputs": []
    },
    {
      "cell_type": "code",
      "metadata": {
        "id": "CusOtQ5L0Lcq",
        "colab_type": "code",
        "colab": {}
      },
      "source": [
        "\n",
        "import numpy as np\n",
        "from google.colab import files\n",
        "from keras.preprocessing import image\n",
        "\n",
        "uploaded = files.upload()\n",
        "\n",
        "for fn in uploaded.keys():\n",
        " \n",
        "  # predicting images\n",
        "  path = fn\n",
        "  img = image.load_img(path, target_size=(150, 150))\n",
        "  x = image.img_to_array(img)\n",
        "  x = np.expand_dims(x, axis=0)\n",
        "\n",
        "  images = np.vstack([x])\n",
        "  classes = model.predict(images, batch_size=10)\n",
        "  print(fn)\n",
        "  print(classes)"
      ],
      "execution_count": 0,
      "outputs": []
    },
    {
      "cell_type": "code",
      "metadata": {
        "id": "DToxfVIM0BBl",
        "colab_type": "code",
        "colab": {}
      },
      "source": [
        "def predictyforaimage(filepath):\n",
        "  img = image.load_img(filepath, target_size=(150, 150))\n",
        "  x = image.img_to_array(img)\n",
        "  x = np.expand_dims(x, axis=0)\n",
        "\n",
        "  images = np.vstack([x])\n",
        "  predictions = model.predict(images, batch_size=1)\n",
        "  print (predictions)\n",
        "\n",
        "\n"
      ],
      "execution_count": 0,
      "outputs": []
    },
    {
      "cell_type": "code",
      "metadata": {
        "id": "XSAGK0sA0BEZ",
        "colab_type": "code",
        "colab": {}
      },
      "source": [
        "filepath1 = \"mynewfiles/Fibres/L9_ee1dc9c124191a5bd7ffc9c2f3e23551.jpg\"\n",
        "\n",
        "predictyforaimage(filepath1)"
      ],
      "execution_count": 0,
      "outputs": []
    },
    {
      "cell_type": "code",
      "metadata": {
        "id": "4rpvL-ik0BHQ",
        "colab_type": "code",
        "colab": {}
      },
      "source": [
        "filepath1 = \"mynewfiles/Porous_Sponge/L0_bbaf2aba3f987b75e124f6c06eb6e84a.jpg\"\n",
        "predictyforaimage(filepath1)\n"
      ],
      "execution_count": 0,
      "outputs": []
    },
    {
      "cell_type": "code",
      "metadata": {
        "id": "W72zsuAx0BJr",
        "colab_type": "code",
        "colab": {}
      },
      "source": [
        "filepath1 = \"mynewfiles/Fibres/L9_3f42fc660eb039ea7caaddc54fe2b549.jpg\"\n",
        "predictyforaimage(filepath1)\n",
        "\n"
      ],
      "execution_count": 0,
      "outputs": []
    },
    {
      "cell_type": "code",
      "metadata": {
        "id": "wHbiyRkb0BM_",
        "colab_type": "code",
        "colab": {}
      },
      "source": [
        "\n",
        "filepath1 = \"mynewfiles/Porous_Sponge/L0_ae1c8f14a5ade3d92540e283da87d528.jpg\"\n",
        "predictyforaimage(filepath1)"
      ],
      "execution_count": 0,
      "outputs": []
    },
    {
      "cell_type": "code",
      "metadata": {
        "id": "2I5SyjPpb1nQ",
        "colab_type": "code",
        "colab": {}
      },
      "source": [
        "filepath2 = \"mynewfiles/Films_Coated_Surface/L3_ed7409b9ab4b6c78a57925bea608596d.jpg\"\n",
        "predictyforaimage(filepath2)"
      ],
      "execution_count": 0,
      "outputs": []
    }
  ]
}